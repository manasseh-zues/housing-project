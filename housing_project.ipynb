{
 "cells": [
  {
   "cell_type": "code",
   "execution_count": 54,
   "id": "23e46e31",
   "metadata": {},
   "outputs": [],
   "source": [
    "#!pip install pandas_profiling dtale klib "
   ]
  },
  {
   "cell_type": "code",
   "execution_count": 55,
   "id": "31a7f1d0",
   "metadata": {},
   "outputs": [
    {
     "name": "stdout",
     "output_type": "stream",
     "text": [
      "2.2.1\n"
     ]
    }
   ],
   "source": [
    "import pandas as pd\n",
    "import numpy as np\n",
    "import seaborn as sns\n",
    "from matplotlib import pyplot as plt\n",
    "import seaborn as sns\n",
    "import plotly.express as px\n",
    "import plotly.graph_objects as go\n",
    "import matplotlib.pyplot as plt\n",
    "print(pd.__version__)\n",
    "\n"
   ]
  },
  {
   "cell_type": "code",
   "execution_count": 182,
   "id": "0b9ec5e4",
   "metadata": {},
   "outputs": [],
   "source": [
    "from sklearn.model_selection import train_test_split\n",
    "from sklearn import feature_selection\n",
    "from sklearn import model_selection\n",
    "from sklearn.metrics import accuracy_score \n",
    "from sklearn.linear_model import LogisticRegression\n",
    "from sklearn.svm import SVC\n",
    "from sklearn.linear_model import LinearRegression\n",
    "from sklearn.naive_bayes import GaussianNB\n",
    "from sklearn.ensemble import RandomForestClassifier,GradientBoostingClassifier\n",
    "from sklearn.neighbors import KNeighborsClassifier\n",
    "from sklearn.metrics import mean_absolute_error, mean_squared_error, r2_score\n",
    "from sklearn.feature_extraction import DictVectorizer\n",
    "\n",
    "#from pandas_profiling import ProfileReport\n",
    "\n",
    "import warnings\n",
    "warnings.filterwarnings('ignore')"
   ]
  },
  {
   "cell_type": "code",
   "execution_count": 57,
   "id": "e7192632",
   "metadata": {},
   "outputs": [],
   "source": [
    "data=pd.read_csv('Housing.csv')"
   ]
  },
  {
   "cell_type": "code",
   "execution_count": 58,
   "id": "2def953d",
   "metadata": {},
   "outputs": [
    {
     "data": {
      "text/html": [
       "<div>\n",
       "<style scoped>\n",
       "    .dataframe tbody tr th:only-of-type {\n",
       "        vertical-align: middle;\n",
       "    }\n",
       "\n",
       "    .dataframe tbody tr th {\n",
       "        vertical-align: top;\n",
       "    }\n",
       "\n",
       "    .dataframe thead th {\n",
       "        text-align: right;\n",
       "    }\n",
       "</style>\n",
       "<table border=\"1\" class=\"dataframe\">\n",
       "  <thead>\n",
       "    <tr style=\"text-align: right;\">\n",
       "      <th></th>\n",
       "      <th>price</th>\n",
       "      <th>area</th>\n",
       "      <th>bedrooms</th>\n",
       "      <th>bathrooms</th>\n",
       "      <th>stories</th>\n",
       "      <th>mainroad</th>\n",
       "      <th>guestroom</th>\n",
       "      <th>basement</th>\n",
       "      <th>hotwaterheating</th>\n",
       "      <th>airconditioning</th>\n",
       "      <th>parking</th>\n",
       "      <th>prefarea</th>\n",
       "      <th>furnishingstatus</th>\n",
       "    </tr>\n",
       "  </thead>\n",
       "  <tbody>\n",
       "    <tr>\n",
       "      <th>0</th>\n",
       "      <td>13300000</td>\n",
       "      <td>7420</td>\n",
       "      <td>4</td>\n",
       "      <td>2</td>\n",
       "      <td>3</td>\n",
       "      <td>yes</td>\n",
       "      <td>no</td>\n",
       "      <td>no</td>\n",
       "      <td>no</td>\n",
       "      <td>yes</td>\n",
       "      <td>2</td>\n",
       "      <td>yes</td>\n",
       "      <td>furnished</td>\n",
       "    </tr>\n",
       "    <tr>\n",
       "      <th>1</th>\n",
       "      <td>12250000</td>\n",
       "      <td>8960</td>\n",
       "      <td>4</td>\n",
       "      <td>4</td>\n",
       "      <td>4</td>\n",
       "      <td>yes</td>\n",
       "      <td>no</td>\n",
       "      <td>no</td>\n",
       "      <td>no</td>\n",
       "      <td>yes</td>\n",
       "      <td>3</td>\n",
       "      <td>no</td>\n",
       "      <td>furnished</td>\n",
       "    </tr>\n",
       "    <tr>\n",
       "      <th>2</th>\n",
       "      <td>12250000</td>\n",
       "      <td>9960</td>\n",
       "      <td>3</td>\n",
       "      <td>2</td>\n",
       "      <td>2</td>\n",
       "      <td>yes</td>\n",
       "      <td>no</td>\n",
       "      <td>yes</td>\n",
       "      <td>no</td>\n",
       "      <td>no</td>\n",
       "      <td>2</td>\n",
       "      <td>yes</td>\n",
       "      <td>semi-furnished</td>\n",
       "    </tr>\n",
       "    <tr>\n",
       "      <th>3</th>\n",
       "      <td>12215000</td>\n",
       "      <td>7500</td>\n",
       "      <td>4</td>\n",
       "      <td>2</td>\n",
       "      <td>2</td>\n",
       "      <td>yes</td>\n",
       "      <td>no</td>\n",
       "      <td>yes</td>\n",
       "      <td>no</td>\n",
       "      <td>yes</td>\n",
       "      <td>3</td>\n",
       "      <td>yes</td>\n",
       "      <td>furnished</td>\n",
       "    </tr>\n",
       "    <tr>\n",
       "      <th>4</th>\n",
       "      <td>11410000</td>\n",
       "      <td>7420</td>\n",
       "      <td>4</td>\n",
       "      <td>1</td>\n",
       "      <td>2</td>\n",
       "      <td>yes</td>\n",
       "      <td>yes</td>\n",
       "      <td>yes</td>\n",
       "      <td>no</td>\n",
       "      <td>yes</td>\n",
       "      <td>2</td>\n",
       "      <td>no</td>\n",
       "      <td>furnished</td>\n",
       "    </tr>\n",
       "  </tbody>\n",
       "</table>\n",
       "</div>"
      ],
      "text/plain": [
       "      price  area  bedrooms  bathrooms  stories mainroad guestroom basement  \\\n",
       "0  13300000  7420         4          2        3      yes        no       no   \n",
       "1  12250000  8960         4          4        4      yes        no       no   \n",
       "2  12250000  9960         3          2        2      yes        no      yes   \n",
       "3  12215000  7500         4          2        2      yes        no      yes   \n",
       "4  11410000  7420         4          1        2      yes       yes      yes   \n",
       "\n",
       "  hotwaterheating airconditioning  parking prefarea furnishingstatus  \n",
       "0              no             yes        2      yes        furnished  \n",
       "1              no             yes        3       no        furnished  \n",
       "2              no              no        2      yes   semi-furnished  \n",
       "3              no             yes        3      yes        furnished  \n",
       "4              no             yes        2       no        furnished  "
      ]
     },
     "execution_count": 58,
     "metadata": {},
     "output_type": "execute_result"
    }
   ],
   "source": [
    "data.head()"
   ]
  },
  {
   "cell_type": "code",
   "execution_count": 59,
   "id": "d05c5812",
   "metadata": {},
   "outputs": [
    {
     "name": "stdout",
     "output_type": "stream",
     "text": [
      "<class 'pandas.core.frame.DataFrame'>\n",
      "RangeIndex: 545 entries, 0 to 544\n",
      "Data columns (total 13 columns):\n",
      " #   Column            Non-Null Count  Dtype \n",
      "---  ------            --------------  ----- \n",
      " 0   price             545 non-null    int64 \n",
      " 1   area              545 non-null    int64 \n",
      " 2   bedrooms          545 non-null    int64 \n",
      " 3   bathrooms         545 non-null    int64 \n",
      " 4   stories           545 non-null    int64 \n",
      " 5   mainroad          545 non-null    object\n",
      " 6   guestroom         545 non-null    object\n",
      " 7   basement          545 non-null    object\n",
      " 8   hotwaterheating   545 non-null    object\n",
      " 9   airconditioning   545 non-null    object\n",
      " 10  parking           545 non-null    int64 \n",
      " 11  prefarea          545 non-null    object\n",
      " 12  furnishingstatus  545 non-null    object\n",
      "dtypes: int64(6), object(7)\n",
      "memory usage: 55.5+ KB\n"
     ]
    }
   ],
   "source": [
    "data.info()"
   ]
  },
  {
   "cell_type": "code",
   "execution_count": 60,
   "id": "acdca050",
   "metadata": {},
   "outputs": [
    {
     "data": {
      "text/plain": [
       "price               0\n",
       "area                0\n",
       "bedrooms            0\n",
       "bathrooms           0\n",
       "stories             0\n",
       "mainroad            0\n",
       "guestroom           0\n",
       "basement            0\n",
       "hotwaterheating     0\n",
       "airconditioning     0\n",
       "parking             0\n",
       "prefarea            0\n",
       "furnishingstatus    0\n",
       "dtype: int64"
      ]
     },
     "execution_count": 60,
     "metadata": {},
     "output_type": "execute_result"
    }
   ],
   "source": [
    "data.isna().sum()"
   ]
  },
  {
   "cell_type": "code",
   "execution_count": 61,
   "id": "6080e9c8",
   "metadata": {},
   "outputs": [
    {
     "data": {
      "text/plain": [
       "'no'"
      ]
     },
     "execution_count": 61,
     "metadata": {},
     "output_type": "execute_result"
    }
   ],
   "source": [
    "data['guestroom'].mode()[0]"
   ]
  },
  {
   "cell_type": "code",
   "execution_count": 62,
   "id": "4167de0d",
   "metadata": {},
   "outputs": [
    {
     "data": {
      "text/plain": [
       "price               0\n",
       "area                0\n",
       "bedrooms            0\n",
       "bathrooms           0\n",
       "stories             0\n",
       "mainroad            0\n",
       "guestroom           0\n",
       "basement            0\n",
       "hotwaterheating     0\n",
       "airconditioning     0\n",
       "parking             0\n",
       "prefarea            0\n",
       "furnishingstatus    0\n",
       "dtype: int64"
      ]
     },
     "execution_count": 62,
     "metadata": {},
     "output_type": "execute_result"
    }
   ],
   "source": [
    "data.isna().sum(\n",
    ")"
   ]
  },
  {
   "cell_type": "code",
   "execution_count": 63,
   "id": "99baee8c",
   "metadata": {},
   "outputs": [
    {
     "data": {
      "text/plain": [
       "furnishingstatus\n",
       "semi-furnished    227\n",
       "unfurnished       178\n",
       "furnished         140\n",
       "Name: count, dtype: int64"
      ]
     },
     "execution_count": 63,
     "metadata": {},
     "output_type": "execute_result"
    }
   ],
   "source": [
    "#result=data['Gender'].groupby('Gender').count()\n",
    "data['furnishingstatus'].value_counts()"
   ]
  },
  {
   "cell_type": "code",
   "execution_count": null,
   "id": "169c7416",
   "metadata": {},
   "outputs": [],
   "source": []
  },
  {
   "cell_type": "code",
   "execution_count": 64,
   "id": "9379d8fe",
   "metadata": {},
   "outputs": [
    {
     "data": {
      "application/vnd.plotly.v1+json": {
       "config": {
        "plotlyServerURL": "https://plot.ly"
       },
       "data": [
        {
         "alignmentgroup": "True",
         "hovertemplate": "No. of semifurnished, unfurnished and furnished=%{x}<br>count=%{y}<extra></extra>",
         "legendgroup": "",
         "marker": {
          "color": "#000001",
          "pattern": {
           "shape": ""
          }
         },
         "name": "",
         "offsetgroup": "",
         "orientation": "v",
         "showlegend": false,
         "textposition": "auto",
         "type": "bar",
         "x": [
          "semi-furnished",
          "unfurnished",
          "furnished"
         ],
         "xaxis": "x",
         "y": [
          227,
          178,
          140
         ],
         "yaxis": "y"
        }
       ],
       "layout": {
        "barmode": "relative",
        "legend": {
         "tracegroupgap": 0
        },
        "template": {
         "data": {
          "candlestick": [
           {
            "decreasing": {
             "line": {
              "color": "#000033"
             }
            },
            "increasing": {
             "line": {
              "color": "#000032"
             }
            },
            "type": "candlestick"
           }
          ],
          "contour": [
           {
            "colorscale": [
             [
              0,
              "#000011"
             ],
             [
              0.1111111111111111,
              "#000012"
             ],
             [
              0.2222222222222222,
              "#000013"
             ],
             [
              0.3333333333333333,
              "#000014"
             ],
             [
              0.4444444444444444,
              "#000015"
             ],
             [
              0.5555555555555556,
              "#000016"
             ],
             [
              0.6666666666666666,
              "#000017"
             ],
             [
              0.7777777777777778,
              "#000018"
             ],
             [
              0.8888888888888888,
              "#000019"
             ],
             [
              1,
              "#000020"
             ]
            ],
            "type": "contour"
           }
          ],
          "contourcarpet": [
           {
            "colorscale": [
             [
              0,
              "#000011"
             ],
             [
              0.1111111111111111,
              "#000012"
             ],
             [
              0.2222222222222222,
              "#000013"
             ],
             [
              0.3333333333333333,
              "#000014"
             ],
             [
              0.4444444444444444,
              "#000015"
             ],
             [
              0.5555555555555556,
              "#000016"
             ],
             [
              0.6666666666666666,
              "#000017"
             ],
             [
              0.7777777777777778,
              "#000018"
             ],
             [
              0.8888888888888888,
              "#000019"
             ],
             [
              1,
              "#000020"
             ]
            ],
            "type": "contourcarpet"
           }
          ],
          "heatmap": [
           {
            "colorscale": [
             [
              0,
              "#000011"
             ],
             [
              0.1111111111111111,
              "#000012"
             ],
             [
              0.2222222222222222,
              "#000013"
             ],
             [
              0.3333333333333333,
              "#000014"
             ],
             [
              0.4444444444444444,
              "#000015"
             ],
             [
              0.5555555555555556,
              "#000016"
             ],
             [
              0.6666666666666666,
              "#000017"
             ],
             [
              0.7777777777777778,
              "#000018"
             ],
             [
              0.8888888888888888,
              "#000019"
             ],
             [
              1,
              "#000020"
             ]
            ],
            "type": "heatmap"
           }
          ],
          "histogram2d": [
           {
            "colorscale": [
             [
              0,
              "#000011"
             ],
             [
              0.1111111111111111,
              "#000012"
             ],
             [
              0.2222222222222222,
              "#000013"
             ],
             [
              0.3333333333333333,
              "#000014"
             ],
             [
              0.4444444444444444,
              "#000015"
             ],
             [
              0.5555555555555556,
              "#000016"
             ],
             [
              0.6666666666666666,
              "#000017"
             ],
             [
              0.7777777777777778,
              "#000018"
             ],
             [
              0.8888888888888888,
              "#000019"
             ],
             [
              1,
              "#000020"
             ]
            ],
            "type": "histogram2d"
           }
          ],
          "icicle": [
           {
            "textfont": {
             "color": "white"
            },
            "type": "icicle"
           }
          ],
          "sankey": [
           {
            "textfont": {
             "color": "#000036"
            },
            "type": "sankey"
           }
          ],
          "scatter": [
           {
            "marker": {
             "line": {
              "width": 0
             }
            },
            "type": "scatter"
           }
          ],
          "table": [
           {
            "cells": {
             "fill": {
              "color": "#000038"
             },
             "font": {
              "color": "#000037"
             },
             "line": {
              "color": "#000039"
             }
            },
            "header": {
             "fill": {
              "color": "#000040"
             },
             "font": {
              "color": "#000036"
             },
             "line": {
              "color": "#000039"
             }
            },
            "type": "table"
           }
          ],
          "waterfall": [
           {
            "connector": {
             "line": {
              "color": "#000036",
              "width": 2
             }
            },
            "decreasing": {
             "marker": {
              "color": "#000033"
             }
            },
            "increasing": {
             "marker": {
              "color": "#000032"
             }
            },
            "totals": {
             "marker": {
              "color": "#000034"
             }
            },
            "type": "waterfall"
           }
          ]
         },
         "layout": {
          "coloraxis": {
           "colorscale": [
            [
             0,
             "#000011"
            ],
            [
             0.1111111111111111,
             "#000012"
            ],
            [
             0.2222222222222222,
             "#000013"
            ],
            [
             0.3333333333333333,
             "#000014"
            ],
            [
             0.4444444444444444,
             "#000015"
            ],
            [
             0.5555555555555556,
             "#000016"
            ],
            [
             0.6666666666666666,
             "#000017"
            ],
            [
             0.7777777777777778,
             "#000018"
            ],
            [
             0.8888888888888888,
             "#000019"
            ],
            [
             1,
             "#000020"
            ]
           ]
          },
          "colorscale": {
           "diverging": [
            [
             0,
             "#000021"
            ],
            [
             0.1,
             "#000022"
            ],
            [
             0.2,
             "#000023"
            ],
            [
             0.3,
             "#000024"
            ],
            [
             0.4,
             "#000025"
            ],
            [
             0.5,
             "#000026"
            ],
            [
             0.6,
             "#000027"
            ],
            [
             0.7,
             "#000028"
            ],
            [
             0.8,
             "#000029"
            ],
            [
             0.9,
             "#000030"
            ],
            [
             1,
             "#000031"
            ]
           ],
           "sequential": [
            [
             0,
             "#000011"
            ],
            [
             0.1111111111111111,
             "#000012"
            ],
            [
             0.2222222222222222,
             "#000013"
            ],
            [
             0.3333333333333333,
             "#000014"
            ],
            [
             0.4444444444444444,
             "#000015"
            ],
            [
             0.5555555555555556,
             "#000016"
            ],
            [
             0.6666666666666666,
             "#000017"
            ],
            [
             0.7777777777777778,
             "#000018"
            ],
            [
             0.8888888888888888,
             "#000019"
            ],
            [
             1,
             "#000020"
            ]
           ],
           "sequentialminus": [
            [
             0,
             "#000011"
            ],
            [
             0.1111111111111111,
             "#000012"
            ],
            [
             0.2222222222222222,
             "#000013"
            ],
            [
             0.3333333333333333,
             "#000014"
            ],
            [
             0.4444444444444444,
             "#000015"
            ],
            [
             0.5555555555555556,
             "#000016"
            ],
            [
             0.6666666666666666,
             "#000017"
            ],
            [
             0.7777777777777778,
             "#000018"
            ],
            [
             0.8888888888888888,
             "#000019"
            ],
            [
             1,
             "#000020"
            ]
           ]
          },
          "colorway": [
           "#000001",
           "#000002",
           "#000003",
           "#000004",
           "#000005",
           "#000006",
           "#000007",
           "#000008",
           "#000009",
           "#000010"
          ]
         }
        },
        "title": {
         "text": "No. of furnished room vs  No. of unfurnished vs No. of semifurnished"
        },
        "xaxis": {
         "anchor": "y",
         "domain": [
          0,
          1
         ],
         "title": {
          "text": "No. of semifurnished, unfurnished and furnished"
         }
        },
        "yaxis": {
         "anchor": "x",
         "domain": [
          0,
          1
         ],
         "title": {
          "text": "count"
         }
        }
       }
      }
     },
     "metadata": {},
     "output_type": "display_data"
    }
   ],
   "source": [
    "g=pd.DataFrame()\n",
    "l=data['furnishingstatus'].value_counts()\n",
    "\n",
    "l=l.to_frame()\n",
    "l.reset_index(inplace=True)\n",
    "fig=px.bar(l,x='furnishingstatus',y='count',\n",
    "          labels={'index':'furnishingstatus','furnishingstatus':'No. of semifurnished, unfurnished and furnished'},\n",
    "          title='No. of furnished room vs  No. of unfurnished vs No. of semifurnished')\n",
    "fig.show()"
   ]
  },
  {
   "cell_type": "code",
   "execution_count": 65,
   "id": "ef08a400",
   "metadata": {},
   "outputs": [
    {
     "data": {
      "text/html": [
       "<div>\n",
       "<style scoped>\n",
       "    .dataframe tbody tr th:only-of-type {\n",
       "        vertical-align: middle;\n",
       "    }\n",
       "\n",
       "    .dataframe tbody tr th {\n",
       "        vertical-align: top;\n",
       "    }\n",
       "\n",
       "    .dataframe thead th {\n",
       "        text-align: right;\n",
       "    }\n",
       "</style>\n",
       "<table border=\"1\" class=\"dataframe\">\n",
       "  <thead>\n",
       "    <tr style=\"text-align: right;\">\n",
       "      <th></th>\n",
       "      <th>bedrooms</th>\n",
       "      <th>bathrooms</th>\n",
       "    </tr>\n",
       "  </thead>\n",
       "  <tbody>\n",
       "    <tr>\n",
       "      <th>0</th>\n",
       "      <td>1</td>\n",
       "      <td>2</td>\n",
       "    </tr>\n",
       "    <tr>\n",
       "      <th>1</th>\n",
       "      <td>2</td>\n",
       "      <td>136</td>\n",
       "    </tr>\n",
       "    <tr>\n",
       "      <th>2</th>\n",
       "      <td>3</td>\n",
       "      <td>300</td>\n",
       "    </tr>\n",
       "    <tr>\n",
       "      <th>3</th>\n",
       "      <td>4</td>\n",
       "      <td>95</td>\n",
       "    </tr>\n",
       "    <tr>\n",
       "      <th>4</th>\n",
       "      <td>5</td>\n",
       "      <td>10</td>\n",
       "    </tr>\n",
       "    <tr>\n",
       "      <th>5</th>\n",
       "      <td>6</td>\n",
       "      <td>2</td>\n",
       "    </tr>\n",
       "  </tbody>\n",
       "</table>\n",
       "</div>"
      ],
      "text/plain": [
       "   bedrooms  bathrooms\n",
       "0         1          2\n",
       "1         2        136\n",
       "2         3        300\n",
       "3         4         95\n",
       "4         5         10\n",
       "5         6          2"
      ]
     },
     "execution_count": 65,
     "metadata": {},
     "output_type": "execute_result"
    }
   ],
   "source": [
    "#same as above\n",
    "result=data[['bedrooms','bathrooms']].groupby('bedrooms').agg('count')\n",
    "result.reset_index(inplace=True)\n",
    "result"
   ]
  },
  {
   "cell_type": "code",
   "execution_count": 66,
   "id": "76714bfb",
   "metadata": {},
   "outputs": [
    {
     "data": {
      "text/html": [
       "<div>\n",
       "<style scoped>\n",
       "    .dataframe tbody tr th:only-of-type {\n",
       "        vertical-align: middle;\n",
       "    }\n",
       "\n",
       "    .dataframe tbody tr th {\n",
       "        vertical-align: top;\n",
       "    }\n",
       "\n",
       "    .dataframe thead th {\n",
       "        text-align: right;\n",
       "    }\n",
       "</style>\n",
       "<table border=\"1\" class=\"dataframe\">\n",
       "  <thead>\n",
       "    <tr style=\"text-align: right;\">\n",
       "      <th>bedrooms</th>\n",
       "      <th>furnishingstatus</th>\n",
       "      <th>1</th>\n",
       "      <th>2</th>\n",
       "      <th>3</th>\n",
       "      <th>4</th>\n",
       "      <th>5</th>\n",
       "      <th>6</th>\n",
       "      <th>All</th>\n",
       "    </tr>\n",
       "  </thead>\n",
       "  <tbody>\n",
       "    <tr>\n",
       "      <th>0</th>\n",
       "      <td>furnished</td>\n",
       "      <td>1</td>\n",
       "      <td>29</td>\n",
       "      <td>76</td>\n",
       "      <td>29</td>\n",
       "      <td>4</td>\n",
       "      <td>1</td>\n",
       "      <td>140</td>\n",
       "    </tr>\n",
       "    <tr>\n",
       "      <th>1</th>\n",
       "      <td>semi-furnished</td>\n",
       "      <td>0</td>\n",
       "      <td>50</td>\n",
       "      <td>127</td>\n",
       "      <td>48</td>\n",
       "      <td>2</td>\n",
       "      <td>0</td>\n",
       "      <td>227</td>\n",
       "    </tr>\n",
       "    <tr>\n",
       "      <th>2</th>\n",
       "      <td>unfurnished</td>\n",
       "      <td>1</td>\n",
       "      <td>57</td>\n",
       "      <td>97</td>\n",
       "      <td>18</td>\n",
       "      <td>4</td>\n",
       "      <td>1</td>\n",
       "      <td>178</td>\n",
       "    </tr>\n",
       "    <tr>\n",
       "      <th>3</th>\n",
       "      <td>All</td>\n",
       "      <td>2</td>\n",
       "      <td>136</td>\n",
       "      <td>300</td>\n",
       "      <td>95</td>\n",
       "      <td>10</td>\n",
       "      <td>2</td>\n",
       "      <td>545</td>\n",
       "    </tr>\n",
       "  </tbody>\n",
       "</table>\n",
       "</div>"
      ],
      "text/plain": [
       "bedrooms furnishingstatus  1    2    3   4   5  6  All\n",
       "0               furnished  1   29   76  29   4  1  140\n",
       "1          semi-furnished  0   50  127  48   2  0  227\n",
       "2             unfurnished  1   57   97  18   4  1  178\n",
       "3                     All  2  136  300  95  10  2  545"
      ]
     },
     "execution_count": 66,
     "metadata": {},
     "output_type": "execute_result"
    }
   ],
   "source": [
    "#same as above\n",
    "result=pd.crosstab(data.furnishingstatus,data.bedrooms, margins = True)\n",
    "result.reset_index(inplace=True)\n",
    "result"
   ]
  },
  {
   "cell_type": "code",
   "execution_count": 67,
   "id": "c29b7451",
   "metadata": {},
   "outputs": [
    {
     "data": {
      "application/vnd.plotly.v1+json": {
       "config": {
        "plotlyServerURL": "https://plot.ly"
       },
       "data": [
        {
         "alignmentgroup": "True",
         "bingroup": "x",
         "hovertemplate": "furnishing status=%{x}<br>count=%{y}<extra></extra>",
         "legendgroup": "",
         "marker": {
          "color": "#000001",
          "pattern": {
           "shape": ""
          }
         },
         "name": "",
         "offsetgroup": "",
         "orientation": "v",
         "showlegend": false,
         "type": "histogram",
         "x": [
          "furnished",
          "furnished",
          "semi-furnished",
          "furnished",
          "furnished",
          "semi-furnished",
          "semi-furnished",
          "unfurnished",
          "furnished",
          "unfurnished",
          "furnished",
          "semi-furnished",
          "semi-furnished",
          "furnished",
          "semi-furnished",
          "semi-furnished",
          "unfurnished",
          "furnished",
          "furnished",
          "semi-furnished",
          "semi-furnished",
          "unfurnished",
          "furnished",
          "furnished",
          "furnished",
          "furnished",
          "semi-furnished",
          "semi-furnished",
          "unfurnished",
          "semi-furnished",
          "unfurnished",
          "semi-furnished",
          "furnished",
          "unfurnished",
          "furnished",
          "furnished",
          "furnished",
          "furnished",
          "unfurnished",
          "semi-furnished",
          "furnished",
          "furnished",
          "unfurnished",
          "semi-furnished",
          "furnished",
          "semi-furnished",
          "furnished",
          "furnished",
          "unfurnished",
          "semi-furnished",
          "unfurnished",
          "unfurnished",
          "furnished",
          "semi-furnished",
          "semi-furnished",
          "unfurnished",
          "semi-furnished",
          "furnished",
          "semi-furnished",
          "furnished",
          "semi-furnished",
          "semi-furnished",
          "furnished",
          "furnished",
          "furnished",
          "furnished",
          "furnished",
          "unfurnished",
          "furnished",
          "furnished",
          "semi-furnished",
          "unfurnished",
          "unfurnished",
          "furnished",
          "furnished",
          "semi-furnished",
          "furnished",
          "furnished",
          "furnished",
          "furnished",
          "semi-furnished",
          "semi-furnished",
          "furnished",
          "semi-furnished",
          "semi-furnished",
          "furnished",
          "unfurnished",
          "semi-furnished",
          "unfurnished",
          "furnished",
          "semi-furnished",
          "furnished",
          "furnished",
          "semi-furnished",
          "semi-furnished",
          "semi-furnished",
          "furnished",
          "semi-furnished",
          "unfurnished",
          "unfurnished",
          "unfurnished",
          "unfurnished",
          "semi-furnished",
          "furnished",
          "furnished",
          "unfurnished",
          "semi-furnished",
          "unfurnished",
          "semi-furnished",
          "semi-furnished",
          "semi-furnished",
          "unfurnished",
          "furnished",
          "furnished",
          "furnished",
          "semi-furnished",
          "unfurnished",
          "furnished",
          "furnished",
          "semi-furnished",
          "furnished",
          "semi-furnished",
          "semi-furnished",
          "furnished",
          "furnished",
          "semi-furnished",
          "unfurnished",
          "unfurnished",
          "furnished",
          "semi-furnished",
          "unfurnished",
          "semi-furnished",
          "semi-furnished",
          "unfurnished",
          "semi-furnished",
          "unfurnished",
          "unfurnished",
          "semi-furnished",
          "semi-furnished",
          "furnished",
          "unfurnished",
          "semi-furnished",
          "semi-furnished",
          "unfurnished",
          "furnished",
          "furnished",
          "semi-furnished",
          "semi-furnished",
          "semi-furnished",
          "semi-furnished",
          "unfurnished",
          "semi-furnished",
          "furnished",
          "semi-furnished",
          "semi-furnished",
          "furnished",
          "semi-furnished",
          "furnished",
          "semi-furnished",
          "furnished",
          "furnished",
          "semi-furnished",
          "semi-furnished",
          "semi-furnished",
          "furnished",
          "unfurnished",
          "unfurnished",
          "semi-furnished",
          "furnished",
          "semi-furnished",
          "semi-furnished",
          "semi-furnished",
          "unfurnished",
          "unfurnished",
          "unfurnished",
          "semi-furnished",
          "furnished",
          "semi-furnished",
          "semi-furnished",
          "semi-furnished",
          "semi-furnished",
          "furnished",
          "semi-furnished",
          "semi-furnished",
          "furnished",
          "unfurnished",
          "furnished",
          "semi-furnished",
          "unfurnished",
          "semi-furnished",
          "furnished",
          "semi-furnished",
          "furnished",
          "semi-furnished",
          "semi-furnished",
          "semi-furnished",
          "semi-furnished",
          "semi-furnished",
          "semi-furnished",
          "furnished",
          "semi-furnished",
          "semi-furnished",
          "semi-furnished",
          "semi-furnished",
          "semi-furnished",
          "semi-furnished",
          "semi-furnished",
          "semi-furnished",
          "semi-furnished",
          "unfurnished",
          "semi-furnished",
          "furnished",
          "semi-furnished",
          "semi-furnished",
          "unfurnished",
          "unfurnished",
          "semi-furnished",
          "furnished",
          "semi-furnished",
          "unfurnished",
          "semi-furnished",
          "semi-furnished",
          "semi-furnished",
          "furnished",
          "unfurnished",
          "semi-furnished",
          "semi-furnished",
          "furnished",
          "semi-furnished",
          "semi-furnished",
          "semi-furnished",
          "semi-furnished",
          "furnished",
          "unfurnished",
          "semi-furnished",
          "semi-furnished",
          "semi-furnished",
          "semi-furnished",
          "semi-furnished",
          "furnished",
          "semi-furnished",
          "semi-furnished",
          "furnished",
          "furnished",
          "semi-furnished",
          "unfurnished",
          "semi-furnished",
          "unfurnished",
          "semi-furnished",
          "furnished",
          "semi-furnished",
          "semi-furnished",
          "semi-furnished",
          "furnished",
          "semi-furnished",
          "unfurnished",
          "furnished",
          "furnished",
          "semi-furnished",
          "furnished",
          "furnished",
          "semi-furnished",
          "semi-furnished",
          "semi-furnished",
          "semi-furnished",
          "semi-furnished",
          "unfurnished",
          "semi-furnished",
          "semi-furnished",
          "unfurnished",
          "furnished",
          "semi-furnished",
          "semi-furnished",
          "furnished",
          "semi-furnished",
          "furnished",
          "semi-furnished",
          "semi-furnished",
          "semi-furnished",
          "furnished",
          "unfurnished",
          "furnished",
          "unfurnished",
          "furnished",
          "furnished",
          "semi-furnished",
          "furnished",
          "unfurnished",
          "unfurnished",
          "semi-furnished",
          "semi-furnished",
          "unfurnished",
          "semi-furnished",
          "unfurnished",
          "semi-furnished",
          "semi-furnished",
          "semi-furnished",
          "unfurnished",
          "semi-furnished",
          "furnished",
          "semi-furnished",
          "semi-furnished",
          "unfurnished",
          "furnished",
          "semi-furnished",
          "semi-furnished",
          "semi-furnished",
          "semi-furnished",
          "semi-furnished",
          "semi-furnished",
          "semi-furnished",
          "semi-furnished",
          "furnished",
          "semi-furnished",
          "semi-furnished",
          "semi-furnished",
          "unfurnished",
          "unfurnished",
          "semi-furnished",
          "semi-furnished",
          "furnished",
          "semi-furnished",
          "furnished",
          "semi-furnished",
          "semi-furnished",
          "semi-furnished",
          "unfurnished",
          "semi-furnished",
          "semi-furnished",
          "furnished",
          "unfurnished",
          "furnished",
          "semi-furnished",
          "semi-furnished",
          "furnished",
          "furnished",
          "semi-furnished",
          "unfurnished",
          "semi-furnished",
          "furnished",
          "semi-furnished",
          "semi-furnished",
          "furnished",
          "semi-furnished",
          "semi-furnished",
          "semi-furnished",
          "semi-furnished",
          "unfurnished",
          "semi-furnished",
          "semi-furnished",
          "semi-furnished",
          "semi-furnished",
          "unfurnished",
          "furnished",
          "furnished",
          "furnished",
          "furnished",
          "furnished",
          "semi-furnished",
          "unfurnished",
          "semi-furnished",
          "semi-furnished",
          "furnished",
          "semi-furnished",
          "semi-furnished",
          "furnished",
          "furnished",
          "unfurnished",
          "semi-furnished",
          "furnished",
          "semi-furnished",
          "semi-furnished",
          "semi-furnished",
          "furnished",
          "semi-furnished",
          "unfurnished",
          "semi-furnished",
          "unfurnished",
          "semi-furnished",
          "unfurnished",
          "semi-furnished",
          "semi-furnished",
          "furnished",
          "furnished",
          "furnished",
          "unfurnished",
          "unfurnished",
          "semi-furnished",
          "unfurnished",
          "semi-furnished",
          "unfurnished",
          "semi-furnished",
          "semi-furnished",
          "unfurnished",
          "unfurnished",
          "unfurnished",
          "semi-furnished",
          "furnished",
          "unfurnished",
          "semi-furnished",
          "unfurnished",
          "unfurnished",
          "unfurnished",
          "unfurnished",
          "unfurnished",
          "unfurnished",
          "unfurnished",
          "furnished",
          "unfurnished",
          "unfurnished",
          "unfurnished",
          "furnished",
          "unfurnished",
          "unfurnished",
          "unfurnished",
          "furnished",
          "unfurnished",
          "furnished",
          "unfurnished",
          "semi-furnished",
          "unfurnished",
          "unfurnished",
          "unfurnished",
          "unfurnished",
          "semi-furnished",
          "furnished",
          "furnished",
          "furnished",
          "unfurnished",
          "unfurnished",
          "unfurnished",
          "unfurnished",
          "furnished",
          "semi-furnished",
          "semi-furnished",
          "unfurnished",
          "furnished",
          "unfurnished",
          "semi-furnished",
          "unfurnished",
          "unfurnished",
          "unfurnished",
          "unfurnished",
          "unfurnished",
          "furnished",
          "furnished",
          "unfurnished",
          "semi-furnished",
          "semi-furnished",
          "unfurnished",
          "semi-furnished",
          "semi-furnished",
          "semi-furnished",
          "unfurnished",
          "unfurnished",
          "unfurnished",
          "semi-furnished",
          "unfurnished",
          "unfurnished",
          "unfurnished",
          "unfurnished",
          "unfurnished",
          "semi-furnished",
          "unfurnished",
          "semi-furnished",
          "unfurnished",
          "semi-furnished",
          "semi-furnished",
          "semi-furnished",
          "furnished",
          "unfurnished",
          "unfurnished",
          "semi-furnished",
          "unfurnished",
          "unfurnished",
          "semi-furnished",
          "unfurnished",
          "unfurnished",
          "unfurnished",
          "unfurnished",
          "semi-furnished",
          "furnished",
          "unfurnished",
          "semi-furnished",
          "unfurnished",
          "unfurnished",
          "semi-furnished",
          "unfurnished",
          "unfurnished",
          "semi-furnished",
          "unfurnished",
          "furnished",
          "unfurnished",
          "furnished",
          "unfurnished",
          "unfurnished",
          "unfurnished",
          "unfurnished",
          "semi-furnished",
          "unfurnished",
          "unfurnished",
          "unfurnished",
          "semi-furnished",
          "semi-furnished",
          "unfurnished",
          "unfurnished",
          "unfurnished",
          "unfurnished",
          "unfurnished",
          "furnished",
          "unfurnished",
          "unfurnished",
          "furnished",
          "unfurnished",
          "semi-furnished",
          "unfurnished",
          "unfurnished",
          "unfurnished",
          "unfurnished",
          "unfurnished",
          "unfurnished",
          "unfurnished",
          "furnished",
          "furnished",
          "unfurnished",
          "unfurnished",
          "unfurnished",
          "semi-furnished",
          "unfurnished",
          "unfurnished",
          "unfurnished",
          "unfurnished",
          "unfurnished",
          "unfurnished",
          "unfurnished",
          "unfurnished",
          "unfurnished",
          "unfurnished",
          "unfurnished",
          "unfurnished",
          "unfurnished",
          "semi-furnished",
          "unfurnished",
          "furnished",
          "unfurnished"
         ],
         "xaxis": "x",
         "yaxis": "y"
        }
       ],
       "layout": {
        "barmode": "relative",
        "legend": {
         "tracegroupgap": 0
        },
        "template": {
         "data": {
          "candlestick": [
           {
            "decreasing": {
             "line": {
              "color": "#000033"
             }
            },
            "increasing": {
             "line": {
              "color": "#000032"
             }
            },
            "type": "candlestick"
           }
          ],
          "contour": [
           {
            "colorscale": [
             [
              0,
              "#000011"
             ],
             [
              0.1111111111111111,
              "#000012"
             ],
             [
              0.2222222222222222,
              "#000013"
             ],
             [
              0.3333333333333333,
              "#000014"
             ],
             [
              0.4444444444444444,
              "#000015"
             ],
             [
              0.5555555555555556,
              "#000016"
             ],
             [
              0.6666666666666666,
              "#000017"
             ],
             [
              0.7777777777777778,
              "#000018"
             ],
             [
              0.8888888888888888,
              "#000019"
             ],
             [
              1,
              "#000020"
             ]
            ],
            "type": "contour"
           }
          ],
          "contourcarpet": [
           {
            "colorscale": [
             [
              0,
              "#000011"
             ],
             [
              0.1111111111111111,
              "#000012"
             ],
             [
              0.2222222222222222,
              "#000013"
             ],
             [
              0.3333333333333333,
              "#000014"
             ],
             [
              0.4444444444444444,
              "#000015"
             ],
             [
              0.5555555555555556,
              "#000016"
             ],
             [
              0.6666666666666666,
              "#000017"
             ],
             [
              0.7777777777777778,
              "#000018"
             ],
             [
              0.8888888888888888,
              "#000019"
             ],
             [
              1,
              "#000020"
             ]
            ],
            "type": "contourcarpet"
           }
          ],
          "heatmap": [
           {
            "colorscale": [
             [
              0,
              "#000011"
             ],
             [
              0.1111111111111111,
              "#000012"
             ],
             [
              0.2222222222222222,
              "#000013"
             ],
             [
              0.3333333333333333,
              "#000014"
             ],
             [
              0.4444444444444444,
              "#000015"
             ],
             [
              0.5555555555555556,
              "#000016"
             ],
             [
              0.6666666666666666,
              "#000017"
             ],
             [
              0.7777777777777778,
              "#000018"
             ],
             [
              0.8888888888888888,
              "#000019"
             ],
             [
              1,
              "#000020"
             ]
            ],
            "type": "heatmap"
           }
          ],
          "histogram2d": [
           {
            "colorscale": [
             [
              0,
              "#000011"
             ],
             [
              0.1111111111111111,
              "#000012"
             ],
             [
              0.2222222222222222,
              "#000013"
             ],
             [
              0.3333333333333333,
              "#000014"
             ],
             [
              0.4444444444444444,
              "#000015"
             ],
             [
              0.5555555555555556,
              "#000016"
             ],
             [
              0.6666666666666666,
              "#000017"
             ],
             [
              0.7777777777777778,
              "#000018"
             ],
             [
              0.8888888888888888,
              "#000019"
             ],
             [
              1,
              "#000020"
             ]
            ],
            "type": "histogram2d"
           }
          ],
          "icicle": [
           {
            "textfont": {
             "color": "white"
            },
            "type": "icicle"
           }
          ],
          "sankey": [
           {
            "textfont": {
             "color": "#000036"
            },
            "type": "sankey"
           }
          ],
          "scatter": [
           {
            "marker": {
             "line": {
              "width": 0
             }
            },
            "type": "scatter"
           }
          ],
          "table": [
           {
            "cells": {
             "fill": {
              "color": "#000038"
             },
             "font": {
              "color": "#000037"
             },
             "line": {
              "color": "#000039"
             }
            },
            "header": {
             "fill": {
              "color": "#000040"
             },
             "font": {
              "color": "#000036"
             },
             "line": {
              "color": "#000039"
             }
            },
            "type": "table"
           }
          ],
          "waterfall": [
           {
            "connector": {
             "line": {
              "color": "#000036",
              "width": 2
             }
            },
            "decreasing": {
             "marker": {
              "color": "#000033"
             }
            },
            "increasing": {
             "marker": {
              "color": "#000032"
             }
            },
            "totals": {
             "marker": {
              "color": "#000034"
             }
            },
            "type": "waterfall"
           }
          ]
         },
         "layout": {
          "coloraxis": {
           "colorscale": [
            [
             0,
             "#000011"
            ],
            [
             0.1111111111111111,
             "#000012"
            ],
            [
             0.2222222222222222,
             "#000013"
            ],
            [
             0.3333333333333333,
             "#000014"
            ],
            [
             0.4444444444444444,
             "#000015"
            ],
            [
             0.5555555555555556,
             "#000016"
            ],
            [
             0.6666666666666666,
             "#000017"
            ],
            [
             0.7777777777777778,
             "#000018"
            ],
            [
             0.8888888888888888,
             "#000019"
            ],
            [
             1,
             "#000020"
            ]
           ]
          },
          "colorscale": {
           "diverging": [
            [
             0,
             "#000021"
            ],
            [
             0.1,
             "#000022"
            ],
            [
             0.2,
             "#000023"
            ],
            [
             0.3,
             "#000024"
            ],
            [
             0.4,
             "#000025"
            ],
            [
             0.5,
             "#000026"
            ],
            [
             0.6,
             "#000027"
            ],
            [
             0.7,
             "#000028"
            ],
            [
             0.8,
             "#000029"
            ],
            [
             0.9,
             "#000030"
            ],
            [
             1,
             "#000031"
            ]
           ],
           "sequential": [
            [
             0,
             "#000011"
            ],
            [
             0.1111111111111111,
             "#000012"
            ],
            [
             0.2222222222222222,
             "#000013"
            ],
            [
             0.3333333333333333,
             "#000014"
            ],
            [
             0.4444444444444444,
             "#000015"
            ],
            [
             0.5555555555555556,
             "#000016"
            ],
            [
             0.6666666666666666,
             "#000017"
            ],
            [
             0.7777777777777778,
             "#000018"
            ],
            [
             0.8888888888888888,
             "#000019"
            ],
            [
             1,
             "#000020"
            ]
           ],
           "sequentialminus": [
            [
             0,
             "#000011"
            ],
            [
             0.1111111111111111,
             "#000012"
            ],
            [
             0.2222222222222222,
             "#000013"
            ],
            [
             0.3333333333333333,
             "#000014"
            ],
            [
             0.4444444444444444,
             "#000015"
            ],
            [
             0.5555555555555556,
             "#000016"
            ],
            [
             0.6666666666666666,
             "#000017"
            ],
            [
             0.7777777777777778,
             "#000018"
            ],
            [
             0.8888888888888888,
             "#000019"
            ],
            [
             1,
             "#000020"
            ]
           ]
          },
          "colorway": [
           "#000001",
           "#000002",
           "#000003",
           "#000004",
           "#000005",
           "#000006",
           "#000007",
           "#000008",
           "#000009",
           "#000010"
          ]
         }
        },
        "title": {
         "text": "Histogram showing furnishing status"
        },
        "xaxis": {
         "anchor": "y",
         "domain": [
          0,
          1
         ],
         "title": {
          "text": "furnishing status"
         }
        },
        "yaxis": {
         "anchor": "x",
         "domain": [
          0,
          1
         ],
         "title": {
          "text": "count"
         }
        }
       }
      }
     },
     "metadata": {},
     "output_type": "display_data"
    }
   ],
   "source": [
    "#histogram for furnishingstatus \n",
    "fig = px.histogram(data, x=\"furnishingstatus\", \n",
    "                   labels={'furnishingstatus':'furnishing status'},\n",
    "                  title='Histogram showing furnishing status')\n",
    "\n",
    "fig.show()"
   ]
  },
  {
   "cell_type": "code",
   "execution_count": 68,
   "id": "45bd15b2",
   "metadata": {},
   "outputs": [
    {
     "data": {
      "application/vnd.plotly.v1+json": {
       "config": {
        "plotlyServerURL": "https://plot.ly"
       },
       "data": [
        {
         "alignmentgroup": "True",
         "bingroup": "x",
         "hovertemplate": "guest room=%{x}<br>count=%{y}<extra></extra>",
         "legendgroup": "",
         "marker": {
          "color": "#000001",
          "pattern": {
           "shape": ""
          }
         },
         "name": "",
         "offsetgroup": "",
         "orientation": "v",
         "showlegend": false,
         "type": "histogram",
         "x": [
          "no",
          "no",
          "no",
          "no",
          "yes",
          "no",
          "no",
          "no",
          "yes",
          "yes",
          "no",
          "yes",
          "no",
          "no",
          "no",
          "no",
          "yes",
          "no",
          "yes",
          "no",
          "no",
          "yes",
          "yes",
          "yes",
          "no",
          "yes",
          "yes",
          "no",
          "no",
          "no",
          "no",
          "no",
          "no",
          "yes",
          "yes",
          "no",
          "no",
          "no",
          "yes",
          "no",
          "no",
          "no",
          "no",
          "no",
          "no",
          "no",
          "no",
          "no",
          "no",
          "yes",
          "no",
          "no",
          "yes",
          "no",
          "yes",
          "no",
          "no",
          "yes",
          "yes",
          "yes",
          "yes",
          "no",
          "no",
          "no",
          "no",
          "no",
          "no",
          "no",
          "no",
          "no",
          "no",
          "no",
          "no",
          "no",
          "no",
          "no",
          "no",
          "no",
          "yes",
          "yes",
          "no",
          "no",
          "no",
          "no",
          "no",
          "no",
          "no",
          "no",
          "yes",
          "no",
          "no",
          "yes",
          "yes",
          "no",
          "no",
          "no",
          "no",
          "yes",
          "no",
          "yes",
          "no",
          "no",
          "yes",
          "yes",
          "yes",
          "no",
          "no",
          "no",
          "no",
          "yes",
          "yes",
          "no",
          "no",
          "no",
          "yes",
          "yes",
          "yes",
          "yes",
          "no",
          "no",
          "yes",
          "yes",
          "no",
          "no",
          "no",
          "no",
          "no",
          "no",
          "yes",
          "no",
          "yes",
          "yes",
          "no",
          "no",
          "no",
          "no",
          "no",
          "no",
          "no",
          "yes",
          "no",
          "yes",
          "no",
          "no",
          "yes",
          "no",
          "no",
          "no",
          "no",
          "no",
          "yes",
          "no",
          "yes",
          "no",
          "no",
          "no",
          "yes",
          "yes",
          "no",
          "yes",
          "yes",
          "yes",
          "yes",
          "yes",
          "yes",
          "yes",
          "no",
          "no",
          "no",
          "no",
          "no",
          "no",
          "yes",
          "no",
          "yes",
          "yes",
          "no",
          "no",
          "yes",
          "no",
          "no",
          "yes",
          "no",
          "no",
          "yes",
          "no",
          "no",
          "no",
          "no",
          "yes",
          "no",
          "yes",
          "yes",
          "yes",
          "yes",
          "no",
          "yes",
          "no",
          "no",
          "no",
          "no",
          "yes",
          "no",
          "no",
          "yes",
          "no",
          "yes",
          "no",
          "no",
          "no",
          "yes",
          "no",
          "no",
          "no",
          "no",
          "no",
          "no",
          "no",
          "no",
          "no",
          "no",
          "no",
          "no",
          "no",
          "no",
          "no",
          "no",
          "no",
          "no",
          "yes",
          "no",
          "no",
          "no",
          "yes",
          "no",
          "yes",
          "yes",
          "no",
          "no",
          "no",
          "no",
          "no",
          "no",
          "no",
          "yes",
          "no",
          "no",
          "no",
          "yes",
          "yes",
          "no",
          "no",
          "no",
          "no",
          "no",
          "no",
          "no",
          "no",
          "no",
          "no",
          "no",
          "no",
          "yes",
          "no",
          "no",
          "no",
          "no",
          "no",
          "no",
          "no",
          "no",
          "no",
          "yes",
          "no",
          "no",
          "no",
          "no",
          "no",
          "no",
          "no",
          "no",
          "no",
          "yes",
          "no",
          "no",
          "yes",
          "no",
          "no",
          "no",
          "yes",
          "no",
          "no",
          "no",
          "no",
          "no",
          "no",
          "no",
          "no",
          "no",
          "no",
          "no",
          "no",
          "no",
          "no",
          "no",
          "no",
          "no",
          "no",
          "no",
          "no",
          "no",
          "no",
          "no",
          "no",
          "no",
          "no",
          "no",
          "no",
          "no",
          "no",
          "no",
          "no",
          "no",
          "no",
          "no",
          "no",
          "no",
          "no",
          "no",
          "no",
          "yes",
          "yes",
          "yes",
          "no",
          "no",
          "no",
          "no",
          "no",
          "yes",
          "no",
          "no",
          "no",
          "no",
          "no",
          "no",
          "no",
          "yes",
          "no",
          "no",
          "no",
          "no",
          "no",
          "no",
          "no",
          "no",
          "no",
          "no",
          "no",
          "no",
          "no",
          "no",
          "no",
          "no",
          "no",
          "no",
          "no",
          "no",
          "no",
          "no",
          "no",
          "no",
          "no",
          "no",
          "no",
          "no",
          "yes",
          "no",
          "no",
          "no",
          "no",
          "no",
          "no",
          "no",
          "no",
          "no",
          "no",
          "no",
          "no",
          "no",
          "no",
          "no",
          "no",
          "no",
          "no",
          "no",
          "no",
          "no",
          "no",
          "no",
          "no",
          "no",
          "no",
          "no",
          "no",
          "no",
          "no",
          "no",
          "no",
          "no",
          "no",
          "no",
          "no",
          "no",
          "no",
          "no",
          "yes",
          "no",
          "no",
          "no",
          "no",
          "no",
          "no",
          "no",
          "no",
          "no",
          "no",
          "no",
          "no",
          "no",
          "no",
          "no",
          "no",
          "yes",
          "no",
          "no",
          "no",
          "no",
          "no",
          "no",
          "no",
          "no",
          "no",
          "no",
          "no",
          "no",
          "no",
          "yes",
          "no",
          "no",
          "no",
          "no",
          "no",
          "no",
          "no",
          "no",
          "no",
          "no",
          "no",
          "no",
          "no",
          "no",
          "no",
          "no",
          "yes",
          "no",
          "no",
          "no",
          "no",
          "no",
          "no",
          "no",
          "no",
          "no",
          "no",
          "no",
          "no",
          "no",
          "no",
          "no",
          "no",
          "no",
          "no",
          "no",
          "no",
          "no",
          "no",
          "no",
          "no",
          "no",
          "no",
          "no",
          "no",
          "no",
          "no",
          "no",
          "no",
          "no",
          "no",
          "no",
          "yes",
          "no",
          "no",
          "no",
          "no",
          "no",
          "no",
          "no",
          "no",
          "no",
          "no",
          "no",
          "no",
          "no",
          "no",
          "no",
          "no",
          "yes",
          "no",
          "yes",
          "no",
          "no",
          "no",
          "no",
          "no",
          "no",
          "no",
          "no",
          "no",
          "no",
          "no",
          "no",
          "no",
          "no",
          "no",
          "no",
          "no",
          "no",
          "no",
          "no",
          "no",
          "no",
          "no",
          "no",
          "no",
          "no"
         ],
         "xaxis": "x",
         "yaxis": "y"
        }
       ],
       "layout": {
        "barmode": "relative",
        "legend": {
         "tracegroupgap": 0
        },
        "margin": {
         "t": 60
        },
        "template": {
         "data": {
          "candlestick": [
           {
            "decreasing": {
             "line": {
              "color": "#000033"
             }
            },
            "increasing": {
             "line": {
              "color": "#000032"
             }
            },
            "type": "candlestick"
           }
          ],
          "contour": [
           {
            "colorscale": [
             [
              0,
              "#000011"
             ],
             [
              0.1111111111111111,
              "#000012"
             ],
             [
              0.2222222222222222,
              "#000013"
             ],
             [
              0.3333333333333333,
              "#000014"
             ],
             [
              0.4444444444444444,
              "#000015"
             ],
             [
              0.5555555555555556,
              "#000016"
             ],
             [
              0.6666666666666666,
              "#000017"
             ],
             [
              0.7777777777777778,
              "#000018"
             ],
             [
              0.8888888888888888,
              "#000019"
             ],
             [
              1,
              "#000020"
             ]
            ],
            "type": "contour"
           }
          ],
          "contourcarpet": [
           {
            "colorscale": [
             [
              0,
              "#000011"
             ],
             [
              0.1111111111111111,
              "#000012"
             ],
             [
              0.2222222222222222,
              "#000013"
             ],
             [
              0.3333333333333333,
              "#000014"
             ],
             [
              0.4444444444444444,
              "#000015"
             ],
             [
              0.5555555555555556,
              "#000016"
             ],
             [
              0.6666666666666666,
              "#000017"
             ],
             [
              0.7777777777777778,
              "#000018"
             ],
             [
              0.8888888888888888,
              "#000019"
             ],
             [
              1,
              "#000020"
             ]
            ],
            "type": "contourcarpet"
           }
          ],
          "heatmap": [
           {
            "colorscale": [
             [
              0,
              "#000011"
             ],
             [
              0.1111111111111111,
              "#000012"
             ],
             [
              0.2222222222222222,
              "#000013"
             ],
             [
              0.3333333333333333,
              "#000014"
             ],
             [
              0.4444444444444444,
              "#000015"
             ],
             [
              0.5555555555555556,
              "#000016"
             ],
             [
              0.6666666666666666,
              "#000017"
             ],
             [
              0.7777777777777778,
              "#000018"
             ],
             [
              0.8888888888888888,
              "#000019"
             ],
             [
              1,
              "#000020"
             ]
            ],
            "type": "heatmap"
           }
          ],
          "histogram2d": [
           {
            "colorscale": [
             [
              0,
              "#000011"
             ],
             [
              0.1111111111111111,
              "#000012"
             ],
             [
              0.2222222222222222,
              "#000013"
             ],
             [
              0.3333333333333333,
              "#000014"
             ],
             [
              0.4444444444444444,
              "#000015"
             ],
             [
              0.5555555555555556,
              "#000016"
             ],
             [
              0.6666666666666666,
              "#000017"
             ],
             [
              0.7777777777777778,
              "#000018"
             ],
             [
              0.8888888888888888,
              "#000019"
             ],
             [
              1,
              "#000020"
             ]
            ],
            "type": "histogram2d"
           }
          ],
          "icicle": [
           {
            "textfont": {
             "color": "white"
            },
            "type": "icicle"
           }
          ],
          "sankey": [
           {
            "textfont": {
             "color": "#000036"
            },
            "type": "sankey"
           }
          ],
          "scatter": [
           {
            "marker": {
             "line": {
              "width": 0
             }
            },
            "type": "scatter"
           }
          ],
          "table": [
           {
            "cells": {
             "fill": {
              "color": "#000038"
             },
             "font": {
              "color": "#000037"
             },
             "line": {
              "color": "#000039"
             }
            },
            "header": {
             "fill": {
              "color": "#000040"
             },
             "font": {
              "color": "#000036"
             },
             "line": {
              "color": "#000039"
             }
            },
            "type": "table"
           }
          ],
          "waterfall": [
           {
            "connector": {
             "line": {
              "color": "#000036",
              "width": 2
             }
            },
            "decreasing": {
             "marker": {
              "color": "#000033"
             }
            },
            "increasing": {
             "marker": {
              "color": "#000032"
             }
            },
            "totals": {
             "marker": {
              "color": "#000034"
             }
            },
            "type": "waterfall"
           }
          ]
         },
         "layout": {
          "coloraxis": {
           "colorscale": [
            [
             0,
             "#000011"
            ],
            [
             0.1111111111111111,
             "#000012"
            ],
            [
             0.2222222222222222,
             "#000013"
            ],
            [
             0.3333333333333333,
             "#000014"
            ],
            [
             0.4444444444444444,
             "#000015"
            ],
            [
             0.5555555555555556,
             "#000016"
            ],
            [
             0.6666666666666666,
             "#000017"
            ],
            [
             0.7777777777777778,
             "#000018"
            ],
            [
             0.8888888888888888,
             "#000019"
            ],
            [
             1,
             "#000020"
            ]
           ]
          },
          "colorscale": {
           "diverging": [
            [
             0,
             "#000021"
            ],
            [
             0.1,
             "#000022"
            ],
            [
             0.2,
             "#000023"
            ],
            [
             0.3,
             "#000024"
            ],
            [
             0.4,
             "#000025"
            ],
            [
             0.5,
             "#000026"
            ],
            [
             0.6,
             "#000027"
            ],
            [
             0.7,
             "#000028"
            ],
            [
             0.8,
             "#000029"
            ],
            [
             0.9,
             "#000030"
            ],
            [
             1,
             "#000031"
            ]
           ],
           "sequential": [
            [
             0,
             "#000011"
            ],
            [
             0.1111111111111111,
             "#000012"
            ],
            [
             0.2222222222222222,
             "#000013"
            ],
            [
             0.3333333333333333,
             "#000014"
            ],
            [
             0.4444444444444444,
             "#000015"
            ],
            [
             0.5555555555555556,
             "#000016"
            ],
            [
             0.6666666666666666,
             "#000017"
            ],
            [
             0.7777777777777778,
             "#000018"
            ],
            [
             0.8888888888888888,
             "#000019"
            ],
            [
             1,
             "#000020"
            ]
           ],
           "sequentialminus": [
            [
             0,
             "#000011"
            ],
            [
             0.1111111111111111,
             "#000012"
            ],
            [
             0.2222222222222222,
             "#000013"
            ],
            [
             0.3333333333333333,
             "#000014"
            ],
            [
             0.4444444444444444,
             "#000015"
            ],
            [
             0.5555555555555556,
             "#000016"
            ],
            [
             0.6666666666666666,
             "#000017"
            ],
            [
             0.7777777777777778,
             "#000018"
            ],
            [
             0.8888888888888888,
             "#000019"
            ],
            [
             1,
             "#000020"
            ]
           ]
          },
          "colorway": [
           "#000001",
           "#000002",
           "#000003",
           "#000004",
           "#000005",
           "#000006",
           "#000007",
           "#000008",
           "#000009",
           "#000010"
          ]
         }
        },
        "xaxis": {
         "anchor": "y",
         "domain": [
          0,
          1
         ],
         "title": {
          "text": "guest room"
         }
        },
        "yaxis": {
         "anchor": "x",
         "domain": [
          0,
          1
         ],
         "title": {
          "text": "count"
         }
        }
       }
      }
     },
     "metadata": {},
     "output_type": "display_data"
    }
   ],
   "source": [
    "#histogram for guestroom \n",
    "fig = px.histogram(data, x=\"guestroom\", \n",
    "           labels = {'guestroom':'guest room'}        )\n",
    "fig.show()"
   ]
  },
  {
   "cell_type": "code",
   "execution_count": 69,
   "id": "c1f6255c",
   "metadata": {},
   "outputs": [],
   "source": [
    "#data['guestroom'].skew()"
   ]
  },
  {
   "cell_type": "code",
   "execution_count": 152,
   "id": "6853c66f",
   "metadata": {},
   "outputs": [
    {
     "data": {
      "image/png": "[encoded data removed]",
      "text/plain": [
       "<Figure size 640x480 with 1 Axes>"
      ]
     },
     "metadata": {},
     "output_type": "display_data"
    },
    {
     "name": "stdout",
     "output_type": "stream",
     "text": [
      "0.14086281102108905\n"
     ]
    }
   ],
   "source": [
    "#Normalising the price with the log function\n",
    "#df['price_log'] = np.log(df['price'])\n",
    "## log transformation \n",
    "log_price = np.log1p(data['price'])\n",
    "\n",
    "sns.histplot(log_price)\n",
    "\n",
    "plt.title('Histogram Distribution of the Log Price')\n",
    "plt.xlabel('Price')\n",
    "plt.ylabel('Frequency')\n",
    "\n",
    "plt.show()\n",
    "\n",
    "#fig = px.histogram(df, x=\"price_log\", \n",
    "                 #  title='Histogram show price log of houses')\n",
    "#fig.show()\n",
    "print(log_price.skew())"
   ]
  },
  {
   "cell_type": "code",
   "execution_count": 70,
   "id": "02f05ada",
   "metadata": {},
   "outputs": [
    {
     "data": {
      "application/vnd.plotly.v1+json": {
       "config": {
        "plotlyServerURL": "https://plot.ly"
       },
       "data": [
        {
         "alignmentgroup": "True",
         "bingroup": "x",
         "hovertemplate": "price=%{x}<br>count=%{y}<extra></extra>",
         "legendgroup": "",
         "marker": {
          "color": "#000001",
          "pattern": {
           "shape": ""
          }
         },
         "name": "",
         "offsetgroup": "",
         "orientation": "v",
         "showlegend": false,
         "type": "histogram",
         "x": [
          13300000,
          12250000,
          12250000,
          12215000,
          11410000,
          10850000,
          10150000,
          10150000,
          9870000,
          9800000,
          9800000,
          9681000,
          9310000,
          9240000,
          9240000,
          9100000,
          9100000,
          8960000,
          8890000,
          8855000,
          8750000,
          8680000,
          8645000,
          8645000,
          8575000,
          8540000,
          8463000,
          8400000,
          8400000,
          8400000,
          8400000,
          8400000,
          8295000,
          8190000,
          8120000,
          8080940,
          8043000,
          7980000,
          7962500,
          7910000,
          7875000,
          7840000,
          7700000,
          7700000,
          7560000,
          7560000,
          7525000,
          7490000,
          7455000,
          7420000,
          7420000,
          7420000,
          7350000,
          7350000,
          7350000,
          7350000,
          7343000,
          7245000,
          7210000,
          7210000,
          7140000,
          7070000,
          7070000,
          7035000,
          7000000,
          6930000,
          6930000,
          6895000,
          6860000,
          6790000,
          6790000,
          6755000,
          6720000,
          6685000,
          6650000,
          6650000,
          6650000,
          6650000,
          6650000,
          6650000,
          6629000,
          6615000,
          6615000,
          6580000,
          6510000,
          6510000,
          6510000,
          6475000,
          6475000,
          6440000,
          6440000,
          6419000,
          6405000,
          6300000,
          6300000,
          6300000,
          6300000,
          6300000,
          6293000,
          6265000,
          6230000,
          6230000,
          6195000,
          6195000,
          6195000,
          6160000,
          6160000,
          6125000,
          6107500,
          6090000,
          6090000,
          6090000,
          6083000,
          6083000,
          6020000,
          6020000,
          6020000,
          5950000,
          5950000,
          5950000,
          5950000,
          5950000,
          5950000,
          5950000,
          5950000,
          5943000,
          5880000,
          5880000,
          5873000,
          5873000,
          5866000,
          5810000,
          5810000,
          5810000,
          5803000,
          5775000,
          5740000,
          5740000,
          5740000,
          5740000,
          5740000,
          5652500,
          5600000,
          5600000,
          5600000,
          5600000,
          5600000,
          5600000,
          5600000,
          5600000,
          5600000,
          5565000,
          5565000,
          5530000,
          5530000,
          5530000,
          5523000,
          5495000,
          5495000,
          5460000,
          5460000,
          5460000,
          5460000,
          5425000,
          5390000,
          5383000,
          5320000,
          5285000,
          5250000,
          5250000,
          5250000,
          5250000,
          5250000,
          5250000,
          5250000,
          5250000,
          5250000,
          5243000,
          5229000,
          5215000,
          5215000,
          5215000,
          5145000,
          5145000,
          5110000,
          5110000,
          5110000,
          5110000,
          5075000,
          5040000,
          5040000,
          5040000,
          5040000,
          5033000,
          5005000,
          4970000,
          4970000,
          4956000,
          4935000,
          4907000,
          4900000,
          4900000,
          4900000,
          4900000,
          4900000,
          4900000,
          4900000,
          4900000,
          4900000,
          4900000,
          4900000,
          4900000,
          4893000,
          4893000,
          4865000,
          4830000,
          4830000,
          4830000,
          4830000,
          4795000,
          4795000,
          4767000,
          4760000,
          4760000,
          4760000,
          4753000,
          4690000,
          4690000,
          4690000,
          4690000,
          4690000,
          4690000,
          4655000,
          4620000,
          4620000,
          4620000,
          4620000,
          4620000,
          4613000,
          4585000,
          4585000,
          4550000,
          4550000,
          4550000,
          4550000,
          4550000,
          4550000,
          4550000,
          4543000,
          4543000,
          4515000,
          4515000,
          4515000,
          4515000,
          4480000,
          4480000,
          4480000,
          4480000,
          4480000,
          4473000,
          4473000,
          4473000,
          4445000,
          4410000,
          4410000,
          4403000,
          4403000,
          4403000,
          4382000,
          4375000,
          4340000,
          4340000,
          4340000,
          4340000,
          4340000,
          4319000,
          4305000,
          4305000,
          4277000,
          4270000,
          4270000,
          4270000,
          4270000,
          4270000,
          4270000,
          4235000,
          4235000,
          4200000,
          4200000,
          4200000,
          4200000,
          4200000,
          4200000,
          4200000,
          4200000,
          4200000,
          4200000,
          4200000,
          4200000,
          4200000,
          4200000,
          4200000,
          4200000,
          4200000,
          4193000,
          4193000,
          4165000,
          4165000,
          4165000,
          4130000,
          4130000,
          4123000,
          4098500,
          4095000,
          4095000,
          4095000,
          4060000,
          4060000,
          4060000,
          4060000,
          4060000,
          4025000,
          4025000,
          4025000,
          4007500,
          4007500,
          3990000,
          3990000,
          3990000,
          3990000,
          3990000,
          3920000,
          3920000,
          3920000,
          3920000,
          3920000,
          3920000,
          3920000,
          3885000,
          3885000,
          3850000,
          3850000,
          3850000,
          3850000,
          3850000,
          3850000,
          3850000,
          3836000,
          3815000,
          3780000,
          3780000,
          3780000,
          3780000,
          3780000,
          3780000,
          3773000,
          3773000,
          3773000,
          3745000,
          3710000,
          3710000,
          3710000,
          3710000,
          3710000,
          3703000,
          3703000,
          3675000,
          3675000,
          3675000,
          3675000,
          3640000,
          3640000,
          3640000,
          3640000,
          3640000,
          3640000,
          3640000,
          3640000,
          3640000,
          3633000,
          3605000,
          3605000,
          3570000,
          3570000,
          3570000,
          3570000,
          3535000,
          3500000,
          3500000,
          3500000,
          3500000,
          3500000,
          3500000,
          3500000,
          3500000,
          3500000,
          3500000,
          3500000,
          3500000,
          3500000,
          3500000,
          3500000,
          3500000,
          3500000,
          3493000,
          3465000,
          3465000,
          3465000,
          3430000,
          3430000,
          3430000,
          3430000,
          3430000,
          3430000,
          3423000,
          3395000,
          3395000,
          3395000,
          3360000,
          3360000,
          3360000,
          3360000,
          3360000,
          3360000,
          3360000,
          3360000,
          3353000,
          3332000,
          3325000,
          3325000,
          3290000,
          3290000,
          3290000,
          3290000,
          3290000,
          3290000,
          3290000,
          3290000,
          3255000,
          3255000,
          3234000,
          3220000,
          3220000,
          3220000,
          3220000,
          3150000,
          3150000,
          3150000,
          3150000,
          3150000,
          3150000,
          3150000,
          3150000,
          3150000,
          3143000,
          3129000,
          3118850,
          3115000,
          3115000,
          3115000,
          3087000,
          3080000,
          3080000,
          3080000,
          3080000,
          3045000,
          3010000,
          3010000,
          3010000,
          3010000,
          3010000,
          3010000,
          3010000,
          3003000,
          2975000,
          2961000,
          2940000,
          2940000,
          2940000,
          2940000,
          2940000,
          2940000,
          2940000,
          2940000,
          2870000,
          2870000,
          2870000,
          2870000,
          2852500,
          2835000,
          2835000,
          2835000,
          2800000,
          2800000,
          2730000,
          2730000,
          2695000,
          2660000,
          2660000,
          2660000,
          2660000,
          2660000,
          2660000,
          2660000,
          2653000,
          2653000,
          2604000,
          2590000,
          2590000,
          2590000,
          2520000,
          2520000,
          2520000,
          2485000,
          2485000,
          2450000,
          2450000,
          2450000,
          2450000,
          2450000,
          2450000,
          2408000,
          2380000,
          2380000,
          2380000,
          2345000,
          2310000,
          2275000,
          2275000,
          2275000,
          2240000,
          2233000,
          2135000,
          2100000,
          2100000,
          2100000,
          1960000,
          1890000,
          1890000,
          1855000,
          1820000,
          1767150,
          1750000,
          1750000,
          1750000
         ],
         "xaxis": "x",
         "yaxis": "y"
        }
       ],
       "layout": {
        "barmode": "relative",
        "legend": {
         "tracegroupgap": 0
        },
        "template": {
         "data": {
          "candlestick": [
           {
            "decreasing": {
             "line": {
              "color": "#000033"
             }
            },
            "increasing": {
             "line": {
              "color": "#000032"
             }
            },
            "type": "candlestick"
           }
          ],
          "contour": [
           {
            "colorscale": [
             [
              0,
              "#000011"
             ],
             [
              0.1111111111111111,
              "#000012"
             ],
             [
              0.2222222222222222,
              "#000013"
             ],
             [
              0.3333333333333333,
              "#000014"
             ],
             [
              0.4444444444444444,
              "#000015"
             ],
             [
              0.5555555555555556,
              "#000016"
             ],
             [
              0.6666666666666666,
              "#000017"
             ],
             [
              0.7777777777777778,
              "#000018"
             ],
             [
              0.8888888888888888,
              "#000019"
             ],
             [
              1,
              "#000020"
             ]
            ],
            "type": "contour"
           }
          ],
          "contourcarpet": [
           {
            "colorscale": [
             [
              0,
              "#000011"
             ],
             [
              0.1111111111111111,
              "#000012"
             ],
             [
              0.2222222222222222,
              "#000013"
             ],
             [
              0.3333333333333333,
              "#000014"
             ],
             [
              0.4444444444444444,
              "#000015"
             ],
             [
              0.5555555555555556,
              "#000016"
             ],
             [
              0.6666666666666666,
              "#000017"
             ],
             [
              0.7777777777777778,
              "#000018"
             ],
             [
              0.8888888888888888,
              "#000019"
             ],
             [
              1,
              "#000020"
             ]
            ],
            "type": "contourcarpet"
           }
          ],
          "heatmap": [
           {
            "colorscale": [
             [
              0,
              "#000011"
             ],
             [
              0.1111111111111111,
              "#000012"
             ],
             [
              0.2222222222222222,
              "#000013"
             ],
             [
              0.3333333333333333,
              "#000014"
             ],
             [
              0.4444444444444444,
              "#000015"
             ],
             [
              0.5555555555555556,
              "#000016"
             ],
             [
              0.6666666666666666,
              "#000017"
             ],
             [
              0.7777777777777778,
              "#000018"
             ],
             [
              0.8888888888888888,
              "#000019"
             ],
             [
              1,
              "#000020"
             ]
            ],
            "type": "heatmap"
           }
          ],
          "histogram2d": [
           {
            "colorscale": [
             [
              0,
              "#000011"
             ],
             [
              0.1111111111111111,
              "#000012"
             ],
             [
              0.2222222222222222,
              "#000013"
             ],
             [
              0.3333333333333333,
              "#000014"
             ],
             [
              0.4444444444444444,
              "#000015"
             ],
             [
              0.5555555555555556,
              "#000016"
             ],
             [
              0.6666666666666666,
              "#000017"
             ],
             [
              0.7777777777777778,
              "#000018"
             ],
             [
              0.8888888888888888,
              "#000019"
             ],
             [
              1,
              "#000020"
             ]
            ],
            "type": "histogram2d"
           }
          ],
          "icicle": [
           {
            "textfont": {
             "color": "white"
            },
            "type": "icicle"
           }
          ],
          "sankey": [
           {
            "textfont": {
             "color": "#000036"
            },
            "type": "sankey"
           }
          ],
          "scatter": [
           {
            "marker": {
             "line": {
              "width": 0
             }
            },
            "type": "scatter"
           }
          ],
          "table": [
           {
            "cells": {
             "fill": {
              "color": "#000038"
             },
             "font": {
              "color": "#000037"
             },
             "line": {
              "color": "#000039"
             }
            },
            "header": {
             "fill": {
              "color": "#000040"
             },
             "font": {
              "color": "#000036"
             },
             "line": {
              "color": "#000039"
             }
            },
            "type": "table"
           }
          ],
          "waterfall": [
           {
            "connector": {
             "line": {
              "color": "#000036",
              "width": 2
             }
            },
            "decreasing": {
             "marker": {
              "color": "#000033"
             }
            },
            "increasing": {
             "marker": {
              "color": "#000032"
             }
            },
            "totals": {
             "marker": {
              "color": "#000034"
             }
            },
            "type": "waterfall"
           }
          ]
         },
         "layout": {
          "coloraxis": {
           "colorscale": [
            [
             0,
             "#000011"
            ],
            [
             0.1111111111111111,
             "#000012"
            ],
            [
             0.2222222222222222,
             "#000013"
            ],
            [
             0.3333333333333333,
             "#000014"
            ],
            [
             0.4444444444444444,
             "#000015"
            ],
            [
             0.5555555555555556,
             "#000016"
            ],
            [
             0.6666666666666666,
             "#000017"
            ],
            [
             0.7777777777777778,
             "#000018"
            ],
            [
             0.8888888888888888,
             "#000019"
            ],
            [
             1,
             "#000020"
            ]
           ]
          },
          "colorscale": {
           "diverging": [
            [
             0,
             "#000021"
            ],
            [
             0.1,
             "#000022"
            ],
            [
             0.2,
             "#000023"
            ],
            [
             0.3,
             "#000024"
            ],
            [
             0.4,
             "#000025"
            ],
            [
             0.5,
             "#000026"
            ],
            [
             0.6,
             "#000027"
            ],
            [
             0.7,
             "#000028"
            ],
            [
             0.8,
             "#000029"
            ],
            [
             0.9,
             "#000030"
            ],
            [
             1,
             "#000031"
            ]
           ],
           "sequential": [
            [
             0,
             "#000011"
            ],
            [
             0.1111111111111111,
             "#000012"
            ],
            [
             0.2222222222222222,
             "#000013"
            ],
            [
             0.3333333333333333,
             "#000014"
            ],
            [
             0.4444444444444444,
             "#000015"
            ],
            [
             0.5555555555555556,
             "#000016"
            ],
            [
             0.6666666666666666,
             "#000017"
            ],
            [
             0.7777777777777778,
             "#000018"
            ],
            [
             0.8888888888888888,
             "#000019"
            ],
            [
             1,
             "#000020"
            ]
           ],
           "sequentialminus": [
            [
             0,
             "#000011"
            ],
            [
             0.1111111111111111,
             "#000012"
            ],
            [
             0.2222222222222222,
             "#000013"
            ],
            [
             0.3333333333333333,
             "#000014"
            ],
            [
             0.4444444444444444,
             "#000015"
            ],
            [
             0.5555555555555556,
             "#000016"
            ],
            [
             0.6666666666666666,
             "#000017"
            ],
            [
             0.7777777777777778,
             "#000018"
            ],
            [
             0.8888888888888888,
             "#000019"
            ],
            [
             1,
             "#000020"
            ]
           ]
          },
          "colorway": [
           "#000001",
           "#000002",
           "#000003",
           "#000004",
           "#000005",
           "#000006",
           "#000007",
           "#000008",
           "#000009",
           "#000010"
          ]
         }
        },
        "title": {
         "text": "Histogram show price of houses"
        },
        "xaxis": {
         "anchor": "y",
         "domain": [
          0,
          1
         ],
         "title": {
          "text": "price"
         }
        },
        "yaxis": {
         "anchor": "x",
         "domain": [
          0,
          1
         ],
         "title": {
          "text": "count"
         }
        }
       }
      }
     },
     "metadata": {},
     "output_type": "display_data"
    }
   ],
   "source": [
    "#histogram for price \n",
    "fig = px.histogram(data, x=\"price\", \n",
    "                   title='Histogram show price of houses'\n",
    "                   )\n",
    "fig.show()\n"
   ]
  },
  {
   "cell_type": "code",
   "execution_count": 71,
   "id": "7265f5c4",
   "metadata": {},
   "outputs": [
    {
     "data": {
      "text/plain": [
       "1.2122388370279802"
      ]
     },
     "execution_count": 71,
     "metadata": {},
     "output_type": "execute_result"
    }
   ],
   "source": [
    "data['price'].skew()"
   ]
  },
  {
   "cell_type": "code",
   "execution_count": 72,
   "id": "34d60f02",
   "metadata": {},
   "outputs": [
    {
     "data": {
      "application/vnd.plotly.v1+json": {
       "config": {
        "plotlyServerURL": "https://plot.ly"
       },
       "data": [
        {
         "alignmentgroup": "True",
         "bingroup": "x",
         "hovertemplate": "price log=%{x}<br>count=%{y}<extra></extra>",
         "legendgroup": "",
         "marker": {
          "color": "#000001",
          "pattern": {
           "shape": ""
          }
         },
         "name": "",
         "offsetgroup": "",
         "orientation": "v",
         "showlegend": false,
         "type": "histogram",
         "x": [
          16.40327459319198,
          16.32103649495501,
          16.32103649495501,
          16.31817526267398,
          16.25000072183826,
          16.199675637950744,
          16.13298426345207,
          16.13298426345207,
          16.105010411409665,
          16.0978929436408,
          16.0978929436408,
          16.08567575970221,
          16.04659964925325,
          16.039052443617866,
          16.039052443617866,
          16.02378497148708,
          16.02378497148708,
          16.008280784951115,
          16.00043760749009,
          15.99649282919907,
          15.984564258333798,
          15.976532086636533,
          15.972491677099528,
          15.972491677099528,
          15.964361551016278,
          15.960271565764753,
          15.951214278652243,
          15.943742263813542,
          15.943742263813542,
          15.943742263813542,
          15.943742263813542,
          15.943742263813542,
          15.931163481606681,
          15.918424455829252,
          15.90984071213786,
          15.90501876036436,
          15.900312705886206,
          15.892448969425992,
          15.890253578862556,
          15.883638339743836,
          15.879203742675971,
          15.87474939232659,
          15.856730886823913,
          15.856730886823913,
          15.838381748155715,
          15.838381748155715,
          15.833741368599213,
          15.829079355493402,
          15.824395506180975,
          15.819689615143563,
          15.819689615143563,
          15.819689615143563,
          15.81021087118902,
          15.81021087118902,
          15.81021087118902,
          15.81021087118902,
          15.809258036433748,
          15.79582213373692,
          15.790979509261131,
          15.790979509261131,
          15.781223334315767,
          15.771371037872756,
          15.771371037872756,
          15.766408248530626,
          15.761420707019587,
          15.751370371166086,
          15.751370371166086,
          15.74630706920954,
          15.741217999702068,
          15.730961499534878,
          15.730961499534878,
          15.725793529376435,
          15.720598712499333,
          15.71537676851818,
          15.710127412632037,
          15.710127412632037,
          15.710127412632037,
          15.710127412632037,
          15.710127412632037,
          15.710127412632037,
          15.70696452122353,
          15.704850355531192,
          15.704850355531192,
          15.6995453033015,
          15.688850014184752,
          15.688850014184752,
          15.688850014184752,
          15.683459165549875,
          15.683459165549875,
          15.678039098080536,
          15.678039098080536,
          15.674772900293915,
          15.672589493312971,
          15.65606019136176,
          15.65606019136176,
          15.65606019136176,
          15.65606019136176,
          15.65606019136176,
          15.65494846250907,
          15.650489146312307,
          15.644886890763637,
          15.644886890763637,
          15.63925307304538,
          15.63925307304538,
          15.63925307304538,
          15.633587335509702,
          15.633587335509702,
          15.627889314395064,
          15.625028082114033,
          15.622158639686079,
          15.622158639686079,
          15.622158639686079,
          15.621008553302842,
          15.621008553302842,
          15.610597817285004,
          15.610597817285004,
          15.610597817285004,
          15.598901777521812,
          15.598901777521812,
          15.598901777521812,
          15.598901777521812,
          15.598901777521812,
          15.598901777521812,
          15.598901777521812,
          15.598901777521812,
          15.597724614348797,
          15.58706731987481,
          15.58706731987481,
          15.585876134504657,
          15.585876134504657,
          15.584683528519534,
          15.575091128828094,
          15.575091128828094,
          15.575091128828094,
          15.573885583172745,
          15.569048814372131,
          15.56296976829575,
          15.56296976829575,
          15.56296976829575,
          15.56296976829575,
          15.56296976829575,
          15.547608483134262,
          15.538277155705378,
          15.538277155705378,
          15.538277155705378,
          15.538277155705378,
          15.538277155705378,
          15.538277155705378,
          15.538277155705378,
          15.538277155705378,
          15.538277155705378,
          15.532007542691781,
          15.532007542691781,
          15.525698373498518,
          15.525698373498518,
          15.525698373498518,
          15.524431748883325,
          15.51934914581986,
          15.51934914581986,
          15.512959347721088,
          15.512959347721088,
          15.512959347721088,
          15.512959347721088,
          15.506528457390797,
          15.50005594288518,
          15.498756397543094,
          15.486983861317826,
          15.480383177286475,
          15.473738634567807,
          15.473738634567807,
          15.473738634567807,
          15.473738634567807,
          15.473738634567807,
          15.473738634567807,
          15.473738634567807,
          15.473738634567807,
          15.473738634567807,
          15.47240441155467,
          15.469730613170269,
          15.46704964641701,
          15.46704964641701,
          15.46704964641701,
          15.453535927250288,
          15.453535927250288,
          15.446709962179888,
          15.446709962179888,
          15.446709962179888,
          15.446709962179888,
          15.439837082892126,
          15.432916640047551,
          15.432916640047551,
          15.432916640047551,
          15.432916640047551,
          15.431526785758496,
          15.425947970731459,
          15.418930398072812,
          15.418930398072812,
          15.41610952173117,
          15.411863230849718,
          15.40617331507204,
          15.404745763080856,
          15.404745763080856,
          15.404745763080856,
          15.404745763080856,
          15.404745763080856,
          15.404745763080856,
          15.404745763080856,
          15.404745763080856,
          15.404745763080856,
          15.404745763080856,
          15.404745763080856,
          15.404745763080856,
          15.40331617027126,
          15.40331617027126,
          15.397577273602243,
          15.390357025628756,
          15.390357025628756,
          15.390357025628756,
          15.390357025628756,
          15.383084266299676,
          15.383084266299676,
          15.377227734186963,
          15.375758226207603,
          15.375758226207603,
          15.375758226207603,
          15.374286555596147,
          15.360943140422462,
          15.360943140422462,
          15.360943140422462,
          15.360943140422462,
          15.360943140422462,
          15.360943140422462,
          15.353452468693305,
          15.345905263057922,
          15.345905263057922,
          15.345905263057922,
          15.345905263057922,
          15.345905263057922,
          15.344388962539957,
          15.338300663672703,
          15.338300663672703,
          15.330637790927133,
          15.330637790927133,
          15.330637790927133,
          15.330637790927133,
          15.330637790927133,
          15.330637790927133,
          15.330637790927133,
          15.32909814474154,
          15.32909814474154,
          15.322915744833223,
          15.322915744833223,
          15.322915744833223,
          15.322915744833223,
          15.315133604391168,
          15.315133604391168,
          15.315133604391168,
          15.315133604391168,
          15.315133604391168,
          15.313569882414985,
          15.313569882414985,
          15.313569882414985,
          15.307290426930143,
          15.299385247423029,
          15.299385247423029,
          15.297796684737891,
          15.297796684737891,
          15.297796684737891,
          15.29301579913755,
          15.291417077773852,
          15.283384906076588,
          15.283384906076588,
          15.283384906076588,
          15.283384906076588,
          15.283384906076588,
          15.278534451942837,
          15.275287695843968,
          15.275287695843968,
          15.268762387209046,
          15.267124385204808,
          15.267124385204808,
          15.267124385204808,
          15.267124385204808,
          15.267124385204808,
          15.267124385204808,
          15.258893886068291,
          15.258893886068291,
          15.250595083253597,
          15.250595083253597,
          15.250595083253597,
          15.250595083253597,
          15.250595083253597,
          15.250595083253597,
          15.250595083253597,
          15.250595083253597,
          15.250595083253597,
          15.250595083253597,
          15.250595083253597,
          15.250595083253597,
          15.250595083253597,
          15.250595083253597,
          15.250595083253597,
          15.250595083253597,
          15.250595083253597,
          15.2489270261529,
          15.2489270261529,
          15.24222683358308,
          15.24222683358308,
          15.24222683358308,
          15.233787964937216,
          15.233787964937216,
          15.232091611689038,
          15.226131611075223,
          15.225277275269306,
          15.225277275269306,
          15.225277275269306,
          15.216693531577915,
          15.216693531577915,
          15.216693531577915,
          15.216693531577915,
          15.216693531577915,
          15.208035468834801,
          15.208035468834801,
          15.208035468834801,
          15.203678163465845,
          15.203678163465845,
          15.199301788866046,
          15.199301788866046,
          15.199301788866046,
          15.199301788866046,
          15.199301788866046,
          15.181602211766645,
          15.181602211766645,
          15.181602211766645,
          15.181602211766645,
          15.181602211766645,
          15.181602211766645,
          15.181602211766645,
          15.172633541783885,
          15.172633541783885,
          15.163583706263967,
          15.163583706263967,
          15.163583706263967,
          15.163583706263967,
          15.163583706263967,
          15.163583706263967,
          15.163583706263967,
          15.159940714985465,
          15.154451222700695,
          15.14523456759577,
          15.14523456759577,
          15.14523456759577,
          15.14523456759577,
          15.14523456759577,
          15.14523456759577,
          15.143380998946448,
          15.143380998946448,
          15.143380998946448,
          15.135932174933457,
          15.126542434583618,
          15.126542434583618,
          15.126542434583618,
          15.126542434583618,
          15.126542434583618,
          15.12465385989575,
          15.12465385989575,
          15.117063690629074,
          15.117063690629074,
          15.117063690629074,
          15.117063690629074,
          15.107494239612924,
          15.107494239612924,
          15.107494239612924,
          15.107494239612924,
          15.107494239612924,
          15.107494239612924,
          15.107494239612924,
          15.107494239612924,
          15.107494239612924,
          15.10556931120334,
          15.097832328701186,
          15.097832328701186,
          15.088076153755821,
          15.088076153755821,
          15.088076153755821,
          15.088076153755821,
          15.07822385731281,
          15.068273526459642,
          15.068273526459642,
          15.068273526459642,
          15.068273526459642,
          15.068273526459642,
          15.068273526459642,
          15.068273526459642,
          15.068273526459642,
          15.068273526459642,
          15.068273526459642,
          15.068273526459642,
          15.068273526459642,
          15.068273526459642,
          15.068273526459642,
          15.068273526459642,
          15.068273526459642,
          15.068273526459642,
          15.066271523788968,
          15.05822319060614,
          15.05822319060614,
          15.05822319060614,
          15.048070819142122,
          15.048070819142122,
          15.048070819142122,
          15.048070819142122,
          15.048070819142122,
          15.048070819142122,
          15.046027917512323,
          15.037814318974933,
          15.037814318974933,
          15.037814318974933,
          15.027451531939388,
          15.027451531939388,
          15.027451531939388,
          15.027451531939388,
          15.027451531939388,
          15.027451531939388,
          15.027451531939388,
          15.027451531939388,
          15.025366025448365,
          15.01908328226887,
          15.016980232072092,
          15.016980232072092,
          15.006398122741555,
          15.006398122741555,
          15.006398122741555,
          15.006398122741555,
          15.006398122741555,
          15.006398122741555,
          15.006398122741555,
          15.006398122741555,
          14.995702833624806,
          14.995702833624806,
          14.989230319119189,
          14.98489191752059,
          14.98489191752059,
          14.98489191752059,
          14.98489191752059,
          14.962913010801817,
          14.962913010801817,
          14.962913010801817,
          14.962913010801817,
          14.962913010801817,
          14.962913010801817,
          14.962913010801817,
          14.962913010801817,
          14.962913010801817,
          14.960688315779704,
          14.95622402265102,
          14.952974902096178,
          14.951739710203691,
          14.951739710203691,
          14.951739710203691,
          14.942710303484297,
          14.940440154949757,
          14.940440154949757,
          14.940440154949757,
          14.940440154949757,
          14.929011459126134,
          14.917450636725059,
          14.917450636725059,
          14.917450636725059,
          14.917450636725059,
          14.917450636725059,
          14.917450636725059,
          14.917450636725059,
          14.915122346965468,
          14.905754596961867,
          14.901037607083728,
          14.893920139314865,
          14.893920139314865,
          14.893920139314865,
          14.893920139314865,
          14.893920139314865,
          14.893920139314865,
          14.893920139314865,
          14.893920139314865,
          14.869822587735804,
          14.869822587735804,
          14.869822587735804,
          14.869822587735804,
          14.863706360718368,
          14.85755249514399,
          14.85755249514399,
          14.85755249514399,
          14.845129975145433,
          14.845129975145433,
          14.819812167161142,
          14.819812167161142,
          14.806908762325234,
          14.793836680757881,
          14.793836680757881,
          14.793836680757881,
          14.793836680757881,
          14.793836680757881,
          14.793836680757881,
          14.793836680757881,
          14.791201633119877,
          14.791201633119877,
          14.772559282310597,
          14.767168433675721,
          14.767168433675721,
          14.767168433675721,
          14.739769459487606,
          14.739769459487606,
          14.739769459487606,
          14.725783217512866,
          14.725783217512866,
          14.71159858252091,
          14.71159858252091,
          14.71159858252091,
          14.71159858252091,
          14.71159858252091,
          14.71159858252091,
          14.694307085410848,
          14.682611045647658,
          14.682611045647658,
          14.682611045647658,
          14.667795959862516,
          14.652758082497977,
          14.637490610367188,
          14.637490610367188,
          14.637490610367188,
          14.621986423831222,
          14.618856530822296,
          14.573977204644862,
          14.557447902693651,
          14.557447902693651,
          14.557447902693651,
          14.4884550312067,
          14.452087387035824,
          14.452087387035824,
          14.433395254023672,
          14.414347059052979,
          14.384878637342375,
          14.375126345899696,
          14.375126345899696,
          14.375126345899696
         ],
         "xaxis": "x",
         "yaxis": "y"
        }
       ],
       "layout": {
        "barmode": "relative",
        "legend": {
         "tracegroupgap": 0
        },
        "template": {
         "data": {
          "candlestick": [
           {
            "decreasing": {
             "line": {
              "color": "#000033"
             }
            },
            "increasing": {
             "line": {
              "color": "#000032"
             }
            },
            "type": "candlestick"
           }
          ],
          "contour": [
           {
            "colorscale": [
             [
              0,
              "#000011"
             ],
             [
              0.1111111111111111,
              "#000012"
             ],
             [
              0.2222222222222222,
              "#000013"
             ],
             [
              0.3333333333333333,
              "#000014"
             ],
             [
              0.4444444444444444,
              "#000015"
             ],
             [
              0.5555555555555556,
              "#000016"
             ],
             [
              0.6666666666666666,
              "#000017"
             ],
             [
              0.7777777777777778,
              "#000018"
             ],
             [
              0.8888888888888888,
              "#000019"
             ],
             [
              1,
              "#000020"
             ]
            ],
            "type": "contour"
           }
          ],
          "contourcarpet": [
           {
            "colorscale": [
             [
              0,
              "#000011"
             ],
             [
              0.1111111111111111,
              "#000012"
             ],
             [
              0.2222222222222222,
              "#000013"
             ],
             [
              0.3333333333333333,
              "#000014"
             ],
             [
              0.4444444444444444,
              "#000015"
             ],
             [
              0.5555555555555556,
              "#000016"
             ],
             [
              0.6666666666666666,
              "#000017"
             ],
             [
              0.7777777777777778,
              "#000018"
             ],
             [
              0.8888888888888888,
              "#000019"
             ],
             [
              1,
              "#000020"
             ]
            ],
            "type": "contourcarpet"
           }
          ],
          "heatmap": [
           {
            "colorscale": [
             [
              0,
              "#000011"
             ],
             [
              0.1111111111111111,
              "#000012"
             ],
             [
              0.2222222222222222,
              "#000013"
             ],
             [
              0.3333333333333333,
              "#000014"
             ],
             [
              0.4444444444444444,
              "#000015"
             ],
             [
              0.5555555555555556,
              "#000016"
             ],
             [
              0.6666666666666666,
              "#000017"
             ],
             [
              0.7777777777777778,
              "#000018"
             ],
             [
              0.8888888888888888,
              "#000019"
             ],
             [
              1,
              "#000020"
             ]
            ],
            "type": "heatmap"
           }
          ],
          "histogram2d": [
           {
            "colorscale": [
             [
              0,
              "#000011"
             ],
             [
              0.1111111111111111,
              "#000012"
             ],
             [
              0.2222222222222222,
              "#000013"
             ],
             [
              0.3333333333333333,
              "#000014"
             ],
             [
              0.4444444444444444,
              "#000015"
             ],
             [
              0.5555555555555556,
              "#000016"
             ],
             [
              0.6666666666666666,
              "#000017"
             ],
             [
              0.7777777777777778,
              "#000018"
             ],
             [
              0.8888888888888888,
              "#000019"
             ],
             [
              1,
              "#000020"
             ]
            ],
            "type": "histogram2d"
           }
          ],
          "icicle": [
           {
            "textfont": {
             "color": "white"
            },
            "type": "icicle"
           }
          ],
          "sankey": [
           {
            "textfont": {
             "color": "#000036"
            },
            "type": "sankey"
           }
          ],
          "scatter": [
           {
            "marker": {
             "line": {
              "width": 0
             }
            },
            "type": "scatter"
           }
          ],
          "table": [
           {
            "cells": {
             "fill": {
              "color": "#000038"
             },
             "font": {
              "color": "#000037"
             },
             "line": {
              "color": "#000039"
             }
            },
            "header": {
             "fill": {
              "color": "#000040"
             },
             "font": {
              "color": "#000036"
             },
             "line": {
              "color": "#000039"
             }
            },
            "type": "table"
           }
          ],
          "waterfall": [
           {
            "connector": {
             "line": {
              "color": "#000036",
              "width": 2
             }
            },
            "decreasing": {
             "marker": {
              "color": "#000033"
             }
            },
            "increasing": {
             "marker": {
              "color": "#000032"
             }
            },
            "totals": {
             "marker": {
              "color": "#000034"
             }
            },
            "type": "waterfall"
           }
          ]
         },
         "layout": {
          "coloraxis": {
           "colorscale": [
            [
             0,
             "#000011"
            ],
            [
             0.1111111111111111,
             "#000012"
            ],
            [
             0.2222222222222222,
             "#000013"
            ],
            [
             0.3333333333333333,
             "#000014"
            ],
            [
             0.4444444444444444,
             "#000015"
            ],
            [
             0.5555555555555556,
             "#000016"
            ],
            [
             0.6666666666666666,
             "#000017"
            ],
            [
             0.7777777777777778,
             "#000018"
            ],
            [
             0.8888888888888888,
             "#000019"
            ],
            [
             1,
             "#000020"
            ]
           ]
          },
          "colorscale": {
           "diverging": [
            [
             0,
             "#000021"
            ],
            [
             0.1,
             "#000022"
            ],
            [
             0.2,
             "#000023"
            ],
            [
             0.3,
             "#000024"
            ],
            [
             0.4,
             "#000025"
            ],
            [
             0.5,
             "#000026"
            ],
            [
             0.6,
             "#000027"
            ],
            [
             0.7,
             "#000028"
            ],
            [
             0.8,
             "#000029"
            ],
            [
             0.9,
             "#000030"
            ],
            [
             1,
             "#000031"
            ]
           ],
           "sequential": [
            [
             0,
             "#000011"
            ],
            [
             0.1111111111111111,
             "#000012"
            ],
            [
             0.2222222222222222,
             "#000013"
            ],
            [
             0.3333333333333333,
             "#000014"
            ],
            [
             0.4444444444444444,
             "#000015"
            ],
            [
             0.5555555555555556,
             "#000016"
            ],
            [
             0.6666666666666666,
             "#000017"
            ],
            [
             0.7777777777777778,
             "#000018"
            ],
            [
             0.8888888888888888,
             "#000019"
            ],
            [
             1,
             "#000020"
            ]
           ],
           "sequentialminus": [
            [
             0,
             "#000011"
            ],
            [
             0.1111111111111111,
             "#000012"
            ],
            [
             0.2222222222222222,
             "#000013"
            ],
            [
             0.3333333333333333,
             "#000014"
            ],
            [
             0.4444444444444444,
             "#000015"
            ],
            [
             0.5555555555555556,
             "#000016"
            ],
            [
             0.6666666666666666,
             "#000017"
            ],
            [
             0.7777777777777778,
             "#000018"
            ],
            [
             0.8888888888888888,
             "#000019"
            ],
            [
             1,
             "#000020"
            ]
           ]
          },
          "colorway": [
           "#000001",
           "#000002",
           "#000003",
           "#000004",
           "#000005",
           "#000006",
           "#000007",
           "#000008",
           "#000009",
           "#000010"
          ]
         }
        },
        "title": {
         "text": "Histogram show price log of houses"
        },
        "xaxis": {
         "anchor": "y",
         "domain": [
          0,
          1
         ],
         "title": {
          "text": "price log"
         }
        },
        "yaxis": {
         "anchor": "x",
         "domain": [
          0,
          1
         ],
         "title": {
          "text": "count"
         }
        }
       }
      }
     },
     "metadata": {},
     "output_type": "display_data"
    },
    {
     "name": "stdout",
     "output_type": "stream",
     "text": [
      "0.14086257299872787\n"
     ]
    }
   ],
   "source": [
    "#Normalising the price with the log function\n",
    "data['price_log'] = np.log(data['price'])\n",
    "\n",
    "fig = px.histogram(data, x=\"price_log\", \n",
    "                   labels = {'price_log':'price log'},\n",
    "                   title='Histogram show price log of houses')\n",
    "fig.show()\n",
    "print(data['price_log'].skew())"
   ]
  },
  {
   "cell_type": "code",
   "execution_count": 73,
   "id": "0c4cfbca",
   "metadata": {},
   "outputs": [
    {
     "data": {
      "text/plain": [
       "0"
      ]
     },
     "execution_count": 73,
     "metadata": {},
     "output_type": "execute_result"
    }
   ],
   "source": [
    "data['mainroad'].isna().sum()"
   ]
  },
  {
   "cell_type": "code",
   "execution_count": 74,
   "id": "68edb377",
   "metadata": {},
   "outputs": [
    {
     "data": {
      "text/plain": [
       "array(['no', 'yes'], dtype=object)"
      ]
     },
     "execution_count": 74,
     "metadata": {},
     "output_type": "execute_result"
    }
   ],
   "source": [
    "data['hotwaterheating'].unique()"
   ]
  },
  {
   "cell_type": "code",
   "execution_count": 75,
   "id": "07575055",
   "metadata": {},
   "outputs": [],
   "source": [
    "\n",
    "data['mainroad'] = data['mainroad'].\\\n",
    "map({'yes': 1, 'no': 0}).astype(int)\n",
    "\n",
    "data['guestroom'] = data['guestroom'].\\\n",
    "map({'yes': 1, 'no': 0}).astype(int)\n",
    "\n",
    "\n",
    "data['basement'] = data['basement'].\\\n",
    "map({'yes': 1, 'no': 0}).astype(int)\n"
   ]
  },
  {
   "cell_type": "code",
   "execution_count": 76,
   "id": "2f3e2890",
   "metadata": {},
   "outputs": [],
   "source": [
    "data['hotwaterheating'] = data['hotwaterheating'].\\\n",
    "map({'yes': 1, 'no': 0}).astype(int)\n",
    "\n",
    "data['airconditioning'] = data['airconditioning'].\\\n",
    "map({'yes': 1, 'no': 0}).astype(int)\n",
    "\n",
    "data['prefarea'] = data['prefarea'].\\\n",
    "map({'yes': 1, 'no': 0}).astype(int)\n",
    "\n",
    "data['furnishingstatus'] = data['furnishingstatus'].\\\n",
    "map({'furnished': 1, 'semi-furnished': 2,  'unfurnished': 0}).astype(int)"
   ]
  },
  {
   "cell_type": "code",
   "execution_count": 77,
   "id": "7791d3b3",
   "metadata": {},
   "outputs": [
    {
     "data": {
      "text/html": [
       "<div>\n",
       "<style scoped>\n",
       "    .dataframe tbody tr th:only-of-type {\n",
       "        vertical-align: middle;\n",
       "    }\n",
       "\n",
       "    .dataframe tbody tr th {\n",
       "        vertical-align: top;\n",
       "    }\n",
       "\n",
       "    .dataframe thead th {\n",
       "        text-align: right;\n",
       "    }\n",
       "</style>\n",
       "<table border=\"1\" class=\"dataframe\">\n",
       "  <thead>\n",
       "    <tr style=\"text-align: right;\">\n",
       "      <th></th>\n",
       "      <th>price</th>\n",
       "      <th>area</th>\n",
       "      <th>bedrooms</th>\n",
       "      <th>bathrooms</th>\n",
       "      <th>stories</th>\n",
       "      <th>mainroad</th>\n",
       "      <th>guestroom</th>\n",
       "      <th>basement</th>\n",
       "      <th>hotwaterheating</th>\n",
       "      <th>airconditioning</th>\n",
       "      <th>parking</th>\n",
       "      <th>prefarea</th>\n",
       "      <th>furnishingstatus</th>\n",
       "      <th>price_log</th>\n",
       "    </tr>\n",
       "  </thead>\n",
       "  <tbody>\n",
       "    <tr>\n",
       "      <th>0</th>\n",
       "      <td>13300000</td>\n",
       "      <td>7420</td>\n",
       "      <td>4</td>\n",
       "      <td>2</td>\n",
       "      <td>3</td>\n",
       "      <td>1</td>\n",
       "      <td>0</td>\n",
       "      <td>0</td>\n",
       "      <td>0</td>\n",
       "      <td>1</td>\n",
       "      <td>2</td>\n",
       "      <td>1</td>\n",
       "      <td>1</td>\n",
       "      <td>16.403275</td>\n",
       "    </tr>\n",
       "    <tr>\n",
       "      <th>1</th>\n",
       "      <td>12250000</td>\n",
       "      <td>8960</td>\n",
       "      <td>4</td>\n",
       "      <td>4</td>\n",
       "      <td>4</td>\n",
       "      <td>1</td>\n",
       "      <td>0</td>\n",
       "      <td>0</td>\n",
       "      <td>0</td>\n",
       "      <td>1</td>\n",
       "      <td>3</td>\n",
       "      <td>0</td>\n",
       "      <td>1</td>\n",
       "      <td>16.321036</td>\n",
       "    </tr>\n",
       "    <tr>\n",
       "      <th>2</th>\n",
       "      <td>12250000</td>\n",
       "      <td>9960</td>\n",
       "      <td>3</td>\n",
       "      <td>2</td>\n",
       "      <td>2</td>\n",
       "      <td>1</td>\n",
       "      <td>0</td>\n",
       "      <td>1</td>\n",
       "      <td>0</td>\n",
       "      <td>0</td>\n",
       "      <td>2</td>\n",
       "      <td>1</td>\n",
       "      <td>2</td>\n",
       "      <td>16.321036</td>\n",
       "    </tr>\n",
       "    <tr>\n",
       "      <th>3</th>\n",
       "      <td>12215000</td>\n",
       "      <td>7500</td>\n",
       "      <td>4</td>\n",
       "      <td>2</td>\n",
       "      <td>2</td>\n",
       "      <td>1</td>\n",
       "      <td>0</td>\n",
       "      <td>1</td>\n",
       "      <td>0</td>\n",
       "      <td>1</td>\n",
       "      <td>3</td>\n",
       "      <td>1</td>\n",
       "      <td>1</td>\n",
       "      <td>16.318175</td>\n",
       "    </tr>\n",
       "    <tr>\n",
       "      <th>4</th>\n",
       "      <td>11410000</td>\n",
       "      <td>7420</td>\n",
       "      <td>4</td>\n",
       "      <td>1</td>\n",
       "      <td>2</td>\n",
       "      <td>1</td>\n",
       "      <td>1</td>\n",
       "      <td>1</td>\n",
       "      <td>0</td>\n",
       "      <td>1</td>\n",
       "      <td>2</td>\n",
       "      <td>0</td>\n",
       "      <td>1</td>\n",
       "      <td>16.250001</td>\n",
       "    </tr>\n",
       "  </tbody>\n",
       "</table>\n",
       "</div>"
      ],
      "text/plain": [
       "      price  area  bedrooms  bathrooms  stories  mainroad  guestroom  \\\n",
       "0  13300000  7420         4          2        3         1          0   \n",
       "1  12250000  8960         4          4        4         1          0   \n",
       "2  12250000  9960         3          2        2         1          0   \n",
       "3  12215000  7500         4          2        2         1          0   \n",
       "4  11410000  7420         4          1        2         1          1   \n",
       "\n",
       "   basement  hotwaterheating  airconditioning  parking  prefarea  \\\n",
       "0         0                0                1        2         1   \n",
       "1         0                0                1        3         0   \n",
       "2         1                0                0        2         1   \n",
       "3         1                0                1        3         1   \n",
       "4         1                0                1        2         0   \n",
       "\n",
       "   furnishingstatus  price_log  \n",
       "0                 1  16.403275  \n",
       "1                 1  16.321036  \n",
       "2                 2  16.321036  \n",
       "3                 1  16.318175  \n",
       "4                 1  16.250001  "
      ]
     },
     "execution_count": 77,
     "metadata": {},
     "output_type": "execute_result"
    }
   ],
   "source": [
    "data.head(5)"
   ]
  },
  {
   "cell_type": "code",
   "execution_count": 78,
   "id": "8e6b17de",
   "metadata": {},
   "outputs": [
    {
     "data": {
      "text/plain": [
       "furnishingstatus\n",
       "2    227\n",
       "0    178\n",
       "1    140\n",
       "Name: count, dtype: int64"
      ]
     },
     "execution_count": 78,
     "metadata": {},
     "output_type": "execute_result"
    }
   ],
   "source": [
    "data['furnishingstatus'].value_counts()"
   ]
  },
  {
   "cell_type": "code",
   "execution_count": 79,
   "id": "8524d722",
   "metadata": {},
   "outputs": [
    {
     "data": {
      "application/vnd.plotly.v1+json": {
       "config": {
        "plotlyServerURL": "https://plot.ly"
       },
       "data": [
        {
         "alignmentgroup": "True",
         "bingroup": "x",
         "hovertemplate": "furnishing status=%{x}<br>count=%{y}<extra></extra>",
         "legendgroup": "",
         "marker": {
          "color": "#000001",
          "pattern": {
           "shape": ""
          }
         },
         "name": "",
         "offsetgroup": "",
         "orientation": "v",
         "showlegend": false,
         "type": "histogram",
         "x": [
          1,
          1,
          2,
          1,
          1,
          2,
          2,
          0,
          1,
          0,
          1,
          2,
          2,
          1,
          2,
          2,
          0,
          1,
          1,
          2,
          2,
          0,
          1,
          1,
          1,
          1,
          2,
          2,
          0,
          2,
          0,
          2,
          1,
          0,
          1,
          1,
          1,
          1,
          0,
          2,
          1,
          1,
          0,
          2,
          1,
          2,
          1,
          1,
          0,
          2,
          0,
          0,
          1,
          2,
          2,
          0,
          2,
          1,
          2,
          1,
          2,
          2,
          1,
          1,
          1,
          1,
          1,
          0,
          1,
          1,
          2,
          0,
          0,
          1,
          1,
          2,
          1,
          1,
          1,
          1,
          2,
          2,
          1,
          2,
          2,
          1,
          0,
          2,
          0,
          1,
          2,
          1,
          1,
          2,
          2,
          2,
          1,
          2,
          0,
          0,
          0,
          0,
          2,
          1,
          1,
          0,
          2,
          0,
          2,
          2,
          2,
          0,
          1,
          1,
          1,
          2,
          0,
          1,
          1,
          2,
          1,
          2,
          2,
          1,
          1,
          2,
          0,
          0,
          1,
          2,
          0,
          2,
          2,
          0,
          2,
          0,
          0,
          2,
          2,
          1,
          0,
          2,
          2,
          0,
          1,
          1,
          2,
          2,
          2,
          2,
          0,
          2,
          1,
          2,
          2,
          1,
          2,
          1,
          2,
          1,
          1,
          2,
          2,
          2,
          1,
          0,
          0,
          2,
          1,
          2,
          2,
          2,
          0,
          0,
          0,
          2,
          1,
          2,
          2,
          2,
          2,
          1,
          2,
          2,
          1,
          0,
          1,
          2,
          0,
          2,
          1,
          2,
          1,
          2,
          2,
          2,
          2,
          2,
          2,
          1,
          2,
          2,
          2,
          2,
          2,
          2,
          2,
          2,
          2,
          0,
          2,
          1,
          2,
          2,
          0,
          0,
          2,
          1,
          2,
          0,
          2,
          2,
          2,
          1,
          0,
          2,
          2,
          1,
          2,
          2,
          2,
          2,
          1,
          0,
          2,
          2,
          2,
          2,
          2,
          1,
          2,
          2,
          1,
          1,
          2,
          0,
          2,
          0,
          2,
          1,
          2,
          2,
          2,
          1,
          2,
          0,
          1,
          1,
          2,
          1,
          1,
          2,
          2,
          2,
          2,
          2,
          0,
          2,
          2,
          0,
          1,
          2,
          2,
          1,
          2,
          1,
          2,
          2,
          2,
          1,
          0,
          1,
          0,
          1,
          1,
          2,
          1,
          0,
          0,
          2,
          2,
          0,
          2,
          0,
          2,
          2,
          2,
          0,
          2,
          1,
          2,
          2,
          0,
          1,
          2,
          2,
          2,
          2,
          2,
          2,
          2,
          2,
          1,
          2,
          2,
          2,
          0,
          0,
          2,
          2,
          1,
          2,
          1,
          2,
          2,
          2,
          0,
          2,
          2,
          1,
          0,
          1,
          2,
          2,
          1,
          1,
          2,
          0,
          2,
          1,
          2,
          2,
          1,
          2,
          2,
          2,
          2,
          0,
          2,
          2,
          2,
          2,
          0,
          1,
          1,
          1,
          1,
          1,
          2,
          0,
          2,
          2,
          1,
          2,
          2,
          1,
          1,
          0,
          2,
          1,
          2,
          2,
          2,
          1,
          2,
          0,
          2,
          0,
          2,
          0,
          2,
          2,
          1,
          1,
          1,
          0,
          0,
          2,
          0,
          2,
          0,
          2,
          2,
          0,
          0,
          0,
          2,
          1,
          0,
          2,
          0,
          0,
          0,
          0,
          0,
          0,
          0,
          1,
          0,
          0,
          0,
          1,
          0,
          0,
          0,
          1,
          0,
          1,
          0,
          2,
          0,
          0,
          0,
          0,
          2,
          1,
          1,
          1,
          0,
          0,
          0,
          0,
          1,
          2,
          2,
          0,
          1,
          0,
          2,
          0,
          0,
          0,
          0,
          0,
          1,
          1,
          0,
          2,
          2,
          0,
          2,
          2,
          2,
          0,
          0,
          0,
          2,
          0,
          0,
          0,
          0,
          0,
          2,
          0,
          2,
          0,
          2,
          2,
          2,
          1,
          0,
          0,
          2,
          0,
          0,
          2,
          0,
          0,
          0,
          0,
          2,
          1,
          0,
          2,
          0,
          0,
          2,
          0,
          0,
          2,
          0,
          1,
          0,
          1,
          0,
          0,
          0,
          0,
          2,
          0,
          0,
          0,
          2,
          2,
          0,
          0,
          0,
          0,
          0,
          1,
          0,
          0,
          1,
          0,
          2,
          0,
          0,
          0,
          0,
          0,
          0,
          0,
          1,
          1,
          0,
          0,
          0,
          2,
          0,
          0,
          0,
          0,
          0,
          0,
          0,
          0,
          0,
          0,
          0,
          0,
          0,
          2,
          0,
          1,
          0
         ],
         "xaxis": "x",
         "yaxis": "y"
        }
       ],
       "layout": {
        "barmode": "relative",
        "legend": {
         "tracegroupgap": 0
        },
        "template": {
         "data": {
          "candlestick": [
           {
            "decreasing": {
             "line": {
              "color": "#000033"
             }
            },
            "increasing": {
             "line": {
              "color": "#000032"
             }
            },
            "type": "candlestick"
           }
          ],
          "contour": [
           {
            "colorscale": [
             [
              0,
              "#000011"
             ],
             [
              0.1111111111111111,
              "#000012"
             ],
             [
              0.2222222222222222,
              "#000013"
             ],
             [
              0.3333333333333333,
              "#000014"
             ],
             [
              0.4444444444444444,
              "#000015"
             ],
             [
              0.5555555555555556,
              "#000016"
             ],
             [
              0.6666666666666666,
              "#000017"
             ],
             [
              0.7777777777777778,
              "#000018"
             ],
             [
              0.8888888888888888,
              "#000019"
             ],
             [
              1,
              "#000020"
             ]
            ],
            "type": "contour"
           }
          ],
          "contourcarpet": [
           {
            "colorscale": [
             [
              0,
              "#000011"
             ],
             [
              0.1111111111111111,
              "#000012"
             ],
             [
              0.2222222222222222,
              "#000013"
             ],
             [
              0.3333333333333333,
              "#000014"
             ],
             [
              0.4444444444444444,
              "#000015"
             ],
             [
              0.5555555555555556,
              "#000016"
             ],
             [
              0.6666666666666666,
              "#000017"
             ],
             [
              0.7777777777777778,
              "#000018"
             ],
             [
              0.8888888888888888,
              "#000019"
             ],
             [
              1,
              "#000020"
             ]
            ],
            "type": "contourcarpet"
           }
          ],
          "heatmap": [
           {
            "colorscale": [
             [
              0,
              "#000011"
             ],
             [
              0.1111111111111111,
              "#000012"
             ],
             [
              0.2222222222222222,
              "#000013"
             ],
             [
              0.3333333333333333,
              "#000014"
             ],
             [
              0.4444444444444444,
              "#000015"
             ],
             [
              0.5555555555555556,
              "#000016"
             ],
             [
              0.6666666666666666,
              "#000017"
             ],
             [
              0.7777777777777778,
              "#000018"
             ],
             [
              0.8888888888888888,
              "#000019"
             ],
             [
              1,
              "#000020"
             ]
            ],
            "type": "heatmap"
           }
          ],
          "histogram2d": [
           {
            "colorscale": [
             [
              0,
              "#000011"
             ],
             [
              0.1111111111111111,
              "#000012"
             ],
             [
              0.2222222222222222,
              "#000013"
             ],
             [
              0.3333333333333333,
              "#000014"
             ],
             [
              0.4444444444444444,
              "#000015"
             ],
             [
              0.5555555555555556,
              "#000016"
             ],
             [
              0.6666666666666666,
              "#000017"
             ],
             [
              0.7777777777777778,
              "#000018"
             ],
             [
              0.8888888888888888,
              "#000019"
             ],
             [
              1,
              "#000020"
             ]
            ],
            "type": "histogram2d"
           }
          ],
          "icicle": [
           {
            "textfont": {
             "color": "white"
            },
            "type": "icicle"
           }
          ],
          "sankey": [
           {
            "textfont": {
             "color": "#000036"
            },
            "type": "sankey"
           }
          ],
          "scatter": [
           {
            "marker": {
             "line": {
              "width": 0
             }
            },
            "type": "scatter"
           }
          ],
          "table": [
           {
            "cells": {
             "fill": {
              "color": "#000038"
             },
             "font": {
              "color": "#000037"
             },
             "line": {
              "color": "#000039"
             }
            },
            "header": {
             "fill": {
              "color": "#000040"
             },
             "font": {
              "color": "#000036"
             },
             "line": {
              "color": "#000039"
             }
            },
            "type": "table"
           }
          ],
          "waterfall": [
           {
            "connector": {
             "line": {
              "color": "#000036",
              "width": 2
             }
            },
            "decreasing": {
             "marker": {
              "color": "#000033"
             }
            },
            "increasing": {
             "marker": {
              "color": "#000032"
             }
            },
            "totals": {
             "marker": {
              "color": "#000034"
             }
            },
            "type": "waterfall"
           }
          ]
         },
         "layout": {
          "coloraxis": {
           "colorscale": [
            [
             0,
             "#000011"
            ],
            [
             0.1111111111111111,
             "#000012"
            ],
            [
             0.2222222222222222,
             "#000013"
            ],
            [
             0.3333333333333333,
             "#000014"
            ],
            [
             0.4444444444444444,
             "#000015"
            ],
            [
             0.5555555555555556,
             "#000016"
            ],
            [
             0.6666666666666666,
             "#000017"
            ],
            [
             0.7777777777777778,
             "#000018"
            ],
            [
             0.8888888888888888,
             "#000019"
            ],
            [
             1,
             "#000020"
            ]
           ]
          },
          "colorscale": {
           "diverging": [
            [
             0,
             "#000021"
            ],
            [
             0.1,
             "#000022"
            ],
            [
             0.2,
             "#000023"
            ],
            [
             0.3,
             "#000024"
            ],
            [
             0.4,
             "#000025"
            ],
            [
             0.5,
             "#000026"
            ],
            [
             0.6,
             "#000027"
            ],
            [
             0.7,
             "#000028"
            ],
            [
             0.8,
             "#000029"
            ],
            [
             0.9,
             "#000030"
            ],
            [
             1,
             "#000031"
            ]
           ],
           "sequential": [
            [
             0,
             "#000011"
            ],
            [
             0.1111111111111111,
             "#000012"
            ],
            [
             0.2222222222222222,
             "#000013"
            ],
            [
             0.3333333333333333,
             "#000014"
            ],
            [
             0.4444444444444444,
             "#000015"
            ],
            [
             0.5555555555555556,
             "#000016"
            ],
            [
             0.6666666666666666,
             "#000017"
            ],
            [
             0.7777777777777778,
             "#000018"
            ],
            [
             0.8888888888888888,
             "#000019"
            ],
            [
             1,
             "#000020"
            ]
           ],
           "sequentialminus": [
            [
             0,
             "#000011"
            ],
            [
             0.1111111111111111,
             "#000012"
            ],
            [
             0.2222222222222222,
             "#000013"
            ],
            [
             0.3333333333333333,
             "#000014"
            ],
            [
             0.4444444444444444,
             "#000015"
            ],
            [
             0.5555555555555556,
             "#000016"
            ],
            [
             0.6666666666666666,
             "#000017"
            ],
            [
             0.7777777777777778,
             "#000018"
            ],
            [
             0.8888888888888888,
             "#000019"
            ],
            [
             1,
             "#000020"
            ]
           ]
          },
          "colorway": [
           "#000001",
           "#000002",
           "#000003",
           "#000004",
           "#000005",
           "#000006",
           "#000007",
           "#000008",
           "#000009",
           "#000010"
          ]
         }
        },
        "title": {
         "text": "Histogram showing furnishing status"
        },
        "xaxis": {
         "anchor": "y",
         "domain": [
          0,
          1
         ],
         "title": {
          "text": "furnishing status"
         }
        },
        "yaxis": {
         "anchor": "x",
         "domain": [
          0,
          1
         ],
         "title": {
          "text": "count"
         }
        }
       }
      }
     },
     "metadata": {},
     "output_type": "display_data"
    }
   ],
   "source": [
    "#histogram for furnishingstatus \n",
    "fig = px.histogram(data, x=\"furnishingstatus\", \n",
    "                   labels={'furnishingstatus':'furnishing status'},\n",
    "                  title='Histogram showing furnishing status')\n",
    "\n",
    "fig.show()"
   ]
  },
  {
   "cell_type": "code",
   "execution_count": 80,
   "id": "86572e67",
   "metadata": {},
   "outputs": [
    {
     "data": {
      "application/vnd.plotly.v1+json": {
       "config": {
        "plotlyServerURL": "https://plot.ly"
       },
       "data": [
        {
         "alignmentgroup": "True",
         "bingroup": "x",
         "hovertemplate": "guestroom=%{x}<br>count=%{y}<extra></extra>",
         "legendgroup": "",
         "marker": {
          "color": "#000001",
          "pattern": {
           "shape": ""
          }
         },
         "name": "",
         "offsetgroup": "",
         "orientation": "v",
         "showlegend": false,
         "type": "histogram",
         "x": [
          0,
          0,
          0,
          0,
          1,
          0,
          0,
          0,
          1,
          1,
          0,
          1,
          0,
          0,
          0,
          0,
          1,
          0,
          1,
          0,
          0,
          1,
          1,
          1,
          0,
          1,
          1,
          0,
          0,
          0,
          0,
          0,
          0,
          1,
          1,
          0,
          0,
          0,
          1,
          0,
          0,
          0,
          0,
          0,
          0,
          0,
          0,
          0,
          0,
          1,
          0,
          0,
          1,
          0,
          1,
          0,
          0,
          1,
          1,
          1,
          1,
          0,
          0,
          0,
          0,
          0,
          0,
          0,
          0,
          0,
          0,
          0,
          0,
          0,
          0,
          0,
          0,
          0,
          1,
          1,
          0,
          0,
          0,
          0,
          0,
          0,
          0,
          0,
          1,
          0,
          0,
          1,
          1,
          0,
          0,
          0,
          0,
          1,
          0,
          1,
          0,
          0,
          1,
          1,
          1,
          0,
          0,
          0,
          0,
          1,
          1,
          0,
          0,
          0,
          1,
          1,
          1,
          1,
          0,
          0,
          1,
          1,
          0,
          0,
          0,
          0,
          0,
          0,
          1,
          0,
          1,
          1,
          0,
          0,
          0,
          0,
          0,
          0,
          0,
          1,
          0,
          1,
          0,
          0,
          1,
          0,
          0,
          0,
          0,
          0,
          1,
          0,
          1,
          0,
          0,
          0,
          1,
          1,
          0,
          1,
          1,
          1,
          1,
          1,
          1,
          1,
          0,
          0,
          0,
          0,
          0,
          0,
          1,
          0,
          1,
          1,
          0,
          0,
          1,
          0,
          0,
          1,
          0,
          0,
          1,
          0,
          0,
          0,
          0,
          1,
          0,
          1,
          1,
          1,
          1,
          0,
          1,
          0,
          0,
          0,
          0,
          1,
          0,
          0,
          1,
          0,
          1,
          0,
          0,
          0,
          1,
          0,
          0,
          0,
          0,
          0,
          0,
          0,
          0,
          0,
          0,
          0,
          0,
          0,
          0,
          0,
          0,
          0,
          0,
          1,
          0,
          0,
          0,
          1,
          0,
          1,
          1,
          0,
          0,
          0,
          0,
          0,
          0,
          0,
          1,
          0,
          0,
          0,
          1,
          1,
          0,
          0,
          0,
          0,
          0,
          0,
          0,
          0,
          0,
          0,
          0,
          0,
          1,
          0,
          0,
          0,
          0,
          0,
          0,
          0,
          0,
          0,
          1,
          0,
          0,
          0,
          0,
          0,
          0,
          0,
          0,
          0,
          1,
          0,
          0,
          1,
          0,
          0,
          0,
          1,
          0,
          0,
          0,
          0,
          0,
          0,
          0,
          0,
          0,
          0,
          0,
          0,
          0,
          0,
          0,
          0,
          0,
          0,
          0,
          0,
          0,
          0,
          0,
          0,
          0,
          0,
          0,
          0,
          0,
          0,
          0,
          0,
          0,
          0,
          0,
          0,
          0,
          0,
          0,
          0,
          1,
          1,
          1,
          0,
          0,
          0,
          0,
          0,
          1,
          0,
          0,
          0,
          0,
          0,
          0,
          0,
          1,
          0,
          0,
          0,
          0,
          0,
          0,
          0,
          0,
          0,
          0,
          0,
          0,
          0,
          0,
          0,
          0,
          0,
          0,
          0,
          0,
          0,
          0,
          0,
          0,
          0,
          0,
          0,
          0,
          1,
          0,
          0,
          0,
          0,
          0,
          0,
          0,
          0,
          0,
          0,
          0,
          0,
          0,
          0,
          0,
          0,
          0,
          0,
          0,
          0,
          0,
          0,
          0,
          0,
          0,
          0,
          0,
          0,
          0,
          0,
          0,
          0,
          0,
          0,
          0,
          0,
          0,
          0,
          0,
          1,
          0,
          0,
          0,
          0,
          0,
          0,
          0,
          0,
          0,
          0,
          0,
          0,
          0,
          0,
          0,
          0,
          1,
          0,
          0,
          0,
          0,
          0,
          0,
          0,
          0,
          0,
          0,
          0,
          0,
          0,
          1,
          0,
          0,
          0,
          0,
          0,
          0,
          0,
          0,
          0,
          0,
          0,
          0,
          0,
          0,
          0,
          0,
          1,
          0,
          0,
          0,
          0,
          0,
          0,
          0,
          0,
          0,
          0,
          0,
          0,
          0,
          0,
          0,
          0,
          0,
          0,
          0,
          0,
          0,
          0,
          0,
          0,
          0,
          0,
          0,
          0,
          0,
          0,
          0,
          0,
          0,
          0,
          0,
          1,
          0,
          0,
          0,
          0,
          0,
          0,
          0,
          0,
          0,
          0,
          0,
          0,
          0,
          0,
          0,
          0,
          1,
          0,
          1,
          0,
          0,
          0,
          0,
          0,
          0,
          0,
          0,
          0,
          0,
          0,
          0,
          0,
          0,
          0,
          0,
          0,
          0,
          0,
          0,
          0,
          0,
          0,
          0,
          0,
          0
         ],
         "xaxis": "x",
         "yaxis": "y"
        }
       ],
       "layout": {
        "barmode": "relative",
        "legend": {
         "tracegroupgap": 0
        },
        "margin": {
         "t": 60
        },
        "template": {
         "data": {
          "candlestick": [
           {
            "decreasing": {
             "line": {
              "color": "#000033"
             }
            },
            "increasing": {
             "line": {
              "color": "#000032"
             }
            },
            "type": "candlestick"
           }
          ],
          "contour": [
           {
            "colorscale": [
             [
              0,
              "#000011"
             ],
             [
              0.1111111111111111,
              "#000012"
             ],
             [
              0.2222222222222222,
              "#000013"
             ],
             [
              0.3333333333333333,
              "#000014"
             ],
             [
              0.4444444444444444,
              "#000015"
             ],
             [
              0.5555555555555556,
              "#000016"
             ],
             [
              0.6666666666666666,
              "#000017"
             ],
             [
              0.7777777777777778,
              "#000018"
             ],
             [
              0.8888888888888888,
              "#000019"
             ],
             [
              1,
              "#000020"
             ]
            ],
            "type": "contour"
           }
          ],
          "contourcarpet": [
           {
            "colorscale": [
             [
              0,
              "#000011"
             ],
             [
              0.1111111111111111,
              "#000012"
             ],
             [
              0.2222222222222222,
              "#000013"
             ],
             [
              0.3333333333333333,
              "#000014"
             ],
             [
              0.4444444444444444,
              "#000015"
             ],
             [
              0.5555555555555556,
              "#000016"
             ],
             [
              0.6666666666666666,
              "#000017"
             ],
             [
              0.7777777777777778,
              "#000018"
             ],
             [
              0.8888888888888888,
              "#000019"
             ],
             [
              1,
              "#000020"
             ]
            ],
            "type": "contourcarpet"
           }
          ],
          "heatmap": [
           {
            "colorscale": [
             [
              0,
              "#000011"
             ],
             [
              0.1111111111111111,
              "#000012"
             ],
             [
              0.2222222222222222,
              "#000013"
             ],
             [
              0.3333333333333333,
              "#000014"
             ],
             [
              0.4444444444444444,
              "#000015"
             ],
             [
              0.5555555555555556,
              "#000016"
             ],
             [
              0.6666666666666666,
              "#000017"
             ],
             [
              0.7777777777777778,
              "#000018"
             ],
             [
              0.8888888888888888,
              "#000019"
             ],
             [
              1,
              "#000020"
             ]
            ],
            "type": "heatmap"
           }
          ],
          "histogram2d": [
           {
            "colorscale": [
             [
              0,
              "#000011"
             ],
             [
              0.1111111111111111,
              "#000012"
             ],
             [
              0.2222222222222222,
              "#000013"
             ],
             [
              0.3333333333333333,
              "#000014"
             ],
             [
              0.4444444444444444,
              "#000015"
             ],
             [
              0.5555555555555556,
              "#000016"
             ],
             [
              0.6666666666666666,
              "#000017"
             ],
             [
              0.7777777777777778,
              "#000018"
             ],
             [
              0.8888888888888888,
              "#000019"
             ],
             [
              1,
              "#000020"
             ]
            ],
            "type": "histogram2d"
           }
          ],
          "icicle": [
           {
            "textfont": {
             "color": "white"
            },
            "type": "icicle"
           }
          ],
          "sankey": [
           {
            "textfont": {
             "color": "#000036"
            },
            "type": "sankey"
           }
          ],
          "scatter": [
           {
            "marker": {
             "line": {
              "width": 0
             }
            },
            "type": "scatter"
           }
          ],
          "table": [
           {
            "cells": {
             "fill": {
              "color": "#000038"
             },
             "font": {
              "color": "#000037"
             },
             "line": {
              "color": "#000039"
             }
            },
            "header": {
             "fill": {
              "color": "#000040"
             },
             "font": {
              "color": "#000036"
             },
             "line": {
              "color": "#000039"
             }
            },
            "type": "table"
           }
          ],
          "waterfall": [
           {
            "connector": {
             "line": {
              "color": "#000036",
              "width": 2
             }
            },
            "decreasing": {
             "marker": {
              "color": "#000033"
             }
            },
            "increasing": {
             "marker": {
              "color": "#000032"
             }
            },
            "totals": {
             "marker": {
              "color": "#000034"
             }
            },
            "type": "waterfall"
           }
          ]
         },
         "layout": {
          "coloraxis": {
           "colorscale": [
            [
             0,
             "#000011"
            ],
            [
             0.1111111111111111,
             "#000012"
            ],
            [
             0.2222222222222222,
             "#000013"
            ],
            [
             0.3333333333333333,
             "#000014"
            ],
            [
             0.4444444444444444,
             "#000015"
            ],
            [
             0.5555555555555556,
             "#000016"
            ],
            [
             0.6666666666666666,
             "#000017"
            ],
            [
             0.7777777777777778,
             "#000018"
            ],
            [
             0.8888888888888888,
             "#000019"
            ],
            [
             1,
             "#000020"
            ]
           ]
          },
          "colorscale": {
           "diverging": [
            [
             0,
             "#000021"
            ],
            [
             0.1,
             "#000022"
            ],
            [
             0.2,
             "#000023"
            ],
            [
             0.3,
             "#000024"
            ],
            [
             0.4,
             "#000025"
            ],
            [
             0.5,
             "#000026"
            ],
            [
             0.6,
             "#000027"
            ],
            [
             0.7,
             "#000028"
            ],
            [
             0.8,
             "#000029"
            ],
            [
             0.9,
             "#000030"
            ],
            [
             1,
             "#000031"
            ]
           ],
           "sequential": [
            [
             0,
             "#000011"
            ],
            [
             0.1111111111111111,
             "#000012"
            ],
            [
             0.2222222222222222,
             "#000013"
            ],
            [
             0.3333333333333333,
             "#000014"
            ],
            [
             0.4444444444444444,
             "#000015"
            ],
            [
             0.5555555555555556,
             "#000016"
            ],
            [
             0.6666666666666666,
             "#000017"
            ],
            [
             0.7777777777777778,
             "#000018"
            ],
            [
             0.8888888888888888,
             "#000019"
            ],
            [
             1,
             "#000020"
            ]
           ],
           "sequentialminus": [
            [
             0,
             "#000011"
            ],
            [
             0.1111111111111111,
             "#000012"
            ],
            [
             0.2222222222222222,
             "#000013"
            ],
            [
             0.3333333333333333,
             "#000014"
            ],
            [
             0.4444444444444444,
             "#000015"
            ],
            [
             0.5555555555555556,
             "#000016"
            ],
            [
             0.6666666666666666,
             "#000017"
            ],
            [
             0.7777777777777778,
             "#000018"
            ],
            [
             0.8888888888888888,
             "#000019"
            ],
            [
             1,
             "#000020"
            ]
           ]
          },
          "colorway": [
           "#000001",
           "#000002",
           "#000003",
           "#000004",
           "#000005",
           "#000006",
           "#000007",
           "#000008",
           "#000009",
           "#000010"
          ]
         }
        },
        "xaxis": {
         "anchor": "y",
         "domain": [
          0,
          1
         ],
         "title": {
          "text": "guestroom"
         }
        },
        "yaxis": {
         "anchor": "x",
         "domain": [
          0,
          1
         ],
         "title": {
          "text": "count"
         }
        }
       }
      }
     },
     "metadata": {},
     "output_type": "display_data"
    }
   ],
   "source": [
    "#histogram for guestroom \n",
    "fig = px.histogram(data, x=\"guestroom\", \n",
    "                   )\n",
    "fig.show()"
   ]
  },
  {
   "cell_type": "code",
   "execution_count": 81,
   "id": "cc04b8c7",
   "metadata": {},
   "outputs": [
    {
     "data": {
      "text/plain": [
       "array([0, 1])"
      ]
     },
     "execution_count": 81,
     "metadata": {},
     "output_type": "execute_result"
    }
   ],
   "source": [
    "data['guestroom'].unique()"
   ]
  },
  {
   "cell_type": "code",
   "execution_count": 82,
   "id": "0b412c6f",
   "metadata": {},
   "outputs": [
    {
     "data": {
      "text/plain": [
       "price               1.000000\n",
       "area                0.535997\n",
       "bedrooms            0.366494\n",
       "bathrooms           0.517545\n",
       "stories             0.420712\n",
       "mainroad            0.296898\n",
       "guestroom           0.255517\n",
       "basement            0.187057\n",
       "hotwaterheating     0.093073\n",
       "airconditioning     0.452954\n",
       "parking             0.384394\n",
       "prefarea            0.329777\n",
       "furnishingstatus    0.190086\n",
       "price_log           0.969010\n",
       "Name: price, dtype: float64"
      ]
     },
     "execution_count": 82,
     "metadata": {},
     "output_type": "execute_result"
    }
   ],
   "source": [
    "corr_matrix = data.corr() \n",
    "\n",
    "corr_matrix['price']"
   ]
  },
  {
   "cell_type": "markdown",
   "id": "e9556f17",
   "metadata": {},
   "source": [
    "# Starting with modeling"
   ]
  },
  {
   "cell_type": "code",
   "execution_count": 133,
   "id": "dc53466a",
   "metadata": {},
   "outputs": [
    {
     "data": {
      "text/html": [
       "<div>\n",
       "<style scoped>\n",
       "    .dataframe tbody tr th:only-of-type {\n",
       "        vertical-align: middle;\n",
       "    }\n",
       "\n",
       "    .dataframe tbody tr th {\n",
       "        vertical-align: top;\n",
       "    }\n",
       "\n",
       "    .dataframe thead th {\n",
       "        text-align: right;\n",
       "    }\n",
       "</style>\n",
       "<table border=\"1\" class=\"dataframe\">\n",
       "  <thead>\n",
       "    <tr style=\"text-align: right;\">\n",
       "      <th></th>\n",
       "      <th>price</th>\n",
       "      <th>area</th>\n",
       "      <th>bedrooms</th>\n",
       "      <th>bathrooms</th>\n",
       "      <th>stories</th>\n",
       "      <th>mainroad</th>\n",
       "      <th>guestroom</th>\n",
       "      <th>basement</th>\n",
       "      <th>hotwaterheating</th>\n",
       "      <th>airconditioning</th>\n",
       "      <th>parking</th>\n",
       "      <th>prefarea</th>\n",
       "      <th>furnishingstatus</th>\n",
       "      <th>price_log</th>\n",
       "    </tr>\n",
       "  </thead>\n",
       "  <tbody>\n",
       "    <tr>\n",
       "      <th>0</th>\n",
       "      <td>13300000</td>\n",
       "      <td>7420</td>\n",
       "      <td>4</td>\n",
       "      <td>2</td>\n",
       "      <td>3</td>\n",
       "      <td>1</td>\n",
       "      <td>0</td>\n",
       "      <td>0</td>\n",
       "      <td>0</td>\n",
       "      <td>1</td>\n",
       "      <td>2</td>\n",
       "      <td>1</td>\n",
       "      <td>1</td>\n",
       "      <td>16.403275</td>\n",
       "    </tr>\n",
       "    <tr>\n",
       "      <th>1</th>\n",
       "      <td>12250000</td>\n",
       "      <td>8960</td>\n",
       "      <td>4</td>\n",
       "      <td>4</td>\n",
       "      <td>4</td>\n",
       "      <td>1</td>\n",
       "      <td>0</td>\n",
       "      <td>0</td>\n",
       "      <td>0</td>\n",
       "      <td>1</td>\n",
       "      <td>3</td>\n",
       "      <td>0</td>\n",
       "      <td>1</td>\n",
       "      <td>16.321036</td>\n",
       "    </tr>\n",
       "    <tr>\n",
       "      <th>2</th>\n",
       "      <td>12250000</td>\n",
       "      <td>9960</td>\n",
       "      <td>3</td>\n",
       "      <td>2</td>\n",
       "      <td>2</td>\n",
       "      <td>1</td>\n",
       "      <td>0</td>\n",
       "      <td>1</td>\n",
       "      <td>0</td>\n",
       "      <td>0</td>\n",
       "      <td>2</td>\n",
       "      <td>1</td>\n",
       "      <td>2</td>\n",
       "      <td>16.321036</td>\n",
       "    </tr>\n",
       "    <tr>\n",
       "      <th>3</th>\n",
       "      <td>12215000</td>\n",
       "      <td>7500</td>\n",
       "      <td>4</td>\n",
       "      <td>2</td>\n",
       "      <td>2</td>\n",
       "      <td>1</td>\n",
       "      <td>0</td>\n",
       "      <td>1</td>\n",
       "      <td>0</td>\n",
       "      <td>1</td>\n",
       "      <td>3</td>\n",
       "      <td>1</td>\n",
       "      <td>1</td>\n",
       "      <td>16.318175</td>\n",
       "    </tr>\n",
       "    <tr>\n",
       "      <th>4</th>\n",
       "      <td>11410000</td>\n",
       "      <td>7420</td>\n",
       "      <td>4</td>\n",
       "      <td>1</td>\n",
       "      <td>2</td>\n",
       "      <td>1</td>\n",
       "      <td>1</td>\n",
       "      <td>1</td>\n",
       "      <td>0</td>\n",
       "      <td>1</td>\n",
       "      <td>2</td>\n",
       "      <td>0</td>\n",
       "      <td>1</td>\n",
       "      <td>16.250001</td>\n",
       "    </tr>\n",
       "    <tr>\n",
       "      <th>5</th>\n",
       "      <td>10850000</td>\n",
       "      <td>7500</td>\n",
       "      <td>3</td>\n",
       "      <td>3</td>\n",
       "      <td>1</td>\n",
       "      <td>1</td>\n",
       "      <td>0</td>\n",
       "      <td>1</td>\n",
       "      <td>0</td>\n",
       "      <td>1</td>\n",
       "      <td>2</td>\n",
       "      <td>1</td>\n",
       "      <td>2</td>\n",
       "      <td>16.199676</td>\n",
       "    </tr>\n",
       "    <tr>\n",
       "      <th>6</th>\n",
       "      <td>10150000</td>\n",
       "      <td>8580</td>\n",
       "      <td>4</td>\n",
       "      <td>3</td>\n",
       "      <td>4</td>\n",
       "      <td>1</td>\n",
       "      <td>0</td>\n",
       "      <td>0</td>\n",
       "      <td>0</td>\n",
       "      <td>1</td>\n",
       "      <td>2</td>\n",
       "      <td>1</td>\n",
       "      <td>2</td>\n",
       "      <td>16.132984</td>\n",
       "    </tr>\n",
       "    <tr>\n",
       "      <th>7</th>\n",
       "      <td>10150000</td>\n",
       "      <td>16200</td>\n",
       "      <td>5</td>\n",
       "      <td>3</td>\n",
       "      <td>2</td>\n",
       "      <td>1</td>\n",
       "      <td>0</td>\n",
       "      <td>0</td>\n",
       "      <td>0</td>\n",
       "      <td>0</td>\n",
       "      <td>0</td>\n",
       "      <td>0</td>\n",
       "      <td>0</td>\n",
       "      <td>16.132984</td>\n",
       "    </tr>\n",
       "    <tr>\n",
       "      <th>8</th>\n",
       "      <td>9870000</td>\n",
       "      <td>8100</td>\n",
       "      <td>4</td>\n",
       "      <td>1</td>\n",
       "      <td>2</td>\n",
       "      <td>1</td>\n",
       "      <td>1</td>\n",
       "      <td>1</td>\n",
       "      <td>0</td>\n",
       "      <td>1</td>\n",
       "      <td>2</td>\n",
       "      <td>1</td>\n",
       "      <td>1</td>\n",
       "      <td>16.105010</td>\n",
       "    </tr>\n",
       "    <tr>\n",
       "      <th>9</th>\n",
       "      <td>9800000</td>\n",
       "      <td>5750</td>\n",
       "      <td>3</td>\n",
       "      <td>2</td>\n",
       "      <td>4</td>\n",
       "      <td>1</td>\n",
       "      <td>1</td>\n",
       "      <td>0</td>\n",
       "      <td>0</td>\n",
       "      <td>1</td>\n",
       "      <td>1</td>\n",
       "      <td>1</td>\n",
       "      <td>0</td>\n",
       "      <td>16.097893</td>\n",
       "    </tr>\n",
       "    <tr>\n",
       "      <th>10</th>\n",
       "      <td>9800000</td>\n",
       "      <td>13200</td>\n",
       "      <td>3</td>\n",
       "      <td>1</td>\n",
       "      <td>2</td>\n",
       "      <td>1</td>\n",
       "      <td>0</td>\n",
       "      <td>1</td>\n",
       "      <td>0</td>\n",
       "      <td>1</td>\n",
       "      <td>2</td>\n",
       "      <td>1</td>\n",
       "      <td>1</td>\n",
       "      <td>16.097893</td>\n",
       "    </tr>\n",
       "    <tr>\n",
       "      <th>11</th>\n",
       "      <td>9681000</td>\n",
       "      <td>6000</td>\n",
       "      <td>4</td>\n",
       "      <td>3</td>\n",
       "      <td>2</td>\n",
       "      <td>1</td>\n",
       "      <td>1</td>\n",
       "      <td>1</td>\n",
       "      <td>1</td>\n",
       "      <td>0</td>\n",
       "      <td>2</td>\n",
       "      <td>0</td>\n",
       "      <td>2</td>\n",
       "      <td>16.085676</td>\n",
       "    </tr>\n",
       "    <tr>\n",
       "      <th>12</th>\n",
       "      <td>9310000</td>\n",
       "      <td>6550</td>\n",
       "      <td>4</td>\n",
       "      <td>2</td>\n",
       "      <td>2</td>\n",
       "      <td>1</td>\n",
       "      <td>0</td>\n",
       "      <td>0</td>\n",
       "      <td>0</td>\n",
       "      <td>1</td>\n",
       "      <td>1</td>\n",
       "      <td>1</td>\n",
       "      <td>2</td>\n",
       "      <td>16.046600</td>\n",
       "    </tr>\n",
       "    <tr>\n",
       "      <th>13</th>\n",
       "      <td>9240000</td>\n",
       "      <td>3500</td>\n",
       "      <td>4</td>\n",
       "      <td>2</td>\n",
       "      <td>2</td>\n",
       "      <td>1</td>\n",
       "      <td>0</td>\n",
       "      <td>0</td>\n",
       "      <td>1</td>\n",
       "      <td>0</td>\n",
       "      <td>2</td>\n",
       "      <td>0</td>\n",
       "      <td>1</td>\n",
       "      <td>16.039052</td>\n",
       "    </tr>\n",
       "    <tr>\n",
       "      <th>14</th>\n",
       "      <td>9240000</td>\n",
       "      <td>7800</td>\n",
       "      <td>3</td>\n",
       "      <td>2</td>\n",
       "      <td>2</td>\n",
       "      <td>1</td>\n",
       "      <td>0</td>\n",
       "      <td>0</td>\n",
       "      <td>0</td>\n",
       "      <td>0</td>\n",
       "      <td>0</td>\n",
       "      <td>1</td>\n",
       "      <td>2</td>\n",
       "      <td>16.039052</td>\n",
       "    </tr>\n",
       "    <tr>\n",
       "      <th>15</th>\n",
       "      <td>9100000</td>\n",
       "      <td>6000</td>\n",
       "      <td>4</td>\n",
       "      <td>1</td>\n",
       "      <td>2</td>\n",
       "      <td>1</td>\n",
       "      <td>0</td>\n",
       "      <td>1</td>\n",
       "      <td>0</td>\n",
       "      <td>0</td>\n",
       "      <td>2</td>\n",
       "      <td>0</td>\n",
       "      <td>2</td>\n",
       "      <td>16.023785</td>\n",
       "    </tr>\n",
       "    <tr>\n",
       "      <th>16</th>\n",
       "      <td>9100000</td>\n",
       "      <td>6600</td>\n",
       "      <td>4</td>\n",
       "      <td>2</td>\n",
       "      <td>2</td>\n",
       "      <td>1</td>\n",
       "      <td>1</td>\n",
       "      <td>1</td>\n",
       "      <td>0</td>\n",
       "      <td>1</td>\n",
       "      <td>1</td>\n",
       "      <td>1</td>\n",
       "      <td>0</td>\n",
       "      <td>16.023785</td>\n",
       "    </tr>\n",
       "    <tr>\n",
       "      <th>17</th>\n",
       "      <td>8960000</td>\n",
       "      <td>8500</td>\n",
       "      <td>3</td>\n",
       "      <td>2</td>\n",
       "      <td>4</td>\n",
       "      <td>1</td>\n",
       "      <td>0</td>\n",
       "      <td>0</td>\n",
       "      <td>0</td>\n",
       "      <td>1</td>\n",
       "      <td>2</td>\n",
       "      <td>0</td>\n",
       "      <td>1</td>\n",
       "      <td>16.008281</td>\n",
       "    </tr>\n",
       "    <tr>\n",
       "      <th>18</th>\n",
       "      <td>8890000</td>\n",
       "      <td>4600</td>\n",
       "      <td>3</td>\n",
       "      <td>2</td>\n",
       "      <td>2</td>\n",
       "      <td>1</td>\n",
       "      <td>1</td>\n",
       "      <td>0</td>\n",
       "      <td>0</td>\n",
       "      <td>1</td>\n",
       "      <td>2</td>\n",
       "      <td>0</td>\n",
       "      <td>1</td>\n",
       "      <td>16.000438</td>\n",
       "    </tr>\n",
       "    <tr>\n",
       "      <th>19</th>\n",
       "      <td>8855000</td>\n",
       "      <td>6420</td>\n",
       "      <td>3</td>\n",
       "      <td>2</td>\n",
       "      <td>2</td>\n",
       "      <td>1</td>\n",
       "      <td>0</td>\n",
       "      <td>0</td>\n",
       "      <td>0</td>\n",
       "      <td>1</td>\n",
       "      <td>1</td>\n",
       "      <td>1</td>\n",
       "      <td>2</td>\n",
       "      <td>15.996493</td>\n",
       "    </tr>\n",
       "  </tbody>\n",
       "</table>\n",
       "</div>"
      ],
      "text/plain": [
       "       price   area  bedrooms  bathrooms  stories  mainroad  guestroom  \\\n",
       "0   13300000   7420         4          2        3         1          0   \n",
       "1   12250000   8960         4          4        4         1          0   \n",
       "2   12250000   9960         3          2        2         1          0   \n",
       "3   12215000   7500         4          2        2         1          0   \n",
       "4   11410000   7420         4          1        2         1          1   \n",
       "5   10850000   7500         3          3        1         1          0   \n",
       "6   10150000   8580         4          3        4         1          0   \n",
       "7   10150000  16200         5          3        2         1          0   \n",
       "8    9870000   8100         4          1        2         1          1   \n",
       "9    9800000   5750         3          2        4         1          1   \n",
       "10   9800000  13200         3          1        2         1          0   \n",
       "11   9681000   6000         4          3        2         1          1   \n",
       "12   9310000   6550         4          2        2         1          0   \n",
       "13   9240000   3500         4          2        2         1          0   \n",
       "14   9240000   7800         3          2        2         1          0   \n",
       "15   9100000   6000         4          1        2         1          0   \n",
       "16   9100000   6600         4          2        2         1          1   \n",
       "17   8960000   8500         3          2        4         1          0   \n",
       "18   8890000   4600         3          2        2         1          1   \n",
       "19   8855000   6420         3          2        2         1          0   \n",
       "\n",
       "    basement  hotwaterheating  airconditioning  parking  prefarea  \\\n",
       "0          0                0                1        2         1   \n",
       "1          0                0                1        3         0   \n",
       "2          1                0                0        2         1   \n",
       "3          1                0                1        3         1   \n",
       "4          1                0                1        2         0   \n",
       "5          1                0                1        2         1   \n",
       "6          0                0                1        2         1   \n",
       "7          0                0                0        0         0   \n",
       "8          1                0                1        2         1   \n",
       "9          0                0                1        1         1   \n",
       "10         1                0                1        2         1   \n",
       "11         1                1                0        2         0   \n",
       "12         0                0                1        1         1   \n",
       "13         0                1                0        2         0   \n",
       "14         0                0                0        0         1   \n",
       "15         1                0                0        2         0   \n",
       "16         1                0                1        1         1   \n",
       "17         0                0                1        2         0   \n",
       "18         0                0                1        2         0   \n",
       "19         0                0                1        1         1   \n",
       "\n",
       "    furnishingstatus  price_log  \n",
       "0                  1  16.403275  \n",
       "1                  1  16.321036  \n",
       "2                  2  16.321036  \n",
       "3                  1  16.318175  \n",
       "4                  1  16.250001  \n",
       "5                  2  16.199676  \n",
       "6                  2  16.132984  \n",
       "7                  0  16.132984  \n",
       "8                  1  16.105010  \n",
       "9                  0  16.097893  \n",
       "10                 1  16.097893  \n",
       "11                 2  16.085676  \n",
       "12                 2  16.046600  \n",
       "13                 1  16.039052  \n",
       "14                 2  16.039052  \n",
       "15                 2  16.023785  \n",
       "16                 0  16.023785  \n",
       "17                 1  16.008281  \n",
       "18                 1  16.000438  \n",
       "19                 2  15.996493  "
      ]
     },
     "execution_count": 133,
     "metadata": {},
     "output_type": "execute_result"
    }
   ],
   "source": [
    "data.head(20)"
   ]
  },
  {
   "cell_type": "code",
   "execution_count": 153,
   "id": "57395010",
   "metadata": {},
   "outputs": [
    {
     "name": "stdout",
     "output_type": "stream",
     "text": [
      "Train set 348\n",
      "Valid set 88\n",
      "Test set 109\n"
     ]
    }
   ],
   "source": [
    "df_train_full, df_test = train_test_split(data, test_size=0.2, random_state=11)\n",
    "\n",
    "df_train, df_valid = train_test_split(df_train_full, test_size=0.20, random_state=11) \n",
    "\n",
    "print(f'Train set {len(df_train)}')\n",
    "print(f'Valid set {len(df_valid)}')\n",
    "print(f'Test set {len(df_test)}')\n"
   ]
  },
  {
   "cell_type": "code",
   "execution_count": 154,
   "id": "03bb9b1d",
   "metadata": {},
   "outputs": [
    {
     "data": {
      "text/plain": [
       "Index(['price', 'area', 'bedrooms', 'bathrooms', 'stories', 'mainroad',\n",
       "       'guestroom', 'basement', 'hotwaterheating', 'airconditioning',\n",
       "       'parking', 'prefarea', 'furnishingstatus', 'price_log'],\n",
       "      dtype='object')"
      ]
     },
     "execution_count": 154,
     "metadata": {},
     "output_type": "execute_result"
    }
   ],
   "source": [
    "data.columns"
   ]
  },
  {
   "cell_type": "code",
   "execution_count": 155,
   "metadata": {},
   "outputs": [],
   "source": [
    "y_train = np.log1p(df_train['price']).values\n",
    "y_valid = np.log1p(df_valid['price']).values\n",
    "y_test = np.log1p(df_test['price']).values\n",
    "y_train_full = np.log1p(df_train_full['price']).values"
   ]
  },
  {
   "cell_type": "code",
   "execution_count": 156,
   "id": "c9a10987",
   "metadata": {},
   "outputs": [],
   "source": [
    "del df_train['price']\n",
    "del df_valid['price']\n",
    "del df_test['price']\n",
    "del df_train_full['price']\n"
   ]
  },
  {
   "cell_type": "code",
   "execution_count": 158,
   "id": "43379fc7",
   "metadata": {},
   "outputs": [
    {
     "data": {
      "text/plain": [
       "Index(['area', 'bedrooms', 'bathrooms', 'stories', 'mainroad', 'guestroom',\n",
       "       'basement', 'hotwaterheating', 'airconditioning', 'parking', 'prefarea',\n",
       "       'furnishingstatus', 'price_log'],\n",
       "      dtype='object')"
      ]
     },
     "execution_count": 158,
     "metadata": {},
     "output_type": "execute_result"
    }
   ],
   "source": [
    "df_test.columns"
   ]
  },
  {
   "cell_type": "code",
   "execution_count": 159,
   "id": "50237e56",
   "metadata": {},
   "outputs": [],
   "source": [
    "baseline_features = ['area','bedrooms','stories','airconditioning','parking','prefarea','furnishingstatus']\n",
    "\n",
    "df_train_bl = df_train[baseline_features]\n"
   ]
  },
  {
   "cell_type": "code",
   "execution_count": 160,
   "id": "cee3229e",
   "metadata": {},
   "outputs": [
    {
     "data": {
      "text/plain": [
       "array([[6480,    3,    4, ...,    2,    0,    0],\n",
       "       [6720,    3,    1, ...,    0,    0,    0],\n",
       "       [2400,    3,    1, ...,    0,    0,    2],\n",
       "       ...,\n",
       "       [7000,    3,    2, ...,    0,    0,    0],\n",
       "       [3650,    3,    2, ...,    2,    0,    2],\n",
       "       [8875,    3,    1, ...,    1,    0,    2]], dtype=int64)"
      ]
     },
     "execution_count": 160,
     "metadata": {},
     "output_type": "execute_result"
    }
   ],
   "source": [
    "X_train_bl = df_train_bl.values\n",
    "X_train_bl"
   ]
  },
  {
   "cell_type": "code",
   "execution_count": 163,
   "id": "8a193b59",
   "metadata": {},
   "outputs": [
    {
     "data": {
      "text/html": [
       "<style>#sk-container-id-1 {color: black;}#sk-container-id-1 pre{padding: 0;}#sk-container-id-1 div.sk-toggleable {background-color: white;}#sk-container-id-1 label.sk-toggleable__label {cursor: pointer;display: block;width: 100%;margin-bottom: 0;padding: 0.3em;box-sizing: border-box;text-align: center;}#sk-container-id-1 label.sk-toggleable__label-arrow:before {content: \"▸\";float: left;margin-right: 0.25em;color: #696969;}#sk-container-id-1 label.sk-toggleable__label-arrow:hover:before {color: black;}#sk-container-id-1 div.sk-estimator:hover label.sk-toggleable__label-arrow:before {color: black;}#sk-container-id-1 div.sk-toggleable__content {max-height: 0;max-width: 0;overflow: hidden;text-align: left;background-color: #f0f8ff;}#sk-container-id-1 div.sk-toggleable__content pre {margin: 0.2em;color: black;border-radius: 0.25em;background-color: #f0f8ff;}#sk-container-id-1 input.sk-toggleable__control:checked~div.sk-toggleable__content {max-height: 200px;max-width: 100%;overflow: auto;}#sk-container-id-1 input.sk-toggleable__control:checked~label.sk-toggleable__label-arrow:before {content: \"▾\";}#sk-container-id-1 div.sk-estimator input.sk-toggleable__control:checked~label.sk-toggleable__label {background-color: #d4ebff;}#sk-container-id-1 div.sk-label input.sk-toggleable__control:checked~label.sk-toggleable__label {background-color: #d4ebff;}#sk-container-id-1 input.sk-hidden--visually {border: 0;clip: rect(1px 1px 1px 1px);clip: rect(1px, 1px, 1px, 1px);height: 1px;margin: -1px;overflow: hidden;padding: 0;position: absolute;width: 1px;}#sk-container-id-1 div.sk-estimator {font-family: monospace;background-color: #f0f8ff;border: 1px dotted black;border-radius: 0.25em;box-sizing: border-box;margin-bottom: 0.5em;}#sk-container-id-1 div.sk-estimator:hover {background-color: #d4ebff;}#sk-container-id-1 div.sk-parallel-item::after {content: \"\";width: 100%;border-bottom: 1px solid gray;flex-grow: 1;}#sk-container-id-1 div.sk-label:hover label.sk-toggleable__label {background-color: #d4ebff;}#sk-container-id-1 div.sk-serial::before {content: \"\";position: absolute;border-left: 1px solid gray;box-sizing: border-box;top: 0;bottom: 0;left: 50%;z-index: 0;}#sk-container-id-1 div.sk-serial {display: flex;flex-direction: column;align-items: center;background-color: white;padding-right: 0.2em;padding-left: 0.2em;position: relative;}#sk-container-id-1 div.sk-item {position: relative;z-index: 1;}#sk-container-id-1 div.sk-parallel {display: flex;align-items: stretch;justify-content: center;background-color: white;position: relative;}#sk-container-id-1 div.sk-item::before, #sk-container-id-1 div.sk-parallel-item::before {content: \"\";position: absolute;border-left: 1px solid gray;box-sizing: border-box;top: 0;bottom: 0;left: 50%;z-index: -1;}#sk-container-id-1 div.sk-parallel-item {display: flex;flex-direction: column;z-index: 1;position: relative;background-color: white;}#sk-container-id-1 div.sk-parallel-item:first-child::after {align-self: flex-end;width: 50%;}#sk-container-id-1 div.sk-parallel-item:last-child::after {align-self: flex-start;width: 50%;}#sk-container-id-1 div.sk-parallel-item:only-child::after {width: 0;}#sk-container-id-1 div.sk-dashed-wrapped {border: 1px dashed gray;margin: 0 0.4em 0.5em 0.4em;box-sizing: border-box;padding-bottom: 0.4em;background-color: white;}#sk-container-id-1 div.sk-label label {font-family: monospace;font-weight: bold;display: inline-block;line-height: 1.2em;}#sk-container-id-1 div.sk-label-container {text-align: center;}#sk-container-id-1 div.sk-container {/* jupyter's `normalize.less` sets `[hidden] { display: none; }` but bootstrap.min.css set `[hidden] { display: none !important; }` so we also need the `!important` here to be able to override the default hidden behavior on the sphinx rendered scikit-learn.org. See: https://github.com/scikit-learn/scikit-learn/issues/21755 */display: inline-block !important;position: relative;}#sk-container-id-1 div.sk-text-repr-fallback {display: none;}</style><div id=\"sk-container-id-1\" class=\"sk-top-container\"><div class=\"sk-text-repr-fallback\"><pre>LinearRegression()</pre><b>In a Jupyter environment, please rerun this cell to show the HTML representation or trust the notebook. <br />On GitHub, the HTML representation is unable to render, please try loading this page with nbviewer.org.</b></div><div class=\"sk-container\" hidden><div class=\"sk-item\"><div class=\"sk-estimator sk-toggleable\"><input class=\"sk-toggleable__control sk-hidden--visually\" id=\"sk-estimator-id-1\" type=\"checkbox\" checked><label for=\"sk-estimator-id-1\" class=\"sk-toggleable__label sk-toggleable__label-arrow\">LinearRegression</label><div class=\"sk-toggleable__content\"><pre>LinearRegression()</pre></div></div></div></div></div>"
      ],
      "text/plain": [
       "LinearRegression()"
      ]
     },
     "execution_count": 163,
     "metadata": {},
     "output_type": "execute_result"
    }
   ],
   "source": [
    "# train the model\n",
    "model = LinearRegression()\n",
    "model.fit(X_train_bl, y_train)"
   ]
  },
  {
   "cell_type": "code",
   "execution_count": 164,
   "id": "30e6c34b",
   "metadata": {},
   "outputs": [],
   "source": [
    "## generate validation baseline features \n",
    "df_valid_bl = df_valid[baseline_features]\n",
    "\n",
    "## convert dfframe into numpy array\n",
    "X_valid_bl = df_valid_bl.values "
   ]
  },
  {
   "cell_type": "code",
   "execution_count": 165,
   "id": "ab05c822",
   "metadata": {},
   "outputs": [
    {
     "data": {
      "text/plain": [
       "array([[ 3185,     2,     1,     0,     2,     0,     0],\n",
       "       [ 6600,     4,     1,     0,     0,     1,     2],\n",
       "       [ 5500,     4,     2,     0,     0,     0,     2],\n",
       "       [ 4160,     3,     3,     0,     0,     0,     0],\n",
       "       [ 3500,     4,     2,     0,     2,     0,     1],\n",
       "       [ 2610,     4,     2,     0,     0,     0,     2],\n",
       "       [ 3000,     2,     2,     0,     0,     0,     1],\n",
       "       [ 7231,     3,     2,     1,     0,     1,     2],\n",
       "       [ 5020,     3,     4,     1,     0,     1,     0],\n",
       "       [ 5680,     3,     2,     1,     1,     0,     2],\n",
       "       [ 4130,     3,     2,     0,     2,     0,     2],\n",
       "       [ 3750,     3,     1,     0,     0,     0,     0],\n",
       "       [ 7085,     3,     1,     0,     2,     1,     2],\n",
       "       [ 4500,     3,     4,     1,     0,     0,     0],\n",
       "       [ 7420,     4,     3,     1,     2,     1,     1],\n",
       "       [ 2400,     3,     2,     0,     0,     0,     0],\n",
       "       [ 6325,     3,     4,     1,     1,     0,     0],\n",
       "       [ 6000,     3,     3,     1,     0,     0,     2],\n",
       "       [ 3360,     2,     1,     0,     1,     0,     0],\n",
       "       [ 4000,     3,     2,     1,     0,     0,     0],\n",
       "       [ 4000,     3,     2,     1,     1,     0,     2],\n",
       "       [ 4320,     3,     1,     0,     0,     1,     2],\n",
       "       [ 4040,     2,     2,     0,     1,     0,     2],\n",
       "       [ 4510,     4,     2,     1,     2,     0,     2],\n",
       "       [ 5880,     2,     1,     0,     0,     0,     0],\n",
       "       [ 6540,     3,     1,     0,     2,     1,     1],\n",
       "       [ 5320,     2,     1,     0,     1,     1,     0],\n",
       "       [ 5170,     3,     4,     1,     0,     0,     2],\n",
       "       [ 6660,     4,     2,     0,     1,     1,     2],\n",
       "       [ 5320,     3,     2,     0,     0,     1,     2],\n",
       "       [ 6360,     4,     3,     1,     2,     1,     1],\n",
       "       [ 8400,     3,     2,     1,     2,     1,     0],\n",
       "       [ 4340,     3,     1,     0,     0,     0,     2],\n",
       "       [ 7680,     4,     4,     1,     1,     0,     2],\n",
       "       [ 2850,     3,     2,     0,     0,     1,     0],\n",
       "       [ 3420,     2,     2,     0,     1,     0,     2],\n",
       "       [ 3640,     2,     1,     0,     0,     0,     1],\n",
       "       [ 5800,     3,     1,     0,     2,     0,     2],\n",
       "       [ 6500,     3,     3,     1,     0,     1,     1],\n",
       "       [ 6600,     3,     1,     0,     0,     1,     1],\n",
       "       [ 2880,     3,     2,     0,     0,     1,     2],\n",
       "       [ 3100,     3,     2,     0,     0,     0,     2],\n",
       "       [ 3510,     3,     2,     0,     0,     0,     2],\n",
       "       [ 3060,     3,     1,     0,     0,     0,     0],\n",
       "       [ 3180,     4,     2,     0,     0,     0,     1],\n",
       "       [ 3760,     3,     2,     0,     2,     0,     2],\n",
       "       [ 8250,     3,     1,     0,     3,     0,     2],\n",
       "       [ 4646,     3,     2,     0,     2,     0,     2],\n",
       "       [ 5300,     3,     1,     1,     0,     1,     0],\n",
       "       [ 5948,     3,     2,     1,     0,     0,     2],\n",
       "       [ 7482,     3,     3,     0,     1,     1,     1],\n",
       "       [ 4800,     2,     1,     0,     0,     0,     2],\n",
       "       [ 4320,     3,     2,     0,     2,     0,     2],\n",
       "       [ 4840,     2,     2,     0,     0,     0,     0],\n",
       "       [ 3640,     3,     2,     0,     0,     0,     0],\n",
       "       [ 5500,     3,     2,     1,     0,     0,     0],\n",
       "       [ 8400,     4,     4,     0,     3,     0,     0],\n",
       "       [ 7200,     3,     2,     0,     1,     1,     1],\n",
       "       [ 6600,     3,     3,     1,     0,     1,     0],\n",
       "       [ 4032,     2,     1,     0,     0,     0,     1],\n",
       "       [ 7350,     2,     1,     0,     1,     0,     2],\n",
       "       [ 3480,     3,     2,     0,     1,     0,     2],\n",
       "       [ 4080,     3,     2,     0,     2,     0,     2],\n",
       "       [ 2176,     2,     2,     0,     0,     1,     2],\n",
       "       [ 2700,     2,     1,     0,     0,     0,     1],\n",
       "       [ 4400,     2,     1,     0,     0,     0,     0],\n",
       "       [ 4360,     4,     2,     0,     0,     0,     1],\n",
       "       [ 8500,     3,     4,     1,     2,     0,     1],\n",
       "       [ 4960,     2,     1,     0,     0,     0,     0],\n",
       "       [ 4820,     3,     2,     0,     0,     0,     2],\n",
       "       [ 3450,     3,     1,     0,     2,     0,     0],\n",
       "       [ 4990,     4,     2,     0,     0,     1,     1],\n",
       "       [ 9500,     3,     2,     0,     3,     1,     0],\n",
       "       [ 3850,     3,     1,     0,     0,     0,     0],\n",
       "       [ 7475,     3,     4,     1,     2,     0,     0],\n",
       "       [ 6825,     3,     1,     1,     0,     1,     2],\n",
       "       [ 8100,     2,     1,     0,     1,     0,     0],\n",
       "       [12900,     3,     1,     0,     2,     0,     1],\n",
       "       [ 2990,     2,     1,     0,     1,     0,     0],\n",
       "       [ 2275,     3,     3,     1,     0,     1,     2],\n",
       "       [ 4320,     3,     2,     0,     2,     1,     1],\n",
       "       [ 4100,     2,     1,     0,     0,     0,     2],\n",
       "       [ 9000,     4,     4,     1,     2,     0,     1],\n",
       "       [ 8050,     2,     1,     0,     0,     0,     0],\n",
       "       [ 5500,     3,     4,     1,     1,     0,     2],\n",
       "       [ 3520,     2,     1,     0,     0,     0,     2],\n",
       "       [ 3512,     2,     1,     0,     1,     1,     0],\n",
       "       [ 6000,     3,     2,     0,     1,     1,     2]], dtype=int64)"
      ]
     },
     "execution_count": 165,
     "metadata": {},
     "output_type": "execute_result"
    }
   ],
   "source": [
    "X_valid_bl"
   ]
  },
  {
   "cell_type": "code",
   "execution_count": 166,
   "id": "c665a1a6",
   "metadata": {},
   "outputs": [],
   "source": [
    "## generate our validation prediction\n",
    "y_valid_pred = model.predict(X_valid_bl)"
   ]
  },
  {
   "cell_type": "code",
   "execution_count": 167,
   "id": "4ae239a9",
   "metadata": {},
   "outputs": [
    {
     "name": "stdout",
     "output_type": "stream",
     "text": [
      "Baseline Validation Accuracy: 51.19874929529006\n"
     ]
    }
   ],
   "source": [
    "acc_score = model.score(X_valid_bl, y_valid) \n",
    "acc_score_percent = acc_score * 100\n",
    "print(f'Baseline Validation Accuracy: {acc_score_percent}')"
   ]
  },
  {
   "cell_type": "code",
   "execution_count": 170,
   "id": "2637a0bf",
   "metadata": {},
   "outputs": [],
   "source": [
    "rsquared_acc = r2_score(y_valid, y_valid_pred)"
   ]
  },
  {
   "cell_type": "code",
   "execution_count": 171,
   "id": "6d752ace",
   "metadata": {},
   "outputs": [
    {
     "name": "stdout",
     "output_type": "stream",
     "text": [
      "Baseline Validation Accuracy: 51.19874929529006\n"
     ]
    }
   ],
   "source": [
    "acc_score = model.score(X_valid_bl, y_valid) \n",
    "acc_score_percent = acc_score * 100\n",
    "print(f'Baseline Validation Accuracy: {acc_score_percent}')"
   ]
  },
  {
   "cell_type": "code",
   "execution_count": 179,
   "id": "01f259b2",
   "metadata": {},
   "outputs": [],
   "source": [
    "rsquared_acc = (y_valid, y_valid_pred)"
   ]
  },
  {
   "cell_type": "code",
   "execution_count": 180,
   "id": "215ce627",
   "metadata": {},
   "outputs": [
    {
     "name": "stdout",
     "output_type": "stream",
     "text": [
      "Mean Accuracy for the Model: (array([15.04807111, 15.53827733, 15.18160247, 15.39035723, 16.03905255,\n",
      "       15.25059532, 14.73976986, 15.59890195, 15.72059886, 15.34590548,\n",
      "       15.10749451, 15.02745183, 15.4697308 , 15.6335875 , 16.40327467,\n",
      "       14.55744838, 15.81968975, 15.83838188, 14.55744838, 14.79120201,\n",
      "       15.70485051, 15.36094335, 15.22527752, 15.31513383, 15.06827381,\n",
      "       15.59890195, 15.05822348, 15.36094335, 15.54760866, 15.33063801,\n",
      "       15.76640839, 15.47373883, 15.21669378, 15.79097965, 15.10749451,\n",
      "       15.14523483, 15.03781461, 15.25059532, 15.71012756, 15.43291684,\n",
      "       15.29779691, 15.02745183, 15.31357011, 15.05822348, 15.1726338 ,\n",
      "       15.68885017, 15.24892726, 15.40474597, 14.61885698, 15.41186343,\n",
      "       15.90031283, 15.43152698, 15.98456437, 14.71159899, 15.25059532,\n",
      "       15.25059532, 15.33063801, 15.46704984, 15.65494862, 15.27853468,\n",
      "       15.06827381, 14.89392048, 15.24222707, 15.16358397, 14.89392048,\n",
      "       14.76716882, 15.26712462, 16.0082809 , 14.89392048, 15.14523483,\n",
      "       15.03781461, 15.32909836, 15.06827381, 15.04807111, 15.94374238,\n",
      "       15.50652864, 14.94271063, 15.40474597, 14.43339579, 15.10749451,\n",
      "       15.21669378, 15.32909836, 15.89244909, 14.91512268, 15.63925323,\n",
      "       15.10749451, 15.06827381, 15.70696467]), array([14.94260313, 15.481973  , 15.33728632, 15.17399208, 15.26279638,\n",
      "       15.15344854, 14.99436708, 15.77681756, 15.73220305, 15.54766821,\n",
      "       15.31330186, 14.91538018, 15.57598822, 15.5081456 , 16.01565913,\n",
      "       14.94576995, 15.68472869, 15.62379774, 14.89324341, 15.24380865,\n",
      "       15.44080058, 15.27911838, 15.18926507, 15.59155427, 14.99305311,\n",
      "       15.47306977, 15.2089017 , 15.68726559, 15.66254701, 15.45899562,\n",
      "       15.94823074, 15.83566298, 15.08941124, 15.96524266, 15.16537459,\n",
      "       15.14982583, 14.918813  , 15.30326782, 15.77833288, 15.35590295,\n",
      "       15.3037831 , 15.1267983 , 15.15287909, 14.87148811, 15.12145712,\n",
      "       15.28976553, 15.51960822, 15.34612549, 15.40121767, 15.50422438,\n",
      "       15.70503132, 15.06085264, 15.32538808, 15.0431625 , 15.02464845,\n",
      "       15.33922619, 15.79926644, 15.57082727, 15.71644397, 14.94374879,\n",
      "       15.28355421, 15.2114625 , 15.31012127, 15.2011805 , 14.85901802,\n",
      "       14.89890781, 15.19651891, 15.95182596, 14.93453035, 15.2362104 ,\n",
      "       15.0172802 , 15.42757365, 15.7698676 , 14.92174135, 15.8183739 ,\n",
      "       15.63472566, 15.19476282, 15.68666073, 14.86970709, 15.57782358,\n",
      "       15.44811737, 15.01632446, 16.04145177, 15.13109047, 15.76874921,\n",
      "       14.97942968, 15.09389176, 15.56274333]), array([15.04807111, 15.53827733, 15.18160247, 15.39035723, 16.03905255,\n",
      "       15.25059532, 14.73976986, 15.59890195, 15.72059886, 15.34590548,\n",
      "       15.10749451, 15.02745183, 15.4697308 , 15.6335875 , 16.40327467,\n",
      "       14.55744838, 15.81968975, 15.83838188, 14.55744838, 14.79120201,\n",
      "       15.70485051, 15.36094335, 15.22527752, 15.31513383, 15.06827381,\n",
      "       15.59890195, 15.05822348, 15.36094335, 15.54760866, 15.33063801,\n",
      "       15.76640839, 15.47373883, 15.21669378, 15.79097965, 15.10749451,\n",
      "       15.14523483, 15.03781461, 15.25059532, 15.71012756, 15.43291684,\n",
      "       15.29779691, 15.02745183, 15.31357011, 15.05822348, 15.1726338 ,\n",
      "       15.68885017, 15.24892726, 15.40474597, 14.61885698, 15.41186343,\n",
      "       15.90031283, 15.43152698, 15.98456437, 14.71159899, 15.25059532,\n",
      "       15.25059532, 15.33063801, 15.46704984, 15.65494862, 15.27853468,\n",
      "       15.06827381, 14.89392048, 15.24222707, 15.16358397, 14.89392048,\n",
      "       14.76716882, 15.26712462, 16.0082809 , 14.89392048, 15.14523483,\n",
      "       15.03781461, 15.32909836, 15.06827381, 15.04807111, 15.94374238,\n",
      "       15.50652864, 14.94271063, 15.40474597, 14.43339579, 15.10749451,\n",
      "       15.21669378, 15.32909836, 15.89244909, 14.91512268, 15.63925323,\n",
      "       15.10749451, 15.06827381, 15.70696467]), array([14.94260313, 15.481973  , 15.33728632, 15.17399208, 15.26279638,\n",
      "       15.15344854, 14.99436708, 15.77681756, 15.73220305, 15.54766821,\n",
      "       15.31330186, 14.91538018, 15.57598822, 15.5081456 , 16.01565913,\n",
      "       14.94576995, 15.68472869, 15.62379774, 14.89324341, 15.24380865,\n",
      "       15.44080058, 15.27911838, 15.18926507, 15.59155427, 14.99305311,\n",
      "       15.47306977, 15.2089017 , 15.68726559, 15.66254701, 15.45899562,\n",
      "       15.94823074, 15.83566298, 15.08941124, 15.96524266, 15.16537459,\n",
      "       15.14982583, 14.918813  , 15.30326782, 15.77833288, 15.35590295,\n",
      "       15.3037831 , 15.1267983 , 15.15287909, 14.87148811, 15.12145712,\n",
      "       15.28976553, 15.51960822, 15.34612549, 15.40121767, 15.50422438,\n",
      "       15.70503132, 15.06085264, 15.32538808, 15.0431625 , 15.02464845,\n",
      "       15.33922619, 15.79926644, 15.57082727, 15.71644397, 14.94374879,\n",
      "       15.28355421, 15.2114625 , 15.31012127, 15.2011805 , 14.85901802,\n",
      "       14.89890781, 15.19651891, 15.95182596, 14.93453035, 15.2362104 ,\n",
      "       15.0172802 , 15.42757365, 15.7698676 , 14.92174135, 15.8183739 ,\n",
      "       15.63472566, 15.19476282, 15.68666073, 14.86970709, 15.57782358,\n",
      "       15.44811737, 15.01632446, 16.04145177, 15.13109047, 15.76874921,\n",
      "       14.97942968, 15.09389176, 15.56274333]), array([15.04807111, 15.53827733, 15.18160247, 15.39035723, 16.03905255,\n",
      "       15.25059532, 14.73976986, 15.59890195, 15.72059886, 15.34590548,\n",
      "       15.10749451, 15.02745183, 15.4697308 , 15.6335875 , 16.40327467,\n",
      "       14.55744838, 15.81968975, 15.83838188, 14.55744838, 14.79120201,\n",
      "       15.70485051, 15.36094335, 15.22527752, 15.31513383, 15.06827381,\n",
      "       15.59890195, 15.05822348, 15.36094335, 15.54760866, 15.33063801,\n",
      "       15.76640839, 15.47373883, 15.21669378, 15.79097965, 15.10749451,\n",
      "       15.14523483, 15.03781461, 15.25059532, 15.71012756, 15.43291684,\n",
      "       15.29779691, 15.02745183, 15.31357011, 15.05822348, 15.1726338 ,\n",
      "       15.68885017, 15.24892726, 15.40474597, 14.61885698, 15.41186343,\n",
      "       15.90031283, 15.43152698, 15.98456437, 14.71159899, 15.25059532,\n",
      "       15.25059532, 15.33063801, 15.46704984, 15.65494862, 15.27853468,\n",
      "       15.06827381, 14.89392048, 15.24222707, 15.16358397, 14.89392048,\n",
      "       14.76716882, 15.26712462, 16.0082809 , 14.89392048, 15.14523483,\n",
      "       15.03781461, 15.32909836, 15.06827381, 15.04807111, 15.94374238,\n",
      "       15.50652864, 14.94271063, 15.40474597, 14.43339579, 15.10749451,\n",
      "       15.21669378, 15.32909836, 15.89244909, 14.91512268, 15.63925323,\n",
      "       15.10749451, 15.06827381, 15.70696467]), array([14.94260313, 15.481973  , 15.33728632, 15.17399208, 15.26279638,\n",
      "       15.15344854, 14.99436708, 15.77681756, 15.73220305, 15.54766821,\n",
      "       15.31330186, 14.91538018, 15.57598822, 15.5081456 , 16.01565913,\n",
      "       14.94576995, 15.68472869, 15.62379774, 14.89324341, 15.24380865,\n",
      "       15.44080058, 15.27911838, 15.18926507, 15.59155427, 14.99305311,\n",
      "       15.47306977, 15.2089017 , 15.68726559, 15.66254701, 15.45899562,\n",
      "       15.94823074, 15.83566298, 15.08941124, 15.96524266, 15.16537459,\n",
      "       15.14982583, 14.918813  , 15.30326782, 15.77833288, 15.35590295,\n",
      "       15.3037831 , 15.1267983 , 15.15287909, 14.87148811, 15.12145712,\n",
      "       15.28976553, 15.51960822, 15.34612549, 15.40121767, 15.50422438,\n",
      "       15.70503132, 15.06085264, 15.32538808, 15.0431625 , 15.02464845,\n",
      "       15.33922619, 15.79926644, 15.57082727, 15.71644397, 14.94374879,\n",
      "       15.28355421, 15.2114625 , 15.31012127, 15.2011805 , 14.85901802,\n",
      "       14.89890781, 15.19651891, 15.95182596, 14.93453035, 15.2362104 ,\n",
      "       15.0172802 , 15.42757365, 15.7698676 , 14.92174135, 15.8183739 ,\n",
      "       15.63472566, 15.19476282, 15.68666073, 14.86970709, 15.57782358,\n",
      "       15.44811737, 15.01632446, 16.04145177, 15.13109047, 15.76874921,\n",
      "       14.97942968, 15.09389176, 15.56274333]), array([15.04807111, 15.53827733, 15.18160247, 15.39035723, 16.03905255,\n",
      "       15.25059532, 14.73976986, 15.59890195, 15.72059886, 15.34590548,\n",
      "       15.10749451, 15.02745183, 15.4697308 , 15.6335875 , 16.40327467,\n",
      "       14.55744838, 15.81968975, 15.83838188, 14.55744838, 14.79120201,\n",
      "       15.70485051, 15.36094335, 15.22527752, 15.31513383, 15.06827381,\n",
      "       15.59890195, 15.05822348, 15.36094335, 15.54760866, 15.33063801,\n",
      "       15.76640839, 15.47373883, 15.21669378, 15.79097965, 15.10749451,\n",
      "       15.14523483, 15.03781461, 15.25059532, 15.71012756, 15.43291684,\n",
      "       15.29779691, 15.02745183, 15.31357011, 15.05822348, 15.1726338 ,\n",
      "       15.68885017, 15.24892726, 15.40474597, 14.61885698, 15.41186343,\n",
      "       15.90031283, 15.43152698, 15.98456437, 14.71159899, 15.25059532,\n",
      "       15.25059532, 15.33063801, 15.46704984, 15.65494862, 15.27853468,\n",
      "       15.06827381, 14.89392048, 15.24222707, 15.16358397, 14.89392048,\n",
      "       14.76716882, 15.26712462, 16.0082809 , 14.89392048, 15.14523483,\n",
      "       15.03781461, 15.32909836, 15.06827381, 15.04807111, 15.94374238,\n",
      "       15.50652864, 14.94271063, 15.40474597, 14.43339579, 15.10749451,\n",
      "       15.21669378, 15.32909836, 15.89244909, 14.91512268, 15.63925323,\n",
      "       15.10749451, 15.06827381, 15.70696467]), array([14.94260313, 15.481973  , 15.33728632, 15.17399208, 15.26279638,\n",
      "       15.15344854, 14.99436708, 15.77681756, 15.73220305, 15.54766821,\n",
      "       15.31330186, 14.91538018, 15.57598822, 15.5081456 , 16.01565913,\n",
      "       14.94576995, 15.68472869, 15.62379774, 14.89324341, 15.24380865,\n",
      "       15.44080058, 15.27911838, 15.18926507, 15.59155427, 14.99305311,\n",
      "       15.47306977, 15.2089017 , 15.68726559, 15.66254701, 15.45899562,\n",
      "       15.94823074, 15.83566298, 15.08941124, 15.96524266, 15.16537459,\n",
      "       15.14982583, 14.918813  , 15.30326782, 15.77833288, 15.35590295,\n",
      "       15.3037831 , 15.1267983 , 15.15287909, 14.87148811, 15.12145712,\n",
      "       15.28976553, 15.51960822, 15.34612549, 15.40121767, 15.50422438,\n",
      "       15.70503132, 15.06085264, 15.32538808, 15.0431625 , 15.02464845,\n",
      "       15.33922619, 15.79926644, 15.57082727, 15.71644397, 14.94374879,\n",
      "       15.28355421, 15.2114625 , 15.31012127, 15.2011805 , 14.85901802,\n",
      "       14.89890781, 15.19651891, 15.95182596, 14.93453035, 15.2362104 ,\n",
      "       15.0172802 , 15.42757365, 15.7698676 , 14.92174135, 15.8183739 ,\n",
      "       15.63472566, 15.19476282, 15.68666073, 14.86970709, 15.57782358,\n",
      "       15.44811737, 15.01632446, 16.04145177, 15.13109047, 15.76874921,\n",
      "       14.97942968, 15.09389176, 15.56274333]), array([15.04807111, 15.53827733, 15.18160247, 15.39035723, 16.03905255,\n",
      "       15.25059532, 14.73976986, 15.59890195, 15.72059886, 15.34590548,\n",
      "       15.10749451, 15.02745183, 15.4697308 , 15.6335875 , 16.40327467,\n",
      "       14.55744838, 15.81968975, 15.83838188, 14.55744838, 14.79120201,\n",
      "       15.70485051, 15.36094335, 15.22527752, 15.31513383, 15.06827381,\n",
      "       15.59890195, 15.05822348, 15.36094335, 15.54760866, 15.33063801,\n",
      "       15.76640839, 15.47373883, 15.21669378, 15.79097965, 15.10749451,\n",
      "       15.14523483, 15.03781461, 15.25059532, 15.71012756, 15.43291684,\n",
      "       15.29779691, 15.02745183, 15.31357011, 15.05822348, 15.1726338 ,\n",
      "       15.68885017, 15.24892726, 15.40474597, 14.61885698, 15.41186343,\n",
      "       15.90031283, 15.43152698, 15.98456437, 14.71159899, 15.25059532,\n",
      "       15.25059532, 15.33063801, 15.46704984, 15.65494862, 15.27853468,\n",
      "       15.06827381, 14.89392048, 15.24222707, 15.16358397, 14.89392048,\n",
      "       14.76716882, 15.26712462, 16.0082809 , 14.89392048, 15.14523483,\n",
      "       15.03781461, 15.32909836, 15.06827381, 15.04807111, 15.94374238,\n",
      "       15.50652864, 14.94271063, 15.40474597, 14.43339579, 15.10749451,\n",
      "       15.21669378, 15.32909836, 15.89244909, 14.91512268, 15.63925323,\n",
      "       15.10749451, 15.06827381, 15.70696467]), array([14.94260313, 15.481973  , 15.33728632, 15.17399208, 15.26279638,\n",
      "       15.15344854, 14.99436708, 15.77681756, 15.73220305, 15.54766821,\n",
      "       15.31330186, 14.91538018, 15.57598822, 15.5081456 , 16.01565913,\n",
      "       14.94576995, 15.68472869, 15.62379774, 14.89324341, 15.24380865,\n",
      "       15.44080058, 15.27911838, 15.18926507, 15.59155427, 14.99305311,\n",
      "       15.47306977, 15.2089017 , 15.68726559, 15.66254701, 15.45899562,\n",
      "       15.94823074, 15.83566298, 15.08941124, 15.96524266, 15.16537459,\n",
      "       15.14982583, 14.918813  , 15.30326782, 15.77833288, 15.35590295,\n",
      "       15.3037831 , 15.1267983 , 15.15287909, 14.87148811, 15.12145712,\n",
      "       15.28976553, 15.51960822, 15.34612549, 15.40121767, 15.50422438,\n",
      "       15.70503132, 15.06085264, 15.32538808, 15.0431625 , 15.02464845,\n",
      "       15.33922619, 15.79926644, 15.57082727, 15.71644397, 14.94374879,\n",
      "       15.28355421, 15.2114625 , 15.31012127, 15.2011805 , 14.85901802,\n",
      "       14.89890781, 15.19651891, 15.95182596, 14.93453035, 15.2362104 ,\n",
      "       15.0172802 , 15.42757365, 15.7698676 , 14.92174135, 15.8183739 ,\n",
      "       15.63472566, 15.19476282, 15.68666073, 14.86970709, 15.57782358,\n",
      "       15.44811737, 15.01632446, 16.04145177, 15.13109047, 15.76874921,\n",
      "       14.97942968, 15.09389176, 15.56274333]), array([15.04807111, 15.53827733, 15.18160247, 15.39035723, 16.03905255,\n",
      "       15.25059532, 14.73976986, 15.59890195, 15.72059886, 15.34590548,\n",
      "       15.10749451, 15.02745183, 15.4697308 , 15.6335875 , 16.40327467,\n",
      "       14.55744838, 15.81968975, 15.83838188, 14.55744838, 14.79120201,\n",
      "       15.70485051, 15.36094335, 15.22527752, 15.31513383, 15.06827381,\n",
      "       15.59890195, 15.05822348, 15.36094335, 15.54760866, 15.33063801,\n",
      "       15.76640839, 15.47373883, 15.21669378, 15.79097965, 15.10749451,\n",
      "       15.14523483, 15.03781461, 15.25059532, 15.71012756, 15.43291684,\n",
      "       15.29779691, 15.02745183, 15.31357011, 15.05822348, 15.1726338 ,\n",
      "       15.68885017, 15.24892726, 15.40474597, 14.61885698, 15.41186343,\n",
      "       15.90031283, 15.43152698, 15.98456437, 14.71159899, 15.25059532,\n",
      "       15.25059532, 15.33063801, 15.46704984, 15.65494862, 15.27853468,\n",
      "       15.06827381, 14.89392048, 15.24222707, 15.16358397, 14.89392048,\n",
      "       14.76716882, 15.26712462, 16.0082809 , 14.89392048, 15.14523483,\n",
      "       15.03781461, 15.32909836, 15.06827381, 15.04807111, 15.94374238,\n",
      "       15.50652864, 14.94271063, 15.40474597, 14.43339579, 15.10749451,\n",
      "       15.21669378, 15.32909836, 15.89244909, 14.91512268, 15.63925323,\n",
      "       15.10749451, 15.06827381, 15.70696467]), array([14.94260313, 15.481973  , 15.33728632, 15.17399208, 15.26279638,\n",
      "       15.15344854, 14.99436708, 15.77681756, 15.73220305, 15.54766821,\n",
      "       15.31330186, 14.91538018, 15.57598822, 15.5081456 , 16.01565913,\n",
      "       14.94576995, 15.68472869, 15.62379774, 14.89324341, 15.24380865,\n",
      "       15.44080058, 15.27911838, 15.18926507, 15.59155427, 14.99305311,\n",
      "       15.47306977, 15.2089017 , 15.68726559, 15.66254701, 15.45899562,\n",
      "       15.94823074, 15.83566298, 15.08941124, 15.96524266, 15.16537459,\n",
      "       15.14982583, 14.918813  , 15.30326782, 15.77833288, 15.35590295,\n",
      "       15.3037831 , 15.1267983 , 15.15287909, 14.87148811, 15.12145712,\n",
      "       15.28976553, 15.51960822, 15.34612549, 15.40121767, 15.50422438,\n",
      "       15.70503132, 15.06085264, 15.32538808, 15.0431625 , 15.02464845,\n",
      "       15.33922619, 15.79926644, 15.57082727, 15.71644397, 14.94374879,\n",
      "       15.28355421, 15.2114625 , 15.31012127, 15.2011805 , 14.85901802,\n",
      "       14.89890781, 15.19651891, 15.95182596, 14.93453035, 15.2362104 ,\n",
      "       15.0172802 , 15.42757365, 15.7698676 , 14.92174135, 15.8183739 ,\n",
      "       15.63472566, 15.19476282, 15.68666073, 14.86970709, 15.57782358,\n",
      "       15.44811737, 15.01632446, 16.04145177, 15.13109047, 15.76874921,\n",
      "       14.97942968, 15.09389176, 15.56274333]), array([15.04807111, 15.53827733, 15.18160247, 15.39035723, 16.03905255,\n",
      "       15.25059532, 14.73976986, 15.59890195, 15.72059886, 15.34590548,\n",
      "       15.10749451, 15.02745183, 15.4697308 , 15.6335875 , 16.40327467,\n",
      "       14.55744838, 15.81968975, 15.83838188, 14.55744838, 14.79120201,\n",
      "       15.70485051, 15.36094335, 15.22527752, 15.31513383, 15.06827381,\n",
      "       15.59890195, 15.05822348, 15.36094335, 15.54760866, 15.33063801,\n",
      "       15.76640839, 15.47373883, 15.21669378, 15.79097965, 15.10749451,\n",
      "       15.14523483, 15.03781461, 15.25059532, 15.71012756, 15.43291684,\n",
      "       15.29779691, 15.02745183, 15.31357011, 15.05822348, 15.1726338 ,\n",
      "       15.68885017, 15.24892726, 15.40474597, 14.61885698, 15.41186343,\n",
      "       15.90031283, 15.43152698, 15.98456437, 14.71159899, 15.25059532,\n",
      "       15.25059532, 15.33063801, 15.46704984, 15.65494862, 15.27853468,\n",
      "       15.06827381, 14.89392048, 15.24222707, 15.16358397, 14.89392048,\n",
      "       14.76716882, 15.26712462, 16.0082809 , 14.89392048, 15.14523483,\n",
      "       15.03781461, 15.32909836, 15.06827381, 15.04807111, 15.94374238,\n",
      "       15.50652864, 14.94271063, 15.40474597, 14.43339579, 15.10749451,\n",
      "       15.21669378, 15.32909836, 15.89244909, 14.91512268, 15.63925323,\n",
      "       15.10749451, 15.06827381, 15.70696467]), array([14.94260313, 15.481973  , 15.33728632, 15.17399208, 15.26279638,\n",
      "       15.15344854, 14.99436708, 15.77681756, 15.73220305, 15.54766821,\n",
      "       15.31330186, 14.91538018, 15.57598822, 15.5081456 , 16.01565913,\n",
      "       14.94576995, 15.68472869, 15.62379774, 14.89324341, 15.24380865,\n",
      "       15.44080058, 15.27911838, 15.18926507, 15.59155427, 14.99305311,\n",
      "       15.47306977, 15.2089017 , 15.68726559, 15.66254701, 15.45899562,\n",
      "       15.94823074, 15.83566298, 15.08941124, 15.96524266, 15.16537459,\n",
      "       15.14982583, 14.918813  , 15.30326782, 15.77833288, 15.35590295,\n",
      "       15.3037831 , 15.1267983 , 15.15287909, 14.87148811, 15.12145712,\n",
      "       15.28976553, 15.51960822, 15.34612549, 15.40121767, 15.50422438,\n",
      "       15.70503132, 15.06085264, 15.32538808, 15.0431625 , 15.02464845,\n",
      "       15.33922619, 15.79926644, 15.57082727, 15.71644397, 14.94374879,\n",
      "       15.28355421, 15.2114625 , 15.31012127, 15.2011805 , 14.85901802,\n",
      "       14.89890781, 15.19651891, 15.95182596, 14.93453035, 15.2362104 ,\n",
      "       15.0172802 , 15.42757365, 15.7698676 , 14.92174135, 15.8183739 ,\n",
      "       15.63472566, 15.19476282, 15.68666073, 14.86970709, 15.57782358,\n",
      "       15.44811737, 15.01632446, 16.04145177, 15.13109047, 15.76874921,\n",
      "       14.97942968, 15.09389176, 15.56274333]), array([15.04807111, 15.53827733, 15.18160247, 15.39035723, 16.03905255,\n",
      "       15.25059532, 14.73976986, 15.59890195, 15.72059886, 15.34590548,\n",
      "       15.10749451, 15.02745183, 15.4697308 , 15.6335875 , 16.40327467,\n",
      "       14.55744838, 15.81968975, 15.83838188, 14.55744838, 14.79120201,\n",
      "       15.70485051, 15.36094335, 15.22527752, 15.31513383, 15.06827381,\n",
      "       15.59890195, 15.05822348, 15.36094335, 15.54760866, 15.33063801,\n",
      "       15.76640839, 15.47373883, 15.21669378, 15.79097965, 15.10749451,\n",
      "       15.14523483, 15.03781461, 15.25059532, 15.71012756, 15.43291684,\n",
      "       15.29779691, 15.02745183, 15.31357011, 15.05822348, 15.1726338 ,\n",
      "       15.68885017, 15.24892726, 15.40474597, 14.61885698, 15.41186343,\n",
      "       15.90031283, 15.43152698, 15.98456437, 14.71159899, 15.25059532,\n",
      "       15.25059532, 15.33063801, 15.46704984, 15.65494862, 15.27853468,\n",
      "       15.06827381, 14.89392048, 15.24222707, 15.16358397, 14.89392048,\n",
      "       14.76716882, 15.26712462, 16.0082809 , 14.89392048, 15.14523483,\n",
      "       15.03781461, 15.32909836, 15.06827381, 15.04807111, 15.94374238,\n",
      "       15.50652864, 14.94271063, 15.40474597, 14.43339579, 15.10749451,\n",
      "       15.21669378, 15.32909836, 15.89244909, 14.91512268, 15.63925323,\n",
      "       15.10749451, 15.06827381, 15.70696467]), array([14.94260313, 15.481973  , 15.33728632, 15.17399208, 15.26279638,\n",
      "       15.15344854, 14.99436708, 15.77681756, 15.73220305, 15.54766821,\n",
      "       15.31330186, 14.91538018, 15.57598822, 15.5081456 , 16.01565913,\n",
      "       14.94576995, 15.68472869, 15.62379774, 14.89324341, 15.24380865,\n",
      "       15.44080058, 15.27911838, 15.18926507, 15.59155427, 14.99305311,\n",
      "       15.47306977, 15.2089017 , 15.68726559, 15.66254701, 15.45899562,\n",
      "       15.94823074, 15.83566298, 15.08941124, 15.96524266, 15.16537459,\n",
      "       15.14982583, 14.918813  , 15.30326782, 15.77833288, 15.35590295,\n",
      "       15.3037831 , 15.1267983 , 15.15287909, 14.87148811, 15.12145712,\n",
      "       15.28976553, 15.51960822, 15.34612549, 15.40121767, 15.50422438,\n",
      "       15.70503132, 15.06085264, 15.32538808, 15.0431625 , 15.02464845,\n",
      "       15.33922619, 15.79926644, 15.57082727, 15.71644397, 14.94374879,\n",
      "       15.28355421, 15.2114625 , 15.31012127, 15.2011805 , 14.85901802,\n",
      "       14.89890781, 15.19651891, 15.95182596, 14.93453035, 15.2362104 ,\n",
      "       15.0172802 , 15.42757365, 15.7698676 , 14.92174135, 15.8183739 ,\n",
      "       15.63472566, 15.19476282, 15.68666073, 14.86970709, 15.57782358,\n",
      "       15.44811737, 15.01632446, 16.04145177, 15.13109047, 15.76874921,\n",
      "       14.97942968, 15.09389176, 15.56274333]), array([15.04807111, 15.53827733, 15.18160247, 15.39035723, 16.03905255,\n",
      "       15.25059532, 14.73976986, 15.59890195, 15.72059886, 15.34590548,\n",
      "       15.10749451, 15.02745183, 15.4697308 , 15.6335875 , 16.40327467,\n",
      "       14.55744838, 15.81968975, 15.83838188, 14.55744838, 14.79120201,\n",
      "       15.70485051, 15.36094335, 15.22527752, 15.31513383, 15.06827381,\n",
      "       15.59890195, 15.05822348, 15.36094335, 15.54760866, 15.33063801,\n",
      "       15.76640839, 15.47373883, 15.21669378, 15.79097965, 15.10749451,\n",
      "       15.14523483, 15.03781461, 15.25059532, 15.71012756, 15.43291684,\n",
      "       15.29779691, 15.02745183, 15.31357011, 15.05822348, 15.1726338 ,\n",
      "       15.68885017, 15.24892726, 15.40474597, 14.61885698, 15.41186343,\n",
      "       15.90031283, 15.43152698, 15.98456437, 14.71159899, 15.25059532,\n",
      "       15.25059532, 15.33063801, 15.46704984, 15.65494862, 15.27853468,\n",
      "       15.06827381, 14.89392048, 15.24222707, 15.16358397, 14.89392048,\n",
      "       14.76716882, 15.26712462, 16.0082809 , 14.89392048, 15.14523483,\n",
      "       15.03781461, 15.32909836, 15.06827381, 15.04807111, 15.94374238,\n",
      "       15.50652864, 14.94271063, 15.40474597, 14.43339579, 15.10749451,\n",
      "       15.21669378, 15.32909836, 15.89244909, 14.91512268, 15.63925323,\n",
      "       15.10749451, 15.06827381, 15.70696467]), array([14.94260313, 15.481973  , 15.33728632, 15.17399208, 15.26279638,\n",
      "       15.15344854, 14.99436708, 15.77681756, 15.73220305, 15.54766821,\n",
      "       15.31330186, 14.91538018, 15.57598822, 15.5081456 , 16.01565913,\n",
      "       14.94576995, 15.68472869, 15.62379774, 14.89324341, 15.24380865,\n",
      "       15.44080058, 15.27911838, 15.18926507, 15.59155427, 14.99305311,\n",
      "       15.47306977, 15.2089017 , 15.68726559, 15.66254701, 15.45899562,\n",
      "       15.94823074, 15.83566298, 15.08941124, 15.96524266, 15.16537459,\n",
      "       15.14982583, 14.918813  , 15.30326782, 15.77833288, 15.35590295,\n",
      "       15.3037831 , 15.1267983 , 15.15287909, 14.87148811, 15.12145712,\n",
      "       15.28976553, 15.51960822, 15.34612549, 15.40121767, 15.50422438,\n",
      "       15.70503132, 15.06085264, 15.32538808, 15.0431625 , 15.02464845,\n",
      "       15.33922619, 15.79926644, 15.57082727, 15.71644397, 14.94374879,\n",
      "       15.28355421, 15.2114625 , 15.31012127, 15.2011805 , 14.85901802,\n",
      "       14.89890781, 15.19651891, 15.95182596, 14.93453035, 15.2362104 ,\n",
      "       15.0172802 , 15.42757365, 15.7698676 , 14.92174135, 15.8183739 ,\n",
      "       15.63472566, 15.19476282, 15.68666073, 14.86970709, 15.57782358,\n",
      "       15.44811737, 15.01632446, 16.04145177, 15.13109047, 15.76874921,\n",
      "       14.97942968, 15.09389176, 15.56274333]), array([15.04807111, 15.53827733, 15.18160247, 15.39035723, 16.03905255,\n",
      "       15.25059532, 14.73976986, 15.59890195, 15.72059886, 15.34590548,\n",
      "       15.10749451, 15.02745183, 15.4697308 , 15.6335875 , 16.40327467,\n",
      "       14.55744838, 15.81968975, 15.83838188, 14.55744838, 14.79120201,\n",
      "       15.70485051, 15.36094335, 15.22527752, 15.31513383, 15.06827381,\n",
      "       15.59890195, 15.05822348, 15.36094335, 15.54760866, 15.33063801,\n",
      "       15.76640839, 15.47373883, 15.21669378, 15.79097965, 15.10749451,\n",
      "       15.14523483, 15.03781461, 15.25059532, 15.71012756, 15.43291684,\n",
      "       15.29779691, 15.02745183, 15.31357011, 15.05822348, 15.1726338 ,\n",
      "       15.68885017, 15.24892726, 15.40474597, 14.61885698, 15.41186343,\n",
      "       15.90031283, 15.43152698, 15.98456437, 14.71159899, 15.25059532,\n",
      "       15.25059532, 15.33063801, 15.46704984, 15.65494862, 15.27853468,\n",
      "       15.06827381, 14.89392048, 15.24222707, 15.16358397, 14.89392048,\n",
      "       14.76716882, 15.26712462, 16.0082809 , 14.89392048, 15.14523483,\n",
      "       15.03781461, 15.32909836, 15.06827381, 15.04807111, 15.94374238,\n",
      "       15.50652864, 14.94271063, 15.40474597, 14.43339579, 15.10749451,\n",
      "       15.21669378, 15.32909836, 15.89244909, 14.91512268, 15.63925323,\n",
      "       15.10749451, 15.06827381, 15.70696467]), array([14.94260313, 15.481973  , 15.33728632, 15.17399208, 15.26279638,\n",
      "       15.15344854, 14.99436708, 15.77681756, 15.73220305, 15.54766821,\n",
      "       15.31330186, 14.91538018, 15.57598822, 15.5081456 , 16.01565913,\n",
      "       14.94576995, 15.68472869, 15.62379774, 14.89324341, 15.24380865,\n",
      "       15.44080058, 15.27911838, 15.18926507, 15.59155427, 14.99305311,\n",
      "       15.47306977, 15.2089017 , 15.68726559, 15.66254701, 15.45899562,\n",
      "       15.94823074, 15.83566298, 15.08941124, 15.96524266, 15.16537459,\n",
      "       15.14982583, 14.918813  , 15.30326782, 15.77833288, 15.35590295,\n",
      "       15.3037831 , 15.1267983 , 15.15287909, 14.87148811, 15.12145712,\n",
      "       15.28976553, 15.51960822, 15.34612549, 15.40121767, 15.50422438,\n",
      "       15.70503132, 15.06085264, 15.32538808, 15.0431625 , 15.02464845,\n",
      "       15.33922619, 15.79926644, 15.57082727, 15.71644397, 14.94374879,\n",
      "       15.28355421, 15.2114625 , 15.31012127, 15.2011805 , 14.85901802,\n",
      "       14.89890781, 15.19651891, 15.95182596, 14.93453035, 15.2362104 ,\n",
      "       15.0172802 , 15.42757365, 15.7698676 , 14.92174135, 15.8183739 ,\n",
      "       15.63472566, 15.19476282, 15.68666073, 14.86970709, 15.57782358,\n",
      "       15.44811737, 15.01632446, 16.04145177, 15.13109047, 15.76874921,\n",
      "       14.97942968, 15.09389176, 15.56274333]), array([15.04807111, 15.53827733, 15.18160247, 15.39035723, 16.03905255,\n",
      "       15.25059532, 14.73976986, 15.59890195, 15.72059886, 15.34590548,\n",
      "       15.10749451, 15.02745183, 15.4697308 , 15.6335875 , 16.40327467,\n",
      "       14.55744838, 15.81968975, 15.83838188, 14.55744838, 14.79120201,\n",
      "       15.70485051, 15.36094335, 15.22527752, 15.31513383, 15.06827381,\n",
      "       15.59890195, 15.05822348, 15.36094335, 15.54760866, 15.33063801,\n",
      "       15.76640839, 15.47373883, 15.21669378, 15.79097965, 15.10749451,\n",
      "       15.14523483, 15.03781461, 15.25059532, 15.71012756, 15.43291684,\n",
      "       15.29779691, 15.02745183, 15.31357011, 15.05822348, 15.1726338 ,\n",
      "       15.68885017, 15.24892726, 15.40474597, 14.61885698, 15.41186343,\n",
      "       15.90031283, 15.43152698, 15.98456437, 14.71159899, 15.25059532,\n",
      "       15.25059532, 15.33063801, 15.46704984, 15.65494862, 15.27853468,\n",
      "       15.06827381, 14.89392048, 15.24222707, 15.16358397, 14.89392048,\n",
      "       14.76716882, 15.26712462, 16.0082809 , 14.89392048, 15.14523483,\n",
      "       15.03781461, 15.32909836, 15.06827381, 15.04807111, 15.94374238,\n",
      "       15.50652864, 14.94271063, 15.40474597, 14.43339579, 15.10749451,\n",
      "       15.21669378, 15.32909836, 15.89244909, 14.91512268, 15.63925323,\n",
      "       15.10749451, 15.06827381, 15.70696467]), array([14.94260313, 15.481973  , 15.33728632, 15.17399208, 15.26279638,\n",
      "       15.15344854, 14.99436708, 15.77681756, 15.73220305, 15.54766821,\n",
      "       15.31330186, 14.91538018, 15.57598822, 15.5081456 , 16.01565913,\n",
      "       14.94576995, 15.68472869, 15.62379774, 14.89324341, 15.24380865,\n",
      "       15.44080058, 15.27911838, 15.18926507, 15.59155427, 14.99305311,\n",
      "       15.47306977, 15.2089017 , 15.68726559, 15.66254701, 15.45899562,\n",
      "       15.94823074, 15.83566298, 15.08941124, 15.96524266, 15.16537459,\n",
      "       15.14982583, 14.918813  , 15.30326782, 15.77833288, 15.35590295,\n",
      "       15.3037831 , 15.1267983 , 15.15287909, 14.87148811, 15.12145712,\n",
      "       15.28976553, 15.51960822, 15.34612549, 15.40121767, 15.50422438,\n",
      "       15.70503132, 15.06085264, 15.32538808, 15.0431625 , 15.02464845,\n",
      "       15.33922619, 15.79926644, 15.57082727, 15.71644397, 14.94374879,\n",
      "       15.28355421, 15.2114625 , 15.31012127, 15.2011805 , 14.85901802,\n",
      "       14.89890781, 15.19651891, 15.95182596, 14.93453035, 15.2362104 ,\n",
      "       15.0172802 , 15.42757365, 15.7698676 , 14.92174135, 15.8183739 ,\n",
      "       15.63472566, 15.19476282, 15.68666073, 14.86970709, 15.57782358,\n",
      "       15.44811737, 15.01632446, 16.04145177, 15.13109047, 15.76874921,\n",
      "       14.97942968, 15.09389176, 15.56274333]), array([15.04807111, 15.53827733, 15.18160247, 15.39035723, 16.03905255,\n",
      "       15.25059532, 14.73976986, 15.59890195, 15.72059886, 15.34590548,\n",
      "       15.10749451, 15.02745183, 15.4697308 , 15.6335875 , 16.40327467,\n",
      "       14.55744838, 15.81968975, 15.83838188, 14.55744838, 14.79120201,\n",
      "       15.70485051, 15.36094335, 15.22527752, 15.31513383, 15.06827381,\n",
      "       15.59890195, 15.05822348, 15.36094335, 15.54760866, 15.33063801,\n",
      "       15.76640839, 15.47373883, 15.21669378, 15.79097965, 15.10749451,\n",
      "       15.14523483, 15.03781461, 15.25059532, 15.71012756, 15.43291684,\n",
      "       15.29779691, 15.02745183, 15.31357011, 15.05822348, 15.1726338 ,\n",
      "       15.68885017, 15.24892726, 15.40474597, 14.61885698, 15.41186343,\n",
      "       15.90031283, 15.43152698, 15.98456437, 14.71159899, 15.25059532,\n",
      "       15.25059532, 15.33063801, 15.46704984, 15.65494862, 15.27853468,\n",
      "       15.06827381, 14.89392048, 15.24222707, 15.16358397, 14.89392048,\n",
      "       14.76716882, 15.26712462, 16.0082809 , 14.89392048, 15.14523483,\n",
      "       15.03781461, 15.32909836, 15.06827381, 15.04807111, 15.94374238,\n",
      "       15.50652864, 14.94271063, 15.40474597, 14.43339579, 15.10749451,\n",
      "       15.21669378, 15.32909836, 15.89244909, 14.91512268, 15.63925323,\n",
      "       15.10749451, 15.06827381, 15.70696467]), array([14.94260313, 15.481973  , 15.33728632, 15.17399208, 15.26279638,\n",
      "       15.15344854, 14.99436708, 15.77681756, 15.73220305, 15.54766821,\n",
      "       15.31330186, 14.91538018, 15.57598822, 15.5081456 , 16.01565913,\n",
      "       14.94576995, 15.68472869, 15.62379774, 14.89324341, 15.24380865,\n",
      "       15.44080058, 15.27911838, 15.18926507, 15.59155427, 14.99305311,\n",
      "       15.47306977, 15.2089017 , 15.68726559, 15.66254701, 15.45899562,\n",
      "       15.94823074, 15.83566298, 15.08941124, 15.96524266, 15.16537459,\n",
      "       15.14982583, 14.918813  , 15.30326782, 15.77833288, 15.35590295,\n",
      "       15.3037831 , 15.1267983 , 15.15287909, 14.87148811, 15.12145712,\n",
      "       15.28976553, 15.51960822, 15.34612549, 15.40121767, 15.50422438,\n",
      "       15.70503132, 15.06085264, 15.32538808, 15.0431625 , 15.02464845,\n",
      "       15.33922619, 15.79926644, 15.57082727, 15.71644397, 14.94374879,\n",
      "       15.28355421, 15.2114625 , 15.31012127, 15.2011805 , 14.85901802,\n",
      "       14.89890781, 15.19651891, 15.95182596, 14.93453035, 15.2362104 ,\n",
      "       15.0172802 , 15.42757365, 15.7698676 , 14.92174135, 15.8183739 ,\n",
      "       15.63472566, 15.19476282, 15.68666073, 14.86970709, 15.57782358,\n",
      "       15.44811737, 15.01632446, 16.04145177, 15.13109047, 15.76874921,\n",
      "       14.97942968, 15.09389176, 15.56274333]), array([15.04807111, 15.53827733, 15.18160247, 15.39035723, 16.03905255,\n",
      "       15.25059532, 14.73976986, 15.59890195, 15.72059886, 15.34590548,\n",
      "       15.10749451, 15.02745183, 15.4697308 , 15.6335875 , 16.40327467,\n",
      "       14.55744838, 15.81968975, 15.83838188, 14.55744838, 14.79120201,\n",
      "       15.70485051, 15.36094335, 15.22527752, 15.31513383, 15.06827381,\n",
      "       15.59890195, 15.05822348, 15.36094335, 15.54760866, 15.33063801,\n",
      "       15.76640839, 15.47373883, 15.21669378, 15.79097965, 15.10749451,\n",
      "       15.14523483, 15.03781461, 15.25059532, 15.71012756, 15.43291684,\n",
      "       15.29779691, 15.02745183, 15.31357011, 15.05822348, 15.1726338 ,\n",
      "       15.68885017, 15.24892726, 15.40474597, 14.61885698, 15.41186343,\n",
      "       15.90031283, 15.43152698, 15.98456437, 14.71159899, 15.25059532,\n",
      "       15.25059532, 15.33063801, 15.46704984, 15.65494862, 15.27853468,\n",
      "       15.06827381, 14.89392048, 15.24222707, 15.16358397, 14.89392048,\n",
      "       14.76716882, 15.26712462, 16.0082809 , 14.89392048, 15.14523483,\n",
      "       15.03781461, 15.32909836, 15.06827381, 15.04807111, 15.94374238,\n",
      "       15.50652864, 14.94271063, 15.40474597, 14.43339579, 15.10749451,\n",
      "       15.21669378, 15.32909836, 15.89244909, 14.91512268, 15.63925323,\n",
      "       15.10749451, 15.06827381, 15.70696467]), array([14.94260313, 15.481973  , 15.33728632, 15.17399208, 15.26279638,\n",
      "       15.15344854, 14.99436708, 15.77681756, 15.73220305, 15.54766821,\n",
      "       15.31330186, 14.91538018, 15.57598822, 15.5081456 , 16.01565913,\n",
      "       14.94576995, 15.68472869, 15.62379774, 14.89324341, 15.24380865,\n",
      "       15.44080058, 15.27911838, 15.18926507, 15.59155427, 14.99305311,\n",
      "       15.47306977, 15.2089017 , 15.68726559, 15.66254701, 15.45899562,\n",
      "       15.94823074, 15.83566298, 15.08941124, 15.96524266, 15.16537459,\n",
      "       15.14982583, 14.918813  , 15.30326782, 15.77833288, 15.35590295,\n",
      "       15.3037831 , 15.1267983 , 15.15287909, 14.87148811, 15.12145712,\n",
      "       15.28976553, 15.51960822, 15.34612549, 15.40121767, 15.50422438,\n",
      "       15.70503132, 15.06085264, 15.32538808, 15.0431625 , 15.02464845,\n",
      "       15.33922619, 15.79926644, 15.57082727, 15.71644397, 14.94374879,\n",
      "       15.28355421, 15.2114625 , 15.31012127, 15.2011805 , 14.85901802,\n",
      "       14.89890781, 15.19651891, 15.95182596, 14.93453035, 15.2362104 ,\n",
      "       15.0172802 , 15.42757365, 15.7698676 , 14.92174135, 15.8183739 ,\n",
      "       15.63472566, 15.19476282, 15.68666073, 14.86970709, 15.57782358,\n",
      "       15.44811737, 15.01632446, 16.04145177, 15.13109047, 15.76874921,\n",
      "       14.97942968, 15.09389176, 15.56274333]), array([15.04807111, 15.53827733, 15.18160247, 15.39035723, 16.03905255,\n",
      "       15.25059532, 14.73976986, 15.59890195, 15.72059886, 15.34590548,\n",
      "       15.10749451, 15.02745183, 15.4697308 , 15.6335875 , 16.40327467,\n",
      "       14.55744838, 15.81968975, 15.83838188, 14.55744838, 14.79120201,\n",
      "       15.70485051, 15.36094335, 15.22527752, 15.31513383, 15.06827381,\n",
      "       15.59890195, 15.05822348, 15.36094335, 15.54760866, 15.33063801,\n",
      "       15.76640839, 15.47373883, 15.21669378, 15.79097965, 15.10749451,\n",
      "       15.14523483, 15.03781461, 15.25059532, 15.71012756, 15.43291684,\n",
      "       15.29779691, 15.02745183, 15.31357011, 15.05822348, 15.1726338 ,\n",
      "       15.68885017, 15.24892726, 15.40474597, 14.61885698, 15.41186343,\n",
      "       15.90031283, 15.43152698, 15.98456437, 14.71159899, 15.25059532,\n",
      "       15.25059532, 15.33063801, 15.46704984, 15.65494862, 15.27853468,\n",
      "       15.06827381, 14.89392048, 15.24222707, 15.16358397, 14.89392048,\n",
      "       14.76716882, 15.26712462, 16.0082809 , 14.89392048, 15.14523483,\n",
      "       15.03781461, 15.32909836, 15.06827381, 15.04807111, 15.94374238,\n",
      "       15.50652864, 14.94271063, 15.40474597, 14.43339579, 15.10749451,\n",
      "       15.21669378, 15.32909836, 15.89244909, 14.91512268, 15.63925323,\n",
      "       15.10749451, 15.06827381, 15.70696467]), array([14.94260313, 15.481973  , 15.33728632, 15.17399208, 15.26279638,\n",
      "       15.15344854, 14.99436708, 15.77681756, 15.73220305, 15.54766821,\n",
      "       15.31330186, 14.91538018, 15.57598822, 15.5081456 , 16.01565913,\n",
      "       14.94576995, 15.68472869, 15.62379774, 14.89324341, 15.24380865,\n",
      "       15.44080058, 15.27911838, 15.18926507, 15.59155427, 14.99305311,\n",
      "       15.47306977, 15.2089017 , 15.68726559, 15.66254701, 15.45899562,\n",
      "       15.94823074, 15.83566298, 15.08941124, 15.96524266, 15.16537459,\n",
      "       15.14982583, 14.918813  , 15.30326782, 15.77833288, 15.35590295,\n",
      "       15.3037831 , 15.1267983 , 15.15287909, 14.87148811, 15.12145712,\n",
      "       15.28976553, 15.51960822, 15.34612549, 15.40121767, 15.50422438,\n",
      "       15.70503132, 15.06085264, 15.32538808, 15.0431625 , 15.02464845,\n",
      "       15.33922619, 15.79926644, 15.57082727, 15.71644397, 14.94374879,\n",
      "       15.28355421, 15.2114625 , 15.31012127, 15.2011805 , 14.85901802,\n",
      "       14.89890781, 15.19651891, 15.95182596, 14.93453035, 15.2362104 ,\n",
      "       15.0172802 , 15.42757365, 15.7698676 , 14.92174135, 15.8183739 ,\n",
      "       15.63472566, 15.19476282, 15.68666073, 14.86970709, 15.57782358,\n",
      "       15.44811737, 15.01632446, 16.04145177, 15.13109047, 15.76874921,\n",
      "       14.97942968, 15.09389176, 15.56274333]), array([15.04807111, 15.53827733, 15.18160247, 15.39035723, 16.03905255,\n",
      "       15.25059532, 14.73976986, 15.59890195, 15.72059886, 15.34590548,\n",
      "       15.10749451, 15.02745183, 15.4697308 , 15.6335875 , 16.40327467,\n",
      "       14.55744838, 15.81968975, 15.83838188, 14.55744838, 14.79120201,\n",
      "       15.70485051, 15.36094335, 15.22527752, 15.31513383, 15.06827381,\n",
      "       15.59890195, 15.05822348, 15.36094335, 15.54760866, 15.33063801,\n",
      "       15.76640839, 15.47373883, 15.21669378, 15.79097965, 15.10749451,\n",
      "       15.14523483, 15.03781461, 15.25059532, 15.71012756, 15.43291684,\n",
      "       15.29779691, 15.02745183, 15.31357011, 15.05822348, 15.1726338 ,\n",
      "       15.68885017, 15.24892726, 15.40474597, 14.61885698, 15.41186343,\n",
      "       15.90031283, 15.43152698, 15.98456437, 14.71159899, 15.25059532,\n",
      "       15.25059532, 15.33063801, 15.46704984, 15.65494862, 15.27853468,\n",
      "       15.06827381, 14.89392048, 15.24222707, 15.16358397, 14.89392048,\n",
      "       14.76716882, 15.26712462, 16.0082809 , 14.89392048, 15.14523483,\n",
      "       15.03781461, 15.32909836, 15.06827381, 15.04807111, 15.94374238,\n",
      "       15.50652864, 14.94271063, 15.40474597, 14.43339579, 15.10749451,\n",
      "       15.21669378, 15.32909836, 15.89244909, 14.91512268, 15.63925323,\n",
      "       15.10749451, 15.06827381, 15.70696467]), array([14.94260313, 15.481973  , 15.33728632, 15.17399208, 15.26279638,\n",
      "       15.15344854, 14.99436708, 15.77681756, 15.73220305, 15.54766821,\n",
      "       15.31330186, 14.91538018, 15.57598822, 15.5081456 , 16.01565913,\n",
      "       14.94576995, 15.68472869, 15.62379774, 14.89324341, 15.24380865,\n",
      "       15.44080058, 15.27911838, 15.18926507, 15.59155427, 14.99305311,\n",
      "       15.47306977, 15.2089017 , 15.68726559, 15.66254701, 15.45899562,\n",
      "       15.94823074, 15.83566298, 15.08941124, 15.96524266, 15.16537459,\n",
      "       15.14982583, 14.918813  , 15.30326782, 15.77833288, 15.35590295,\n",
      "       15.3037831 , 15.1267983 , 15.15287909, 14.87148811, 15.12145712,\n",
      "       15.28976553, 15.51960822, 15.34612549, 15.40121767, 15.50422438,\n",
      "       15.70503132, 15.06085264, 15.32538808, 15.0431625 , 15.02464845,\n",
      "       15.33922619, 15.79926644, 15.57082727, 15.71644397, 14.94374879,\n",
      "       15.28355421, 15.2114625 , 15.31012127, 15.2011805 , 14.85901802,\n",
      "       14.89890781, 15.19651891, 15.95182596, 14.93453035, 15.2362104 ,\n",
      "       15.0172802 , 15.42757365, 15.7698676 , 14.92174135, 15.8183739 ,\n",
      "       15.63472566, 15.19476282, 15.68666073, 14.86970709, 15.57782358,\n",
      "       15.44811737, 15.01632446, 16.04145177, 15.13109047, 15.76874921,\n",
      "       14.97942968, 15.09389176, 15.56274333]), array([15.04807111, 15.53827733, 15.18160247, 15.39035723, 16.03905255,\n",
      "       15.25059532, 14.73976986, 15.59890195, 15.72059886, 15.34590548,\n",
      "       15.10749451, 15.02745183, 15.4697308 , 15.6335875 , 16.40327467,\n",
      "       14.55744838, 15.81968975, 15.83838188, 14.55744838, 14.79120201,\n",
      "       15.70485051, 15.36094335, 15.22527752, 15.31513383, 15.06827381,\n",
      "       15.59890195, 15.05822348, 15.36094335, 15.54760866, 15.33063801,\n",
      "       15.76640839, 15.47373883, 15.21669378, 15.79097965, 15.10749451,\n",
      "       15.14523483, 15.03781461, 15.25059532, 15.71012756, 15.43291684,\n",
      "       15.29779691, 15.02745183, 15.31357011, 15.05822348, 15.1726338 ,\n",
      "       15.68885017, 15.24892726, 15.40474597, 14.61885698, 15.41186343,\n",
      "       15.90031283, 15.43152698, 15.98456437, 14.71159899, 15.25059532,\n",
      "       15.25059532, 15.33063801, 15.46704984, 15.65494862, 15.27853468,\n",
      "       15.06827381, 14.89392048, 15.24222707, 15.16358397, 14.89392048,\n",
      "       14.76716882, 15.26712462, 16.0082809 , 14.89392048, 15.14523483,\n",
      "       15.03781461, 15.32909836, 15.06827381, 15.04807111, 15.94374238,\n",
      "       15.50652864, 14.94271063, 15.40474597, 14.43339579, 15.10749451,\n",
      "       15.21669378, 15.32909836, 15.89244909, 14.91512268, 15.63925323,\n",
      "       15.10749451, 15.06827381, 15.70696467]), array([14.94260313, 15.481973  , 15.33728632, 15.17399208, 15.26279638,\n",
      "       15.15344854, 14.99436708, 15.77681756, 15.73220305, 15.54766821,\n",
      "       15.31330186, 14.91538018, 15.57598822, 15.5081456 , 16.01565913,\n",
      "       14.94576995, 15.68472869, 15.62379774, 14.89324341, 15.24380865,\n",
      "       15.44080058, 15.27911838, 15.18926507, 15.59155427, 14.99305311,\n",
      "       15.47306977, 15.2089017 , 15.68726559, 15.66254701, 15.45899562,\n",
      "       15.94823074, 15.83566298, 15.08941124, 15.96524266, 15.16537459,\n",
      "       15.14982583, 14.918813  , 15.30326782, 15.77833288, 15.35590295,\n",
      "       15.3037831 , 15.1267983 , 15.15287909, 14.87148811, 15.12145712,\n",
      "       15.28976553, 15.51960822, 15.34612549, 15.40121767, 15.50422438,\n",
      "       15.70503132, 15.06085264, 15.32538808, 15.0431625 , 15.02464845,\n",
      "       15.33922619, 15.79926644, 15.57082727, 15.71644397, 14.94374879,\n",
      "       15.28355421, 15.2114625 , 15.31012127, 15.2011805 , 14.85901802,\n",
      "       14.89890781, 15.19651891, 15.95182596, 14.93453035, 15.2362104 ,\n",
      "       15.0172802 , 15.42757365, 15.7698676 , 14.92174135, 15.8183739 ,\n",
      "       15.63472566, 15.19476282, 15.68666073, 14.86970709, 15.57782358,\n",
      "       15.44811737, 15.01632446, 16.04145177, 15.13109047, 15.76874921,\n",
      "       14.97942968, 15.09389176, 15.56274333]), array([15.04807111, 15.53827733, 15.18160247, 15.39035723, 16.03905255,\n",
      "       15.25059532, 14.73976986, 15.59890195, 15.72059886, 15.34590548,\n",
      "       15.10749451, 15.02745183, 15.4697308 , 15.6335875 , 16.40327467,\n",
      "       14.55744838, 15.81968975, 15.83838188, 14.55744838, 14.79120201,\n",
      "       15.70485051, 15.36094335, 15.22527752, 15.31513383, 15.06827381,\n",
      "       15.59890195, 15.05822348, 15.36094335, 15.54760866, 15.33063801,\n",
      "       15.76640839, 15.47373883, 15.21669378, 15.79097965, 15.10749451,\n",
      "       15.14523483, 15.03781461, 15.25059532, 15.71012756, 15.43291684,\n",
      "       15.29779691, 15.02745183, 15.31357011, 15.05822348, 15.1726338 ,\n",
      "       15.68885017, 15.24892726, 15.40474597, 14.61885698, 15.41186343,\n",
      "       15.90031283, 15.43152698, 15.98456437, 14.71159899, 15.25059532,\n",
      "       15.25059532, 15.33063801, 15.46704984, 15.65494862, 15.27853468,\n",
      "       15.06827381, 14.89392048, 15.24222707, 15.16358397, 14.89392048,\n",
      "       14.76716882, 15.26712462, 16.0082809 , 14.89392048, 15.14523483,\n",
      "       15.03781461, 15.32909836, 15.06827381, 15.04807111, 15.94374238,\n",
      "       15.50652864, 14.94271063, 15.40474597, 14.43339579, 15.10749451,\n",
      "       15.21669378, 15.32909836, 15.89244909, 14.91512268, 15.63925323,\n",
      "       15.10749451, 15.06827381, 15.70696467]), array([14.94260313, 15.481973  , 15.33728632, 15.17399208, 15.26279638,\n",
      "       15.15344854, 14.99436708, 15.77681756, 15.73220305, 15.54766821,\n",
      "       15.31330186, 14.91538018, 15.57598822, 15.5081456 , 16.01565913,\n",
      "       14.94576995, 15.68472869, 15.62379774, 14.89324341, 15.24380865,\n",
      "       15.44080058, 15.27911838, 15.18926507, 15.59155427, 14.99305311,\n",
      "       15.47306977, 15.2089017 , 15.68726559, 15.66254701, 15.45899562,\n",
      "       15.94823074, 15.83566298, 15.08941124, 15.96524266, 15.16537459,\n",
      "       15.14982583, 14.918813  , 15.30326782, 15.77833288, 15.35590295,\n",
      "       15.3037831 , 15.1267983 , 15.15287909, 14.87148811, 15.12145712,\n",
      "       15.28976553, 15.51960822, 15.34612549, 15.40121767, 15.50422438,\n",
      "       15.70503132, 15.06085264, 15.32538808, 15.0431625 , 15.02464845,\n",
      "       15.33922619, 15.79926644, 15.57082727, 15.71644397, 14.94374879,\n",
      "       15.28355421, 15.2114625 , 15.31012127, 15.2011805 , 14.85901802,\n",
      "       14.89890781, 15.19651891, 15.95182596, 14.93453035, 15.2362104 ,\n",
      "       15.0172802 , 15.42757365, 15.7698676 , 14.92174135, 15.8183739 ,\n",
      "       15.63472566, 15.19476282, 15.68666073, 14.86970709, 15.57782358,\n",
      "       15.44811737, 15.01632446, 16.04145177, 15.13109047, 15.76874921,\n",
      "       14.97942968, 15.09389176, 15.56274333]), array([15.04807111, 15.53827733, 15.18160247, 15.39035723, 16.03905255,\n",
      "       15.25059532, 14.73976986, 15.59890195, 15.72059886, 15.34590548,\n",
      "       15.10749451, 15.02745183, 15.4697308 , 15.6335875 , 16.40327467,\n",
      "       14.55744838, 15.81968975, 15.83838188, 14.55744838, 14.79120201,\n",
      "       15.70485051, 15.36094335, 15.22527752, 15.31513383, 15.06827381,\n",
      "       15.59890195, 15.05822348, 15.36094335, 15.54760866, 15.33063801,\n",
      "       15.76640839, 15.47373883, 15.21669378, 15.79097965, 15.10749451,\n",
      "       15.14523483, 15.03781461, 15.25059532, 15.71012756, 15.43291684,\n",
      "       15.29779691, 15.02745183, 15.31357011, 15.05822348, 15.1726338 ,\n",
      "       15.68885017, 15.24892726, 15.40474597, 14.61885698, 15.41186343,\n",
      "       15.90031283, 15.43152698, 15.98456437, 14.71159899, 15.25059532,\n",
      "       15.25059532, 15.33063801, 15.46704984, 15.65494862, 15.27853468,\n",
      "       15.06827381, 14.89392048, 15.24222707, 15.16358397, 14.89392048,\n",
      "       14.76716882, 15.26712462, 16.0082809 , 14.89392048, 15.14523483,\n",
      "       15.03781461, 15.32909836, 15.06827381, 15.04807111, 15.94374238,\n",
      "       15.50652864, 14.94271063, 15.40474597, 14.43339579, 15.10749451,\n",
      "       15.21669378, 15.32909836, 15.89244909, 14.91512268, 15.63925323,\n",
      "       15.10749451, 15.06827381, 15.70696467]), array([14.94260313, 15.481973  , 15.33728632, 15.17399208, 15.26279638,\n",
      "       15.15344854, 14.99436708, 15.77681756, 15.73220305, 15.54766821,\n",
      "       15.31330186, 14.91538018, 15.57598822, 15.5081456 , 16.01565913,\n",
      "       14.94576995, 15.68472869, 15.62379774, 14.89324341, 15.24380865,\n",
      "       15.44080058, 15.27911838, 15.18926507, 15.59155427, 14.99305311,\n",
      "       15.47306977, 15.2089017 , 15.68726559, 15.66254701, 15.45899562,\n",
      "       15.94823074, 15.83566298, 15.08941124, 15.96524266, 15.16537459,\n",
      "       15.14982583, 14.918813  , 15.30326782, 15.77833288, 15.35590295,\n",
      "       15.3037831 , 15.1267983 , 15.15287909, 14.87148811, 15.12145712,\n",
      "       15.28976553, 15.51960822, 15.34612549, 15.40121767, 15.50422438,\n",
      "       15.70503132, 15.06085264, 15.32538808, 15.0431625 , 15.02464845,\n",
      "       15.33922619, 15.79926644, 15.57082727, 15.71644397, 14.94374879,\n",
      "       15.28355421, 15.2114625 , 15.31012127, 15.2011805 , 14.85901802,\n",
      "       14.89890781, 15.19651891, 15.95182596, 14.93453035, 15.2362104 ,\n",
      "       15.0172802 , 15.42757365, 15.7698676 , 14.92174135, 15.8183739 ,\n",
      "       15.63472566, 15.19476282, 15.68666073, 14.86970709, 15.57782358,\n",
      "       15.44811737, 15.01632446, 16.04145177, 15.13109047, 15.76874921,\n",
      "       14.97942968, 15.09389176, 15.56274333]), array([15.04807111, 15.53827733, 15.18160247, 15.39035723, 16.03905255,\n",
      "       15.25059532, 14.73976986, 15.59890195, 15.72059886, 15.34590548,\n",
      "       15.10749451, 15.02745183, 15.4697308 , 15.6335875 , 16.40327467,\n",
      "       14.55744838, 15.81968975, 15.83838188, 14.55744838, 14.79120201,\n",
      "       15.70485051, 15.36094335, 15.22527752, 15.31513383, 15.06827381,\n",
      "       15.59890195, 15.05822348, 15.36094335, 15.54760866, 15.33063801,\n",
      "       15.76640839, 15.47373883, 15.21669378, 15.79097965, 15.10749451,\n",
      "       15.14523483, 15.03781461, 15.25059532, 15.71012756, 15.43291684,\n",
      "       15.29779691, 15.02745183, 15.31357011, 15.05822348, 15.1726338 ,\n",
      "       15.68885017, 15.24892726, 15.40474597, 14.61885698, 15.41186343,\n",
      "       15.90031283, 15.43152698, 15.98456437, 14.71159899, 15.25059532,\n",
      "       15.25059532, 15.33063801, 15.46704984, 15.65494862, 15.27853468,\n",
      "       15.06827381, 14.89392048, 15.24222707, 15.16358397, 14.89392048,\n",
      "       14.76716882, 15.26712462, 16.0082809 , 14.89392048, 15.14523483,\n",
      "       15.03781461, 15.32909836, 15.06827381, 15.04807111, 15.94374238,\n",
      "       15.50652864, 14.94271063, 15.40474597, 14.43339579, 15.10749451,\n",
      "       15.21669378, 15.32909836, 15.89244909, 14.91512268, 15.63925323,\n",
      "       15.10749451, 15.06827381, 15.70696467]), array([14.94260313, 15.481973  , 15.33728632, 15.17399208, 15.26279638,\n",
      "       15.15344854, 14.99436708, 15.77681756, 15.73220305, 15.54766821,\n",
      "       15.31330186, 14.91538018, 15.57598822, 15.5081456 , 16.01565913,\n",
      "       14.94576995, 15.68472869, 15.62379774, 14.89324341, 15.24380865,\n",
      "       15.44080058, 15.27911838, 15.18926507, 15.59155427, 14.99305311,\n",
      "       15.47306977, 15.2089017 , 15.68726559, 15.66254701, 15.45899562,\n",
      "       15.94823074, 15.83566298, 15.08941124, 15.96524266, 15.16537459,\n",
      "       15.14982583, 14.918813  , 15.30326782, 15.77833288, 15.35590295,\n",
      "       15.3037831 , 15.1267983 , 15.15287909, 14.87148811, 15.12145712,\n",
      "       15.28976553, 15.51960822, 15.34612549, 15.40121767, 15.50422438,\n",
      "       15.70503132, 15.06085264, 15.32538808, 15.0431625 , 15.02464845,\n",
      "       15.33922619, 15.79926644, 15.57082727, 15.71644397, 14.94374879,\n",
      "       15.28355421, 15.2114625 , 15.31012127, 15.2011805 , 14.85901802,\n",
      "       14.89890781, 15.19651891, 15.95182596, 14.93453035, 15.2362104 ,\n",
      "       15.0172802 , 15.42757365, 15.7698676 , 14.92174135, 15.8183739 ,\n",
      "       15.63472566, 15.19476282, 15.68666073, 14.86970709, 15.57782358,\n",
      "       15.44811737, 15.01632446, 16.04145177, 15.13109047, 15.76874921,\n",
      "       14.97942968, 15.09389176, 15.56274333]), array([15.04807111, 15.53827733, 15.18160247, 15.39035723, 16.03905255,\n",
      "       15.25059532, 14.73976986, 15.59890195, 15.72059886, 15.34590548,\n",
      "       15.10749451, 15.02745183, 15.4697308 , 15.6335875 , 16.40327467,\n",
      "       14.55744838, 15.81968975, 15.83838188, 14.55744838, 14.79120201,\n",
      "       15.70485051, 15.36094335, 15.22527752, 15.31513383, 15.06827381,\n",
      "       15.59890195, 15.05822348, 15.36094335, 15.54760866, 15.33063801,\n",
      "       15.76640839, 15.47373883, 15.21669378, 15.79097965, 15.10749451,\n",
      "       15.14523483, 15.03781461, 15.25059532, 15.71012756, 15.43291684,\n",
      "       15.29779691, 15.02745183, 15.31357011, 15.05822348, 15.1726338 ,\n",
      "       15.68885017, 15.24892726, 15.40474597, 14.61885698, 15.41186343,\n",
      "       15.90031283, 15.43152698, 15.98456437, 14.71159899, 15.25059532,\n",
      "       15.25059532, 15.33063801, 15.46704984, 15.65494862, 15.27853468,\n",
      "       15.06827381, 14.89392048, 15.24222707, 15.16358397, 14.89392048,\n",
      "       14.76716882, 15.26712462, 16.0082809 , 14.89392048, 15.14523483,\n",
      "       15.03781461, 15.32909836, 15.06827381, 15.04807111, 15.94374238,\n",
      "       15.50652864, 14.94271063, 15.40474597, 14.43339579, 15.10749451,\n",
      "       15.21669378, 15.32909836, 15.89244909, 14.91512268, 15.63925323,\n",
      "       15.10749451, 15.06827381, 15.70696467]), array([14.94260313, 15.481973  , 15.33728632, 15.17399208, 15.26279638,\n",
      "       15.15344854, 14.99436708, 15.77681756, 15.73220305, 15.54766821,\n",
      "       15.31330186, 14.91538018, 15.57598822, 15.5081456 , 16.01565913,\n",
      "       14.94576995, 15.68472869, 15.62379774, 14.89324341, 15.24380865,\n",
      "       15.44080058, 15.27911838, 15.18926507, 15.59155427, 14.99305311,\n",
      "       15.47306977, 15.2089017 , 15.68726559, 15.66254701, 15.45899562,\n",
      "       15.94823074, 15.83566298, 15.08941124, 15.96524266, 15.16537459,\n",
      "       15.14982583, 14.918813  , 15.30326782, 15.77833288, 15.35590295,\n",
      "       15.3037831 , 15.1267983 , 15.15287909, 14.87148811, 15.12145712,\n",
      "       15.28976553, 15.51960822, 15.34612549, 15.40121767, 15.50422438,\n",
      "       15.70503132, 15.06085264, 15.32538808, 15.0431625 , 15.02464845,\n",
      "       15.33922619, 15.79926644, 15.57082727, 15.71644397, 14.94374879,\n",
      "       15.28355421, 15.2114625 , 15.31012127, 15.2011805 , 14.85901802,\n",
      "       14.89890781, 15.19651891, 15.95182596, 14.93453035, 15.2362104 ,\n",
      "       15.0172802 , 15.42757365, 15.7698676 , 14.92174135, 15.8183739 ,\n",
      "       15.63472566, 15.19476282, 15.68666073, 14.86970709, 15.57782358,\n",
      "       15.44811737, 15.01632446, 16.04145177, 15.13109047, 15.76874921,\n",
      "       14.97942968, 15.09389176, 15.56274333]), array([15.04807111, 15.53827733, 15.18160247, 15.39035723, 16.03905255,\n",
      "       15.25059532, 14.73976986, 15.59890195, 15.72059886, 15.34590548,\n",
      "       15.10749451, 15.02745183, 15.4697308 , 15.6335875 , 16.40327467,\n",
      "       14.55744838, 15.81968975, 15.83838188, 14.55744838, 14.79120201,\n",
      "       15.70485051, 15.36094335, 15.22527752, 15.31513383, 15.06827381,\n",
      "       15.59890195, 15.05822348, 15.36094335, 15.54760866, 15.33063801,\n",
      "       15.76640839, 15.47373883, 15.21669378, 15.79097965, 15.10749451,\n",
      "       15.14523483, 15.03781461, 15.25059532, 15.71012756, 15.43291684,\n",
      "       15.29779691, 15.02745183, 15.31357011, 15.05822348, 15.1726338 ,\n",
      "       15.68885017, 15.24892726, 15.40474597, 14.61885698, 15.41186343,\n",
      "       15.90031283, 15.43152698, 15.98456437, 14.71159899, 15.25059532,\n",
      "       15.25059532, 15.33063801, 15.46704984, 15.65494862, 15.27853468,\n",
      "       15.06827381, 14.89392048, 15.24222707, 15.16358397, 14.89392048,\n",
      "       14.76716882, 15.26712462, 16.0082809 , 14.89392048, 15.14523483,\n",
      "       15.03781461, 15.32909836, 15.06827381, 15.04807111, 15.94374238,\n",
      "       15.50652864, 14.94271063, 15.40474597, 14.43339579, 15.10749451,\n",
      "       15.21669378, 15.32909836, 15.89244909, 14.91512268, 15.63925323,\n",
      "       15.10749451, 15.06827381, 15.70696467]), array([14.94260313, 15.481973  , 15.33728632, 15.17399208, 15.26279638,\n",
      "       15.15344854, 14.99436708, 15.77681756, 15.73220305, 15.54766821,\n",
      "       15.31330186, 14.91538018, 15.57598822, 15.5081456 , 16.01565913,\n",
      "       14.94576995, 15.68472869, 15.62379774, 14.89324341, 15.24380865,\n",
      "       15.44080058, 15.27911838, 15.18926507, 15.59155427, 14.99305311,\n",
      "       15.47306977, 15.2089017 , 15.68726559, 15.66254701, 15.45899562,\n",
      "       15.94823074, 15.83566298, 15.08941124, 15.96524266, 15.16537459,\n",
      "       15.14982583, 14.918813  , 15.30326782, 15.77833288, 15.35590295,\n",
      "       15.3037831 , 15.1267983 , 15.15287909, 14.87148811, 15.12145712,\n",
      "       15.28976553, 15.51960822, 15.34612549, 15.40121767, 15.50422438,\n",
      "       15.70503132, 15.06085264, 15.32538808, 15.0431625 , 15.02464845,\n",
      "       15.33922619, 15.79926644, 15.57082727, 15.71644397, 14.94374879,\n",
      "       15.28355421, 15.2114625 , 15.31012127, 15.2011805 , 14.85901802,\n",
      "       14.89890781, 15.19651891, 15.95182596, 14.93453035, 15.2362104 ,\n",
      "       15.0172802 , 15.42757365, 15.7698676 , 14.92174135, 15.8183739 ,\n",
      "       15.63472566, 15.19476282, 15.68666073, 14.86970709, 15.57782358,\n",
      "       15.44811737, 15.01632446, 16.04145177, 15.13109047, 15.76874921,\n",
      "       14.97942968, 15.09389176, 15.56274333]), array([15.04807111, 15.53827733, 15.18160247, 15.39035723, 16.03905255,\n",
      "       15.25059532, 14.73976986, 15.59890195, 15.72059886, 15.34590548,\n",
      "       15.10749451, 15.02745183, 15.4697308 , 15.6335875 , 16.40327467,\n",
      "       14.55744838, 15.81968975, 15.83838188, 14.55744838, 14.79120201,\n",
      "       15.70485051, 15.36094335, 15.22527752, 15.31513383, 15.06827381,\n",
      "       15.59890195, 15.05822348, 15.36094335, 15.54760866, 15.33063801,\n",
      "       15.76640839, 15.47373883, 15.21669378, 15.79097965, 15.10749451,\n",
      "       15.14523483, 15.03781461, 15.25059532, 15.71012756, 15.43291684,\n",
      "       15.29779691, 15.02745183, 15.31357011, 15.05822348, 15.1726338 ,\n",
      "       15.68885017, 15.24892726, 15.40474597, 14.61885698, 15.41186343,\n",
      "       15.90031283, 15.43152698, 15.98456437, 14.71159899, 15.25059532,\n",
      "       15.25059532, 15.33063801, 15.46704984, 15.65494862, 15.27853468,\n",
      "       15.06827381, 14.89392048, 15.24222707, 15.16358397, 14.89392048,\n",
      "       14.76716882, 15.26712462, 16.0082809 , 14.89392048, 15.14523483,\n",
      "       15.03781461, 15.32909836, 15.06827381, 15.04807111, 15.94374238,\n",
      "       15.50652864, 14.94271063, 15.40474597, 14.43339579, 15.10749451,\n",
      "       15.21669378, 15.32909836, 15.89244909, 14.91512268, 15.63925323,\n",
      "       15.10749451, 15.06827381, 15.70696467]), array([14.94260313, 15.481973  , 15.33728632, 15.17399208, 15.26279638,\n",
      "       15.15344854, 14.99436708, 15.77681756, 15.73220305, 15.54766821,\n",
      "       15.31330186, 14.91538018, 15.57598822, 15.5081456 , 16.01565913,\n",
      "       14.94576995, 15.68472869, 15.62379774, 14.89324341, 15.24380865,\n",
      "       15.44080058, 15.27911838, 15.18926507, 15.59155427, 14.99305311,\n",
      "       15.47306977, 15.2089017 , 15.68726559, 15.66254701, 15.45899562,\n",
      "       15.94823074, 15.83566298, 15.08941124, 15.96524266, 15.16537459,\n",
      "       15.14982583, 14.918813  , 15.30326782, 15.77833288, 15.35590295,\n",
      "       15.3037831 , 15.1267983 , 15.15287909, 14.87148811, 15.12145712,\n",
      "       15.28976553, 15.51960822, 15.34612549, 15.40121767, 15.50422438,\n",
      "       15.70503132, 15.06085264, 15.32538808, 15.0431625 , 15.02464845,\n",
      "       15.33922619, 15.79926644, 15.57082727, 15.71644397, 14.94374879,\n",
      "       15.28355421, 15.2114625 , 15.31012127, 15.2011805 , 14.85901802,\n",
      "       14.89890781, 15.19651891, 15.95182596, 14.93453035, 15.2362104 ,\n",
      "       15.0172802 , 15.42757365, 15.7698676 , 14.92174135, 15.8183739 ,\n",
      "       15.63472566, 15.19476282, 15.68666073, 14.86970709, 15.57782358,\n",
      "       15.44811737, 15.01632446, 16.04145177, 15.13109047, 15.76874921,\n",
      "       14.97942968, 15.09389176, 15.56274333]), array([15.04807111, 15.53827733, 15.18160247, 15.39035723, 16.03905255,\n",
      "       15.25059532, 14.73976986, 15.59890195, 15.72059886, 15.34590548,\n",
      "       15.10749451, 15.02745183, 15.4697308 , 15.6335875 , 16.40327467,\n",
      "       14.55744838, 15.81968975, 15.83838188, 14.55744838, 14.79120201,\n",
      "       15.70485051, 15.36094335, 15.22527752, 15.31513383, 15.06827381,\n",
      "       15.59890195, 15.05822348, 15.36094335, 15.54760866, 15.33063801,\n",
      "       15.76640839, 15.47373883, 15.21669378, 15.79097965, 15.10749451,\n",
      "       15.14523483, 15.03781461, 15.25059532, 15.71012756, 15.43291684,\n",
      "       15.29779691, 15.02745183, 15.31357011, 15.05822348, 15.1726338 ,\n",
      "       15.68885017, 15.24892726, 15.40474597, 14.61885698, 15.41186343,\n",
      "       15.90031283, 15.43152698, 15.98456437, 14.71159899, 15.25059532,\n",
      "       15.25059532, 15.33063801, 15.46704984, 15.65494862, 15.27853468,\n",
      "       15.06827381, 14.89392048, 15.24222707, 15.16358397, 14.89392048,\n",
      "       14.76716882, 15.26712462, 16.0082809 , 14.89392048, 15.14523483,\n",
      "       15.03781461, 15.32909836, 15.06827381, 15.04807111, 15.94374238,\n",
      "       15.50652864, 14.94271063, 15.40474597, 14.43339579, 15.10749451,\n",
      "       15.21669378, 15.32909836, 15.89244909, 14.91512268, 15.63925323,\n",
      "       15.10749451, 15.06827381, 15.70696467]), array([14.94260313, 15.481973  , 15.33728632, 15.17399208, 15.26279638,\n",
      "       15.15344854, 14.99436708, 15.77681756, 15.73220305, 15.54766821,\n",
      "       15.31330186, 14.91538018, 15.57598822, 15.5081456 , 16.01565913,\n",
      "       14.94576995, 15.68472869, 15.62379774, 14.89324341, 15.24380865,\n",
      "       15.44080058, 15.27911838, 15.18926507, 15.59155427, 14.99305311,\n",
      "       15.47306977, 15.2089017 , 15.68726559, 15.66254701, 15.45899562,\n",
      "       15.94823074, 15.83566298, 15.08941124, 15.96524266, 15.16537459,\n",
      "       15.14982583, 14.918813  , 15.30326782, 15.77833288, 15.35590295,\n",
      "       15.3037831 , 15.1267983 , 15.15287909, 14.87148811, 15.12145712,\n",
      "       15.28976553, 15.51960822, 15.34612549, 15.40121767, 15.50422438,\n",
      "       15.70503132, 15.06085264, 15.32538808, 15.0431625 , 15.02464845,\n",
      "       15.33922619, 15.79926644, 15.57082727, 15.71644397, 14.94374879,\n",
      "       15.28355421, 15.2114625 , 15.31012127, 15.2011805 , 14.85901802,\n",
      "       14.89890781, 15.19651891, 15.95182596, 14.93453035, 15.2362104 ,\n",
      "       15.0172802 , 15.42757365, 15.7698676 , 14.92174135, 15.8183739 ,\n",
      "       15.63472566, 15.19476282, 15.68666073, 14.86970709, 15.57782358,\n",
      "       15.44811737, 15.01632446, 16.04145177, 15.13109047, 15.76874921,\n",
      "       14.97942968, 15.09389176, 15.56274333]), array([15.04807111, 15.53827733, 15.18160247, 15.39035723, 16.03905255,\n",
      "       15.25059532, 14.73976986, 15.59890195, 15.72059886, 15.34590548,\n",
      "       15.10749451, 15.02745183, 15.4697308 , 15.6335875 , 16.40327467,\n",
      "       14.55744838, 15.81968975, 15.83838188, 14.55744838, 14.79120201,\n",
      "       15.70485051, 15.36094335, 15.22527752, 15.31513383, 15.06827381,\n",
      "       15.59890195, 15.05822348, 15.36094335, 15.54760866, 15.33063801,\n",
      "       15.76640839, 15.47373883, 15.21669378, 15.79097965, 15.10749451,\n",
      "       15.14523483, 15.03781461, 15.25059532, 15.71012756, 15.43291684,\n",
      "       15.29779691, 15.02745183, 15.31357011, 15.05822348, 15.1726338 ,\n",
      "       15.68885017, 15.24892726, 15.40474597, 14.61885698, 15.41186343,\n",
      "       15.90031283, 15.43152698, 15.98456437, 14.71159899, 15.25059532,\n",
      "       15.25059532, 15.33063801, 15.46704984, 15.65494862, 15.27853468,\n",
      "       15.06827381, 14.89392048, 15.24222707, 15.16358397, 14.89392048,\n",
      "       14.76716882, 15.26712462, 16.0082809 , 14.89392048, 15.14523483,\n",
      "       15.03781461, 15.32909836, 15.06827381, 15.04807111, 15.94374238,\n",
      "       15.50652864, 14.94271063, 15.40474597, 14.43339579, 15.10749451,\n",
      "       15.21669378, 15.32909836, 15.89244909, 14.91512268, 15.63925323,\n",
      "       15.10749451, 15.06827381, 15.70696467]), array([14.94260313, 15.481973  , 15.33728632, 15.17399208, 15.26279638,\n",
      "       15.15344854, 14.99436708, 15.77681756, 15.73220305, 15.54766821,\n",
      "       15.31330186, 14.91538018, 15.57598822, 15.5081456 , 16.01565913,\n",
      "       14.94576995, 15.68472869, 15.62379774, 14.89324341, 15.24380865,\n",
      "       15.44080058, 15.27911838, 15.18926507, 15.59155427, 14.99305311,\n",
      "       15.47306977, 15.2089017 , 15.68726559, 15.66254701, 15.45899562,\n",
      "       15.94823074, 15.83566298, 15.08941124, 15.96524266, 15.16537459,\n",
      "       15.14982583, 14.918813  , 15.30326782, 15.77833288, 15.35590295,\n",
      "       15.3037831 , 15.1267983 , 15.15287909, 14.87148811, 15.12145712,\n",
      "       15.28976553, 15.51960822, 15.34612549, 15.40121767, 15.50422438,\n",
      "       15.70503132, 15.06085264, 15.32538808, 15.0431625 , 15.02464845,\n",
      "       15.33922619, 15.79926644, 15.57082727, 15.71644397, 14.94374879,\n",
      "       15.28355421, 15.2114625 , 15.31012127, 15.2011805 , 14.85901802,\n",
      "       14.89890781, 15.19651891, 15.95182596, 14.93453035, 15.2362104 ,\n",
      "       15.0172802 , 15.42757365, 15.7698676 , 14.92174135, 15.8183739 ,\n",
      "       15.63472566, 15.19476282, 15.68666073, 14.86970709, 15.57782358,\n",
      "       15.44811737, 15.01632446, 16.04145177, 15.13109047, 15.76874921,\n",
      "       14.97942968, 15.09389176, 15.56274333]), array([15.04807111, 15.53827733, 15.18160247, 15.39035723, 16.03905255,\n",
      "       15.25059532, 14.73976986, 15.59890195, 15.72059886, 15.34590548,\n",
      "       15.10749451, 15.02745183, 15.4697308 , 15.6335875 , 16.40327467,\n",
      "       14.55744838, 15.81968975, 15.83838188, 14.55744838, 14.79120201,\n",
      "       15.70485051, 15.36094335, 15.22527752, 15.31513383, 15.06827381,\n",
      "       15.59890195, 15.05822348, 15.36094335, 15.54760866, 15.33063801,\n",
      "       15.76640839, 15.47373883, 15.21669378, 15.79097965, 15.10749451,\n",
      "       15.14523483, 15.03781461, 15.25059532, 15.71012756, 15.43291684,\n",
      "       15.29779691, 15.02745183, 15.31357011, 15.05822348, 15.1726338 ,\n",
      "       15.68885017, 15.24892726, 15.40474597, 14.61885698, 15.41186343,\n",
      "       15.90031283, 15.43152698, 15.98456437, 14.71159899, 15.25059532,\n",
      "       15.25059532, 15.33063801, 15.46704984, 15.65494862, 15.27853468,\n",
      "       15.06827381, 14.89392048, 15.24222707, 15.16358397, 14.89392048,\n",
      "       14.76716882, 15.26712462, 16.0082809 , 14.89392048, 15.14523483,\n",
      "       15.03781461, 15.32909836, 15.06827381, 15.04807111, 15.94374238,\n",
      "       15.50652864, 14.94271063, 15.40474597, 14.43339579, 15.10749451,\n",
      "       15.21669378, 15.32909836, 15.89244909, 14.91512268, 15.63925323,\n",
      "       15.10749451, 15.06827381, 15.70696467]), array([14.94260313, 15.481973  , 15.33728632, 15.17399208, 15.26279638,\n",
      "       15.15344854, 14.99436708, 15.77681756, 15.73220305, 15.54766821,\n",
      "       15.31330186, 14.91538018, 15.57598822, 15.5081456 , 16.01565913,\n",
      "       14.94576995, 15.68472869, 15.62379774, 14.89324341, 15.24380865,\n",
      "       15.44080058, 15.27911838, 15.18926507, 15.59155427, 14.99305311,\n",
      "       15.47306977, 15.2089017 , 15.68726559, 15.66254701, 15.45899562,\n",
      "       15.94823074, 15.83566298, 15.08941124, 15.96524266, 15.16537459,\n",
      "       15.14982583, 14.918813  , 15.30326782, 15.77833288, 15.35590295,\n",
      "       15.3037831 , 15.1267983 , 15.15287909, 14.87148811, 15.12145712,\n",
      "       15.28976553, 15.51960822, 15.34612549, 15.40121767, 15.50422438,\n",
      "       15.70503132, 15.06085264, 15.32538808, 15.0431625 , 15.02464845,\n",
      "       15.33922619, 15.79926644, 15.57082727, 15.71644397, 14.94374879,\n",
      "       15.28355421, 15.2114625 , 15.31012127, 15.2011805 , 14.85901802,\n",
      "       14.89890781, 15.19651891, 15.95182596, 14.93453035, 15.2362104 ,\n",
      "       15.0172802 , 15.42757365, 15.7698676 , 14.92174135, 15.8183739 ,\n",
      "       15.63472566, 15.19476282, 15.68666073, 14.86970709, 15.57782358,\n",
      "       15.44811737, 15.01632446, 16.04145177, 15.13109047, 15.76874921,\n",
      "       14.97942968, 15.09389176, 15.56274333]), array([15.04807111, 15.53827733, 15.18160247, 15.39035723, 16.03905255,\n",
      "       15.25059532, 14.73976986, 15.59890195, 15.72059886, 15.34590548,\n",
      "       15.10749451, 15.02745183, 15.4697308 , 15.6335875 , 16.40327467,\n",
      "       14.55744838, 15.81968975, 15.83838188, 14.55744838, 14.79120201,\n",
      "       15.70485051, 15.36094335, 15.22527752, 15.31513383, 15.06827381,\n",
      "       15.59890195, 15.05822348, 15.36094335, 15.54760866, 15.33063801,\n",
      "       15.76640839, 15.47373883, 15.21669378, 15.79097965, 15.10749451,\n",
      "       15.14523483, 15.03781461, 15.25059532, 15.71012756, 15.43291684,\n",
      "       15.29779691, 15.02745183, 15.31357011, 15.05822348, 15.1726338 ,\n",
      "       15.68885017, 15.24892726, 15.40474597, 14.61885698, 15.41186343,\n",
      "       15.90031283, 15.43152698, 15.98456437, 14.71159899, 15.25059532,\n",
      "       15.25059532, 15.33063801, 15.46704984, 15.65494862, 15.27853468,\n",
      "       15.06827381, 14.89392048, 15.24222707, 15.16358397, 14.89392048,\n",
      "       14.76716882, 15.26712462, 16.0082809 , 14.89392048, 15.14523483,\n",
      "       15.03781461, 15.32909836, 15.06827381, 15.04807111, 15.94374238,\n",
      "       15.50652864, 14.94271063, 15.40474597, 14.43339579, 15.10749451,\n",
      "       15.21669378, 15.32909836, 15.89244909, 14.91512268, 15.63925323,\n",
      "       15.10749451, 15.06827381, 15.70696467]), array([14.94260313, 15.481973  , 15.33728632, 15.17399208, 15.26279638,\n",
      "       15.15344854, 14.99436708, 15.77681756, 15.73220305, 15.54766821,\n",
      "       15.31330186, 14.91538018, 15.57598822, 15.5081456 , 16.01565913,\n",
      "       14.94576995, 15.68472869, 15.62379774, 14.89324341, 15.24380865,\n",
      "       15.44080058, 15.27911838, 15.18926507, 15.59155427, 14.99305311,\n",
      "       15.47306977, 15.2089017 , 15.68726559, 15.66254701, 15.45899562,\n",
      "       15.94823074, 15.83566298, 15.08941124, 15.96524266, 15.16537459,\n",
      "       15.14982583, 14.918813  , 15.30326782, 15.77833288, 15.35590295,\n",
      "       15.3037831 , 15.1267983 , 15.15287909, 14.87148811, 15.12145712,\n",
      "       15.28976553, 15.51960822, 15.34612549, 15.40121767, 15.50422438,\n",
      "       15.70503132, 15.06085264, 15.32538808, 15.0431625 , 15.02464845,\n",
      "       15.33922619, 15.79926644, 15.57082727, 15.71644397, 14.94374879,\n",
      "       15.28355421, 15.2114625 , 15.31012127, 15.2011805 , 14.85901802,\n",
      "       14.89890781, 15.19651891, 15.95182596, 14.93453035, 15.2362104 ,\n",
      "       15.0172802 , 15.42757365, 15.7698676 , 14.92174135, 15.8183739 ,\n",
      "       15.63472566, 15.19476282, 15.68666073, 14.86970709, 15.57782358,\n",
      "       15.44811737, 15.01632446, 16.04145177, 15.13109047, 15.76874921,\n",
      "       14.97942968, 15.09389176, 15.56274333]), array([15.04807111, 15.53827733, 15.18160247, 15.39035723, 16.03905255,\n",
      "       15.25059532, 14.73976986, 15.59890195, 15.72059886, 15.34590548,\n",
      "       15.10749451, 15.02745183, 15.4697308 , 15.6335875 , 16.40327467,\n",
      "       14.55744838, 15.81968975, 15.83838188, 14.55744838, 14.79120201,\n",
      "       15.70485051, 15.36094335, 15.22527752, 15.31513383, 15.06827381,\n",
      "       15.59890195, 15.05822348, 15.36094335, 15.54760866, 15.33063801,\n",
      "       15.76640839, 15.47373883, 15.21669378, 15.79097965, 15.10749451,\n",
      "       15.14523483, 15.03781461, 15.25059532, 15.71012756, 15.43291684,\n",
      "       15.29779691, 15.02745183, 15.31357011, 15.05822348, 15.1726338 ,\n",
      "       15.68885017, 15.24892726, 15.40474597, 14.61885698, 15.41186343,\n",
      "       15.90031283, 15.43152698, 15.98456437, 14.71159899, 15.25059532,\n",
      "       15.25059532, 15.33063801, 15.46704984, 15.65494862, 15.27853468,\n",
      "       15.06827381, 14.89392048, 15.24222707, 15.16358397, 14.89392048,\n",
      "       14.76716882, 15.26712462, 16.0082809 , 14.89392048, 15.14523483,\n",
      "       15.03781461, 15.32909836, 15.06827381, 15.04807111, 15.94374238,\n",
      "       15.50652864, 14.94271063, 15.40474597, 14.43339579, 15.10749451,\n",
      "       15.21669378, 15.32909836, 15.89244909, 14.91512268, 15.63925323,\n",
      "       15.10749451, 15.06827381, 15.70696467]), array([14.94260313, 15.481973  , 15.33728632, 15.17399208, 15.26279638,\n",
      "       15.15344854, 14.99436708, 15.77681756, 15.73220305, 15.54766821,\n",
      "       15.31330186, 14.91538018, 15.57598822, 15.5081456 , 16.01565913,\n",
      "       14.94576995, 15.68472869, 15.62379774, 14.89324341, 15.24380865,\n",
      "       15.44080058, 15.27911838, 15.18926507, 15.59155427, 14.99305311,\n",
      "       15.47306977, 15.2089017 , 15.68726559, 15.66254701, 15.45899562,\n",
      "       15.94823074, 15.83566298, 15.08941124, 15.96524266, 15.16537459,\n",
      "       15.14982583, 14.918813  , 15.30326782, 15.77833288, 15.35590295,\n",
      "       15.3037831 , 15.1267983 , 15.15287909, 14.87148811, 15.12145712,\n",
      "       15.28976553, 15.51960822, 15.34612549, 15.40121767, 15.50422438,\n",
      "       15.70503132, 15.06085264, 15.32538808, 15.0431625 , 15.02464845,\n",
      "       15.33922619, 15.79926644, 15.57082727, 15.71644397, 14.94374879,\n",
      "       15.28355421, 15.2114625 , 15.31012127, 15.2011805 , 14.85901802,\n",
      "       14.89890781, 15.19651891, 15.95182596, 14.93453035, 15.2362104 ,\n",
      "       15.0172802 , 15.42757365, 15.7698676 , 14.92174135, 15.8183739 ,\n",
      "       15.63472566, 15.19476282, 15.68666073, 14.86970709, 15.57782358,\n",
      "       15.44811737, 15.01632446, 16.04145177, 15.13109047, 15.76874921,\n",
      "       14.97942968, 15.09389176, 15.56274333]), array([15.04807111, 15.53827733, 15.18160247, 15.39035723, 16.03905255,\n",
      "       15.25059532, 14.73976986, 15.59890195, 15.72059886, 15.34590548,\n",
      "       15.10749451, 15.02745183, 15.4697308 , 15.6335875 , 16.40327467,\n",
      "       14.55744838, 15.81968975, 15.83838188, 14.55744838, 14.79120201,\n",
      "       15.70485051, 15.36094335, 15.22527752, 15.31513383, 15.06827381,\n",
      "       15.59890195, 15.05822348, 15.36094335, 15.54760866, 15.33063801,\n",
      "       15.76640839, 15.47373883, 15.21669378, 15.79097965, 15.10749451,\n",
      "       15.14523483, 15.03781461, 15.25059532, 15.71012756, 15.43291684,\n",
      "       15.29779691, 15.02745183, 15.31357011, 15.05822348, 15.1726338 ,\n",
      "       15.68885017, 15.24892726, 15.40474597, 14.61885698, 15.41186343,\n",
      "       15.90031283, 15.43152698, 15.98456437, 14.71159899, 15.25059532,\n",
      "       15.25059532, 15.33063801, 15.46704984, 15.65494862, 15.27853468,\n",
      "       15.06827381, 14.89392048, 15.24222707, 15.16358397, 14.89392048,\n",
      "       14.76716882, 15.26712462, 16.0082809 , 14.89392048, 15.14523483,\n",
      "       15.03781461, 15.32909836, 15.06827381, 15.04807111, 15.94374238,\n",
      "       15.50652864, 14.94271063, 15.40474597, 14.43339579, 15.10749451,\n",
      "       15.21669378, 15.32909836, 15.89244909, 14.91512268, 15.63925323,\n",
      "       15.10749451, 15.06827381, 15.70696467]), array([14.94260313, 15.481973  , 15.33728632, 15.17399208, 15.26279638,\n",
      "       15.15344854, 14.99436708, 15.77681756, 15.73220305, 15.54766821,\n",
      "       15.31330186, 14.91538018, 15.57598822, 15.5081456 , 16.01565913,\n",
      "       14.94576995, 15.68472869, 15.62379774, 14.89324341, 15.24380865,\n",
      "       15.44080058, 15.27911838, 15.18926507, 15.59155427, 14.99305311,\n",
      "       15.47306977, 15.2089017 , 15.68726559, 15.66254701, 15.45899562,\n",
      "       15.94823074, 15.83566298, 15.08941124, 15.96524266, 15.16537459,\n",
      "       15.14982583, 14.918813  , 15.30326782, 15.77833288, 15.35590295,\n",
      "       15.3037831 , 15.1267983 , 15.15287909, 14.87148811, 15.12145712,\n",
      "       15.28976553, 15.51960822, 15.34612549, 15.40121767, 15.50422438,\n",
      "       15.70503132, 15.06085264, 15.32538808, 15.0431625 , 15.02464845,\n",
      "       15.33922619, 15.79926644, 15.57082727, 15.71644397, 14.94374879,\n",
      "       15.28355421, 15.2114625 , 15.31012127, 15.2011805 , 14.85901802,\n",
      "       14.89890781, 15.19651891, 15.95182596, 14.93453035, 15.2362104 ,\n",
      "       15.0172802 , 15.42757365, 15.7698676 , 14.92174135, 15.8183739 ,\n",
      "       15.63472566, 15.19476282, 15.68666073, 14.86970709, 15.57782358,\n",
      "       15.44811737, 15.01632446, 16.04145177, 15.13109047, 15.76874921,\n",
      "       14.97942968, 15.09389176, 15.56274333]), array([15.04807111, 15.53827733, 15.18160247, 15.39035723, 16.03905255,\n",
      "       15.25059532, 14.73976986, 15.59890195, 15.72059886, 15.34590548,\n",
      "       15.10749451, 15.02745183, 15.4697308 , 15.6335875 , 16.40327467,\n",
      "       14.55744838, 15.81968975, 15.83838188, 14.55744838, 14.79120201,\n",
      "       15.70485051, 15.36094335, 15.22527752, 15.31513383, 15.06827381,\n",
      "       15.59890195, 15.05822348, 15.36094335, 15.54760866, 15.33063801,\n",
      "       15.76640839, 15.47373883, 15.21669378, 15.79097965, 15.10749451,\n",
      "       15.14523483, 15.03781461, 15.25059532, 15.71012756, 15.43291684,\n",
      "       15.29779691, 15.02745183, 15.31357011, 15.05822348, 15.1726338 ,\n",
      "       15.68885017, 15.24892726, 15.40474597, 14.61885698, 15.41186343,\n",
      "       15.90031283, 15.43152698, 15.98456437, 14.71159899, 15.25059532,\n",
      "       15.25059532, 15.33063801, 15.46704984, 15.65494862, 15.27853468,\n",
      "       15.06827381, 14.89392048, 15.24222707, 15.16358397, 14.89392048,\n",
      "       14.76716882, 15.26712462, 16.0082809 , 14.89392048, 15.14523483,\n",
      "       15.03781461, 15.32909836, 15.06827381, 15.04807111, 15.94374238,\n",
      "       15.50652864, 14.94271063, 15.40474597, 14.43339579, 15.10749451,\n",
      "       15.21669378, 15.32909836, 15.89244909, 14.91512268, 15.63925323,\n",
      "       15.10749451, 15.06827381, 15.70696467]), array([14.94260313, 15.481973  , 15.33728632, 15.17399208, 15.26279638,\n",
      "       15.15344854, 14.99436708, 15.77681756, 15.73220305, 15.54766821,\n",
      "       15.31330186, 14.91538018, 15.57598822, 15.5081456 , 16.01565913,\n",
      "       14.94576995, 15.68472869, 15.62379774, 14.89324341, 15.24380865,\n",
      "       15.44080058, 15.27911838, 15.18926507, 15.59155427, 14.99305311,\n",
      "       15.47306977, 15.2089017 , 15.68726559, 15.66254701, 15.45899562,\n",
      "       15.94823074, 15.83566298, 15.08941124, 15.96524266, 15.16537459,\n",
      "       15.14982583, 14.918813  , 15.30326782, 15.77833288, 15.35590295,\n",
      "       15.3037831 , 15.1267983 , 15.15287909, 14.87148811, 15.12145712,\n",
      "       15.28976553, 15.51960822, 15.34612549, 15.40121767, 15.50422438,\n",
      "       15.70503132, 15.06085264, 15.32538808, 15.0431625 , 15.02464845,\n",
      "       15.33922619, 15.79926644, 15.57082727, 15.71644397, 14.94374879,\n",
      "       15.28355421, 15.2114625 , 15.31012127, 15.2011805 , 14.85901802,\n",
      "       14.89890781, 15.19651891, 15.95182596, 14.93453035, 15.2362104 ,\n",
      "       15.0172802 , 15.42757365, 15.7698676 , 14.92174135, 15.8183739 ,\n",
      "       15.63472566, 15.19476282, 15.68666073, 14.86970709, 15.57782358,\n",
      "       15.44811737, 15.01632446, 16.04145177, 15.13109047, 15.76874921,\n",
      "       14.97942968, 15.09389176, 15.56274333]), array([15.04807111, 15.53827733, 15.18160247, 15.39035723, 16.03905255,\n",
      "       15.25059532, 14.73976986, 15.59890195, 15.72059886, 15.34590548,\n",
      "       15.10749451, 15.02745183, 15.4697308 , 15.6335875 , 16.40327467,\n",
      "       14.55744838, 15.81968975, 15.83838188, 14.55744838, 14.79120201,\n",
      "       15.70485051, 15.36094335, 15.22527752, 15.31513383, 15.06827381,\n",
      "       15.59890195, 15.05822348, 15.36094335, 15.54760866, 15.33063801,\n",
      "       15.76640839, 15.47373883, 15.21669378, 15.79097965, 15.10749451,\n",
      "       15.14523483, 15.03781461, 15.25059532, 15.71012756, 15.43291684,\n",
      "       15.29779691, 15.02745183, 15.31357011, 15.05822348, 15.1726338 ,\n",
      "       15.68885017, 15.24892726, 15.40474597, 14.61885698, 15.41186343,\n",
      "       15.90031283, 15.43152698, 15.98456437, 14.71159899, 15.25059532,\n",
      "       15.25059532, 15.33063801, 15.46704984, 15.65494862, 15.27853468,\n",
      "       15.06827381, 14.89392048, 15.24222707, 15.16358397, 14.89392048,\n",
      "       14.76716882, 15.26712462, 16.0082809 , 14.89392048, 15.14523483,\n",
      "       15.03781461, 15.32909836, 15.06827381, 15.04807111, 15.94374238,\n",
      "       15.50652864, 14.94271063, 15.40474597, 14.43339579, 15.10749451,\n",
      "       15.21669378, 15.32909836, 15.89244909, 14.91512268, 15.63925323,\n",
      "       15.10749451, 15.06827381, 15.70696467]), array([14.94260313, 15.481973  , 15.33728632, 15.17399208, 15.26279638,\n",
      "       15.15344854, 14.99436708, 15.77681756, 15.73220305, 15.54766821,\n",
      "       15.31330186, 14.91538018, 15.57598822, 15.5081456 , 16.01565913,\n",
      "       14.94576995, 15.68472869, 15.62379774, 14.89324341, 15.24380865,\n",
      "       15.44080058, 15.27911838, 15.18926507, 15.59155427, 14.99305311,\n",
      "       15.47306977, 15.2089017 , 15.68726559, 15.66254701, 15.45899562,\n",
      "       15.94823074, 15.83566298, 15.08941124, 15.96524266, 15.16537459,\n",
      "       15.14982583, 14.918813  , 15.30326782, 15.77833288, 15.35590295,\n",
      "       15.3037831 , 15.1267983 , 15.15287909, 14.87148811, 15.12145712,\n",
      "       15.28976553, 15.51960822, 15.34612549, 15.40121767, 15.50422438,\n",
      "       15.70503132, 15.06085264, 15.32538808, 15.0431625 , 15.02464845,\n",
      "       15.33922619, 15.79926644, 15.57082727, 15.71644397, 14.94374879,\n",
      "       15.28355421, 15.2114625 , 15.31012127, 15.2011805 , 14.85901802,\n",
      "       14.89890781, 15.19651891, 15.95182596, 14.93453035, 15.2362104 ,\n",
      "       15.0172802 , 15.42757365, 15.7698676 , 14.92174135, 15.8183739 ,\n",
      "       15.63472566, 15.19476282, 15.68666073, 14.86970709, 15.57782358,\n",
      "       15.44811737, 15.01632446, 16.04145177, 15.13109047, 15.76874921,\n",
      "       14.97942968, 15.09389176, 15.56274333]), array([15.04807111, 15.53827733, 15.18160247, 15.39035723, 16.03905255,\n",
      "       15.25059532, 14.73976986, 15.59890195, 15.72059886, 15.34590548,\n",
      "       15.10749451, 15.02745183, 15.4697308 , 15.6335875 , 16.40327467,\n",
      "       14.55744838, 15.81968975, 15.83838188, 14.55744838, 14.79120201,\n",
      "       15.70485051, 15.36094335, 15.22527752, 15.31513383, 15.06827381,\n",
      "       15.59890195, 15.05822348, 15.36094335, 15.54760866, 15.33063801,\n",
      "       15.76640839, 15.47373883, 15.21669378, 15.79097965, 15.10749451,\n",
      "       15.14523483, 15.03781461, 15.25059532, 15.71012756, 15.43291684,\n",
      "       15.29779691, 15.02745183, 15.31357011, 15.05822348, 15.1726338 ,\n",
      "       15.68885017, 15.24892726, 15.40474597, 14.61885698, 15.41186343,\n",
      "       15.90031283, 15.43152698, 15.98456437, 14.71159899, 15.25059532,\n",
      "       15.25059532, 15.33063801, 15.46704984, 15.65494862, 15.27853468,\n",
      "       15.06827381, 14.89392048, 15.24222707, 15.16358397, 14.89392048,\n",
      "       14.76716882, 15.26712462, 16.0082809 , 14.89392048, 15.14523483,\n",
      "       15.03781461, 15.32909836, 15.06827381, 15.04807111, 15.94374238,\n",
      "       15.50652864, 14.94271063, 15.40474597, 14.43339579, 15.10749451,\n",
      "       15.21669378, 15.32909836, 15.89244909, 14.91512268, 15.63925323,\n",
      "       15.10749451, 15.06827381, 15.70696467]), array([14.94260313, 15.481973  , 15.33728632, 15.17399208, 15.26279638,\n",
      "       15.15344854, 14.99436708, 15.77681756, 15.73220305, 15.54766821,\n",
      "       15.31330186, 14.91538018, 15.57598822, 15.5081456 , 16.01565913,\n",
      "       14.94576995, 15.68472869, 15.62379774, 14.89324341, 15.24380865,\n",
      "       15.44080058, 15.27911838, 15.18926507, 15.59155427, 14.99305311,\n",
      "       15.47306977, 15.2089017 , 15.68726559, 15.66254701, 15.45899562,\n",
      "       15.94823074, 15.83566298, 15.08941124, 15.96524266, 15.16537459,\n",
      "       15.14982583, 14.918813  , 15.30326782, 15.77833288, 15.35590295,\n",
      "       15.3037831 , 15.1267983 , 15.15287909, 14.87148811, 15.12145712,\n",
      "       15.28976553, 15.51960822, 15.34612549, 15.40121767, 15.50422438,\n",
      "       15.70503132, 15.06085264, 15.32538808, 15.0431625 , 15.02464845,\n",
      "       15.33922619, 15.79926644, 15.57082727, 15.71644397, 14.94374879,\n",
      "       15.28355421, 15.2114625 , 15.31012127, 15.2011805 , 14.85901802,\n",
      "       14.89890781, 15.19651891, 15.95182596, 14.93453035, 15.2362104 ,\n",
      "       15.0172802 , 15.42757365, 15.7698676 , 14.92174135, 15.8183739 ,\n",
      "       15.63472566, 15.19476282, 15.68666073, 14.86970709, 15.57782358,\n",
      "       15.44811737, 15.01632446, 16.04145177, 15.13109047, 15.76874921,\n",
      "       14.97942968, 15.09389176, 15.56274333]), array([15.04807111, 15.53827733, 15.18160247, 15.39035723, 16.03905255,\n",
      "       15.25059532, 14.73976986, 15.59890195, 15.72059886, 15.34590548,\n",
      "       15.10749451, 15.02745183, 15.4697308 , 15.6335875 , 16.40327467,\n",
      "       14.55744838, 15.81968975, 15.83838188, 14.55744838, 14.79120201,\n",
      "       15.70485051, 15.36094335, 15.22527752, 15.31513383, 15.06827381,\n",
      "       15.59890195, 15.05822348, 15.36094335, 15.54760866, 15.33063801,\n",
      "       15.76640839, 15.47373883, 15.21669378, 15.79097965, 15.10749451,\n",
      "       15.14523483, 15.03781461, 15.25059532, 15.71012756, 15.43291684,\n",
      "       15.29779691, 15.02745183, 15.31357011, 15.05822348, 15.1726338 ,\n",
      "       15.68885017, 15.24892726, 15.40474597, 14.61885698, 15.41186343,\n",
      "       15.90031283, 15.43152698, 15.98456437, 14.71159899, 15.25059532,\n",
      "       15.25059532, 15.33063801, 15.46704984, 15.65494862, 15.27853468,\n",
      "       15.06827381, 14.89392048, 15.24222707, 15.16358397, 14.89392048,\n",
      "       14.76716882, 15.26712462, 16.0082809 , 14.89392048, 15.14523483,\n",
      "       15.03781461, 15.32909836, 15.06827381, 15.04807111, 15.94374238,\n",
      "       15.50652864, 14.94271063, 15.40474597, 14.43339579, 15.10749451,\n",
      "       15.21669378, 15.32909836, 15.89244909, 14.91512268, 15.63925323,\n",
      "       15.10749451, 15.06827381, 15.70696467]), array([14.94260313, 15.481973  , 15.33728632, 15.17399208, 15.26279638,\n",
      "       15.15344854, 14.99436708, 15.77681756, 15.73220305, 15.54766821,\n",
      "       15.31330186, 14.91538018, 15.57598822, 15.5081456 , 16.01565913,\n",
      "       14.94576995, 15.68472869, 15.62379774, 14.89324341, 15.24380865,\n",
      "       15.44080058, 15.27911838, 15.18926507, 15.59155427, 14.99305311,\n",
      "       15.47306977, 15.2089017 , 15.68726559, 15.66254701, 15.45899562,\n",
      "       15.94823074, 15.83566298, 15.08941124, 15.96524266, 15.16537459,\n",
      "       15.14982583, 14.918813  , 15.30326782, 15.77833288, 15.35590295,\n",
      "       15.3037831 , 15.1267983 , 15.15287909, 14.87148811, 15.12145712,\n",
      "       15.28976553, 15.51960822, 15.34612549, 15.40121767, 15.50422438,\n",
      "       15.70503132, 15.06085264, 15.32538808, 15.0431625 , 15.02464845,\n",
      "       15.33922619, 15.79926644, 15.57082727, 15.71644397, 14.94374879,\n",
      "       15.28355421, 15.2114625 , 15.31012127, 15.2011805 , 14.85901802,\n",
      "       14.89890781, 15.19651891, 15.95182596, 14.93453035, 15.2362104 ,\n",
      "       15.0172802 , 15.42757365, 15.7698676 , 14.92174135, 15.8183739 ,\n",
      "       15.63472566, 15.19476282, 15.68666073, 14.86970709, 15.57782358,\n",
      "       15.44811737, 15.01632446, 16.04145177, 15.13109047, 15.76874921,\n",
      "       14.97942968, 15.09389176, 15.56274333]), array([15.04807111, 15.53827733, 15.18160247, 15.39035723, 16.03905255,\n",
      "       15.25059532, 14.73976986, 15.59890195, 15.72059886, 15.34590548,\n",
      "       15.10749451, 15.02745183, 15.4697308 , 15.6335875 , 16.40327467,\n",
      "       14.55744838, 15.81968975, 15.83838188, 14.55744838, 14.79120201,\n",
      "       15.70485051, 15.36094335, 15.22527752, 15.31513383, 15.06827381,\n",
      "       15.59890195, 15.05822348, 15.36094335, 15.54760866, 15.33063801,\n",
      "       15.76640839, 15.47373883, 15.21669378, 15.79097965, 15.10749451,\n",
      "       15.14523483, 15.03781461, 15.25059532, 15.71012756, 15.43291684,\n",
      "       15.29779691, 15.02745183, 15.31357011, 15.05822348, 15.1726338 ,\n",
      "       15.68885017, 15.24892726, 15.40474597, 14.61885698, 15.41186343,\n",
      "       15.90031283, 15.43152698, 15.98456437, 14.71159899, 15.25059532,\n",
      "       15.25059532, 15.33063801, 15.46704984, 15.65494862, 15.27853468,\n",
      "       15.06827381, 14.89392048, 15.24222707, 15.16358397, 14.89392048,\n",
      "       14.76716882, 15.26712462, 16.0082809 , 14.89392048, 15.14523483,\n",
      "       15.03781461, 15.32909836, 15.06827381, 15.04807111, 15.94374238,\n",
      "       15.50652864, 14.94271063, 15.40474597, 14.43339579, 15.10749451,\n",
      "       15.21669378, 15.32909836, 15.89244909, 14.91512268, 15.63925323,\n",
      "       15.10749451, 15.06827381, 15.70696467]), array([14.94260313, 15.481973  , 15.33728632, 15.17399208, 15.26279638,\n",
      "       15.15344854, 14.99436708, 15.77681756, 15.73220305, 15.54766821,\n",
      "       15.31330186, 14.91538018, 15.57598822, 15.5081456 , 16.01565913,\n",
      "       14.94576995, 15.68472869, 15.62379774, 14.89324341, 15.24380865,\n",
      "       15.44080058, 15.27911838, 15.18926507, 15.59155427, 14.99305311,\n",
      "       15.47306977, 15.2089017 , 15.68726559, 15.66254701, 15.45899562,\n",
      "       15.94823074, 15.83566298, 15.08941124, 15.96524266, 15.16537459,\n",
      "       15.14982583, 14.918813  , 15.30326782, 15.77833288, 15.35590295,\n",
      "       15.3037831 , 15.1267983 , 15.15287909, 14.87148811, 15.12145712,\n",
      "       15.28976553, 15.51960822, 15.34612549, 15.40121767, 15.50422438,\n",
      "       15.70503132, 15.06085264, 15.32538808, 15.0431625 , 15.02464845,\n",
      "       15.33922619, 15.79926644, 15.57082727, 15.71644397, 14.94374879,\n",
      "       15.28355421, 15.2114625 , 15.31012127, 15.2011805 , 14.85901802,\n",
      "       14.89890781, 15.19651891, 15.95182596, 14.93453035, 15.2362104 ,\n",
      "       15.0172802 , 15.42757365, 15.7698676 , 14.92174135, 15.8183739 ,\n",
      "       15.63472566, 15.19476282, 15.68666073, 14.86970709, 15.57782358,\n",
      "       15.44811737, 15.01632446, 16.04145177, 15.13109047, 15.76874921,\n",
      "       14.97942968, 15.09389176, 15.56274333]), array([15.04807111, 15.53827733, 15.18160247, 15.39035723, 16.03905255,\n",
      "       15.25059532, 14.73976986, 15.59890195, 15.72059886, 15.34590548,\n",
      "       15.10749451, 15.02745183, 15.4697308 , 15.6335875 , 16.40327467,\n",
      "       14.55744838, 15.81968975, 15.83838188, 14.55744838, 14.79120201,\n",
      "       15.70485051, 15.36094335, 15.22527752, 15.31513383, 15.06827381,\n",
      "       15.59890195, 15.05822348, 15.36094335, 15.54760866, 15.33063801,\n",
      "       15.76640839, 15.47373883, 15.21669378, 15.79097965, 15.10749451,\n",
      "       15.14523483, 15.03781461, 15.25059532, 15.71012756, 15.43291684,\n",
      "       15.29779691, 15.02745183, 15.31357011, 15.05822348, 15.1726338 ,\n",
      "       15.68885017, 15.24892726, 15.40474597, 14.61885698, 15.41186343,\n",
      "       15.90031283, 15.43152698, 15.98456437, 14.71159899, 15.25059532,\n",
      "       15.25059532, 15.33063801, 15.46704984, 15.65494862, 15.27853468,\n",
      "       15.06827381, 14.89392048, 15.24222707, 15.16358397, 14.89392048,\n",
      "       14.76716882, 15.26712462, 16.0082809 , 14.89392048, 15.14523483,\n",
      "       15.03781461, 15.32909836, 15.06827381, 15.04807111, 15.94374238,\n",
      "       15.50652864, 14.94271063, 15.40474597, 14.43339579, 15.10749451,\n",
      "       15.21669378, 15.32909836, 15.89244909, 14.91512268, 15.63925323,\n",
      "       15.10749451, 15.06827381, 15.70696467]), array([14.94260313, 15.481973  , 15.33728632, 15.17399208, 15.26279638,\n",
      "       15.15344854, 14.99436708, 15.77681756, 15.73220305, 15.54766821,\n",
      "       15.31330186, 14.91538018, 15.57598822, 15.5081456 , 16.01565913,\n",
      "       14.94576995, 15.68472869, 15.62379774, 14.89324341, 15.24380865,\n",
      "       15.44080058, 15.27911838, 15.18926507, 15.59155427, 14.99305311,\n",
      "       15.47306977, 15.2089017 , 15.68726559, 15.66254701, 15.45899562,\n",
      "       15.94823074, 15.83566298, 15.08941124, 15.96524266, 15.16537459,\n",
      "       15.14982583, 14.918813  , 15.30326782, 15.77833288, 15.35590295,\n",
      "       15.3037831 , 15.1267983 , 15.15287909, 14.87148811, 15.12145712,\n",
      "       15.28976553, 15.51960822, 15.34612549, 15.40121767, 15.50422438,\n",
      "       15.70503132, 15.06085264, 15.32538808, 15.0431625 , 15.02464845,\n",
      "       15.33922619, 15.79926644, 15.57082727, 15.71644397, 14.94374879,\n",
      "       15.28355421, 15.2114625 , 15.31012127, 15.2011805 , 14.85901802,\n",
      "       14.89890781, 15.19651891, 15.95182596, 14.93453035, 15.2362104 ,\n",
      "       15.0172802 , 15.42757365, 15.7698676 , 14.92174135, 15.8183739 ,\n",
      "       15.63472566, 15.19476282, 15.68666073, 14.86970709, 15.57782358,\n",
      "       15.44811737, 15.01632446, 16.04145177, 15.13109047, 15.76874921,\n",
      "       14.97942968, 15.09389176, 15.56274333]), array([15.04807111, 15.53827733, 15.18160247, 15.39035723, 16.03905255,\n",
      "       15.25059532, 14.73976986, 15.59890195, 15.72059886, 15.34590548,\n",
      "       15.10749451, 15.02745183, 15.4697308 , 15.6335875 , 16.40327467,\n",
      "       14.55744838, 15.81968975, 15.83838188, 14.55744838, 14.79120201,\n",
      "       15.70485051, 15.36094335, 15.22527752, 15.31513383, 15.06827381,\n",
      "       15.59890195, 15.05822348, 15.36094335, 15.54760866, 15.33063801,\n",
      "       15.76640839, 15.47373883, 15.21669378, 15.79097965, 15.10749451,\n",
      "       15.14523483, 15.03781461, 15.25059532, 15.71012756, 15.43291684,\n",
      "       15.29779691, 15.02745183, 15.31357011, 15.05822348, 15.1726338 ,\n",
      "       15.68885017, 15.24892726, 15.40474597, 14.61885698, 15.41186343,\n",
      "       15.90031283, 15.43152698, 15.98456437, 14.71159899, 15.25059532,\n",
      "       15.25059532, 15.33063801, 15.46704984, 15.65494862, 15.27853468,\n",
      "       15.06827381, 14.89392048, 15.24222707, 15.16358397, 14.89392048,\n",
      "       14.76716882, 15.26712462, 16.0082809 , 14.89392048, 15.14523483,\n",
      "       15.03781461, 15.32909836, 15.06827381, 15.04807111, 15.94374238,\n",
      "       15.50652864, 14.94271063, 15.40474597, 14.43339579, 15.10749451,\n",
      "       15.21669378, 15.32909836, 15.89244909, 14.91512268, 15.63925323,\n",
      "       15.10749451, 15.06827381, 15.70696467]), array([14.94260313, 15.481973  , 15.33728632, 15.17399208, 15.26279638,\n",
      "       15.15344854, 14.99436708, 15.77681756, 15.73220305, 15.54766821,\n",
      "       15.31330186, 14.91538018, 15.57598822, 15.5081456 , 16.01565913,\n",
      "       14.94576995, 15.68472869, 15.62379774, 14.89324341, 15.24380865,\n",
      "       15.44080058, 15.27911838, 15.18926507, 15.59155427, 14.99305311,\n",
      "       15.47306977, 15.2089017 , 15.68726559, 15.66254701, 15.45899562,\n",
      "       15.94823074, 15.83566298, 15.08941124, 15.96524266, 15.16537459,\n",
      "       15.14982583, 14.918813  , 15.30326782, 15.77833288, 15.35590295,\n",
      "       15.3037831 , 15.1267983 , 15.15287909, 14.87148811, 15.12145712,\n",
      "       15.28976553, 15.51960822, 15.34612549, 15.40121767, 15.50422438,\n",
      "       15.70503132, 15.06085264, 15.32538808, 15.0431625 , 15.02464845,\n",
      "       15.33922619, 15.79926644, 15.57082727, 15.71644397, 14.94374879,\n",
      "       15.28355421, 15.2114625 , 15.31012127, 15.2011805 , 14.85901802,\n",
      "       14.89890781, 15.19651891, 15.95182596, 14.93453035, 15.2362104 ,\n",
      "       15.0172802 , 15.42757365, 15.7698676 , 14.92174135, 15.8183739 ,\n",
      "       15.63472566, 15.19476282, 15.68666073, 14.86970709, 15.57782358,\n",
      "       15.44811737, 15.01632446, 16.04145177, 15.13109047, 15.76874921,\n",
      "       14.97942968, 15.09389176, 15.56274333]), array([15.04807111, 15.53827733, 15.18160247, 15.39035723, 16.03905255,\n",
      "       15.25059532, 14.73976986, 15.59890195, 15.72059886, 15.34590548,\n",
      "       15.10749451, 15.02745183, 15.4697308 , 15.6335875 , 16.40327467,\n",
      "       14.55744838, 15.81968975, 15.83838188, 14.55744838, 14.79120201,\n",
      "       15.70485051, 15.36094335, 15.22527752, 15.31513383, 15.06827381,\n",
      "       15.59890195, 15.05822348, 15.36094335, 15.54760866, 15.33063801,\n",
      "       15.76640839, 15.47373883, 15.21669378, 15.79097965, 15.10749451,\n",
      "       15.14523483, 15.03781461, 15.25059532, 15.71012756, 15.43291684,\n",
      "       15.29779691, 15.02745183, 15.31357011, 15.05822348, 15.1726338 ,\n",
      "       15.68885017, 15.24892726, 15.40474597, 14.61885698, 15.41186343,\n",
      "       15.90031283, 15.43152698, 15.98456437, 14.71159899, 15.25059532,\n",
      "       15.25059532, 15.33063801, 15.46704984, 15.65494862, 15.27853468,\n",
      "       15.06827381, 14.89392048, 15.24222707, 15.16358397, 14.89392048,\n",
      "       14.76716882, 15.26712462, 16.0082809 , 14.89392048, 15.14523483,\n",
      "       15.03781461, 15.32909836, 15.06827381, 15.04807111, 15.94374238,\n",
      "       15.50652864, 14.94271063, 15.40474597, 14.43339579, 15.10749451,\n",
      "       15.21669378, 15.32909836, 15.89244909, 14.91512268, 15.63925323,\n",
      "       15.10749451, 15.06827381, 15.70696467]), array([14.94260313, 15.481973  , 15.33728632, 15.17399208, 15.26279638,\n",
      "       15.15344854, 14.99436708, 15.77681756, 15.73220305, 15.54766821,\n",
      "       15.31330186, 14.91538018, 15.57598822, 15.5081456 , 16.01565913,\n",
      "       14.94576995, 15.68472869, 15.62379774, 14.89324341, 15.24380865,\n",
      "       15.44080058, 15.27911838, 15.18926507, 15.59155427, 14.99305311,\n",
      "       15.47306977, 15.2089017 , 15.68726559, 15.66254701, 15.45899562,\n",
      "       15.94823074, 15.83566298, 15.08941124, 15.96524266, 15.16537459,\n",
      "       15.14982583, 14.918813  , 15.30326782, 15.77833288, 15.35590295,\n",
      "       15.3037831 , 15.1267983 , 15.15287909, 14.87148811, 15.12145712,\n",
      "       15.28976553, 15.51960822, 15.34612549, 15.40121767, 15.50422438,\n",
      "       15.70503132, 15.06085264, 15.32538808, 15.0431625 , 15.02464845,\n",
      "       15.33922619, 15.79926644, 15.57082727, 15.71644397, 14.94374879,\n",
      "       15.28355421, 15.2114625 , 15.31012127, 15.2011805 , 14.85901802,\n",
      "       14.89890781, 15.19651891, 15.95182596, 14.93453035, 15.2362104 ,\n",
      "       15.0172802 , 15.42757365, 15.7698676 , 14.92174135, 15.8183739 ,\n",
      "       15.63472566, 15.19476282, 15.68666073, 14.86970709, 15.57782358,\n",
      "       15.44811737, 15.01632446, 16.04145177, 15.13109047, 15.76874921,\n",
      "       14.97942968, 15.09389176, 15.56274333]), array([15.04807111, 15.53827733, 15.18160247, 15.39035723, 16.03905255,\n",
      "       15.25059532, 14.73976986, 15.59890195, 15.72059886, 15.34590548,\n",
      "       15.10749451, 15.02745183, 15.4697308 , 15.6335875 , 16.40327467,\n",
      "       14.55744838, 15.81968975, 15.83838188, 14.55744838, 14.79120201,\n",
      "       15.70485051, 15.36094335, 15.22527752, 15.31513383, 15.06827381,\n",
      "       15.59890195, 15.05822348, 15.36094335, 15.54760866, 15.33063801,\n",
      "       15.76640839, 15.47373883, 15.21669378, 15.79097965, 15.10749451,\n",
      "       15.14523483, 15.03781461, 15.25059532, 15.71012756, 15.43291684,\n",
      "       15.29779691, 15.02745183, 15.31357011, 15.05822348, 15.1726338 ,\n",
      "       15.68885017, 15.24892726, 15.40474597, 14.61885698, 15.41186343,\n",
      "       15.90031283, 15.43152698, 15.98456437, 14.71159899, 15.25059532,\n",
      "       15.25059532, 15.33063801, 15.46704984, 15.65494862, 15.27853468,\n",
      "       15.06827381, 14.89392048, 15.24222707, 15.16358397, 14.89392048,\n",
      "       14.76716882, 15.26712462, 16.0082809 , 14.89392048, 15.14523483,\n",
      "       15.03781461, 15.32909836, 15.06827381, 15.04807111, 15.94374238,\n",
      "       15.50652864, 14.94271063, 15.40474597, 14.43339579, 15.10749451,\n",
      "       15.21669378, 15.32909836, 15.89244909, 14.91512268, 15.63925323,\n",
      "       15.10749451, 15.06827381, 15.70696467]), array([14.94260313, 15.481973  , 15.33728632, 15.17399208, 15.26279638,\n",
      "       15.15344854, 14.99436708, 15.77681756, 15.73220305, 15.54766821,\n",
      "       15.31330186, 14.91538018, 15.57598822, 15.5081456 , 16.01565913,\n",
      "       14.94576995, 15.68472869, 15.62379774, 14.89324341, 15.24380865,\n",
      "       15.44080058, 15.27911838, 15.18926507, 15.59155427, 14.99305311,\n",
      "       15.47306977, 15.2089017 , 15.68726559, 15.66254701, 15.45899562,\n",
      "       15.94823074, 15.83566298, 15.08941124, 15.96524266, 15.16537459,\n",
      "       15.14982583, 14.918813  , 15.30326782, 15.77833288, 15.35590295,\n",
      "       15.3037831 , 15.1267983 , 15.15287909, 14.87148811, 15.12145712,\n",
      "       15.28976553, 15.51960822, 15.34612549, 15.40121767, 15.50422438,\n",
      "       15.70503132, 15.06085264, 15.32538808, 15.0431625 , 15.02464845,\n",
      "       15.33922619, 15.79926644, 15.57082727, 15.71644397, 14.94374879,\n",
      "       15.28355421, 15.2114625 , 15.31012127, 15.2011805 , 14.85901802,\n",
      "       14.89890781, 15.19651891, 15.95182596, 14.93453035, 15.2362104 ,\n",
      "       15.0172802 , 15.42757365, 15.7698676 , 14.92174135, 15.8183739 ,\n",
      "       15.63472566, 15.19476282, 15.68666073, 14.86970709, 15.57782358,\n",
      "       15.44811737, 15.01632446, 16.04145177, 15.13109047, 15.76874921,\n",
      "       14.97942968, 15.09389176, 15.56274333]), array([15.04807111, 15.53827733, 15.18160247, 15.39035723, 16.03905255,\n",
      "       15.25059532, 14.73976986, 15.59890195, 15.72059886, 15.34590548,\n",
      "       15.10749451, 15.02745183, 15.4697308 , 15.6335875 , 16.40327467,\n",
      "       14.55744838, 15.81968975, 15.83838188, 14.55744838, 14.79120201,\n",
      "       15.70485051, 15.36094335, 15.22527752, 15.31513383, 15.06827381,\n",
      "       15.59890195, 15.05822348, 15.36094335, 15.54760866, 15.33063801,\n",
      "       15.76640839, 15.47373883, 15.21669378, 15.79097965, 15.10749451,\n",
      "       15.14523483, 15.03781461, 15.25059532, 15.71012756, 15.43291684,\n",
      "       15.29779691, 15.02745183, 15.31357011, 15.05822348, 15.1726338 ,\n",
      "       15.68885017, 15.24892726, 15.40474597, 14.61885698, 15.41186343,\n",
      "       15.90031283, 15.43152698, 15.98456437, 14.71159899, 15.25059532,\n",
      "       15.25059532, 15.33063801, 15.46704984, 15.65494862, 15.27853468,\n",
      "       15.06827381, 14.89392048, 15.24222707, 15.16358397, 14.89392048,\n",
      "       14.76716882, 15.26712462, 16.0082809 , 14.89392048, 15.14523483,\n",
      "       15.03781461, 15.32909836, 15.06827381, 15.04807111, 15.94374238,\n",
      "       15.50652864, 14.94271063, 15.40474597, 14.43339579, 15.10749451,\n",
      "       15.21669378, 15.32909836, 15.89244909, 14.91512268, 15.63925323,\n",
      "       15.10749451, 15.06827381, 15.70696467]), array([14.94260313, 15.481973  , 15.33728632, 15.17399208, 15.26279638,\n",
      "       15.15344854, 14.99436708, 15.77681756, 15.73220305, 15.54766821,\n",
      "       15.31330186, 14.91538018, 15.57598822, 15.5081456 , 16.01565913,\n",
      "       14.94576995, 15.68472869, 15.62379774, 14.89324341, 15.24380865,\n",
      "       15.44080058, 15.27911838, 15.18926507, 15.59155427, 14.99305311,\n",
      "       15.47306977, 15.2089017 , 15.68726559, 15.66254701, 15.45899562,\n",
      "       15.94823074, 15.83566298, 15.08941124, 15.96524266, 15.16537459,\n",
      "       15.14982583, 14.918813  , 15.30326782, 15.77833288, 15.35590295,\n",
      "       15.3037831 , 15.1267983 , 15.15287909, 14.87148811, 15.12145712,\n",
      "       15.28976553, 15.51960822, 15.34612549, 15.40121767, 15.50422438,\n",
      "       15.70503132, 15.06085264, 15.32538808, 15.0431625 , 15.02464845,\n",
      "       15.33922619, 15.79926644, 15.57082727, 15.71644397, 14.94374879,\n",
      "       15.28355421, 15.2114625 , 15.31012127, 15.2011805 , 14.85901802,\n",
      "       14.89890781, 15.19651891, 15.95182596, 14.93453035, 15.2362104 ,\n",
      "       15.0172802 , 15.42757365, 15.7698676 , 14.92174135, 15.8183739 ,\n",
      "       15.63472566, 15.19476282, 15.68666073, 14.86970709, 15.57782358,\n",
      "       15.44811737, 15.01632446, 16.04145177, 15.13109047, 15.76874921,\n",
      "       14.97942968, 15.09389176, 15.56274333]), array([15.04807111, 15.53827733, 15.18160247, 15.39035723, 16.03905255,\n",
      "       15.25059532, 14.73976986, 15.59890195, 15.72059886, 15.34590548,\n",
      "       15.10749451, 15.02745183, 15.4697308 , 15.6335875 , 16.40327467,\n",
      "       14.55744838, 15.81968975, 15.83838188, 14.55744838, 14.79120201,\n",
      "       15.70485051, 15.36094335, 15.22527752, 15.31513383, 15.06827381,\n",
      "       15.59890195, 15.05822348, 15.36094335, 15.54760866, 15.33063801,\n",
      "       15.76640839, 15.47373883, 15.21669378, 15.79097965, 15.10749451,\n",
      "       15.14523483, 15.03781461, 15.25059532, 15.71012756, 15.43291684,\n",
      "       15.29779691, 15.02745183, 15.31357011, 15.05822348, 15.1726338 ,\n",
      "       15.68885017, 15.24892726, 15.40474597, 14.61885698, 15.41186343,\n",
      "       15.90031283, 15.43152698, 15.98456437, 14.71159899, 15.25059532,\n",
      "       15.25059532, 15.33063801, 15.46704984, 15.65494862, 15.27853468,\n",
      "       15.06827381, 14.89392048, 15.24222707, 15.16358397, 14.89392048,\n",
      "       14.76716882, 15.26712462, 16.0082809 , 14.89392048, 15.14523483,\n",
      "       15.03781461, 15.32909836, 15.06827381, 15.04807111, 15.94374238,\n",
      "       15.50652864, 14.94271063, 15.40474597, 14.43339579, 15.10749451,\n",
      "       15.21669378, 15.32909836, 15.89244909, 14.91512268, 15.63925323,\n",
      "       15.10749451, 15.06827381, 15.70696467]), array([14.94260313, 15.481973  , 15.33728632, 15.17399208, 15.26279638,\n",
      "       15.15344854, 14.99436708, 15.77681756, 15.73220305, 15.54766821,\n",
      "       15.31330186, 14.91538018, 15.57598822, 15.5081456 , 16.01565913,\n",
      "       14.94576995, 15.68472869, 15.62379774, 14.89324341, 15.24380865,\n",
      "       15.44080058, 15.27911838, 15.18926507, 15.59155427, 14.99305311,\n",
      "       15.47306977, 15.2089017 , 15.68726559, 15.66254701, 15.45899562,\n",
      "       15.94823074, 15.83566298, 15.08941124, 15.96524266, 15.16537459,\n",
      "       15.14982583, 14.918813  , 15.30326782, 15.77833288, 15.35590295,\n",
      "       15.3037831 , 15.1267983 , 15.15287909, 14.87148811, 15.12145712,\n",
      "       15.28976553, 15.51960822, 15.34612549, 15.40121767, 15.50422438,\n",
      "       15.70503132, 15.06085264, 15.32538808, 15.0431625 , 15.02464845,\n",
      "       15.33922619, 15.79926644, 15.57082727, 15.71644397, 14.94374879,\n",
      "       15.28355421, 15.2114625 , 15.31012127, 15.2011805 , 14.85901802,\n",
      "       14.89890781, 15.19651891, 15.95182596, 14.93453035, 15.2362104 ,\n",
      "       15.0172802 , 15.42757365, 15.7698676 , 14.92174135, 15.8183739 ,\n",
      "       15.63472566, 15.19476282, 15.68666073, 14.86970709, 15.57782358,\n",
      "       15.44811737, 15.01632446, 16.04145177, 15.13109047, 15.76874921,\n",
      "       14.97942968, 15.09389176, 15.56274333]), array([15.04807111, 15.53827733, 15.18160247, 15.39035723, 16.03905255,\n",
      "       15.25059532, 14.73976986, 15.59890195, 15.72059886, 15.34590548,\n",
      "       15.10749451, 15.02745183, 15.4697308 , 15.6335875 , 16.40327467,\n",
      "       14.55744838, 15.81968975, 15.83838188, 14.55744838, 14.79120201,\n",
      "       15.70485051, 15.36094335, 15.22527752, 15.31513383, 15.06827381,\n",
      "       15.59890195, 15.05822348, 15.36094335, 15.54760866, 15.33063801,\n",
      "       15.76640839, 15.47373883, 15.21669378, 15.79097965, 15.10749451,\n",
      "       15.14523483, 15.03781461, 15.25059532, 15.71012756, 15.43291684,\n",
      "       15.29779691, 15.02745183, 15.31357011, 15.05822348, 15.1726338 ,\n",
      "       15.68885017, 15.24892726, 15.40474597, 14.61885698, 15.41186343,\n",
      "       15.90031283, 15.43152698, 15.98456437, 14.71159899, 15.25059532,\n",
      "       15.25059532, 15.33063801, 15.46704984, 15.65494862, 15.27853468,\n",
      "       15.06827381, 14.89392048, 15.24222707, 15.16358397, 14.89392048,\n",
      "       14.76716882, 15.26712462, 16.0082809 , 14.89392048, 15.14523483,\n",
      "       15.03781461, 15.32909836, 15.06827381, 15.04807111, 15.94374238,\n",
      "       15.50652864, 14.94271063, 15.40474597, 14.43339579, 15.10749451,\n",
      "       15.21669378, 15.32909836, 15.89244909, 14.91512268, 15.63925323,\n",
      "       15.10749451, 15.06827381, 15.70696467]), array([14.94260313, 15.481973  , 15.33728632, 15.17399208, 15.26279638,\n",
      "       15.15344854, 14.99436708, 15.77681756, 15.73220305, 15.54766821,\n",
      "       15.31330186, 14.91538018, 15.57598822, 15.5081456 , 16.01565913,\n",
      "       14.94576995, 15.68472869, 15.62379774, 14.89324341, 15.24380865,\n",
      "       15.44080058, 15.27911838, 15.18926507, 15.59155427, 14.99305311,\n",
      "       15.47306977, 15.2089017 , 15.68726559, 15.66254701, 15.45899562,\n",
      "       15.94823074, 15.83566298, 15.08941124, 15.96524266, 15.16537459,\n",
      "       15.14982583, 14.918813  , 15.30326782, 15.77833288, 15.35590295,\n",
      "       15.3037831 , 15.1267983 , 15.15287909, 14.87148811, 15.12145712,\n",
      "       15.28976553, 15.51960822, 15.34612549, 15.40121767, 15.50422438,\n",
      "       15.70503132, 15.06085264, 15.32538808, 15.0431625 , 15.02464845,\n",
      "       15.33922619, 15.79926644, 15.57082727, 15.71644397, 14.94374879,\n",
      "       15.28355421, 15.2114625 , 15.31012127, 15.2011805 , 14.85901802,\n",
      "       14.89890781, 15.19651891, 15.95182596, 14.93453035, 15.2362104 ,\n",
      "       15.0172802 , 15.42757365, 15.7698676 , 14.92174135, 15.8183739 ,\n",
      "       15.63472566, 15.19476282, 15.68666073, 14.86970709, 15.57782358,\n",
      "       15.44811737, 15.01632446, 16.04145177, 15.13109047, 15.76874921,\n",
      "       14.97942968, 15.09389176, 15.56274333]), array([15.04807111, 15.53827733, 15.18160247, 15.39035723, 16.03905255,\n",
      "       15.25059532, 14.73976986, 15.59890195, 15.72059886, 15.34590548,\n",
      "       15.10749451, 15.02745183, 15.4697308 , 15.6335875 , 16.40327467,\n",
      "       14.55744838, 15.81968975, 15.83838188, 14.55744838, 14.79120201,\n",
      "       15.70485051, 15.36094335, 15.22527752, 15.31513383, 15.06827381,\n",
      "       15.59890195, 15.05822348, 15.36094335, 15.54760866, 15.33063801,\n",
      "       15.76640839, 15.47373883, 15.21669378, 15.79097965, 15.10749451,\n",
      "       15.14523483, 15.03781461, 15.25059532, 15.71012756, 15.43291684,\n",
      "       15.29779691, 15.02745183, 15.31357011, 15.05822348, 15.1726338 ,\n",
      "       15.68885017, 15.24892726, 15.40474597, 14.61885698, 15.41186343,\n",
      "       15.90031283, 15.43152698, 15.98456437, 14.71159899, 15.25059532,\n",
      "       15.25059532, 15.33063801, 15.46704984, 15.65494862, 15.27853468,\n",
      "       15.06827381, 14.89392048, 15.24222707, 15.16358397, 14.89392048,\n",
      "       14.76716882, 15.26712462, 16.0082809 , 14.89392048, 15.14523483,\n",
      "       15.03781461, 15.32909836, 15.06827381, 15.04807111, 15.94374238,\n",
      "       15.50652864, 14.94271063, 15.40474597, 14.43339579, 15.10749451,\n",
      "       15.21669378, 15.32909836, 15.89244909, 14.91512268, 15.63925323,\n",
      "       15.10749451, 15.06827381, 15.70696467]), array([14.94260313, 15.481973  , 15.33728632, 15.17399208, 15.26279638,\n",
      "       15.15344854, 14.99436708, 15.77681756, 15.73220305, 15.54766821,\n",
      "       15.31330186, 14.91538018, 15.57598822, 15.5081456 , 16.01565913,\n",
      "       14.94576995, 15.68472869, 15.62379774, 14.89324341, 15.24380865,\n",
      "       15.44080058, 15.27911838, 15.18926507, 15.59155427, 14.99305311,\n",
      "       15.47306977, 15.2089017 , 15.68726559, 15.66254701, 15.45899562,\n",
      "       15.94823074, 15.83566298, 15.08941124, 15.96524266, 15.16537459,\n",
      "       15.14982583, 14.918813  , 15.30326782, 15.77833288, 15.35590295,\n",
      "       15.3037831 , 15.1267983 , 15.15287909, 14.87148811, 15.12145712,\n",
      "       15.28976553, 15.51960822, 15.34612549, 15.40121767, 15.50422438,\n",
      "       15.70503132, 15.06085264, 15.32538808, 15.0431625 , 15.02464845,\n",
      "       15.33922619, 15.79926644, 15.57082727, 15.71644397, 14.94374879,\n",
      "       15.28355421, 15.2114625 , 15.31012127, 15.2011805 , 14.85901802,\n",
      "       14.89890781, 15.19651891, 15.95182596, 14.93453035, 15.2362104 ,\n",
      "       15.0172802 , 15.42757365, 15.7698676 , 14.92174135, 15.8183739 ,\n",
      "       15.63472566, 15.19476282, 15.68666073, 14.86970709, 15.57782358,\n",
      "       15.44811737, 15.01632446, 16.04145177, 15.13109047, 15.76874921,\n",
      "       14.97942968, 15.09389176, 15.56274333]), array([15.04807111, 15.53827733, 15.18160247, 15.39035723, 16.03905255,\n",
      "       15.25059532, 14.73976986, 15.59890195, 15.72059886, 15.34590548,\n",
      "       15.10749451, 15.02745183, 15.4697308 , 15.6335875 , 16.40327467,\n",
      "       14.55744838, 15.81968975, 15.83838188, 14.55744838, 14.79120201,\n",
      "       15.70485051, 15.36094335, 15.22527752, 15.31513383, 15.06827381,\n",
      "       15.59890195, 15.05822348, 15.36094335, 15.54760866, 15.33063801,\n",
      "       15.76640839, 15.47373883, 15.21669378, 15.79097965, 15.10749451,\n",
      "       15.14523483, 15.03781461, 15.25059532, 15.71012756, 15.43291684,\n",
      "       15.29779691, 15.02745183, 15.31357011, 15.05822348, 15.1726338 ,\n",
      "       15.68885017, 15.24892726, 15.40474597, 14.61885698, 15.41186343,\n",
      "       15.90031283, 15.43152698, 15.98456437, 14.71159899, 15.25059532,\n",
      "       15.25059532, 15.33063801, 15.46704984, 15.65494862, 15.27853468,\n",
      "       15.06827381, 14.89392048, 15.24222707, 15.16358397, 14.89392048,\n",
      "       14.76716882, 15.26712462, 16.0082809 , 14.89392048, 15.14523483,\n",
      "       15.03781461, 15.32909836, 15.06827381, 15.04807111, 15.94374238,\n",
      "       15.50652864, 14.94271063, 15.40474597, 14.43339579, 15.10749451,\n",
      "       15.21669378, 15.32909836, 15.89244909, 14.91512268, 15.63925323,\n",
      "       15.10749451, 15.06827381, 15.70696467]), array([14.94260313, 15.481973  , 15.33728632, 15.17399208, 15.26279638,\n",
      "       15.15344854, 14.99436708, 15.77681756, 15.73220305, 15.54766821,\n",
      "       15.31330186, 14.91538018, 15.57598822, 15.5081456 , 16.01565913,\n",
      "       14.94576995, 15.68472869, 15.62379774, 14.89324341, 15.24380865,\n",
      "       15.44080058, 15.27911838, 15.18926507, 15.59155427, 14.99305311,\n",
      "       15.47306977, 15.2089017 , 15.68726559, 15.66254701, 15.45899562,\n",
      "       15.94823074, 15.83566298, 15.08941124, 15.96524266, 15.16537459,\n",
      "       15.14982583, 14.918813  , 15.30326782, 15.77833288, 15.35590295,\n",
      "       15.3037831 , 15.1267983 , 15.15287909, 14.87148811, 15.12145712,\n",
      "       15.28976553, 15.51960822, 15.34612549, 15.40121767, 15.50422438,\n",
      "       15.70503132, 15.06085264, 15.32538808, 15.0431625 , 15.02464845,\n",
      "       15.33922619, 15.79926644, 15.57082727, 15.71644397, 14.94374879,\n",
      "       15.28355421, 15.2114625 , 15.31012127, 15.2011805 , 14.85901802,\n",
      "       14.89890781, 15.19651891, 15.95182596, 14.93453035, 15.2362104 ,\n",
      "       15.0172802 , 15.42757365, 15.7698676 , 14.92174135, 15.8183739 ,\n",
      "       15.63472566, 15.19476282, 15.68666073, 14.86970709, 15.57782358,\n",
      "       15.44811737, 15.01632446, 16.04145177, 15.13109047, 15.76874921,\n",
      "       14.97942968, 15.09389176, 15.56274333]), array([15.04807111, 15.53827733, 15.18160247, 15.39035723, 16.03905255,\n",
      "       15.25059532, 14.73976986, 15.59890195, 15.72059886, 15.34590548,\n",
      "       15.10749451, 15.02745183, 15.4697308 , 15.6335875 , 16.40327467,\n",
      "       14.55744838, 15.81968975, 15.83838188, 14.55744838, 14.79120201,\n",
      "       15.70485051, 15.36094335, 15.22527752, 15.31513383, 15.06827381,\n",
      "       15.59890195, 15.05822348, 15.36094335, 15.54760866, 15.33063801,\n",
      "       15.76640839, 15.47373883, 15.21669378, 15.79097965, 15.10749451,\n",
      "       15.14523483, 15.03781461, 15.25059532, 15.71012756, 15.43291684,\n",
      "       15.29779691, 15.02745183, 15.31357011, 15.05822348, 15.1726338 ,\n",
      "       15.68885017, 15.24892726, 15.40474597, 14.61885698, 15.41186343,\n",
      "       15.90031283, 15.43152698, 15.98456437, 14.71159899, 15.25059532,\n",
      "       15.25059532, 15.33063801, 15.46704984, 15.65494862, 15.27853468,\n",
      "       15.06827381, 14.89392048, 15.24222707, 15.16358397, 14.89392048,\n",
      "       14.76716882, 15.26712462, 16.0082809 , 14.89392048, 15.14523483,\n",
      "       15.03781461, 15.32909836, 15.06827381, 15.04807111, 15.94374238,\n",
      "       15.50652864, 14.94271063, 15.40474597, 14.43339579, 15.10749451,\n",
      "       15.21669378, 15.32909836, 15.89244909, 14.91512268, 15.63925323,\n",
      "       15.10749451, 15.06827381, 15.70696467]), array([14.94260313, 15.481973  , 15.33728632, 15.17399208, 15.26279638,\n",
      "       15.15344854, 14.99436708, 15.77681756, 15.73220305, 15.54766821,\n",
      "       15.31330186, 14.91538018, 15.57598822, 15.5081456 , 16.01565913,\n",
      "       14.94576995, 15.68472869, 15.62379774, 14.89324341, 15.24380865,\n",
      "       15.44080058, 15.27911838, 15.18926507, 15.59155427, 14.99305311,\n",
      "       15.47306977, 15.2089017 , 15.68726559, 15.66254701, 15.45899562,\n",
      "       15.94823074, 15.83566298, 15.08941124, 15.96524266, 15.16537459,\n",
      "       15.14982583, 14.918813  , 15.30326782, 15.77833288, 15.35590295,\n",
      "       15.3037831 , 15.1267983 , 15.15287909, 14.87148811, 15.12145712,\n",
      "       15.28976553, 15.51960822, 15.34612549, 15.40121767, 15.50422438,\n",
      "       15.70503132, 15.06085264, 15.32538808, 15.0431625 , 15.02464845,\n",
      "       15.33922619, 15.79926644, 15.57082727, 15.71644397, 14.94374879,\n",
      "       15.28355421, 15.2114625 , 15.31012127, 15.2011805 , 14.85901802,\n",
      "       14.89890781, 15.19651891, 15.95182596, 14.93453035, 15.2362104 ,\n",
      "       15.0172802 , 15.42757365, 15.7698676 , 14.92174135, 15.8183739 ,\n",
      "       15.63472566, 15.19476282, 15.68666073, 14.86970709, 15.57782358,\n",
      "       15.44811737, 15.01632446, 16.04145177, 15.13109047, 15.76874921,\n",
      "       14.97942968, 15.09389176, 15.56274333]), array([15.04807111, 15.53827733, 15.18160247, 15.39035723, 16.03905255,\n",
      "       15.25059532, 14.73976986, 15.59890195, 15.72059886, 15.34590548,\n",
      "       15.10749451, 15.02745183, 15.4697308 , 15.6335875 , 16.40327467,\n",
      "       14.55744838, 15.81968975, 15.83838188, 14.55744838, 14.79120201,\n",
      "       15.70485051, 15.36094335, 15.22527752, 15.31513383, 15.06827381,\n",
      "       15.59890195, 15.05822348, 15.36094335, 15.54760866, 15.33063801,\n",
      "       15.76640839, 15.47373883, 15.21669378, 15.79097965, 15.10749451,\n",
      "       15.14523483, 15.03781461, 15.25059532, 15.71012756, 15.43291684,\n",
      "       15.29779691, 15.02745183, 15.31357011, 15.05822348, 15.1726338 ,\n",
      "       15.68885017, 15.24892726, 15.40474597, 14.61885698, 15.41186343,\n",
      "       15.90031283, 15.43152698, 15.98456437, 14.71159899, 15.25059532,\n",
      "       15.25059532, 15.33063801, 15.46704984, 15.65494862, 15.27853468,\n",
      "       15.06827381, 14.89392048, 15.24222707, 15.16358397, 14.89392048,\n",
      "       14.76716882, 15.26712462, 16.0082809 , 14.89392048, 15.14523483,\n",
      "       15.03781461, 15.32909836, 15.06827381, 15.04807111, 15.94374238,\n",
      "       15.50652864, 14.94271063, 15.40474597, 14.43339579, 15.10749451,\n",
      "       15.21669378, 15.32909836, 15.89244909, 14.91512268, 15.63925323,\n",
      "       15.10749451, 15.06827381, 15.70696467]), array([14.94260313, 15.481973  , 15.33728632, 15.17399208, 15.26279638,\n",
      "       15.15344854, 14.99436708, 15.77681756, 15.73220305, 15.54766821,\n",
      "       15.31330186, 14.91538018, 15.57598822, 15.5081456 , 16.01565913,\n",
      "       14.94576995, 15.68472869, 15.62379774, 14.89324341, 15.24380865,\n",
      "       15.44080058, 15.27911838, 15.18926507, 15.59155427, 14.99305311,\n",
      "       15.47306977, 15.2089017 , 15.68726559, 15.66254701, 15.45899562,\n",
      "       15.94823074, 15.83566298, 15.08941124, 15.96524266, 15.16537459,\n",
      "       15.14982583, 14.918813  , 15.30326782, 15.77833288, 15.35590295,\n",
      "       15.3037831 , 15.1267983 , 15.15287909, 14.87148811, 15.12145712,\n",
      "       15.28976553, 15.51960822, 15.34612549, 15.40121767, 15.50422438,\n",
      "       15.70503132, 15.06085264, 15.32538808, 15.0431625 , 15.02464845,\n",
      "       15.33922619, 15.79926644, 15.57082727, 15.71644397, 14.94374879,\n",
      "       15.28355421, 15.2114625 , 15.31012127, 15.2011805 , 14.85901802,\n",
      "       14.89890781, 15.19651891, 15.95182596, 14.93453035, 15.2362104 ,\n",
      "       15.0172802 , 15.42757365, 15.7698676 , 14.92174135, 15.8183739 ,\n",
      "       15.63472566, 15.19476282, 15.68666073, 14.86970709, 15.57782358,\n",
      "       15.44811737, 15.01632446, 16.04145177, 15.13109047, 15.76874921,\n",
      "       14.97942968, 15.09389176, 15.56274333]), array([15.04807111, 15.53827733, 15.18160247, 15.39035723, 16.03905255,\n",
      "       15.25059532, 14.73976986, 15.59890195, 15.72059886, 15.34590548,\n",
      "       15.10749451, 15.02745183, 15.4697308 , 15.6335875 , 16.40327467,\n",
      "       14.55744838, 15.81968975, 15.83838188, 14.55744838, 14.79120201,\n",
      "       15.70485051, 15.36094335, 15.22527752, 15.31513383, 15.06827381,\n",
      "       15.59890195, 15.05822348, 15.36094335, 15.54760866, 15.33063801,\n",
      "       15.76640839, 15.47373883, 15.21669378, 15.79097965, 15.10749451,\n",
      "       15.14523483, 15.03781461, 15.25059532, 15.71012756, 15.43291684,\n",
      "       15.29779691, 15.02745183, 15.31357011, 15.05822348, 15.1726338 ,\n",
      "       15.68885017, 15.24892726, 15.40474597, 14.61885698, 15.41186343,\n",
      "       15.90031283, 15.43152698, 15.98456437, 14.71159899, 15.25059532,\n",
      "       15.25059532, 15.33063801, 15.46704984, 15.65494862, 15.27853468,\n",
      "       15.06827381, 14.89392048, 15.24222707, 15.16358397, 14.89392048,\n",
      "       14.76716882, 15.26712462, 16.0082809 , 14.89392048, 15.14523483,\n",
      "       15.03781461, 15.32909836, 15.06827381, 15.04807111, 15.94374238,\n",
      "       15.50652864, 14.94271063, 15.40474597, 14.43339579, 15.10749451,\n",
      "       15.21669378, 15.32909836, 15.89244909, 14.91512268, 15.63925323,\n",
      "       15.10749451, 15.06827381, 15.70696467]), array([14.94260313, 15.481973  , 15.33728632, 15.17399208, 15.26279638,\n",
      "       15.15344854, 14.99436708, 15.77681756, 15.73220305, 15.54766821,\n",
      "       15.31330186, 14.91538018, 15.57598822, 15.5081456 , 16.01565913,\n",
      "       14.94576995, 15.68472869, 15.62379774, 14.89324341, 15.24380865,\n",
      "       15.44080058, 15.27911838, 15.18926507, 15.59155427, 14.99305311,\n",
      "       15.47306977, 15.2089017 , 15.68726559, 15.66254701, 15.45899562,\n",
      "       15.94823074, 15.83566298, 15.08941124, 15.96524266, 15.16537459,\n",
      "       15.14982583, 14.918813  , 15.30326782, 15.77833288, 15.35590295,\n",
      "       15.3037831 , 15.1267983 , 15.15287909, 14.87148811, 15.12145712,\n",
      "       15.28976553, 15.51960822, 15.34612549, 15.40121767, 15.50422438,\n",
      "       15.70503132, 15.06085264, 15.32538808, 15.0431625 , 15.02464845,\n",
      "       15.33922619, 15.79926644, 15.57082727, 15.71644397, 14.94374879,\n",
      "       15.28355421, 15.2114625 , 15.31012127, 15.2011805 , 14.85901802,\n",
      "       14.89890781, 15.19651891, 15.95182596, 14.93453035, 15.2362104 ,\n",
      "       15.0172802 , 15.42757365, 15.7698676 , 14.92174135, 15.8183739 ,\n",
      "       15.63472566, 15.19476282, 15.68666073, 14.86970709, 15.57782358,\n",
      "       15.44811737, 15.01632446, 16.04145177, 15.13109047, 15.76874921,\n",
      "       14.97942968, 15.09389176, 15.56274333]), array([15.04807111, 15.53827733, 15.18160247, 15.39035723, 16.03905255,\n",
      "       15.25059532, 14.73976986, 15.59890195, 15.72059886, 15.34590548,\n",
      "       15.10749451, 15.02745183, 15.4697308 , 15.6335875 , 16.40327467,\n",
      "       14.55744838, 15.81968975, 15.83838188, 14.55744838, 14.79120201,\n",
      "       15.70485051, 15.36094335, 15.22527752, 15.31513383, 15.06827381,\n",
      "       15.59890195, 15.05822348, 15.36094335, 15.54760866, 15.33063801,\n",
      "       15.76640839, 15.47373883, 15.21669378, 15.79097965, 15.10749451,\n",
      "       15.14523483, 15.03781461, 15.25059532, 15.71012756, 15.43291684,\n",
      "       15.29779691, 15.02745183, 15.31357011, 15.05822348, 15.1726338 ,\n",
      "       15.68885017, 15.24892726, 15.40474597, 14.61885698, 15.41186343,\n",
      "       15.90031283, 15.43152698, 15.98456437, 14.71159899, 15.25059532,\n",
      "       15.25059532, 15.33063801, 15.46704984, 15.65494862, 15.27853468,\n",
      "       15.06827381, 14.89392048, 15.24222707, 15.16358397, 14.89392048,\n",
      "       14.76716882, 15.26712462, 16.0082809 , 14.89392048, 15.14523483,\n",
      "       15.03781461, 15.32909836, 15.06827381, 15.04807111, 15.94374238,\n",
      "       15.50652864, 14.94271063, 15.40474597, 14.43339579, 15.10749451,\n",
      "       15.21669378, 15.32909836, 15.89244909, 14.91512268, 15.63925323,\n",
      "       15.10749451, 15.06827381, 15.70696467]), array([14.94260313, 15.481973  , 15.33728632, 15.17399208, 15.26279638,\n",
      "       15.15344854, 14.99436708, 15.77681756, 15.73220305, 15.54766821,\n",
      "       15.31330186, 14.91538018, 15.57598822, 15.5081456 , 16.01565913,\n",
      "       14.94576995, 15.68472869, 15.62379774, 14.89324341, 15.24380865,\n",
      "       15.44080058, 15.27911838, 15.18926507, 15.59155427, 14.99305311,\n",
      "       15.47306977, 15.2089017 , 15.68726559, 15.66254701, 15.45899562,\n",
      "       15.94823074, 15.83566298, 15.08941124, 15.96524266, 15.16537459,\n",
      "       15.14982583, 14.918813  , 15.30326782, 15.77833288, 15.35590295,\n",
      "       15.3037831 , 15.1267983 , 15.15287909, 14.87148811, 15.12145712,\n",
      "       15.28976553, 15.51960822, 15.34612549, 15.40121767, 15.50422438,\n",
      "       15.70503132, 15.06085264, 15.32538808, 15.0431625 , 15.02464845,\n",
      "       15.33922619, 15.79926644, 15.57082727, 15.71644397, 14.94374879,\n",
      "       15.28355421, 15.2114625 , 15.31012127, 15.2011805 , 14.85901802,\n",
      "       14.89890781, 15.19651891, 15.95182596, 14.93453035, 15.2362104 ,\n",
      "       15.0172802 , 15.42757365, 15.7698676 , 14.92174135, 15.8183739 ,\n",
      "       15.63472566, 15.19476282, 15.68666073, 14.86970709, 15.57782358,\n",
      "       15.44811737, 15.01632446, 16.04145177, 15.13109047, 15.76874921,\n",
      "       14.97942968, 15.09389176, 15.56274333]), array([15.04807111, 15.53827733, 15.18160247, 15.39035723, 16.03905255,\n",
      "       15.25059532, 14.73976986, 15.59890195, 15.72059886, 15.34590548,\n",
      "       15.10749451, 15.02745183, 15.4697308 , 15.6335875 , 16.40327467,\n",
      "       14.55744838, 15.81968975, 15.83838188, 14.55744838, 14.79120201,\n",
      "       15.70485051, 15.36094335, 15.22527752, 15.31513383, 15.06827381,\n",
      "       15.59890195, 15.05822348, 15.36094335, 15.54760866, 15.33063801,\n",
      "       15.76640839, 15.47373883, 15.21669378, 15.79097965, 15.10749451,\n",
      "       15.14523483, 15.03781461, 15.25059532, 15.71012756, 15.43291684,\n",
      "       15.29779691, 15.02745183, 15.31357011, 15.05822348, 15.1726338 ,\n",
      "       15.68885017, 15.24892726, 15.40474597, 14.61885698, 15.41186343,\n",
      "       15.90031283, 15.43152698, 15.98456437, 14.71159899, 15.25059532,\n",
      "       15.25059532, 15.33063801, 15.46704984, 15.65494862, 15.27853468,\n",
      "       15.06827381, 14.89392048, 15.24222707, 15.16358397, 14.89392048,\n",
      "       14.76716882, 15.26712462, 16.0082809 , 14.89392048, 15.14523483,\n",
      "       15.03781461, 15.32909836, 15.06827381, 15.04807111, 15.94374238,\n",
      "       15.50652864, 14.94271063, 15.40474597, 14.43339579, 15.10749451,\n",
      "       15.21669378, 15.32909836, 15.89244909, 14.91512268, 15.63925323,\n",
      "       15.10749451, 15.06827381, 15.70696467]), array([14.94260313, 15.481973  , 15.33728632, 15.17399208, 15.26279638,\n",
      "       15.15344854, 14.99436708, 15.77681756, 15.73220305, 15.54766821,\n",
      "       15.31330186, 14.91538018, 15.57598822, 15.5081456 , 16.01565913,\n",
      "       14.94576995, 15.68472869, 15.62379774, 14.89324341, 15.24380865,\n",
      "       15.44080058, 15.27911838, 15.18926507, 15.59155427, 14.99305311,\n",
      "       15.47306977, 15.2089017 , 15.68726559, 15.66254701, 15.45899562,\n",
      "       15.94823074, 15.83566298, 15.08941124, 15.96524266, 15.16537459,\n",
      "       15.14982583, 14.918813  , 15.30326782, 15.77833288, 15.35590295,\n",
      "       15.3037831 , 15.1267983 , 15.15287909, 14.87148811, 15.12145712,\n",
      "       15.28976553, 15.51960822, 15.34612549, 15.40121767, 15.50422438,\n",
      "       15.70503132, 15.06085264, 15.32538808, 15.0431625 , 15.02464845,\n",
      "       15.33922619, 15.79926644, 15.57082727, 15.71644397, 14.94374879,\n",
      "       15.28355421, 15.2114625 , 15.31012127, 15.2011805 , 14.85901802,\n",
      "       14.89890781, 15.19651891, 15.95182596, 14.93453035, 15.2362104 ,\n",
      "       15.0172802 , 15.42757365, 15.7698676 , 14.92174135, 15.8183739 ,\n",
      "       15.63472566, 15.19476282, 15.68666073, 14.86970709, 15.57782358,\n",
      "       15.44811737, 15.01632446, 16.04145177, 15.13109047, 15.76874921,\n",
      "       14.97942968, 15.09389176, 15.56274333]), array([15.04807111, 15.53827733, 15.18160247, 15.39035723, 16.03905255,\n",
      "       15.25059532, 14.73976986, 15.59890195, 15.72059886, 15.34590548,\n",
      "       15.10749451, 15.02745183, 15.4697308 , 15.6335875 , 16.40327467,\n",
      "       14.55744838, 15.81968975, 15.83838188, 14.55744838, 14.79120201,\n",
      "       15.70485051, 15.36094335, 15.22527752, 15.31513383, 15.06827381,\n",
      "       15.59890195, 15.05822348, 15.36094335, 15.54760866, 15.33063801,\n",
      "       15.76640839, 15.47373883, 15.21669378, 15.79097965, 15.10749451,\n",
      "       15.14523483, 15.03781461, 15.25059532, 15.71012756, 15.43291684,\n",
      "       15.29779691, 15.02745183, 15.31357011, 15.05822348, 15.1726338 ,\n",
      "       15.68885017, 15.24892726, 15.40474597, 14.61885698, 15.41186343,\n",
      "       15.90031283, 15.43152698, 15.98456437, 14.71159899, 15.25059532,\n",
      "       15.25059532, 15.33063801, 15.46704984, 15.65494862, 15.27853468,\n",
      "       15.06827381, 14.89392048, 15.24222707, 15.16358397, 14.89392048,\n",
      "       14.76716882, 15.26712462, 16.0082809 , 14.89392048, 15.14523483,\n",
      "       15.03781461, 15.32909836, 15.06827381, 15.04807111, 15.94374238,\n",
      "       15.50652864, 14.94271063, 15.40474597, 14.43339579, 15.10749451,\n",
      "       15.21669378, 15.32909836, 15.89244909, 14.91512268, 15.63925323,\n",
      "       15.10749451, 15.06827381, 15.70696467]), array([14.94260313, 15.481973  , 15.33728632, 15.17399208, 15.26279638,\n",
      "       15.15344854, 14.99436708, 15.77681756, 15.73220305, 15.54766821,\n",
      "       15.31330186, 14.91538018, 15.57598822, 15.5081456 , 16.01565913,\n",
      "       14.94576995, 15.68472869, 15.62379774, 14.89324341, 15.24380865,\n",
      "       15.44080058, 15.27911838, 15.18926507, 15.59155427, 14.99305311,\n",
      "       15.47306977, 15.2089017 , 15.68726559, 15.66254701, 15.45899562,\n",
      "       15.94823074, 15.83566298, 15.08941124, 15.96524266, 15.16537459,\n",
      "       15.14982583, 14.918813  , 15.30326782, 15.77833288, 15.35590295,\n",
      "       15.3037831 , 15.1267983 , 15.15287909, 14.87148811, 15.12145712,\n",
      "       15.28976553, 15.51960822, 15.34612549, 15.40121767, 15.50422438,\n",
      "       15.70503132, 15.06085264, 15.32538808, 15.0431625 , 15.02464845,\n",
      "       15.33922619, 15.79926644, 15.57082727, 15.71644397, 14.94374879,\n",
      "       15.28355421, 15.2114625 , 15.31012127, 15.2011805 , 14.85901802,\n",
      "       14.89890781, 15.19651891, 15.95182596, 14.93453035, 15.2362104 ,\n",
      "       15.0172802 , 15.42757365, 15.7698676 , 14.92174135, 15.8183739 ,\n",
      "       15.63472566, 15.19476282, 15.68666073, 14.86970709, 15.57782358,\n",
      "       15.44811737, 15.01632446, 16.04145177, 15.13109047, 15.76874921,\n",
      "       14.97942968, 15.09389176, 15.56274333]), array([15.04807111, 15.53827733, 15.18160247, 15.39035723, 16.03905255,\n",
      "       15.25059532, 14.73976986, 15.59890195, 15.72059886, 15.34590548,\n",
      "       15.10749451, 15.02745183, 15.4697308 , 15.6335875 , 16.40327467,\n",
      "       14.55744838, 15.81968975, 15.83838188, 14.55744838, 14.79120201,\n",
      "       15.70485051, 15.36094335, 15.22527752, 15.31513383, 15.06827381,\n",
      "       15.59890195, 15.05822348, 15.36094335, 15.54760866, 15.33063801,\n",
      "       15.76640839, 15.47373883, 15.21669378, 15.79097965, 15.10749451,\n",
      "       15.14523483, 15.03781461, 15.25059532, 15.71012756, 15.43291684,\n",
      "       15.29779691, 15.02745183, 15.31357011, 15.05822348, 15.1726338 ,\n",
      "       15.68885017, 15.24892726, 15.40474597, 14.61885698, 15.41186343,\n",
      "       15.90031283, 15.43152698, 15.98456437, 14.71159899, 15.25059532,\n",
      "       15.25059532, 15.33063801, 15.46704984, 15.65494862, 15.27853468,\n",
      "       15.06827381, 14.89392048, 15.24222707, 15.16358397, 14.89392048,\n",
      "       14.76716882, 15.26712462, 16.0082809 , 14.89392048, 15.14523483,\n",
      "       15.03781461, 15.32909836, 15.06827381, 15.04807111, 15.94374238,\n",
      "       15.50652864, 14.94271063, 15.40474597, 14.43339579, 15.10749451,\n",
      "       15.21669378, 15.32909836, 15.89244909, 14.91512268, 15.63925323,\n",
      "       15.10749451, 15.06827381, 15.70696467]), array([14.94260313, 15.481973  , 15.33728632, 15.17399208, 15.26279638,\n",
      "       15.15344854, 14.99436708, 15.77681756, 15.73220305, 15.54766821,\n",
      "       15.31330186, 14.91538018, 15.57598822, 15.5081456 , 16.01565913,\n",
      "       14.94576995, 15.68472869, 15.62379774, 14.89324341, 15.24380865,\n",
      "       15.44080058, 15.27911838, 15.18926507, 15.59155427, 14.99305311,\n",
      "       15.47306977, 15.2089017 , 15.68726559, 15.66254701, 15.45899562,\n",
      "       15.94823074, 15.83566298, 15.08941124, 15.96524266, 15.16537459,\n",
      "       15.14982583, 14.918813  , 15.30326782, 15.77833288, 15.35590295,\n",
      "       15.3037831 , 15.1267983 , 15.15287909, 14.87148811, 15.12145712,\n",
      "       15.28976553, 15.51960822, 15.34612549, 15.40121767, 15.50422438,\n",
      "       15.70503132, 15.06085264, 15.32538808, 15.0431625 , 15.02464845,\n",
      "       15.33922619, 15.79926644, 15.57082727, 15.71644397, 14.94374879,\n",
      "       15.28355421, 15.2114625 , 15.31012127, 15.2011805 , 14.85901802,\n",
      "       14.89890781, 15.19651891, 15.95182596, 14.93453035, 15.2362104 ,\n",
      "       15.0172802 , 15.42757365, 15.7698676 , 14.92174135, 15.8183739 ,\n",
      "       15.63472566, 15.19476282, 15.68666073, 14.86970709, 15.57782358,\n",
      "       15.44811737, 15.01632446, 16.04145177, 15.13109047, 15.76874921,\n",
      "       14.97942968, 15.09389176, 15.56274333]), array([15.04807111, 15.53827733, 15.18160247, 15.39035723, 16.03905255,\n",
      "       15.25059532, 14.73976986, 15.59890195, 15.72059886, 15.34590548,\n",
      "       15.10749451, 15.02745183, 15.4697308 , 15.6335875 , 16.40327467,\n",
      "       14.55744838, 15.81968975, 15.83838188, 14.55744838, 14.79120201,\n",
      "       15.70485051, 15.36094335, 15.22527752, 15.31513383, 15.06827381,\n",
      "       15.59890195, 15.05822348, 15.36094335, 15.54760866, 15.33063801,\n",
      "       15.76640839, 15.47373883, 15.21669378, 15.79097965, 15.10749451,\n",
      "       15.14523483, 15.03781461, 15.25059532, 15.71012756, 15.43291684,\n",
      "       15.29779691, 15.02745183, 15.31357011, 15.05822348, 15.1726338 ,\n",
      "       15.68885017, 15.24892726, 15.40474597, 14.61885698, 15.41186343,\n",
      "       15.90031283, 15.43152698, 15.98456437, 14.71159899, 15.25059532,\n",
      "       15.25059532, 15.33063801, 15.46704984, 15.65494862, 15.27853468,\n",
      "       15.06827381, 14.89392048, 15.24222707, 15.16358397, 14.89392048,\n",
      "       14.76716882, 15.26712462, 16.0082809 , 14.89392048, 15.14523483,\n",
      "       15.03781461, 15.32909836, 15.06827381, 15.04807111, 15.94374238,\n",
      "       15.50652864, 14.94271063, 15.40474597, 14.43339579, 15.10749451,\n",
      "       15.21669378, 15.32909836, 15.89244909, 14.91512268, 15.63925323,\n",
      "       15.10749451, 15.06827381, 15.70696467]), array([14.94260313, 15.481973  , 15.33728632, 15.17399208, 15.26279638,\n",
      "       15.15344854, 14.99436708, 15.77681756, 15.73220305, 15.54766821,\n",
      "       15.31330186, 14.91538018, 15.57598822, 15.5081456 , 16.01565913,\n",
      "       14.94576995, 15.68472869, 15.62379774, 14.89324341, 15.24380865,\n",
      "       15.44080058, 15.27911838, 15.18926507, 15.59155427, 14.99305311,\n",
      "       15.47306977, 15.2089017 , 15.68726559, 15.66254701, 15.45899562,\n",
      "       15.94823074, 15.83566298, 15.08941124, 15.96524266, 15.16537459,\n",
      "       15.14982583, 14.918813  , 15.30326782, 15.77833288, 15.35590295,\n",
      "       15.3037831 , 15.1267983 , 15.15287909, 14.87148811, 15.12145712,\n",
      "       15.28976553, 15.51960822, 15.34612549, 15.40121767, 15.50422438,\n",
      "       15.70503132, 15.06085264, 15.32538808, 15.0431625 , 15.02464845,\n",
      "       15.33922619, 15.79926644, 15.57082727, 15.71644397, 14.94374879,\n",
      "       15.28355421, 15.2114625 , 15.31012127, 15.2011805 , 14.85901802,\n",
      "       14.89890781, 15.19651891, 15.95182596, 14.93453035, 15.2362104 ,\n",
      "       15.0172802 , 15.42757365, 15.7698676 , 14.92174135, 15.8183739 ,\n",
      "       15.63472566, 15.19476282, 15.68666073, 14.86970709, 15.57782358,\n",
      "       15.44811737, 15.01632446, 16.04145177, 15.13109047, 15.76874921,\n",
      "       14.97942968, 15.09389176, 15.56274333]), array([15.04807111, 15.53827733, 15.18160247, 15.39035723, 16.03905255,\n",
      "       15.25059532, 14.73976986, 15.59890195, 15.72059886, 15.34590548,\n",
      "       15.10749451, 15.02745183, 15.4697308 , 15.6335875 , 16.40327467,\n",
      "       14.55744838, 15.81968975, 15.83838188, 14.55744838, 14.79120201,\n",
      "       15.70485051, 15.36094335, 15.22527752, 15.31513383, 15.06827381,\n",
      "       15.59890195, 15.05822348, 15.36094335, 15.54760866, 15.33063801,\n",
      "       15.76640839, 15.47373883, 15.21669378, 15.79097965, 15.10749451,\n",
      "       15.14523483, 15.03781461, 15.25059532, 15.71012756, 15.43291684,\n",
      "       15.29779691, 15.02745183, 15.31357011, 15.05822348, 15.1726338 ,\n",
      "       15.68885017, 15.24892726, 15.40474597, 14.61885698, 15.41186343,\n",
      "       15.90031283, 15.43152698, 15.98456437, 14.71159899, 15.25059532,\n",
      "       15.25059532, 15.33063801, 15.46704984, 15.65494862, 15.27853468,\n",
      "       15.06827381, 14.89392048, 15.24222707, 15.16358397, 14.89392048,\n",
      "       14.76716882, 15.26712462, 16.0082809 , 14.89392048, 15.14523483,\n",
      "       15.03781461, 15.32909836, 15.06827381, 15.04807111, 15.94374238,\n",
      "       15.50652864, 14.94271063, 15.40474597, 14.43339579, 15.10749451,\n",
      "       15.21669378, 15.32909836, 15.89244909, 14.91512268, 15.63925323,\n",
      "       15.10749451, 15.06827381, 15.70696467]), array([14.94260313, 15.481973  , 15.33728632, 15.17399208, 15.26279638,\n",
      "       15.15344854, 14.99436708, 15.77681756, 15.73220305, 15.54766821,\n",
      "       15.31330186, 14.91538018, 15.57598822, 15.5081456 , 16.01565913,\n",
      "       14.94576995, 15.68472869, 15.62379774, 14.89324341, 15.24380865,\n",
      "       15.44080058, 15.27911838, 15.18926507, 15.59155427, 14.99305311,\n",
      "       15.47306977, 15.2089017 , 15.68726559, 15.66254701, 15.45899562,\n",
      "       15.94823074, 15.83566298, 15.08941124, 15.96524266, 15.16537459,\n",
      "       15.14982583, 14.918813  , 15.30326782, 15.77833288, 15.35590295,\n",
      "       15.3037831 , 15.1267983 , 15.15287909, 14.87148811, 15.12145712,\n",
      "       15.28976553, 15.51960822, 15.34612549, 15.40121767, 15.50422438,\n",
      "       15.70503132, 15.06085264, 15.32538808, 15.0431625 , 15.02464845,\n",
      "       15.33922619, 15.79926644, 15.57082727, 15.71644397, 14.94374879,\n",
      "       15.28355421, 15.2114625 , 15.31012127, 15.2011805 , 14.85901802,\n",
      "       14.89890781, 15.19651891, 15.95182596, 14.93453035, 15.2362104 ,\n",
      "       15.0172802 , 15.42757365, 15.7698676 , 14.92174135, 15.8183739 ,\n",
      "       15.63472566, 15.19476282, 15.68666073, 14.86970709, 15.57782358,\n",
      "       15.44811737, 15.01632446, 16.04145177, 15.13109047, 15.76874921,\n",
      "       14.97942968, 15.09389176, 15.56274333]), array([15.04807111, 15.53827733, 15.18160247, 15.39035723, 16.03905255,\n",
      "       15.25059532, 14.73976986, 15.59890195, 15.72059886, 15.34590548,\n",
      "       15.10749451, 15.02745183, 15.4697308 , 15.6335875 , 16.40327467,\n",
      "       14.55744838, 15.81968975, 15.83838188, 14.55744838, 14.79120201,\n",
      "       15.70485051, 15.36094335, 15.22527752, 15.31513383, 15.06827381,\n",
      "       15.59890195, 15.05822348, 15.36094335, 15.54760866, 15.33063801,\n",
      "       15.76640839, 15.47373883, 15.21669378, 15.79097965, 15.10749451,\n",
      "       15.14523483, 15.03781461, 15.25059532, 15.71012756, 15.43291684,\n",
      "       15.29779691, 15.02745183, 15.31357011, 15.05822348, 15.1726338 ,\n",
      "       15.68885017, 15.24892726, 15.40474597, 14.61885698, 15.41186343,\n",
      "       15.90031283, 15.43152698, 15.98456437, 14.71159899, 15.25059532,\n",
      "       15.25059532, 15.33063801, 15.46704984, 15.65494862, 15.27853468,\n",
      "       15.06827381, 14.89392048, 15.24222707, 15.16358397, 14.89392048,\n",
      "       14.76716882, 15.26712462, 16.0082809 , 14.89392048, 15.14523483,\n",
      "       15.03781461, 15.32909836, 15.06827381, 15.04807111, 15.94374238,\n",
      "       15.50652864, 14.94271063, 15.40474597, 14.43339579, 15.10749451,\n",
      "       15.21669378, 15.32909836, 15.89244909, 14.91512268, 15.63925323,\n",
      "       15.10749451, 15.06827381, 15.70696467]), array([14.94260313, 15.481973  , 15.33728632, 15.17399208, 15.26279638,\n",
      "       15.15344854, 14.99436708, 15.77681756, 15.73220305, 15.54766821,\n",
      "       15.31330186, 14.91538018, 15.57598822, 15.5081456 , 16.01565913,\n",
      "       14.94576995, 15.68472869, 15.62379774, 14.89324341, 15.24380865,\n",
      "       15.44080058, 15.27911838, 15.18926507, 15.59155427, 14.99305311,\n",
      "       15.47306977, 15.2089017 , 15.68726559, 15.66254701, 15.45899562,\n",
      "       15.94823074, 15.83566298, 15.08941124, 15.96524266, 15.16537459,\n",
      "       15.14982583, 14.918813  , 15.30326782, 15.77833288, 15.35590295,\n",
      "       15.3037831 , 15.1267983 , 15.15287909, 14.87148811, 15.12145712,\n",
      "       15.28976553, 15.51960822, 15.34612549, 15.40121767, 15.50422438,\n",
      "       15.70503132, 15.06085264, 15.32538808, 15.0431625 , 15.02464845,\n",
      "       15.33922619, 15.79926644, 15.57082727, 15.71644397, 14.94374879,\n",
      "       15.28355421, 15.2114625 , 15.31012127, 15.2011805 , 14.85901802,\n",
      "       14.89890781, 15.19651891, 15.95182596, 14.93453035, 15.2362104 ,\n",
      "       15.0172802 , 15.42757365, 15.7698676 , 14.92174135, 15.8183739 ,\n",
      "       15.63472566, 15.19476282, 15.68666073, 14.86970709, 15.57782358,\n",
      "       15.44811737, 15.01632446, 16.04145177, 15.13109047, 15.76874921,\n",
      "       14.97942968, 15.09389176, 15.56274333]), array([15.04807111, 15.53827733, 15.18160247, 15.39035723, 16.03905255,\n",
      "       15.25059532, 14.73976986, 15.59890195, 15.72059886, 15.34590548,\n",
      "       15.10749451, 15.02745183, 15.4697308 , 15.6335875 , 16.40327467,\n",
      "       14.55744838, 15.81968975, 15.83838188, 14.55744838, 14.79120201,\n",
      "       15.70485051, 15.36094335, 15.22527752, 15.31513383, 15.06827381,\n",
      "       15.59890195, 15.05822348, 15.36094335, 15.54760866, 15.33063801,\n",
      "       15.76640839, 15.47373883, 15.21669378, 15.79097965, 15.10749451,\n",
      "       15.14523483, 15.03781461, 15.25059532, 15.71012756, 15.43291684,\n",
      "       15.29779691, 15.02745183, 15.31357011, 15.05822348, 15.1726338 ,\n",
      "       15.68885017, 15.24892726, 15.40474597, 14.61885698, 15.41186343,\n",
      "       15.90031283, 15.43152698, 15.98456437, 14.71159899, 15.25059532,\n",
      "       15.25059532, 15.33063801, 15.46704984, 15.65494862, 15.27853468,\n",
      "       15.06827381, 14.89392048, 15.24222707, 15.16358397, 14.89392048,\n",
      "       14.76716882, 15.26712462, 16.0082809 , 14.89392048, 15.14523483,\n",
      "       15.03781461, 15.32909836, 15.06827381, 15.04807111, 15.94374238,\n",
      "       15.50652864, 14.94271063, 15.40474597, 14.43339579, 15.10749451,\n",
      "       15.21669378, 15.32909836, 15.89244909, 14.91512268, 15.63925323,\n",
      "       15.10749451, 15.06827381, 15.70696467]), array([14.94260313, 15.481973  , 15.33728632, 15.17399208, 15.26279638,\n",
      "       15.15344854, 14.99436708, 15.77681756, 15.73220305, 15.54766821,\n",
      "       15.31330186, 14.91538018, 15.57598822, 15.5081456 , 16.01565913,\n",
      "       14.94576995, 15.68472869, 15.62379774, 14.89324341, 15.24380865,\n",
      "       15.44080058, 15.27911838, 15.18926507, 15.59155427, 14.99305311,\n",
      "       15.47306977, 15.2089017 , 15.68726559, 15.66254701, 15.45899562,\n",
      "       15.94823074, 15.83566298, 15.08941124, 15.96524266, 15.16537459,\n",
      "       15.14982583, 14.918813  , 15.30326782, 15.77833288, 15.35590295,\n",
      "       15.3037831 , 15.1267983 , 15.15287909, 14.87148811, 15.12145712,\n",
      "       15.28976553, 15.51960822, 15.34612549, 15.40121767, 15.50422438,\n",
      "       15.70503132, 15.06085264, 15.32538808, 15.0431625 , 15.02464845,\n",
      "       15.33922619, 15.79926644, 15.57082727, 15.71644397, 14.94374879,\n",
      "       15.28355421, 15.2114625 , 15.31012127, 15.2011805 , 14.85901802,\n",
      "       14.89890781, 15.19651891, 15.95182596, 14.93453035, 15.2362104 ,\n",
      "       15.0172802 , 15.42757365, 15.7698676 , 14.92174135, 15.8183739 ,\n",
      "       15.63472566, 15.19476282, 15.68666073, 14.86970709, 15.57782358,\n",
      "       15.44811737, 15.01632446, 16.04145177, 15.13109047, 15.76874921,\n",
      "       14.97942968, 15.09389176, 15.56274333]), array([15.04807111, 15.53827733, 15.18160247, 15.39035723, 16.03905255,\n",
      "       15.25059532, 14.73976986, 15.59890195, 15.72059886, 15.34590548,\n",
      "       15.10749451, 15.02745183, 15.4697308 , 15.6335875 , 16.40327467,\n",
      "       14.55744838, 15.81968975, 15.83838188, 14.55744838, 14.79120201,\n",
      "       15.70485051, 15.36094335, 15.22527752, 15.31513383, 15.06827381,\n",
      "       15.59890195, 15.05822348, 15.36094335, 15.54760866, 15.33063801,\n",
      "       15.76640839, 15.47373883, 15.21669378, 15.79097965, 15.10749451,\n",
      "       15.14523483, 15.03781461, 15.25059532, 15.71012756, 15.43291684,\n",
      "       15.29779691, 15.02745183, 15.31357011, 15.05822348, 15.1726338 ,\n",
      "       15.68885017, 15.24892726, 15.40474597, 14.61885698, 15.41186343,\n",
      "       15.90031283, 15.43152698, 15.98456437, 14.71159899, 15.25059532,\n",
      "       15.25059532, 15.33063801, 15.46704984, 15.65494862, 15.27853468,\n",
      "       15.06827381, 14.89392048, 15.24222707, 15.16358397, 14.89392048,\n",
      "       14.76716882, 15.26712462, 16.0082809 , 14.89392048, 15.14523483,\n",
      "       15.03781461, 15.32909836, 15.06827381, 15.04807111, 15.94374238,\n",
      "       15.50652864, 14.94271063, 15.40474597, 14.43339579, 15.10749451,\n",
      "       15.21669378, 15.32909836, 15.89244909, 14.91512268, 15.63925323,\n",
      "       15.10749451, 15.06827381, 15.70696467]), array([14.94260313, 15.481973  , 15.33728632, 15.17399208, 15.26279638,\n",
      "       15.15344854, 14.99436708, 15.77681756, 15.73220305, 15.54766821,\n",
      "       15.31330186, 14.91538018, 15.57598822, 15.5081456 , 16.01565913,\n",
      "       14.94576995, 15.68472869, 15.62379774, 14.89324341, 15.24380865,\n",
      "       15.44080058, 15.27911838, 15.18926507, 15.59155427, 14.99305311,\n",
      "       15.47306977, 15.2089017 , 15.68726559, 15.66254701, 15.45899562,\n",
      "       15.94823074, 15.83566298, 15.08941124, 15.96524266, 15.16537459,\n",
      "       15.14982583, 14.918813  , 15.30326782, 15.77833288, 15.35590295,\n",
      "       15.3037831 , 15.1267983 , 15.15287909, 14.87148811, 15.12145712,\n",
      "       15.28976553, 15.51960822, 15.34612549, 15.40121767, 15.50422438,\n",
      "       15.70503132, 15.06085264, 15.32538808, 15.0431625 , 15.02464845,\n",
      "       15.33922619, 15.79926644, 15.57082727, 15.71644397, 14.94374879,\n",
      "       15.28355421, 15.2114625 , 15.31012127, 15.2011805 , 14.85901802,\n",
      "       14.89890781, 15.19651891, 15.95182596, 14.93453035, 15.2362104 ,\n",
      "       15.0172802 , 15.42757365, 15.7698676 , 14.92174135, 15.8183739 ,\n",
      "       15.63472566, 15.19476282, 15.68666073, 14.86970709, 15.57782358,\n",
      "       15.44811737, 15.01632446, 16.04145177, 15.13109047, 15.76874921,\n",
      "       14.97942968, 15.09389176, 15.56274333]), array([15.04807111, 15.53827733, 15.18160247, 15.39035723, 16.03905255,\n",
      "       15.25059532, 14.73976986, 15.59890195, 15.72059886, 15.34590548,\n",
      "       15.10749451, 15.02745183, 15.4697308 , 15.6335875 , 16.40327467,\n",
      "       14.55744838, 15.81968975, 15.83838188, 14.55744838, 14.79120201,\n",
      "       15.70485051, 15.36094335, 15.22527752, 15.31513383, 15.06827381,\n",
      "       15.59890195, 15.05822348, 15.36094335, 15.54760866, 15.33063801,\n",
      "       15.76640839, 15.47373883, 15.21669378, 15.79097965, 15.10749451,\n",
      "       15.14523483, 15.03781461, 15.25059532, 15.71012756, 15.43291684,\n",
      "       15.29779691, 15.02745183, 15.31357011, 15.05822348, 15.1726338 ,\n",
      "       15.68885017, 15.24892726, 15.40474597, 14.61885698, 15.41186343,\n",
      "       15.90031283, 15.43152698, 15.98456437, 14.71159899, 15.25059532,\n",
      "       15.25059532, 15.33063801, 15.46704984, 15.65494862, 15.27853468,\n",
      "       15.06827381, 14.89392048, 15.24222707, 15.16358397, 14.89392048,\n",
      "       14.76716882, 15.26712462, 16.0082809 , 14.89392048, 15.14523483,\n",
      "       15.03781461, 15.32909836, 15.06827381, 15.04807111, 15.94374238,\n",
      "       15.50652864, 14.94271063, 15.40474597, 14.43339579, 15.10749451,\n",
      "       15.21669378, 15.32909836, 15.89244909, 14.91512268, 15.63925323,\n",
      "       15.10749451, 15.06827381, 15.70696467]), array([14.94260313, 15.481973  , 15.33728632, 15.17399208, 15.26279638,\n",
      "       15.15344854, 14.99436708, 15.77681756, 15.73220305, 15.54766821,\n",
      "       15.31330186, 14.91538018, 15.57598822, 15.5081456 , 16.01565913,\n",
      "       14.94576995, 15.68472869, 15.62379774, 14.89324341, 15.24380865,\n",
      "       15.44080058, 15.27911838, 15.18926507, 15.59155427, 14.99305311,\n",
      "       15.47306977, 15.2089017 , 15.68726559, 15.66254701, 15.45899562,\n",
      "       15.94823074, 15.83566298, 15.08941124, 15.96524266, 15.16537459,\n",
      "       15.14982583, 14.918813  , 15.30326782, 15.77833288, 15.35590295,\n",
      "       15.3037831 , 15.1267983 , 15.15287909, 14.87148811, 15.12145712,\n",
      "       15.28976553, 15.51960822, 15.34612549, 15.40121767, 15.50422438,\n",
      "       15.70503132, 15.06085264, 15.32538808, 15.0431625 , 15.02464845,\n",
      "       15.33922619, 15.79926644, 15.57082727, 15.71644397, 14.94374879,\n",
      "       15.28355421, 15.2114625 , 15.31012127, 15.2011805 , 14.85901802,\n",
      "       14.89890781, 15.19651891, 15.95182596, 14.93453035, 15.2362104 ,\n",
      "       15.0172802 , 15.42757365, 15.7698676 , 14.92174135, 15.8183739 ,\n",
      "       15.63472566, 15.19476282, 15.68666073, 14.86970709, 15.57782358,\n",
      "       15.44811737, 15.01632446, 16.04145177, 15.13109047, 15.76874921,\n",
      "       14.97942968, 15.09389176, 15.56274333]), array([15.04807111, 15.53827733, 15.18160247, 15.39035723, 16.03905255,\n",
      "       15.25059532, 14.73976986, 15.59890195, 15.72059886, 15.34590548,\n",
      "       15.10749451, 15.02745183, 15.4697308 , 15.6335875 , 16.40327467,\n",
      "       14.55744838, 15.81968975, 15.83838188, 14.55744838, 14.79120201,\n",
      "       15.70485051, 15.36094335, 15.22527752, 15.31513383, 15.06827381,\n",
      "       15.59890195, 15.05822348, 15.36094335, 15.54760866, 15.33063801,\n",
      "       15.76640839, 15.47373883, 15.21669378, 15.79097965, 15.10749451,\n",
      "       15.14523483, 15.03781461, 15.25059532, 15.71012756, 15.43291684,\n",
      "       15.29779691, 15.02745183, 15.31357011, 15.05822348, 15.1726338 ,\n",
      "       15.68885017, 15.24892726, 15.40474597, 14.61885698, 15.41186343,\n",
      "       15.90031283, 15.43152698, 15.98456437, 14.71159899, 15.25059532,\n",
      "       15.25059532, 15.33063801, 15.46704984, 15.65494862, 15.27853468,\n",
      "       15.06827381, 14.89392048, 15.24222707, 15.16358397, 14.89392048,\n",
      "       14.76716882, 15.26712462, 16.0082809 , 14.89392048, 15.14523483,\n",
      "       15.03781461, 15.32909836, 15.06827381, 15.04807111, 15.94374238,\n",
      "       15.50652864, 14.94271063, 15.40474597, 14.43339579, 15.10749451,\n",
      "       15.21669378, 15.32909836, 15.89244909, 14.91512268, 15.63925323,\n",
      "       15.10749451, 15.06827381, 15.70696467]), array([14.94260313, 15.481973  , 15.33728632, 15.17399208, 15.26279638,\n",
      "       15.15344854, 14.99436708, 15.77681756, 15.73220305, 15.54766821,\n",
      "       15.31330186, 14.91538018, 15.57598822, 15.5081456 , 16.01565913,\n",
      "       14.94576995, 15.68472869, 15.62379774, 14.89324341, 15.24380865,\n",
      "       15.44080058, 15.27911838, 15.18926507, 15.59155427, 14.99305311,\n",
      "       15.47306977, 15.2089017 , 15.68726559, 15.66254701, 15.45899562,\n",
      "       15.94823074, 15.83566298, 15.08941124, 15.96524266, 15.16537459,\n",
      "       15.14982583, 14.918813  , 15.30326782, 15.77833288, 15.35590295,\n",
      "       15.3037831 , 15.1267983 , 15.15287909, 14.87148811, 15.12145712,\n",
      "       15.28976553, 15.51960822, 15.34612549, 15.40121767, 15.50422438,\n",
      "       15.70503132, 15.06085264, 15.32538808, 15.0431625 , 15.02464845,\n",
      "       15.33922619, 15.79926644, 15.57082727, 15.71644397, 14.94374879,\n",
      "       15.28355421, 15.2114625 , 15.31012127, 15.2011805 , 14.85901802,\n",
      "       14.89890781, 15.19651891, 15.95182596, 14.93453035, 15.2362104 ,\n",
      "       15.0172802 , 15.42757365, 15.7698676 , 14.92174135, 15.8183739 ,\n",
      "       15.63472566, 15.19476282, 15.68666073, 14.86970709, 15.57782358,\n",
      "       15.44811737, 15.01632446, 16.04145177, 15.13109047, 15.76874921,\n",
      "       14.97942968, 15.09389176, 15.56274333]), array([15.04807111, 15.53827733, 15.18160247, 15.39035723, 16.03905255,\n",
      "       15.25059532, 14.73976986, 15.59890195, 15.72059886, 15.34590548,\n",
      "       15.10749451, 15.02745183, 15.4697308 , 15.6335875 , 16.40327467,\n",
      "       14.55744838, 15.81968975, 15.83838188, 14.55744838, 14.79120201,\n",
      "       15.70485051, 15.36094335, 15.22527752, 15.31513383, 15.06827381,\n",
      "       15.59890195, 15.05822348, 15.36094335, 15.54760866, 15.33063801,\n",
      "       15.76640839, 15.47373883, 15.21669378, 15.79097965, 15.10749451,\n",
      "       15.14523483, 15.03781461, 15.25059532, 15.71012756, 15.43291684,\n",
      "       15.29779691, 15.02745183, 15.31357011, 15.05822348, 15.1726338 ,\n",
      "       15.68885017, 15.24892726, 15.40474597, 14.61885698, 15.41186343,\n",
      "       15.90031283, 15.43152698, 15.98456437, 14.71159899, 15.25059532,\n",
      "       15.25059532, 15.33063801, 15.46704984, 15.65494862, 15.27853468,\n",
      "       15.06827381, 14.89392048, 15.24222707, 15.16358397, 14.89392048,\n",
      "       14.76716882, 15.26712462, 16.0082809 , 14.89392048, 15.14523483,\n",
      "       15.03781461, 15.32909836, 15.06827381, 15.04807111, 15.94374238,\n",
      "       15.50652864, 14.94271063, 15.40474597, 14.43339579, 15.10749451,\n",
      "       15.21669378, 15.32909836, 15.89244909, 14.91512268, 15.63925323,\n",
      "       15.10749451, 15.06827381, 15.70696467]), array([14.94260313, 15.481973  , 15.33728632, 15.17399208, 15.26279638,\n",
      "       15.15344854, 14.99436708, 15.77681756, 15.73220305, 15.54766821,\n",
      "       15.31330186, 14.91538018, 15.57598822, 15.5081456 , 16.01565913,\n",
      "       14.94576995, 15.68472869, 15.62379774, 14.89324341, 15.24380865,\n",
      "       15.44080058, 15.27911838, 15.18926507, 15.59155427, 14.99305311,\n",
      "       15.47306977, 15.2089017 , 15.68726559, 15.66254701, 15.45899562,\n",
      "       15.94823074, 15.83566298, 15.08941124, 15.96524266, 15.16537459,\n",
      "       15.14982583, 14.918813  , 15.30326782, 15.77833288, 15.35590295,\n",
      "       15.3037831 , 15.1267983 , 15.15287909, 14.87148811, 15.12145712,\n",
      "       15.28976553, 15.51960822, 15.34612549, 15.40121767, 15.50422438,\n",
      "       15.70503132, 15.06085264, 15.32538808, 15.0431625 , 15.02464845,\n",
      "       15.33922619, 15.79926644, 15.57082727, 15.71644397, 14.94374879,\n",
      "       15.28355421, 15.2114625 , 15.31012127, 15.2011805 , 14.85901802,\n",
      "       14.89890781, 15.19651891, 15.95182596, 14.93453035, 15.2362104 ,\n",
      "       15.0172802 , 15.42757365, 15.7698676 , 14.92174135, 15.8183739 ,\n",
      "       15.63472566, 15.19476282, 15.68666073, 14.86970709, 15.57782358,\n",
      "       15.44811737, 15.01632446, 16.04145177, 15.13109047, 15.76874921,\n",
      "       14.97942968, 15.09389176, 15.56274333]), array([15.04807111, 15.53827733, 15.18160247, 15.39035723, 16.03905255,\n",
      "       15.25059532, 14.73976986, 15.59890195, 15.72059886, 15.34590548,\n",
      "       15.10749451, 15.02745183, 15.4697308 , 15.6335875 , 16.40327467,\n",
      "       14.55744838, 15.81968975, 15.83838188, 14.55744838, 14.79120201,\n",
      "       15.70485051, 15.36094335, 15.22527752, 15.31513383, 15.06827381,\n",
      "       15.59890195, 15.05822348, 15.36094335, 15.54760866, 15.33063801,\n",
      "       15.76640839, 15.47373883, 15.21669378, 15.79097965, 15.10749451,\n",
      "       15.14523483, 15.03781461, 15.25059532, 15.71012756, 15.43291684,\n",
      "       15.29779691, 15.02745183, 15.31357011, 15.05822348, 15.1726338 ,\n",
      "       15.68885017, 15.24892726, 15.40474597, 14.61885698, 15.41186343,\n",
      "       15.90031283, 15.43152698, 15.98456437, 14.71159899, 15.25059532,\n",
      "       15.25059532, 15.33063801, 15.46704984, 15.65494862, 15.27853468,\n",
      "       15.06827381, 14.89392048, 15.24222707, 15.16358397, 14.89392048,\n",
      "       14.76716882, 15.26712462, 16.0082809 , 14.89392048, 15.14523483,\n",
      "       15.03781461, 15.32909836, 15.06827381, 15.04807111, 15.94374238,\n",
      "       15.50652864, 14.94271063, 15.40474597, 14.43339579, 15.10749451,\n",
      "       15.21669378, 15.32909836, 15.89244909, 14.91512268, 15.63925323,\n",
      "       15.10749451, 15.06827381, 15.70696467]), array([14.94260313, 15.481973  , 15.33728632, 15.17399208, 15.26279638,\n",
      "       15.15344854, 14.99436708, 15.77681756, 15.73220305, 15.54766821,\n",
      "       15.31330186, 14.91538018, 15.57598822, 15.5081456 , 16.01565913,\n",
      "       14.94576995, 15.68472869, 15.62379774, 14.89324341, 15.24380865,\n",
      "       15.44080058, 15.27911838, 15.18926507, 15.59155427, 14.99305311,\n",
      "       15.47306977, 15.2089017 , 15.68726559, 15.66254701, 15.45899562,\n",
      "       15.94823074, 15.83566298, 15.08941124, 15.96524266, 15.16537459,\n",
      "       15.14982583, 14.918813  , 15.30326782, 15.77833288, 15.35590295,\n",
      "       15.3037831 , 15.1267983 , 15.15287909, 14.87148811, 15.12145712,\n",
      "       15.28976553, 15.51960822, 15.34612549, 15.40121767, 15.50422438,\n",
      "       15.70503132, 15.06085264, 15.32538808, 15.0431625 , 15.02464845,\n",
      "       15.33922619, 15.79926644, 15.57082727, 15.71644397, 14.94374879,\n",
      "       15.28355421, 15.2114625 , 15.31012127, 15.2011805 , 14.85901802,\n",
      "       14.89890781, 15.19651891, 15.95182596, 14.93453035, 15.2362104 ,\n",
      "       15.0172802 , 15.42757365, 15.7698676 , 14.92174135, 15.8183739 ,\n",
      "       15.63472566, 15.19476282, 15.68666073, 14.86970709, 15.57782358,\n",
      "       15.44811737, 15.01632446, 16.04145177, 15.13109047, 15.76874921,\n",
      "       14.97942968, 15.09389176, 15.56274333]), array([15.04807111, 15.53827733, 15.18160247, 15.39035723, 16.03905255,\n",
      "       15.25059532, 14.73976986, 15.59890195, 15.72059886, 15.34590548,\n",
      "       15.10749451, 15.02745183, 15.4697308 , 15.6335875 , 16.40327467,\n",
      "       14.55744838, 15.81968975, 15.83838188, 14.55744838, 14.79120201,\n",
      "       15.70485051, 15.36094335, 15.22527752, 15.31513383, 15.06827381,\n",
      "       15.59890195, 15.05822348, 15.36094335, 15.54760866, 15.33063801,\n",
      "       15.76640839, 15.47373883, 15.21669378, 15.79097965, 15.10749451,\n",
      "       15.14523483, 15.03781461, 15.25059532, 15.71012756, 15.43291684,\n",
      "       15.29779691, 15.02745183, 15.31357011, 15.05822348, 15.1726338 ,\n",
      "       15.68885017, 15.24892726, 15.40474597, 14.61885698, 15.41186343,\n",
      "       15.90031283, 15.43152698, 15.98456437, 14.71159899, 15.25059532,\n",
      "       15.25059532, 15.33063801, 15.46704984, 15.65494862, 15.27853468,\n",
      "       15.06827381, 14.89392048, 15.24222707, 15.16358397, 14.89392048,\n",
      "       14.76716882, 15.26712462, 16.0082809 , 14.89392048, 15.14523483,\n",
      "       15.03781461, 15.32909836, 15.06827381, 15.04807111, 15.94374238,\n",
      "       15.50652864, 14.94271063, 15.40474597, 14.43339579, 15.10749451,\n",
      "       15.21669378, 15.32909836, 15.89244909, 14.91512268, 15.63925323,\n",
      "       15.10749451, 15.06827381, 15.70696467]), array([14.94260313, 15.481973  , 15.33728632, 15.17399208, 15.26279638,\n",
      "       15.15344854, 14.99436708, 15.77681756, 15.73220305, 15.54766821,\n",
      "       15.31330186, 14.91538018, 15.57598822, 15.5081456 , 16.01565913,\n",
      "       14.94576995, 15.68472869, 15.62379774, 14.89324341, 15.24380865,\n",
      "       15.44080058, 15.27911838, 15.18926507, 15.59155427, 14.99305311,\n",
      "       15.47306977, 15.2089017 , 15.68726559, 15.66254701, 15.45899562,\n",
      "       15.94823074, 15.83566298, 15.08941124, 15.96524266, 15.16537459,\n",
      "       15.14982583, 14.918813  , 15.30326782, 15.77833288, 15.35590295,\n",
      "       15.3037831 , 15.1267983 , 15.15287909, 14.87148811, 15.12145712,\n",
      "       15.28976553, 15.51960822, 15.34612549, 15.40121767, 15.50422438,\n",
      "       15.70503132, 15.06085264, 15.32538808, 15.0431625 , 15.02464845,\n",
      "       15.33922619, 15.79926644, 15.57082727, 15.71644397, 14.94374879,\n",
      "       15.28355421, 15.2114625 , 15.31012127, 15.2011805 , 14.85901802,\n",
      "       14.89890781, 15.19651891, 15.95182596, 14.93453035, 15.2362104 ,\n",
      "       15.0172802 , 15.42757365, 15.7698676 , 14.92174135, 15.8183739 ,\n",
      "       15.63472566, 15.19476282, 15.68666073, 14.86970709, 15.57782358,\n",
      "       15.44811737, 15.01632446, 16.04145177, 15.13109047, 15.76874921,\n",
      "       14.97942968, 15.09389176, 15.56274333]), array([15.04807111, 15.53827733, 15.18160247, 15.39035723, 16.03905255,\n",
      "       15.25059532, 14.73976986, 15.59890195, 15.72059886, 15.34590548,\n",
      "       15.10749451, 15.02745183, 15.4697308 , 15.6335875 , 16.40327467,\n",
      "       14.55744838, 15.81968975, 15.83838188, 14.55744838, 14.79120201,\n",
      "       15.70485051, 15.36094335, 15.22527752, 15.31513383, 15.06827381,\n",
      "       15.59890195, 15.05822348, 15.36094335, 15.54760866, 15.33063801,\n",
      "       15.76640839, 15.47373883, 15.21669378, 15.79097965, 15.10749451,\n",
      "       15.14523483, 15.03781461, 15.25059532, 15.71012756, 15.43291684,\n",
      "       15.29779691, 15.02745183, 15.31357011, 15.05822348, 15.1726338 ,\n",
      "       15.68885017, 15.24892726, 15.40474597, 14.61885698, 15.41186343,\n",
      "       15.90031283, 15.43152698, 15.98456437, 14.71159899, 15.25059532,\n",
      "       15.25059532, 15.33063801, 15.46704984, 15.65494862, 15.27853468,\n",
      "       15.06827381, 14.89392048, 15.24222707, 15.16358397, 14.89392048,\n",
      "       14.76716882, 15.26712462, 16.0082809 , 14.89392048, 15.14523483,\n",
      "       15.03781461, 15.32909836, 15.06827381, 15.04807111, 15.94374238,\n",
      "       15.50652864, 14.94271063, 15.40474597, 14.43339579, 15.10749451,\n",
      "       15.21669378, 15.32909836, 15.89244909, 14.91512268, 15.63925323,\n",
      "       15.10749451, 15.06827381, 15.70696467]), array([14.94260313, 15.481973  , 15.33728632, 15.17399208, 15.26279638,\n",
      "       15.15344854, 14.99436708, 15.77681756, 15.73220305, 15.54766821,\n",
      "       15.31330186, 14.91538018, 15.57598822, 15.5081456 , 16.01565913,\n",
      "       14.94576995, 15.68472869, 15.62379774, 14.89324341, 15.24380865,\n",
      "       15.44080058, 15.27911838, 15.18926507, 15.59155427, 14.99305311,\n",
      "       15.47306977, 15.2089017 , 15.68726559, 15.66254701, 15.45899562,\n",
      "       15.94823074, 15.83566298, 15.08941124, 15.96524266, 15.16537459,\n",
      "       15.14982583, 14.918813  , 15.30326782, 15.77833288, 15.35590295,\n",
      "       15.3037831 , 15.1267983 , 15.15287909, 14.87148811, 15.12145712,\n",
      "       15.28976553, 15.51960822, 15.34612549, 15.40121767, 15.50422438,\n",
      "       15.70503132, 15.06085264, 15.32538808, 15.0431625 , 15.02464845,\n",
      "       15.33922619, 15.79926644, 15.57082727, 15.71644397, 14.94374879,\n",
      "       15.28355421, 15.2114625 , 15.31012127, 15.2011805 , 14.85901802,\n",
      "       14.89890781, 15.19651891, 15.95182596, 14.93453035, 15.2362104 ,\n",
      "       15.0172802 , 15.42757365, 15.7698676 , 14.92174135, 15.8183739 ,\n",
      "       15.63472566, 15.19476282, 15.68666073, 14.86970709, 15.57782358,\n",
      "       15.44811737, 15.01632446, 16.04145177, 15.13109047, 15.76874921,\n",
      "       14.97942968, 15.09389176, 15.56274333]), array([15.04807111, 15.53827733, 15.18160247, 15.39035723, 16.03905255,\n",
      "       15.25059532, 14.73976986, 15.59890195, 15.72059886, 15.34590548,\n",
      "       15.10749451, 15.02745183, 15.4697308 , 15.6335875 , 16.40327467,\n",
      "       14.55744838, 15.81968975, 15.83838188, 14.55744838, 14.79120201,\n",
      "       15.70485051, 15.36094335, 15.22527752, 15.31513383, 15.06827381,\n",
      "       15.59890195, 15.05822348, 15.36094335, 15.54760866, 15.33063801,\n",
      "       15.76640839, 15.47373883, 15.21669378, 15.79097965, 15.10749451,\n",
      "       15.14523483, 15.03781461, 15.25059532, 15.71012756, 15.43291684,\n",
      "       15.29779691, 15.02745183, 15.31357011, 15.05822348, 15.1726338 ,\n",
      "       15.68885017, 15.24892726, 15.40474597, 14.61885698, 15.41186343,\n",
      "       15.90031283, 15.43152698, 15.98456437, 14.71159899, 15.25059532,\n",
      "       15.25059532, 15.33063801, 15.46704984, 15.65494862, 15.27853468,\n",
      "       15.06827381, 14.89392048, 15.24222707, 15.16358397, 14.89392048,\n",
      "       14.76716882, 15.26712462, 16.0082809 , 14.89392048, 15.14523483,\n",
      "       15.03781461, 15.32909836, 15.06827381, 15.04807111, 15.94374238,\n",
      "       15.50652864, 14.94271063, 15.40474597, 14.43339579, 15.10749451,\n",
      "       15.21669378, 15.32909836, 15.89244909, 14.91512268, 15.63925323,\n",
      "       15.10749451, 15.06827381, 15.70696467]), array([14.94260313, 15.481973  , 15.33728632, 15.17399208, 15.26279638,\n",
      "       15.15344854, 14.99436708, 15.77681756, 15.73220305, 15.54766821,\n",
      "       15.31330186, 14.91538018, 15.57598822, 15.5081456 , 16.01565913,\n",
      "       14.94576995, 15.68472869, 15.62379774, 14.89324341, 15.24380865,\n",
      "       15.44080058, 15.27911838, 15.18926507, 15.59155427, 14.99305311,\n",
      "       15.47306977, 15.2089017 , 15.68726559, 15.66254701, 15.45899562,\n",
      "       15.94823074, 15.83566298, 15.08941124, 15.96524266, 15.16537459,\n",
      "       15.14982583, 14.918813  , 15.30326782, 15.77833288, 15.35590295,\n",
      "       15.3037831 , 15.1267983 , 15.15287909, 14.87148811, 15.12145712,\n",
      "       15.28976553, 15.51960822, 15.34612549, 15.40121767, 15.50422438,\n",
      "       15.70503132, 15.06085264, 15.32538808, 15.0431625 , 15.02464845,\n",
      "       15.33922619, 15.79926644, 15.57082727, 15.71644397, 14.94374879,\n",
      "       15.28355421, 15.2114625 , 15.31012127, 15.2011805 , 14.85901802,\n",
      "       14.89890781, 15.19651891, 15.95182596, 14.93453035, 15.2362104 ,\n",
      "       15.0172802 , 15.42757365, 15.7698676 , 14.92174135, 15.8183739 ,\n",
      "       15.63472566, 15.19476282, 15.68666073, 14.86970709, 15.57782358,\n",
      "       15.44811737, 15.01632446, 16.04145177, 15.13109047, 15.76874921,\n",
      "       14.97942968, 15.09389176, 15.56274333]), array([15.04807111, 15.53827733, 15.18160247, 15.39035723, 16.03905255,\n",
      "       15.25059532, 14.73976986, 15.59890195, 15.72059886, 15.34590548,\n",
      "       15.10749451, 15.02745183, 15.4697308 , 15.6335875 , 16.40327467,\n",
      "       14.55744838, 15.81968975, 15.83838188, 14.55744838, 14.79120201,\n",
      "       15.70485051, 15.36094335, 15.22527752, 15.31513383, 15.06827381,\n",
      "       15.59890195, 15.05822348, 15.36094335, 15.54760866, 15.33063801,\n",
      "       15.76640839, 15.47373883, 15.21669378, 15.79097965, 15.10749451,\n",
      "       15.14523483, 15.03781461, 15.25059532, 15.71012756, 15.43291684,\n",
      "       15.29779691, 15.02745183, 15.31357011, 15.05822348, 15.1726338 ,\n",
      "       15.68885017, 15.24892726, 15.40474597, 14.61885698, 15.41186343,\n",
      "       15.90031283, 15.43152698, 15.98456437, 14.71159899, 15.25059532,\n",
      "       15.25059532, 15.33063801, 15.46704984, 15.65494862, 15.27853468,\n",
      "       15.06827381, 14.89392048, 15.24222707, 15.16358397, 14.89392048,\n",
      "       14.76716882, 15.26712462, 16.0082809 , 14.89392048, 15.14523483,\n",
      "       15.03781461, 15.32909836, 15.06827381, 15.04807111, 15.94374238,\n",
      "       15.50652864, 14.94271063, 15.40474597, 14.43339579, 15.10749451,\n",
      "       15.21669378, 15.32909836, 15.89244909, 14.91512268, 15.63925323,\n",
      "       15.10749451, 15.06827381, 15.70696467]), array([14.94260313, 15.481973  , 15.33728632, 15.17399208, 15.26279638,\n",
      "       15.15344854, 14.99436708, 15.77681756, 15.73220305, 15.54766821,\n",
      "       15.31330186, 14.91538018, 15.57598822, 15.5081456 , 16.01565913,\n",
      "       14.94576995, 15.68472869, 15.62379774, 14.89324341, 15.24380865,\n",
      "       15.44080058, 15.27911838, 15.18926507, 15.59155427, 14.99305311,\n",
      "       15.47306977, 15.2089017 , 15.68726559, 15.66254701, 15.45899562,\n",
      "       15.94823074, 15.83566298, 15.08941124, 15.96524266, 15.16537459,\n",
      "       15.14982583, 14.918813  , 15.30326782, 15.77833288, 15.35590295,\n",
      "       15.3037831 , 15.1267983 , 15.15287909, 14.87148811, 15.12145712,\n",
      "       15.28976553, 15.51960822, 15.34612549, 15.40121767, 15.50422438,\n",
      "       15.70503132, 15.06085264, 15.32538808, 15.0431625 , 15.02464845,\n",
      "       15.33922619, 15.79926644, 15.57082727, 15.71644397, 14.94374879,\n",
      "       15.28355421, 15.2114625 , 15.31012127, 15.2011805 , 14.85901802,\n",
      "       14.89890781, 15.19651891, 15.95182596, 14.93453035, 15.2362104 ,\n",
      "       15.0172802 , 15.42757365, 15.7698676 , 14.92174135, 15.8183739 ,\n",
      "       15.63472566, 15.19476282, 15.68666073, 14.86970709, 15.57782358,\n",
      "       15.44811737, 15.01632446, 16.04145177, 15.13109047, 15.76874921,\n",
      "       14.97942968, 15.09389176, 15.56274333]), array([15.04807111, 15.53827733, 15.18160247, 15.39035723, 16.03905255,\n",
      "       15.25059532, 14.73976986, 15.59890195, 15.72059886, 15.34590548,\n",
      "       15.10749451, 15.02745183, 15.4697308 , 15.6335875 , 16.40327467,\n",
      "       14.55744838, 15.81968975, 15.83838188, 14.55744838, 14.79120201,\n",
      "       15.70485051, 15.36094335, 15.22527752, 15.31513383, 15.06827381,\n",
      "       15.59890195, 15.05822348, 15.36094335, 15.54760866, 15.33063801,\n",
      "       15.76640839, 15.47373883, 15.21669378, 15.79097965, 15.10749451,\n",
      "       15.14523483, 15.03781461, 15.25059532, 15.71012756, 15.43291684,\n",
      "       15.29779691, 15.02745183, 15.31357011, 15.05822348, 15.1726338 ,\n",
      "       15.68885017, 15.24892726, 15.40474597, 14.61885698, 15.41186343,\n",
      "       15.90031283, 15.43152698, 15.98456437, 14.71159899, 15.25059532,\n",
      "       15.25059532, 15.33063801, 15.46704984, 15.65494862, 15.27853468,\n",
      "       15.06827381, 14.89392048, 15.24222707, 15.16358397, 14.89392048,\n",
      "       14.76716882, 15.26712462, 16.0082809 , 14.89392048, 15.14523483,\n",
      "       15.03781461, 15.32909836, 15.06827381, 15.04807111, 15.94374238,\n",
      "       15.50652864, 14.94271063, 15.40474597, 14.43339579, 15.10749451,\n",
      "       15.21669378, 15.32909836, 15.89244909, 14.91512268, 15.63925323,\n",
      "       15.10749451, 15.06827381, 15.70696467]), array([14.94260313, 15.481973  , 15.33728632, 15.17399208, 15.26279638,\n",
      "       15.15344854, 14.99436708, 15.77681756, 15.73220305, 15.54766821,\n",
      "       15.31330186, 14.91538018, 15.57598822, 15.5081456 , 16.01565913,\n",
      "       14.94576995, 15.68472869, 15.62379774, 14.89324341, 15.24380865,\n",
      "       15.44080058, 15.27911838, 15.18926507, 15.59155427, 14.99305311,\n",
      "       15.47306977, 15.2089017 , 15.68726559, 15.66254701, 15.45899562,\n",
      "       15.94823074, 15.83566298, 15.08941124, 15.96524266, 15.16537459,\n",
      "       15.14982583, 14.918813  , 15.30326782, 15.77833288, 15.35590295,\n",
      "       15.3037831 , 15.1267983 , 15.15287909, 14.87148811, 15.12145712,\n",
      "       15.28976553, 15.51960822, 15.34612549, 15.40121767, 15.50422438,\n",
      "       15.70503132, 15.06085264, 15.32538808, 15.0431625 , 15.02464845,\n",
      "       15.33922619, 15.79926644, 15.57082727, 15.71644397, 14.94374879,\n",
      "       15.28355421, 15.2114625 , 15.31012127, 15.2011805 , 14.85901802,\n",
      "       14.89890781, 15.19651891, 15.95182596, 14.93453035, 15.2362104 ,\n",
      "       15.0172802 , 15.42757365, 15.7698676 , 14.92174135, 15.8183739 ,\n",
      "       15.63472566, 15.19476282, 15.68666073, 14.86970709, 15.57782358,\n",
      "       15.44811737, 15.01632446, 16.04145177, 15.13109047, 15.76874921,\n",
      "       14.97942968, 15.09389176, 15.56274333]), array([15.04807111, 15.53827733, 15.18160247, 15.39035723, 16.03905255,\n",
      "       15.25059532, 14.73976986, 15.59890195, 15.72059886, 15.34590548,\n",
      "       15.10749451, 15.02745183, 15.4697308 , 15.6335875 , 16.40327467,\n",
      "       14.55744838, 15.81968975, 15.83838188, 14.55744838, 14.79120201,\n",
      "       15.70485051, 15.36094335, 15.22527752, 15.31513383, 15.06827381,\n",
      "       15.59890195, 15.05822348, 15.36094335, 15.54760866, 15.33063801,\n",
      "       15.76640839, 15.47373883, 15.21669378, 15.79097965, 15.10749451,\n",
      "       15.14523483, 15.03781461, 15.25059532, 15.71012756, 15.43291684,\n",
      "       15.29779691, 15.02745183, 15.31357011, 15.05822348, 15.1726338 ,\n",
      "       15.68885017, 15.24892726, 15.40474597, 14.61885698, 15.41186343,\n",
      "       15.90031283, 15.43152698, 15.98456437, 14.71159899, 15.25059532,\n",
      "       15.25059532, 15.33063801, 15.46704984, 15.65494862, 15.27853468,\n",
      "       15.06827381, 14.89392048, 15.24222707, 15.16358397, 14.89392048,\n",
      "       14.76716882, 15.26712462, 16.0082809 , 14.89392048, 15.14523483,\n",
      "       15.03781461, 15.32909836, 15.06827381, 15.04807111, 15.94374238,\n",
      "       15.50652864, 14.94271063, 15.40474597, 14.43339579, 15.10749451,\n",
      "       15.21669378, 15.32909836, 15.89244909, 14.91512268, 15.63925323,\n",
      "       15.10749451, 15.06827381, 15.70696467]), array([14.94260313, 15.481973  , 15.33728632, 15.17399208, 15.26279638,\n",
      "       15.15344854, 14.99436708, 15.77681756, 15.73220305, 15.54766821,\n",
      "       15.31330186, 14.91538018, 15.57598822, 15.5081456 , 16.01565913,\n",
      "       14.94576995, 15.68472869, 15.62379774, 14.89324341, 15.24380865,\n",
      "       15.44080058, 15.27911838, 15.18926507, 15.59155427, 14.99305311,\n",
      "       15.47306977, 15.2089017 , 15.68726559, 15.66254701, 15.45899562,\n",
      "       15.94823074, 15.83566298, 15.08941124, 15.96524266, 15.16537459,\n",
      "       15.14982583, 14.918813  , 15.30326782, 15.77833288, 15.35590295,\n",
      "       15.3037831 , 15.1267983 , 15.15287909, 14.87148811, 15.12145712,\n",
      "       15.28976553, 15.51960822, 15.34612549, 15.40121767, 15.50422438,\n",
      "       15.70503132, 15.06085264, 15.32538808, 15.0431625 , 15.02464845,\n",
      "       15.33922619, 15.79926644, 15.57082727, 15.71644397, 14.94374879,\n",
      "       15.28355421, 15.2114625 , 15.31012127, 15.2011805 , 14.85901802,\n",
      "       14.89890781, 15.19651891, 15.95182596, 14.93453035, 15.2362104 ,\n",
      "       15.0172802 , 15.42757365, 15.7698676 , 14.92174135, 15.8183739 ,\n",
      "       15.63472566, 15.19476282, 15.68666073, 14.86970709, 15.57782358,\n",
      "       15.44811737, 15.01632446, 16.04145177, 15.13109047, 15.76874921,\n",
      "       14.97942968, 15.09389176, 15.56274333]), array([15.04807111, 15.53827733, 15.18160247, 15.39035723, 16.03905255,\n",
      "       15.25059532, 14.73976986, 15.59890195, 15.72059886, 15.34590548,\n",
      "       15.10749451, 15.02745183, 15.4697308 , 15.6335875 , 16.40327467,\n",
      "       14.55744838, 15.81968975, 15.83838188, 14.55744838, 14.79120201,\n",
      "       15.70485051, 15.36094335, 15.22527752, 15.31513383, 15.06827381,\n",
      "       15.59890195, 15.05822348, 15.36094335, 15.54760866, 15.33063801,\n",
      "       15.76640839, 15.47373883, 15.21669378, 15.79097965, 15.10749451,\n",
      "       15.14523483, 15.03781461, 15.25059532, 15.71012756, 15.43291684,\n",
      "       15.29779691, 15.02745183, 15.31357011, 15.05822348, 15.1726338 ,\n",
      "       15.68885017, 15.24892726, 15.40474597, 14.61885698, 15.41186343,\n",
      "       15.90031283, 15.43152698, 15.98456437, 14.71159899, 15.25059532,\n",
      "       15.25059532, 15.33063801, 15.46704984, 15.65494862, 15.27853468,\n",
      "       15.06827381, 14.89392048, 15.24222707, 15.16358397, 14.89392048,\n",
      "       14.76716882, 15.26712462, 16.0082809 , 14.89392048, 15.14523483,\n",
      "       15.03781461, 15.32909836, 15.06827381, 15.04807111, 15.94374238,\n",
      "       15.50652864, 14.94271063, 15.40474597, 14.43339579, 15.10749451,\n",
      "       15.21669378, 15.32909836, 15.89244909, 14.91512268, 15.63925323,\n",
      "       15.10749451, 15.06827381, 15.70696467]), array([14.94260313, 15.481973  , 15.33728632, 15.17399208, 15.26279638,\n",
      "       15.15344854, 14.99436708, 15.77681756, 15.73220305, 15.54766821,\n",
      "       15.31330186, 14.91538018, 15.57598822, 15.5081456 , 16.01565913,\n",
      "       14.94576995, 15.68472869, 15.62379774, 14.89324341, 15.24380865,\n",
      "       15.44080058, 15.27911838, 15.18926507, 15.59155427, 14.99305311,\n",
      "       15.47306977, 15.2089017 , 15.68726559, 15.66254701, 15.45899562,\n",
      "       15.94823074, 15.83566298, 15.08941124, 15.96524266, 15.16537459,\n",
      "       15.14982583, 14.918813  , 15.30326782, 15.77833288, 15.35590295,\n",
      "       15.3037831 , 15.1267983 , 15.15287909, 14.87148811, 15.12145712,\n",
      "       15.28976553, 15.51960822, 15.34612549, 15.40121767, 15.50422438,\n",
      "       15.70503132, 15.06085264, 15.32538808, 15.0431625 , 15.02464845,\n",
      "       15.33922619, 15.79926644, 15.57082727, 15.71644397, 14.94374879,\n",
      "       15.28355421, 15.2114625 , 15.31012127, 15.2011805 , 14.85901802,\n",
      "       14.89890781, 15.19651891, 15.95182596, 14.93453035, 15.2362104 ,\n",
      "       15.0172802 , 15.42757365, 15.7698676 , 14.92174135, 15.8183739 ,\n",
      "       15.63472566, 15.19476282, 15.68666073, 14.86970709, 15.57782358,\n",
      "       15.44811737, 15.01632446, 16.04145177, 15.13109047, 15.76874921,\n",
      "       14.97942968, 15.09389176, 15.56274333]), array([15.04807111, 15.53827733, 15.18160247, 15.39035723, 16.03905255,\n",
      "       15.25059532, 14.73976986, 15.59890195, 15.72059886, 15.34590548,\n",
      "       15.10749451, 15.02745183, 15.4697308 , 15.6335875 , 16.40327467,\n",
      "       14.55744838, 15.81968975, 15.83838188, 14.55744838, 14.79120201,\n",
      "       15.70485051, 15.36094335, 15.22527752, 15.31513383, 15.06827381,\n",
      "       15.59890195, 15.05822348, 15.36094335, 15.54760866, 15.33063801,\n",
      "       15.76640839, 15.47373883, 15.21669378, 15.79097965, 15.10749451,\n",
      "       15.14523483, 15.03781461, 15.25059532, 15.71012756, 15.43291684,\n",
      "       15.29779691, 15.02745183, 15.31357011, 15.05822348, 15.1726338 ,\n",
      "       15.68885017, 15.24892726, 15.40474597, 14.61885698, 15.41186343,\n",
      "       15.90031283, 15.43152698, 15.98456437, 14.71159899, 15.25059532,\n",
      "       15.25059532, 15.33063801, 15.46704984, 15.65494862, 15.27853468,\n",
      "       15.06827381, 14.89392048, 15.24222707, 15.16358397, 14.89392048,\n",
      "       14.76716882, 15.26712462, 16.0082809 , 14.89392048, 15.14523483,\n",
      "       15.03781461, 15.32909836, 15.06827381, 15.04807111, 15.94374238,\n",
      "       15.50652864, 14.94271063, 15.40474597, 14.43339579, 15.10749451,\n",
      "       15.21669378, 15.32909836, 15.89244909, 14.91512268, 15.63925323,\n",
      "       15.10749451, 15.06827381, 15.70696467]), array([14.94260313, 15.481973  , 15.33728632, 15.17399208, 15.26279638,\n",
      "       15.15344854, 14.99436708, 15.77681756, 15.73220305, 15.54766821,\n",
      "       15.31330186, 14.91538018, 15.57598822, 15.5081456 , 16.01565913,\n",
      "       14.94576995, 15.68472869, 15.62379774, 14.89324341, 15.24380865,\n",
      "       15.44080058, 15.27911838, 15.18926507, 15.59155427, 14.99305311,\n",
      "       15.47306977, 15.2089017 , 15.68726559, 15.66254701, 15.45899562,\n",
      "       15.94823074, 15.83566298, 15.08941124, 15.96524266, 15.16537459,\n",
      "       15.14982583, 14.918813  , 15.30326782, 15.77833288, 15.35590295,\n",
      "       15.3037831 , 15.1267983 , 15.15287909, 14.87148811, 15.12145712,\n",
      "       15.28976553, 15.51960822, 15.34612549, 15.40121767, 15.50422438,\n",
      "       15.70503132, 15.06085264, 15.32538808, 15.0431625 , 15.02464845,\n",
      "       15.33922619, 15.79926644, 15.57082727, 15.71644397, 14.94374879,\n",
      "       15.28355421, 15.2114625 , 15.31012127, 15.2011805 , 14.85901802,\n",
      "       14.89890781, 15.19651891, 15.95182596, 14.93453035, 15.2362104 ,\n",
      "       15.0172802 , 15.42757365, 15.7698676 , 14.92174135, 15.8183739 ,\n",
      "       15.63472566, 15.19476282, 15.68666073, 14.86970709, 15.57782358,\n",
      "       15.44811737, 15.01632446, 16.04145177, 15.13109047, 15.76874921,\n",
      "       14.97942968, 15.09389176, 15.56274333]), array([15.04807111, 15.53827733, 15.18160247, 15.39035723, 16.03905255,\n",
      "       15.25059532, 14.73976986, 15.59890195, 15.72059886, 15.34590548,\n",
      "       15.10749451, 15.02745183, 15.4697308 , 15.6335875 , 16.40327467,\n",
      "       14.55744838, 15.81968975, 15.83838188, 14.55744838, 14.79120201,\n",
      "       15.70485051, 15.36094335, 15.22527752, 15.31513383, 15.06827381,\n",
      "       15.59890195, 15.05822348, 15.36094335, 15.54760866, 15.33063801,\n",
      "       15.76640839, 15.47373883, 15.21669378, 15.79097965, 15.10749451,\n",
      "       15.14523483, 15.03781461, 15.25059532, 15.71012756, 15.43291684,\n",
      "       15.29779691, 15.02745183, 15.31357011, 15.05822348, 15.1726338 ,\n",
      "       15.68885017, 15.24892726, 15.40474597, 14.61885698, 15.41186343,\n",
      "       15.90031283, 15.43152698, 15.98456437, 14.71159899, 15.25059532,\n",
      "       15.25059532, 15.33063801, 15.46704984, 15.65494862, 15.27853468,\n",
      "       15.06827381, 14.89392048, 15.24222707, 15.16358397, 14.89392048,\n",
      "       14.76716882, 15.26712462, 16.0082809 , 14.89392048, 15.14523483,\n",
      "       15.03781461, 15.32909836, 15.06827381, 15.04807111, 15.94374238,\n",
      "       15.50652864, 14.94271063, 15.40474597, 14.43339579, 15.10749451,\n",
      "       15.21669378, 15.32909836, 15.89244909, 14.91512268, 15.63925323,\n",
      "       15.10749451, 15.06827381, 15.70696467]), array([14.94260313, 15.481973  , 15.33728632, 15.17399208, 15.26279638,\n",
      "       15.15344854, 14.99436708, 15.77681756, 15.73220305, 15.54766821,\n",
      "       15.31330186, 14.91538018, 15.57598822, 15.5081456 , 16.01565913,\n",
      "       14.94576995, 15.68472869, 15.62379774, 14.89324341, 15.24380865,\n",
      "       15.44080058, 15.27911838, 15.18926507, 15.59155427, 14.99305311,\n",
      "       15.47306977, 15.2089017 , 15.68726559, 15.66254701, 15.45899562,\n",
      "       15.94823074, 15.83566298, 15.08941124, 15.96524266, 15.16537459,\n",
      "       15.14982583, 14.918813  , 15.30326782, 15.77833288, 15.35590295,\n",
      "       15.3037831 , 15.1267983 , 15.15287909, 14.87148811, 15.12145712,\n",
      "       15.28976553, 15.51960822, 15.34612549, 15.40121767, 15.50422438,\n",
      "       15.70503132, 15.06085264, 15.32538808, 15.0431625 , 15.02464845,\n",
      "       15.33922619, 15.79926644, 15.57082727, 15.71644397, 14.94374879,\n",
      "       15.28355421, 15.2114625 , 15.31012127, 15.2011805 , 14.85901802,\n",
      "       14.89890781, 15.19651891, 15.95182596, 14.93453035, 15.2362104 ,\n",
      "       15.0172802 , 15.42757365, 15.7698676 , 14.92174135, 15.8183739 ,\n",
      "       15.63472566, 15.19476282, 15.68666073, 14.86970709, 15.57782358,\n",
      "       15.44811737, 15.01632446, 16.04145177, 15.13109047, 15.76874921,\n",
      "       14.97942968, 15.09389176, 15.56274333]), array([15.04807111, 15.53827733, 15.18160247, 15.39035723, 16.03905255,\n",
      "       15.25059532, 14.73976986, 15.59890195, 15.72059886, 15.34590548,\n",
      "       15.10749451, 15.02745183, 15.4697308 , 15.6335875 , 16.40327467,\n",
      "       14.55744838, 15.81968975, 15.83838188, 14.55744838, 14.79120201,\n",
      "       15.70485051, 15.36094335, 15.22527752, 15.31513383, 15.06827381,\n",
      "       15.59890195, 15.05822348, 15.36094335, 15.54760866, 15.33063801,\n",
      "       15.76640839, 15.47373883, 15.21669378, 15.79097965, 15.10749451,\n",
      "       15.14523483, 15.03781461, 15.25059532, 15.71012756, 15.43291684,\n",
      "       15.29779691, 15.02745183, 15.31357011, 15.05822348, 15.1726338 ,\n",
      "       15.68885017, 15.24892726, 15.40474597, 14.61885698, 15.41186343,\n",
      "       15.90031283, 15.43152698, 15.98456437, 14.71159899, 15.25059532,\n",
      "       15.25059532, 15.33063801, 15.46704984, 15.65494862, 15.27853468,\n",
      "       15.06827381, 14.89392048, 15.24222707, 15.16358397, 14.89392048,\n",
      "       14.76716882, 15.26712462, 16.0082809 , 14.89392048, 15.14523483,\n",
      "       15.03781461, 15.32909836, 15.06827381, 15.04807111, 15.94374238,\n",
      "       15.50652864, 14.94271063, 15.40474597, 14.43339579, 15.10749451,\n",
      "       15.21669378, 15.32909836, 15.89244909, 14.91512268, 15.63925323,\n",
      "       15.10749451, 15.06827381, 15.70696467]), array([14.94260313, 15.481973  , 15.33728632, 15.17399208, 15.26279638,\n",
      "       15.15344854, 14.99436708, 15.77681756, 15.73220305, 15.54766821,\n",
      "       15.31330186, 14.91538018, 15.57598822, 15.5081456 , 16.01565913,\n",
      "       14.94576995, 15.68472869, 15.62379774, 14.89324341, 15.24380865,\n",
      "       15.44080058, 15.27911838, 15.18926507, 15.59155427, 14.99305311,\n",
      "       15.47306977, 15.2089017 , 15.68726559, 15.66254701, 15.45899562,\n",
      "       15.94823074, 15.83566298, 15.08941124, 15.96524266, 15.16537459,\n",
      "       15.14982583, 14.918813  , 15.30326782, 15.77833288, 15.35590295,\n",
      "       15.3037831 , 15.1267983 , 15.15287909, 14.87148811, 15.12145712,\n",
      "       15.28976553, 15.51960822, 15.34612549, 15.40121767, 15.50422438,\n",
      "       15.70503132, 15.06085264, 15.32538808, 15.0431625 , 15.02464845,\n",
      "       15.33922619, 15.79926644, 15.57082727, 15.71644397, 14.94374879,\n",
      "       15.28355421, 15.2114625 , 15.31012127, 15.2011805 , 14.85901802,\n",
      "       14.89890781, 15.19651891, 15.95182596, 14.93453035, 15.2362104 ,\n",
      "       15.0172802 , 15.42757365, 15.7698676 , 14.92174135, 15.8183739 ,\n",
      "       15.63472566, 15.19476282, 15.68666073, 14.86970709, 15.57782358,\n",
      "       15.44811737, 15.01632446, 16.04145177, 15.13109047, 15.76874921,\n",
      "       14.97942968, 15.09389176, 15.56274333]), array([15.04807111, 15.53827733, 15.18160247, 15.39035723, 16.03905255,\n",
      "       15.25059532, 14.73976986, 15.59890195, 15.72059886, 15.34590548,\n",
      "       15.10749451, 15.02745183, 15.4697308 , 15.6335875 , 16.40327467,\n",
      "       14.55744838, 15.81968975, 15.83838188, 14.55744838, 14.79120201,\n",
      "       15.70485051, 15.36094335, 15.22527752, 15.31513383, 15.06827381,\n",
      "       15.59890195, 15.05822348, 15.36094335, 15.54760866, 15.33063801,\n",
      "       15.76640839, 15.47373883, 15.21669378, 15.79097965, 15.10749451,\n",
      "       15.14523483, 15.03781461, 15.25059532, 15.71012756, 15.43291684,\n",
      "       15.29779691, 15.02745183, 15.31357011, 15.05822348, 15.1726338 ,\n",
      "       15.68885017, 15.24892726, 15.40474597, 14.61885698, 15.41186343,\n",
      "       15.90031283, 15.43152698, 15.98456437, 14.71159899, 15.25059532,\n",
      "       15.25059532, 15.33063801, 15.46704984, 15.65494862, 15.27853468,\n",
      "       15.06827381, 14.89392048, 15.24222707, 15.16358397, 14.89392048,\n",
      "       14.76716882, 15.26712462, 16.0082809 , 14.89392048, 15.14523483,\n",
      "       15.03781461, 15.32909836, 15.06827381, 15.04807111, 15.94374238,\n",
      "       15.50652864, 14.94271063, 15.40474597, 14.43339579, 15.10749451,\n",
      "       15.21669378, 15.32909836, 15.89244909, 14.91512268, 15.63925323,\n",
      "       15.10749451, 15.06827381, 15.70696467]), array([14.94260313, 15.481973  , 15.33728632, 15.17399208, 15.26279638,\n",
      "       15.15344854, 14.99436708, 15.77681756, 15.73220305, 15.54766821,\n",
      "       15.31330186, 14.91538018, 15.57598822, 15.5081456 , 16.01565913,\n",
      "       14.94576995, 15.68472869, 15.62379774, 14.89324341, 15.24380865,\n",
      "       15.44080058, 15.27911838, 15.18926507, 15.59155427, 14.99305311,\n",
      "       15.47306977, 15.2089017 , 15.68726559, 15.66254701, 15.45899562,\n",
      "       15.94823074, 15.83566298, 15.08941124, 15.96524266, 15.16537459,\n",
      "       15.14982583, 14.918813  , 15.30326782, 15.77833288, 15.35590295,\n",
      "       15.3037831 , 15.1267983 , 15.15287909, 14.87148811, 15.12145712,\n",
      "       15.28976553, 15.51960822, 15.34612549, 15.40121767, 15.50422438,\n",
      "       15.70503132, 15.06085264, 15.32538808, 15.0431625 , 15.02464845,\n",
      "       15.33922619, 15.79926644, 15.57082727, 15.71644397, 14.94374879,\n",
      "       15.28355421, 15.2114625 , 15.31012127, 15.2011805 , 14.85901802,\n",
      "       14.89890781, 15.19651891, 15.95182596, 14.93453035, 15.2362104 ,\n",
      "       15.0172802 , 15.42757365, 15.7698676 , 14.92174135, 15.8183739 ,\n",
      "       15.63472566, 15.19476282, 15.68666073, 14.86970709, 15.57782358,\n",
      "       15.44811737, 15.01632446, 16.04145177, 15.13109047, 15.76874921,\n",
      "       14.97942968, 15.09389176, 15.56274333]), array([15.04807111, 15.53827733, 15.18160247, 15.39035723, 16.03905255,\n",
      "       15.25059532, 14.73976986, 15.59890195, 15.72059886, 15.34590548,\n",
      "       15.10749451, 15.02745183, 15.4697308 , 15.6335875 , 16.40327467,\n",
      "       14.55744838, 15.81968975, 15.83838188, 14.55744838, 14.79120201,\n",
      "       15.70485051, 15.36094335, 15.22527752, 15.31513383, 15.06827381,\n",
      "       15.59890195, 15.05822348, 15.36094335, 15.54760866, 15.33063801,\n",
      "       15.76640839, 15.47373883, 15.21669378, 15.79097965, 15.10749451,\n",
      "       15.14523483, 15.03781461, 15.25059532, 15.71012756, 15.43291684,\n",
      "       15.29779691, 15.02745183, 15.31357011, 15.05822348, 15.1726338 ,\n",
      "       15.68885017, 15.24892726, 15.40474597, 14.61885698, 15.41186343,\n",
      "       15.90031283, 15.43152698, 15.98456437, 14.71159899, 15.25059532,\n",
      "       15.25059532, 15.33063801, 15.46704984, 15.65494862, 15.27853468,\n",
      "       15.06827381, 14.89392048, 15.24222707, 15.16358397, 14.89392048,\n",
      "       14.76716882, 15.26712462, 16.0082809 , 14.89392048, 15.14523483,\n",
      "       15.03781461, 15.32909836, 15.06827381, 15.04807111, 15.94374238,\n",
      "       15.50652864, 14.94271063, 15.40474597, 14.43339579, 15.10749451,\n",
      "       15.21669378, 15.32909836, 15.89244909, 14.91512268, 15.63925323,\n",
      "       15.10749451, 15.06827381, 15.70696467]), array([14.94260313, 15.481973  , 15.33728632, 15.17399208, 15.26279638,\n",
      "       15.15344854, 14.99436708, 15.77681756, 15.73220305, 15.54766821,\n",
      "       15.31330186, 14.91538018, 15.57598822, 15.5081456 , 16.01565913,\n",
      "       14.94576995, 15.68472869, 15.62379774, 14.89324341, 15.24380865,\n",
      "       15.44080058, 15.27911838, 15.18926507, 15.59155427, 14.99305311,\n",
      "       15.47306977, 15.2089017 , 15.68726559, 15.66254701, 15.45899562,\n",
      "       15.94823074, 15.83566298, 15.08941124, 15.96524266, 15.16537459,\n",
      "       15.14982583, 14.918813  , 15.30326782, 15.77833288, 15.35590295,\n",
      "       15.3037831 , 15.1267983 , 15.15287909, 14.87148811, 15.12145712,\n",
      "       15.28976553, 15.51960822, 15.34612549, 15.40121767, 15.50422438,\n",
      "       15.70503132, 15.06085264, 15.32538808, 15.0431625 , 15.02464845,\n",
      "       15.33922619, 15.79926644, 15.57082727, 15.71644397, 14.94374879,\n",
      "       15.28355421, 15.2114625 , 15.31012127, 15.2011805 , 14.85901802,\n",
      "       14.89890781, 15.19651891, 15.95182596, 14.93453035, 15.2362104 ,\n",
      "       15.0172802 , 15.42757365, 15.7698676 , 14.92174135, 15.8183739 ,\n",
      "       15.63472566, 15.19476282, 15.68666073, 14.86970709, 15.57782358,\n",
      "       15.44811737, 15.01632446, 16.04145177, 15.13109047, 15.76874921,\n",
      "       14.97942968, 15.09389176, 15.56274333]), array([15.04807111, 15.53827733, 15.18160247, 15.39035723, 16.03905255,\n",
      "       15.25059532, 14.73976986, 15.59890195, 15.72059886, 15.34590548,\n",
      "       15.10749451, 15.02745183, 15.4697308 , 15.6335875 , 16.40327467,\n",
      "       14.55744838, 15.81968975, 15.83838188, 14.55744838, 14.79120201,\n",
      "       15.70485051, 15.36094335, 15.22527752, 15.31513383, 15.06827381,\n",
      "       15.59890195, 15.05822348, 15.36094335, 15.54760866, 15.33063801,\n",
      "       15.76640839, 15.47373883, 15.21669378, 15.79097965, 15.10749451,\n",
      "       15.14523483, 15.03781461, 15.25059532, 15.71012756, 15.43291684,\n",
      "       15.29779691, 15.02745183, 15.31357011, 15.05822348, 15.1726338 ,\n",
      "       15.68885017, 15.24892726, 15.40474597, 14.61885698, 15.41186343,\n",
      "       15.90031283, 15.43152698, 15.98456437, 14.71159899, 15.25059532,\n",
      "       15.25059532, 15.33063801, 15.46704984, 15.65494862, 15.27853468,\n",
      "       15.06827381, 14.89392048, 15.24222707, 15.16358397, 14.89392048,\n",
      "       14.76716882, 15.26712462, 16.0082809 , 14.89392048, 15.14523483,\n",
      "       15.03781461, 15.32909836, 15.06827381, 15.04807111, 15.94374238,\n",
      "       15.50652864, 14.94271063, 15.40474597, 14.43339579, 15.10749451,\n",
      "       15.21669378, 15.32909836, 15.89244909, 14.91512268, 15.63925323,\n",
      "       15.10749451, 15.06827381, 15.70696467]), array([14.94260313, 15.481973  , 15.33728632, 15.17399208, 15.26279638,\n",
      "       15.15344854, 14.99436708, 15.77681756, 15.73220305, 15.54766821,\n",
      "       15.31330186, 14.91538018, 15.57598822, 15.5081456 , 16.01565913,\n",
      "       14.94576995, 15.68472869, 15.62379774, 14.89324341, 15.24380865,\n",
      "       15.44080058, 15.27911838, 15.18926507, 15.59155427, 14.99305311,\n",
      "       15.47306977, 15.2089017 , 15.68726559, 15.66254701, 15.45899562,\n",
      "       15.94823074, 15.83566298, 15.08941124, 15.96524266, 15.16537459,\n",
      "       15.14982583, 14.918813  , 15.30326782, 15.77833288, 15.35590295,\n",
      "       15.3037831 , 15.1267983 , 15.15287909, 14.87148811, 15.12145712,\n",
      "       15.28976553, 15.51960822, 15.34612549, 15.40121767, 15.50422438,\n",
      "       15.70503132, 15.06085264, 15.32538808, 15.0431625 , 15.02464845,\n",
      "       15.33922619, 15.79926644, 15.57082727, 15.71644397, 14.94374879,\n",
      "       15.28355421, 15.2114625 , 15.31012127, 15.2011805 , 14.85901802,\n",
      "       14.89890781, 15.19651891, 15.95182596, 14.93453035, 15.2362104 ,\n",
      "       15.0172802 , 15.42757365, 15.7698676 , 14.92174135, 15.8183739 ,\n",
      "       15.63472566, 15.19476282, 15.68666073, 14.86970709, 15.57782358,\n",
      "       15.44811737, 15.01632446, 16.04145177, 15.13109047, 15.76874921,\n",
      "       14.97942968, 15.09389176, 15.56274333]), array([15.04807111, 15.53827733, 15.18160247, 15.39035723, 16.03905255,\n",
      "       15.25059532, 14.73976986, 15.59890195, 15.72059886, 15.34590548,\n",
      "       15.10749451, 15.02745183, 15.4697308 , 15.6335875 , 16.40327467,\n",
      "       14.55744838, 15.81968975, 15.83838188, 14.55744838, 14.79120201,\n",
      "       15.70485051, 15.36094335, 15.22527752, 15.31513383, 15.06827381,\n",
      "       15.59890195, 15.05822348, 15.36094335, 15.54760866, 15.33063801,\n",
      "       15.76640839, 15.47373883, 15.21669378, 15.79097965, 15.10749451,\n",
      "       15.14523483, 15.03781461, 15.25059532, 15.71012756, 15.43291684,\n",
      "       15.29779691, 15.02745183, 15.31357011, 15.05822348, 15.1726338 ,\n",
      "       15.68885017, 15.24892726, 15.40474597, 14.61885698, 15.41186343,\n",
      "       15.90031283, 15.43152698, 15.98456437, 14.71159899, 15.25059532,\n",
      "       15.25059532, 15.33063801, 15.46704984, 15.65494862, 15.27853468,\n",
      "       15.06827381, 14.89392048, 15.24222707, 15.16358397, 14.89392048,\n",
      "       14.76716882, 15.26712462, 16.0082809 , 14.89392048, 15.14523483,\n",
      "       15.03781461, 15.32909836, 15.06827381, 15.04807111, 15.94374238,\n",
      "       15.50652864, 14.94271063, 15.40474597, 14.43339579, 15.10749451,\n",
      "       15.21669378, 15.32909836, 15.89244909, 14.91512268, 15.63925323,\n",
      "       15.10749451, 15.06827381, 15.70696467]), array([14.94260313, 15.481973  , 15.33728632, 15.17399208, 15.26279638,\n",
      "       15.15344854, 14.99436708, 15.77681756, 15.73220305, 15.54766821,\n",
      "       15.31330186, 14.91538018, 15.57598822, 15.5081456 , 16.01565913,\n",
      "       14.94576995, 15.68472869, 15.62379774, 14.89324341, 15.24380865,\n",
      "       15.44080058, 15.27911838, 15.18926507, 15.59155427, 14.99305311,\n",
      "       15.47306977, 15.2089017 , 15.68726559, 15.66254701, 15.45899562,\n",
      "       15.94823074, 15.83566298, 15.08941124, 15.96524266, 15.16537459,\n",
      "       15.14982583, 14.918813  , 15.30326782, 15.77833288, 15.35590295,\n",
      "       15.3037831 , 15.1267983 , 15.15287909, 14.87148811, 15.12145712,\n",
      "       15.28976553, 15.51960822, 15.34612549, 15.40121767, 15.50422438,\n",
      "       15.70503132, 15.06085264, 15.32538808, 15.0431625 , 15.02464845,\n",
      "       15.33922619, 15.79926644, 15.57082727, 15.71644397, 14.94374879,\n",
      "       15.28355421, 15.2114625 , 15.31012127, 15.2011805 , 14.85901802,\n",
      "       14.89890781, 15.19651891, 15.95182596, 14.93453035, 15.2362104 ,\n",
      "       15.0172802 , 15.42757365, 15.7698676 , 14.92174135, 15.8183739 ,\n",
      "       15.63472566, 15.19476282, 15.68666073, 14.86970709, 15.57782358,\n",
      "       15.44811737, 15.01632446, 16.04145177, 15.13109047, 15.76874921,\n",
      "       14.97942968, 15.09389176, 15.56274333]), array([15.04807111, 15.53827733, 15.18160247, 15.39035723, 16.03905255,\n",
      "       15.25059532, 14.73976986, 15.59890195, 15.72059886, 15.34590548,\n",
      "       15.10749451, 15.02745183, 15.4697308 , 15.6335875 , 16.40327467,\n",
      "       14.55744838, 15.81968975, 15.83838188, 14.55744838, 14.79120201,\n",
      "       15.70485051, 15.36094335, 15.22527752, 15.31513383, 15.06827381,\n",
      "       15.59890195, 15.05822348, 15.36094335, 15.54760866, 15.33063801,\n",
      "       15.76640839, 15.47373883, 15.21669378, 15.79097965, 15.10749451,\n",
      "       15.14523483, 15.03781461, 15.25059532, 15.71012756, 15.43291684,\n",
      "       15.29779691, 15.02745183, 15.31357011, 15.05822348, 15.1726338 ,\n",
      "       15.68885017, 15.24892726, 15.40474597, 14.61885698, 15.41186343,\n",
      "       15.90031283, 15.43152698, 15.98456437, 14.71159899, 15.25059532,\n",
      "       15.25059532, 15.33063801, 15.46704984, 15.65494862, 15.27853468,\n",
      "       15.06827381, 14.89392048, 15.24222707, 15.16358397, 14.89392048,\n",
      "       14.76716882, 15.26712462, 16.0082809 , 14.89392048, 15.14523483,\n",
      "       15.03781461, 15.32909836, 15.06827381, 15.04807111, 15.94374238,\n",
      "       15.50652864, 14.94271063, 15.40474597, 14.43339579, 15.10749451,\n",
      "       15.21669378, 15.32909836, 15.89244909, 14.91512268, 15.63925323,\n",
      "       15.10749451, 15.06827381, 15.70696467]), array([14.94260313, 15.481973  , 15.33728632, 15.17399208, 15.26279638,\n",
      "       15.15344854, 14.99436708, 15.77681756, 15.73220305, 15.54766821,\n",
      "       15.31330186, 14.91538018, 15.57598822, 15.5081456 , 16.01565913,\n",
      "       14.94576995, 15.68472869, 15.62379774, 14.89324341, 15.24380865,\n",
      "       15.44080058, 15.27911838, 15.18926507, 15.59155427, 14.99305311,\n",
      "       15.47306977, 15.2089017 , 15.68726559, 15.66254701, 15.45899562,\n",
      "       15.94823074, 15.83566298, 15.08941124, 15.96524266, 15.16537459,\n",
      "       15.14982583, 14.918813  , 15.30326782, 15.77833288, 15.35590295,\n",
      "       15.3037831 , 15.1267983 , 15.15287909, 14.87148811, 15.12145712,\n",
      "       15.28976553, 15.51960822, 15.34612549, 15.40121767, 15.50422438,\n",
      "       15.70503132, 15.06085264, 15.32538808, 15.0431625 , 15.02464845,\n",
      "       15.33922619, 15.79926644, 15.57082727, 15.71644397, 14.94374879,\n",
      "       15.28355421, 15.2114625 , 15.31012127, 15.2011805 , 14.85901802,\n",
      "       14.89890781, 15.19651891, 15.95182596, 14.93453035, 15.2362104 ,\n",
      "       15.0172802 , 15.42757365, 15.7698676 , 14.92174135, 15.8183739 ,\n",
      "       15.63472566, 15.19476282, 15.68666073, 14.86970709, 15.57782358,\n",
      "       15.44811737, 15.01632446, 16.04145177, 15.13109047, 15.76874921,\n",
      "       14.97942968, 15.09389176, 15.56274333]), array([15.04807111, 15.53827733, 15.18160247, 15.39035723, 16.03905255,\n",
      "       15.25059532, 14.73976986, 15.59890195, 15.72059886, 15.34590548,\n",
      "       15.10749451, 15.02745183, 15.4697308 , 15.6335875 , 16.40327467,\n",
      "       14.55744838, 15.81968975, 15.83838188, 14.55744838, 14.79120201,\n",
      "       15.70485051, 15.36094335, 15.22527752, 15.31513383, 15.06827381,\n",
      "       15.59890195, 15.05822348, 15.36094335, 15.54760866, 15.33063801,\n",
      "       15.76640839, 15.47373883, 15.21669378, 15.79097965, 15.10749451,\n",
      "       15.14523483, 15.03781461, 15.25059532, 15.71012756, 15.43291684,\n",
      "       15.29779691, 15.02745183, 15.31357011, 15.05822348, 15.1726338 ,\n",
      "       15.68885017, 15.24892726, 15.40474597, 14.61885698, 15.41186343,\n",
      "       15.90031283, 15.43152698, 15.98456437, 14.71159899, 15.25059532,\n",
      "       15.25059532, 15.33063801, 15.46704984, 15.65494862, 15.27853468,\n",
      "       15.06827381, 14.89392048, 15.24222707, 15.16358397, 14.89392048,\n",
      "       14.76716882, 15.26712462, 16.0082809 , 14.89392048, 15.14523483,\n",
      "       15.03781461, 15.32909836, 15.06827381, 15.04807111, 15.94374238,\n",
      "       15.50652864, 14.94271063, 15.40474597, 14.43339579, 15.10749451,\n",
      "       15.21669378, 15.32909836, 15.89244909, 14.91512268, 15.63925323,\n",
      "       15.10749451, 15.06827381, 15.70696467]), array([14.94260313, 15.481973  , 15.33728632, 15.17399208, 15.26279638,\n",
      "       15.15344854, 14.99436708, 15.77681756, 15.73220305, 15.54766821,\n",
      "       15.31330186, 14.91538018, 15.57598822, 15.5081456 , 16.01565913,\n",
      "       14.94576995, 15.68472869, 15.62379774, 14.89324341, 15.24380865,\n",
      "       15.44080058, 15.27911838, 15.18926507, 15.59155427, 14.99305311,\n",
      "       15.47306977, 15.2089017 , 15.68726559, 15.66254701, 15.45899562,\n",
      "       15.94823074, 15.83566298, 15.08941124, 15.96524266, 15.16537459,\n",
      "       15.14982583, 14.918813  , 15.30326782, 15.77833288, 15.35590295,\n",
      "       15.3037831 , 15.1267983 , 15.15287909, 14.87148811, 15.12145712,\n",
      "       15.28976553, 15.51960822, 15.34612549, 15.40121767, 15.50422438,\n",
      "       15.70503132, 15.06085264, 15.32538808, 15.0431625 , 15.02464845,\n",
      "       15.33922619, 15.79926644, 15.57082727, 15.71644397, 14.94374879,\n",
      "       15.28355421, 15.2114625 , 15.31012127, 15.2011805 , 14.85901802,\n",
      "       14.89890781, 15.19651891, 15.95182596, 14.93453035, 15.2362104 ,\n",
      "       15.0172802 , 15.42757365, 15.7698676 , 14.92174135, 15.8183739 ,\n",
      "       15.63472566, 15.19476282, 15.68666073, 14.86970709, 15.57782358,\n",
      "       15.44811737, 15.01632446, 16.04145177, 15.13109047, 15.76874921,\n",
      "       14.97942968, 15.09389176, 15.56274333]), array([15.04807111, 15.53827733, 15.18160247, 15.39035723, 16.03905255,\n",
      "       15.25059532, 14.73976986, 15.59890195, 15.72059886, 15.34590548,\n",
      "       15.10749451, 15.02745183, 15.4697308 , 15.6335875 , 16.40327467,\n",
      "       14.55744838, 15.81968975, 15.83838188, 14.55744838, 14.79120201,\n",
      "       15.70485051, 15.36094335, 15.22527752, 15.31513383, 15.06827381,\n",
      "       15.59890195, 15.05822348, 15.36094335, 15.54760866, 15.33063801,\n",
      "       15.76640839, 15.47373883, 15.21669378, 15.79097965, 15.10749451,\n",
      "       15.14523483, 15.03781461, 15.25059532, 15.71012756, 15.43291684,\n",
      "       15.29779691, 15.02745183, 15.31357011, 15.05822348, 15.1726338 ,\n",
      "       15.68885017, 15.24892726, 15.40474597, 14.61885698, 15.41186343,\n",
      "       15.90031283, 15.43152698, 15.98456437, 14.71159899, 15.25059532,\n",
      "       15.25059532, 15.33063801, 15.46704984, 15.65494862, 15.27853468,\n",
      "       15.06827381, 14.89392048, 15.24222707, 15.16358397, 14.89392048,\n",
      "       14.76716882, 15.26712462, 16.0082809 , 14.89392048, 15.14523483,\n",
      "       15.03781461, 15.32909836, 15.06827381, 15.04807111, 15.94374238,\n",
      "       15.50652864, 14.94271063, 15.40474597, 14.43339579, 15.10749451,\n",
      "       15.21669378, 15.32909836, 15.89244909, 14.91512268, 15.63925323,\n",
      "       15.10749451, 15.06827381, 15.70696467]), array([14.94260313, 15.481973  , 15.33728632, 15.17399208, 15.26279638,\n",
      "       15.15344854, 14.99436708, 15.77681756, 15.73220305, 15.54766821,\n",
      "       15.31330186, 14.91538018, 15.57598822, 15.5081456 , 16.01565913,\n",
      "       14.94576995, 15.68472869, 15.62379774, 14.89324341, 15.24380865,\n",
      "       15.44080058, 15.27911838, 15.18926507, 15.59155427, 14.99305311,\n",
      "       15.47306977, 15.2089017 , 15.68726559, 15.66254701, 15.45899562,\n",
      "       15.94823074, 15.83566298, 15.08941124, 15.96524266, 15.16537459,\n",
      "       15.14982583, 14.918813  , 15.30326782, 15.77833288, 15.35590295,\n",
      "       15.3037831 , 15.1267983 , 15.15287909, 14.87148811, 15.12145712,\n",
      "       15.28976553, 15.51960822, 15.34612549, 15.40121767, 15.50422438,\n",
      "       15.70503132, 15.06085264, 15.32538808, 15.0431625 , 15.02464845,\n",
      "       15.33922619, 15.79926644, 15.57082727, 15.71644397, 14.94374879,\n",
      "       15.28355421, 15.2114625 , 15.31012127, 15.2011805 , 14.85901802,\n",
      "       14.89890781, 15.19651891, 15.95182596, 14.93453035, 15.2362104 ,\n",
      "       15.0172802 , 15.42757365, 15.7698676 , 14.92174135, 15.8183739 ,\n",
      "       15.63472566, 15.19476282, 15.68666073, 14.86970709, 15.57782358,\n",
      "       15.44811737, 15.01632446, 16.04145177, 15.13109047, 15.76874921,\n",
      "       14.97942968, 15.09389176, 15.56274333]), array([15.04807111, 15.53827733, 15.18160247, 15.39035723, 16.03905255,\n",
      "       15.25059532, 14.73976986, 15.59890195, 15.72059886, 15.34590548,\n",
      "       15.10749451, 15.02745183, 15.4697308 , 15.6335875 , 16.40327467,\n",
      "       14.55744838, 15.81968975, 15.83838188, 14.55744838, 14.79120201,\n",
      "       15.70485051, 15.36094335, 15.22527752, 15.31513383, 15.06827381,\n",
      "       15.59890195, 15.05822348, 15.36094335, 15.54760866, 15.33063801,\n",
      "       15.76640839, 15.47373883, 15.21669378, 15.79097965, 15.10749451,\n",
      "       15.14523483, 15.03781461, 15.25059532, 15.71012756, 15.43291684,\n",
      "       15.29779691, 15.02745183, 15.31357011, 15.05822348, 15.1726338 ,\n",
      "       15.68885017, 15.24892726, 15.40474597, 14.61885698, 15.41186343,\n",
      "       15.90031283, 15.43152698, 15.98456437, 14.71159899, 15.25059532,\n",
      "       15.25059532, 15.33063801, 15.46704984, 15.65494862, 15.27853468,\n",
      "       15.06827381, 14.89392048, 15.24222707, 15.16358397, 14.89392048,\n",
      "       14.76716882, 15.26712462, 16.0082809 , 14.89392048, 15.14523483,\n",
      "       15.03781461, 15.32909836, 15.06827381, 15.04807111, 15.94374238,\n",
      "       15.50652864, 14.94271063, 15.40474597, 14.43339579, 15.10749451,\n",
      "       15.21669378, 15.32909836, 15.89244909, 14.91512268, 15.63925323,\n",
      "       15.10749451, 15.06827381, 15.70696467]), array([14.94260313, 15.481973  , 15.33728632, 15.17399208, 15.26279638,\n",
      "       15.15344854, 14.99436708, 15.77681756, 15.73220305, 15.54766821,\n",
      "       15.31330186, 14.91538018, 15.57598822, 15.5081456 , 16.01565913,\n",
      "       14.94576995, 15.68472869, 15.62379774, 14.89324341, 15.24380865,\n",
      "       15.44080058, 15.27911838, 15.18926507, 15.59155427, 14.99305311,\n",
      "       15.47306977, 15.2089017 , 15.68726559, 15.66254701, 15.45899562,\n",
      "       15.94823074, 15.83566298, 15.08941124, 15.96524266, 15.16537459,\n",
      "       15.14982583, 14.918813  , 15.30326782, 15.77833288, 15.35590295,\n",
      "       15.3037831 , 15.1267983 , 15.15287909, 14.87148811, 15.12145712,\n",
      "       15.28976553, 15.51960822, 15.34612549, 15.40121767, 15.50422438,\n",
      "       15.70503132, 15.06085264, 15.32538808, 15.0431625 , 15.02464845,\n",
      "       15.33922619, 15.79926644, 15.57082727, 15.71644397, 14.94374879,\n",
      "       15.28355421, 15.2114625 , 15.31012127, 15.2011805 , 14.85901802,\n",
      "       14.89890781, 15.19651891, 15.95182596, 14.93453035, 15.2362104 ,\n",
      "       15.0172802 , 15.42757365, 15.7698676 , 14.92174135, 15.8183739 ,\n",
      "       15.63472566, 15.19476282, 15.68666073, 14.86970709, 15.57782358,\n",
      "       15.44811737, 15.01632446, 16.04145177, 15.13109047, 15.76874921,\n",
      "       14.97942968, 15.09389176, 15.56274333]), array([15.04807111, 15.53827733, 15.18160247, 15.39035723, 16.03905255,\n",
      "       15.25059532, 14.73976986, 15.59890195, 15.72059886, 15.34590548,\n",
      "       15.10749451, 15.02745183, 15.4697308 , 15.6335875 , 16.40327467,\n",
      "       14.55744838, 15.81968975, 15.83838188, 14.55744838, 14.79120201,\n",
      "       15.70485051, 15.36094335, 15.22527752, 15.31513383, 15.06827381,\n",
      "       15.59890195, 15.05822348, 15.36094335, 15.54760866, 15.33063801,\n",
      "       15.76640839, 15.47373883, 15.21669378, 15.79097965, 15.10749451,\n",
      "       15.14523483, 15.03781461, 15.25059532, 15.71012756, 15.43291684,\n",
      "       15.29779691, 15.02745183, 15.31357011, 15.05822348, 15.1726338 ,\n",
      "       15.68885017, 15.24892726, 15.40474597, 14.61885698, 15.41186343,\n",
      "       15.90031283, 15.43152698, 15.98456437, 14.71159899, 15.25059532,\n",
      "       15.25059532, 15.33063801, 15.46704984, 15.65494862, 15.27853468,\n",
      "       15.06827381, 14.89392048, 15.24222707, 15.16358397, 14.89392048,\n",
      "       14.76716882, 15.26712462, 16.0082809 , 14.89392048, 15.14523483,\n",
      "       15.03781461, 15.32909836, 15.06827381, 15.04807111, 15.94374238,\n",
      "       15.50652864, 14.94271063, 15.40474597, 14.43339579, 15.10749451,\n",
      "       15.21669378, 15.32909836, 15.89244909, 14.91512268, 15.63925323,\n",
      "       15.10749451, 15.06827381, 15.70696467]), array([14.94260313, 15.481973  , 15.33728632, 15.17399208, 15.26279638,\n",
      "       15.15344854, 14.99436708, 15.77681756, 15.73220305, 15.54766821,\n",
      "       15.31330186, 14.91538018, 15.57598822, 15.5081456 , 16.01565913,\n",
      "       14.94576995, 15.68472869, 15.62379774, 14.89324341, 15.24380865,\n",
      "       15.44080058, 15.27911838, 15.18926507, 15.59155427, 14.99305311,\n",
      "       15.47306977, 15.2089017 , 15.68726559, 15.66254701, 15.45899562,\n",
      "       15.94823074, 15.83566298, 15.08941124, 15.96524266, 15.16537459,\n",
      "       15.14982583, 14.918813  , 15.30326782, 15.77833288, 15.35590295,\n",
      "       15.3037831 , 15.1267983 , 15.15287909, 14.87148811, 15.12145712,\n",
      "       15.28976553, 15.51960822, 15.34612549, 15.40121767, 15.50422438,\n",
      "       15.70503132, 15.06085264, 15.32538808, 15.0431625 , 15.02464845,\n",
      "       15.33922619, 15.79926644, 15.57082727, 15.71644397, 14.94374879,\n",
      "       15.28355421, 15.2114625 , 15.31012127, 15.2011805 , 14.85901802,\n",
      "       14.89890781, 15.19651891, 15.95182596, 14.93453035, 15.2362104 ,\n",
      "       15.0172802 , 15.42757365, 15.7698676 , 14.92174135, 15.8183739 ,\n",
      "       15.63472566, 15.19476282, 15.68666073, 14.86970709, 15.57782358,\n",
      "       15.44811737, 15.01632446, 16.04145177, 15.13109047, 15.76874921,\n",
      "       14.97942968, 15.09389176, 15.56274333]), array([15.04807111, 15.53827733, 15.18160247, 15.39035723, 16.03905255,\n",
      "       15.25059532, 14.73976986, 15.59890195, 15.72059886, 15.34590548,\n",
      "       15.10749451, 15.02745183, 15.4697308 , 15.6335875 , 16.40327467,\n",
      "       14.55744838, 15.81968975, 15.83838188, 14.55744838, 14.79120201,\n",
      "       15.70485051, 15.36094335, 15.22527752, 15.31513383, 15.06827381,\n",
      "       15.59890195, 15.05822348, 15.36094335, 15.54760866, 15.33063801,\n",
      "       15.76640839, 15.47373883, 15.21669378, 15.79097965, 15.10749451,\n",
      "       15.14523483, 15.03781461, 15.25059532, 15.71012756, 15.43291684,\n",
      "       15.29779691, 15.02745183, 15.31357011, 15.05822348, 15.1726338 ,\n",
      "       15.68885017, 15.24892726, 15.40474597, 14.61885698, 15.41186343,\n",
      "       15.90031283, 15.43152698, 15.98456437, 14.71159899, 15.25059532,\n",
      "       15.25059532, 15.33063801, 15.46704984, 15.65494862, 15.27853468,\n",
      "       15.06827381, 14.89392048, 15.24222707, 15.16358397, 14.89392048,\n",
      "       14.76716882, 15.26712462, 16.0082809 , 14.89392048, 15.14523483,\n",
      "       15.03781461, 15.32909836, 15.06827381, 15.04807111, 15.94374238,\n",
      "       15.50652864, 14.94271063, 15.40474597, 14.43339579, 15.10749451,\n",
      "       15.21669378, 15.32909836, 15.89244909, 14.91512268, 15.63925323,\n",
      "       15.10749451, 15.06827381, 15.70696467]), array([14.94260313, 15.481973  , 15.33728632, 15.17399208, 15.26279638,\n",
      "       15.15344854, 14.99436708, 15.77681756, 15.73220305, 15.54766821,\n",
      "       15.31330186, 14.91538018, 15.57598822, 15.5081456 , 16.01565913,\n",
      "       14.94576995, 15.68472869, 15.62379774, 14.89324341, 15.24380865,\n",
      "       15.44080058, 15.27911838, 15.18926507, 15.59155427, 14.99305311,\n",
      "       15.47306977, 15.2089017 , 15.68726559, 15.66254701, 15.45899562,\n",
      "       15.94823074, 15.83566298, 15.08941124, 15.96524266, 15.16537459,\n",
      "       15.14982583, 14.918813  , 15.30326782, 15.77833288, 15.35590295,\n",
      "       15.3037831 , 15.1267983 , 15.15287909, 14.87148811, 15.12145712,\n",
      "       15.28976553, 15.51960822, 15.34612549, 15.40121767, 15.50422438,\n",
      "       15.70503132, 15.06085264, 15.32538808, 15.0431625 , 15.02464845,\n",
      "       15.33922619, 15.79926644, 15.57082727, 15.71644397, 14.94374879,\n",
      "       15.28355421, 15.2114625 , 15.31012127, 15.2011805 , 14.85901802,\n",
      "       14.89890781, 15.19651891, 15.95182596, 14.93453035, 15.2362104 ,\n",
      "       15.0172802 , 15.42757365, 15.7698676 , 14.92174135, 15.8183739 ,\n",
      "       15.63472566, 15.19476282, 15.68666073, 14.86970709, 15.57782358,\n",
      "       15.44811737, 15.01632446, 16.04145177, 15.13109047, 15.76874921,\n",
      "       14.97942968, 15.09389176, 15.56274333]), array([15.04807111, 15.53827733, 15.18160247, 15.39035723, 16.03905255,\n",
      "       15.25059532, 14.73976986, 15.59890195, 15.72059886, 15.34590548,\n",
      "       15.10749451, 15.02745183, 15.4697308 , 15.6335875 , 16.40327467,\n",
      "       14.55744838, 15.81968975, 15.83838188, 14.55744838, 14.79120201,\n",
      "       15.70485051, 15.36094335, 15.22527752, 15.31513383, 15.06827381,\n",
      "       15.59890195, 15.05822348, 15.36094335, 15.54760866, 15.33063801,\n",
      "       15.76640839, 15.47373883, 15.21669378, 15.79097965, 15.10749451,\n",
      "       15.14523483, 15.03781461, 15.25059532, 15.71012756, 15.43291684,\n",
      "       15.29779691, 15.02745183, 15.31357011, 15.05822348, 15.1726338 ,\n",
      "       15.68885017, 15.24892726, 15.40474597, 14.61885698, 15.41186343,\n",
      "       15.90031283, 15.43152698, 15.98456437, 14.71159899, 15.25059532,\n",
      "       15.25059532, 15.33063801, 15.46704984, 15.65494862, 15.27853468,\n",
      "       15.06827381, 14.89392048, 15.24222707, 15.16358397, 14.89392048,\n",
      "       14.76716882, 15.26712462, 16.0082809 , 14.89392048, 15.14523483,\n",
      "       15.03781461, 15.32909836, 15.06827381, 15.04807111, 15.94374238,\n",
      "       15.50652864, 14.94271063, 15.40474597, 14.43339579, 15.10749451,\n",
      "       15.21669378, 15.32909836, 15.89244909, 14.91512268, 15.63925323,\n",
      "       15.10749451, 15.06827381, 15.70696467]), array([14.94260313, 15.481973  , 15.33728632, 15.17399208, 15.26279638,\n",
      "       15.15344854, 14.99436708, 15.77681756, 15.73220305, 15.54766821,\n",
      "       15.31330186, 14.91538018, 15.57598822, 15.5081456 , 16.01565913,\n",
      "       14.94576995, 15.68472869, 15.62379774, 14.89324341, 15.24380865,\n",
      "       15.44080058, 15.27911838, 15.18926507, 15.59155427, 14.99305311,\n",
      "       15.47306977, 15.2089017 , 15.68726559, 15.66254701, 15.45899562,\n",
      "       15.94823074, 15.83566298, 15.08941124, 15.96524266, 15.16537459,\n",
      "       15.14982583, 14.918813  , 15.30326782, 15.77833288, 15.35590295,\n",
      "       15.3037831 , 15.1267983 , 15.15287909, 14.87148811, 15.12145712,\n",
      "       15.28976553, 15.51960822, 15.34612549, 15.40121767, 15.50422438,\n",
      "       15.70503132, 15.06085264, 15.32538808, 15.0431625 , 15.02464845,\n",
      "       15.33922619, 15.79926644, 15.57082727, 15.71644397, 14.94374879,\n",
      "       15.28355421, 15.2114625 , 15.31012127, 15.2011805 , 14.85901802,\n",
      "       14.89890781, 15.19651891, 15.95182596, 14.93453035, 15.2362104 ,\n",
      "       15.0172802 , 15.42757365, 15.7698676 , 14.92174135, 15.8183739 ,\n",
      "       15.63472566, 15.19476282, 15.68666073, 14.86970709, 15.57782358,\n",
      "       15.44811737, 15.01632446, 16.04145177, 15.13109047, 15.76874921,\n",
      "       14.97942968, 15.09389176, 15.56274333]), array([15.04807111, 15.53827733, 15.18160247, 15.39035723, 16.03905255,\n",
      "       15.25059532, 14.73976986, 15.59890195, 15.72059886, 15.34590548,\n",
      "       15.10749451, 15.02745183, 15.4697308 , 15.6335875 , 16.40327467,\n",
      "       14.55744838, 15.81968975, 15.83838188, 14.55744838, 14.79120201,\n",
      "       15.70485051, 15.36094335, 15.22527752, 15.31513383, 15.06827381,\n",
      "       15.59890195, 15.05822348, 15.36094335, 15.54760866, 15.33063801,\n",
      "       15.76640839, 15.47373883, 15.21669378, 15.79097965, 15.10749451,\n",
      "       15.14523483, 15.03781461, 15.25059532, 15.71012756, 15.43291684,\n",
      "       15.29779691, 15.02745183, 15.31357011, 15.05822348, 15.1726338 ,\n",
      "       15.68885017, 15.24892726, 15.40474597, 14.61885698, 15.41186343,\n",
      "       15.90031283, 15.43152698, 15.98456437, 14.71159899, 15.25059532,\n",
      "       15.25059532, 15.33063801, 15.46704984, 15.65494862, 15.27853468,\n",
      "       15.06827381, 14.89392048, 15.24222707, 15.16358397, 14.89392048,\n",
      "       14.76716882, 15.26712462, 16.0082809 , 14.89392048, 15.14523483,\n",
      "       15.03781461, 15.32909836, 15.06827381, 15.04807111, 15.94374238,\n",
      "       15.50652864, 14.94271063, 15.40474597, 14.43339579, 15.10749451,\n",
      "       15.21669378, 15.32909836, 15.89244909, 14.91512268, 15.63925323,\n",
      "       15.10749451, 15.06827381, 15.70696467]), array([14.94260313, 15.481973  , 15.33728632, 15.17399208, 15.26279638,\n",
      "       15.15344854, 14.99436708, 15.77681756, 15.73220305, 15.54766821,\n",
      "       15.31330186, 14.91538018, 15.57598822, 15.5081456 , 16.01565913,\n",
      "       14.94576995, 15.68472869, 15.62379774, 14.89324341, 15.24380865,\n",
      "       15.44080058, 15.27911838, 15.18926507, 15.59155427, 14.99305311,\n",
      "       15.47306977, 15.2089017 , 15.68726559, 15.66254701, 15.45899562,\n",
      "       15.94823074, 15.83566298, 15.08941124, 15.96524266, 15.16537459,\n",
      "       15.14982583, 14.918813  , 15.30326782, 15.77833288, 15.35590295,\n",
      "       15.3037831 , 15.1267983 , 15.15287909, 14.87148811, 15.12145712,\n",
      "       15.28976553, 15.51960822, 15.34612549, 15.40121767, 15.50422438,\n",
      "       15.70503132, 15.06085264, 15.32538808, 15.0431625 , 15.02464845,\n",
      "       15.33922619, 15.79926644, 15.57082727, 15.71644397, 14.94374879,\n",
      "       15.28355421, 15.2114625 , 15.31012127, 15.2011805 , 14.85901802,\n",
      "       14.89890781, 15.19651891, 15.95182596, 14.93453035, 15.2362104 ,\n",
      "       15.0172802 , 15.42757365, 15.7698676 , 14.92174135, 15.8183739 ,\n",
      "       15.63472566, 15.19476282, 15.68666073, 14.86970709, 15.57782358,\n",
      "       15.44811737, 15.01632446, 16.04145177, 15.13109047, 15.76874921,\n",
      "       14.97942968, 15.09389176, 15.56274333]), array([15.04807111, 15.53827733, 15.18160247, 15.39035723, 16.03905255,\n",
      "       15.25059532, 14.73976986, 15.59890195, 15.72059886, 15.34590548,\n",
      "       15.10749451, 15.02745183, 15.4697308 , 15.6335875 , 16.40327467,\n",
      "       14.55744838, 15.81968975, 15.83838188, 14.55744838, 14.79120201,\n",
      "       15.70485051, 15.36094335, 15.22527752, 15.31513383, 15.06827381,\n",
      "       15.59890195, 15.05822348, 15.36094335, 15.54760866, 15.33063801,\n",
      "       15.76640839, 15.47373883, 15.21669378, 15.79097965, 15.10749451,\n",
      "       15.14523483, 15.03781461, 15.25059532, 15.71012756, 15.43291684,\n",
      "       15.29779691, 15.02745183, 15.31357011, 15.05822348, 15.1726338 ,\n",
      "       15.68885017, 15.24892726, 15.40474597, 14.61885698, 15.41186343,\n",
      "       15.90031283, 15.43152698, 15.98456437, 14.71159899, 15.25059532,\n",
      "       15.25059532, 15.33063801, 15.46704984, 15.65494862, 15.27853468,\n",
      "       15.06827381, 14.89392048, 15.24222707, 15.16358397, 14.89392048,\n",
      "       14.76716882, 15.26712462, 16.0082809 , 14.89392048, 15.14523483,\n",
      "       15.03781461, 15.32909836, 15.06827381, 15.04807111, 15.94374238,\n",
      "       15.50652864, 14.94271063, 15.40474597, 14.43339579, 15.10749451,\n",
      "       15.21669378, 15.32909836, 15.89244909, 14.91512268, 15.63925323,\n",
      "       15.10749451, 15.06827381, 15.70696467]), array([14.94260313, 15.481973  , 15.33728632, 15.17399208, 15.26279638,\n",
      "       15.15344854, 14.99436708, 15.77681756, 15.73220305, 15.54766821,\n",
      "       15.31330186, 14.91538018, 15.57598822, 15.5081456 , 16.01565913,\n",
      "       14.94576995, 15.68472869, 15.62379774, 14.89324341, 15.24380865,\n",
      "       15.44080058, 15.27911838, 15.18926507, 15.59155427, 14.99305311,\n",
      "       15.47306977, 15.2089017 , 15.68726559, 15.66254701, 15.45899562,\n",
      "       15.94823074, 15.83566298, 15.08941124, 15.96524266, 15.16537459,\n",
      "       15.14982583, 14.918813  , 15.30326782, 15.77833288, 15.35590295,\n",
      "       15.3037831 , 15.1267983 , 15.15287909, 14.87148811, 15.12145712,\n",
      "       15.28976553, 15.51960822, 15.34612549, 15.40121767, 15.50422438,\n",
      "       15.70503132, 15.06085264, 15.32538808, 15.0431625 , 15.02464845,\n",
      "       15.33922619, 15.79926644, 15.57082727, 15.71644397, 14.94374879,\n",
      "       15.28355421, 15.2114625 , 15.31012127, 15.2011805 , 14.85901802,\n",
      "       14.89890781, 15.19651891, 15.95182596, 14.93453035, 15.2362104 ,\n",
      "       15.0172802 , 15.42757365, 15.7698676 , 14.92174135, 15.8183739 ,\n",
      "       15.63472566, 15.19476282, 15.68666073, 14.86970709, 15.57782358,\n",
      "       15.44811737, 15.01632446, 16.04145177, 15.13109047, 15.76874921,\n",
      "       14.97942968, 15.09389176, 15.56274333]), array([15.04807111, 15.53827733, 15.18160247, 15.39035723, 16.03905255,\n",
      "       15.25059532, 14.73976986, 15.59890195, 15.72059886, 15.34590548,\n",
      "       15.10749451, 15.02745183, 15.4697308 , 15.6335875 , 16.40327467,\n",
      "       14.55744838, 15.81968975, 15.83838188, 14.55744838, 14.79120201,\n",
      "       15.70485051, 15.36094335, 15.22527752, 15.31513383, 15.06827381,\n",
      "       15.59890195, 15.05822348, 15.36094335, 15.54760866, 15.33063801,\n",
      "       15.76640839, 15.47373883, 15.21669378, 15.79097965, 15.10749451,\n",
      "       15.14523483, 15.03781461, 15.25059532, 15.71012756, 15.43291684,\n",
      "       15.29779691, 15.02745183, 15.31357011, 15.05822348, 15.1726338 ,\n",
      "       15.68885017, 15.24892726, 15.40474597, 14.61885698, 15.41186343,\n",
      "       15.90031283, 15.43152698, 15.98456437, 14.71159899, 15.25059532,\n",
      "       15.25059532, 15.33063801, 15.46704984, 15.65494862, 15.27853468,\n",
      "       15.06827381, 14.89392048, 15.24222707, 15.16358397, 14.89392048,\n",
      "       14.76716882, 15.26712462, 16.0082809 , 14.89392048, 15.14523483,\n",
      "       15.03781461, 15.32909836, 15.06827381, 15.04807111, 15.94374238,\n",
      "       15.50652864, 14.94271063, 15.40474597, 14.43339579, 15.10749451,\n",
      "       15.21669378, 15.32909836, 15.89244909, 14.91512268, 15.63925323,\n",
      "       15.10749451, 15.06827381, 15.70696467]), array([14.94260313, 15.481973  , 15.33728632, 15.17399208, 15.26279638,\n",
      "       15.15344854, 14.99436708, 15.77681756, 15.73220305, 15.54766821,\n",
      "       15.31330186, 14.91538018, 15.57598822, 15.5081456 , 16.01565913,\n",
      "       14.94576995, 15.68472869, 15.62379774, 14.89324341, 15.24380865,\n",
      "       15.44080058, 15.27911838, 15.18926507, 15.59155427, 14.99305311,\n",
      "       15.47306977, 15.2089017 , 15.68726559, 15.66254701, 15.45899562,\n",
      "       15.94823074, 15.83566298, 15.08941124, 15.96524266, 15.16537459,\n",
      "       15.14982583, 14.918813  , 15.30326782, 15.77833288, 15.35590295,\n",
      "       15.3037831 , 15.1267983 , 15.15287909, 14.87148811, 15.12145712,\n",
      "       15.28976553, 15.51960822, 15.34612549, 15.40121767, 15.50422438,\n",
      "       15.70503132, 15.06085264, 15.32538808, 15.0431625 , 15.02464845,\n",
      "       15.33922619, 15.79926644, 15.57082727, 15.71644397, 14.94374879,\n",
      "       15.28355421, 15.2114625 , 15.31012127, 15.2011805 , 14.85901802,\n",
      "       14.89890781, 15.19651891, 15.95182596, 14.93453035, 15.2362104 ,\n",
      "       15.0172802 , 15.42757365, 15.7698676 , 14.92174135, 15.8183739 ,\n",
      "       15.63472566, 15.19476282, 15.68666073, 14.86970709, 15.57782358,\n",
      "       15.44811737, 15.01632446, 16.04145177, 15.13109047, 15.76874921,\n",
      "       14.97942968, 15.09389176, 15.56274333]), array([15.04807111, 15.53827733, 15.18160247, 15.39035723, 16.03905255,\n",
      "       15.25059532, 14.73976986, 15.59890195, 15.72059886, 15.34590548,\n",
      "       15.10749451, 15.02745183, 15.4697308 , 15.6335875 , 16.40327467,\n",
      "       14.55744838, 15.81968975, 15.83838188, 14.55744838, 14.79120201,\n",
      "       15.70485051, 15.36094335, 15.22527752, 15.31513383, 15.06827381,\n",
      "       15.59890195, 15.05822348, 15.36094335, 15.54760866, 15.33063801,\n",
      "       15.76640839, 15.47373883, 15.21669378, 15.79097965, 15.10749451,\n",
      "       15.14523483, 15.03781461, 15.25059532, 15.71012756, 15.43291684,\n",
      "       15.29779691, 15.02745183, 15.31357011, 15.05822348, 15.1726338 ,\n",
      "       15.68885017, 15.24892726, 15.40474597, 14.61885698, 15.41186343,\n",
      "       15.90031283, 15.43152698, 15.98456437, 14.71159899, 15.25059532,\n",
      "       15.25059532, 15.33063801, 15.46704984, 15.65494862, 15.27853468,\n",
      "       15.06827381, 14.89392048, 15.24222707, 15.16358397, 14.89392048,\n",
      "       14.76716882, 15.26712462, 16.0082809 , 14.89392048, 15.14523483,\n",
      "       15.03781461, 15.32909836, 15.06827381, 15.04807111, 15.94374238,\n",
      "       15.50652864, 14.94271063, 15.40474597, 14.43339579, 15.10749451,\n",
      "       15.21669378, 15.32909836, 15.89244909, 14.91512268, 15.63925323,\n",
      "       15.10749451, 15.06827381, 15.70696467]), array([14.94260313, 15.481973  , 15.33728632, 15.17399208, 15.26279638,\n",
      "       15.15344854, 14.99436708, 15.77681756, 15.73220305, 15.54766821,\n",
      "       15.31330186, 14.91538018, 15.57598822, 15.5081456 , 16.01565913,\n",
      "       14.94576995, 15.68472869, 15.62379774, 14.89324341, 15.24380865,\n",
      "       15.44080058, 15.27911838, 15.18926507, 15.59155427, 14.99305311,\n",
      "       15.47306977, 15.2089017 , 15.68726559, 15.66254701, 15.45899562,\n",
      "       15.94823074, 15.83566298, 15.08941124, 15.96524266, 15.16537459,\n",
      "       15.14982583, 14.918813  , 15.30326782, 15.77833288, 15.35590295,\n",
      "       15.3037831 , 15.1267983 , 15.15287909, 14.87148811, 15.12145712,\n",
      "       15.28976553, 15.51960822, 15.34612549, 15.40121767, 15.50422438,\n",
      "       15.70503132, 15.06085264, 15.32538808, 15.0431625 , 15.02464845,\n",
      "       15.33922619, 15.79926644, 15.57082727, 15.71644397, 14.94374879,\n",
      "       15.28355421, 15.2114625 , 15.31012127, 15.2011805 , 14.85901802,\n",
      "       14.89890781, 15.19651891, 15.95182596, 14.93453035, 15.2362104 ,\n",
      "       15.0172802 , 15.42757365, 15.7698676 , 14.92174135, 15.8183739 ,\n",
      "       15.63472566, 15.19476282, 15.68666073, 14.86970709, 15.57782358,\n",
      "       15.44811737, 15.01632446, 16.04145177, 15.13109047, 15.76874921,\n",
      "       14.97942968, 15.09389176, 15.56274333]), array([15.04807111, 15.53827733, 15.18160247, 15.39035723, 16.03905255,\n",
      "       15.25059532, 14.73976986, 15.59890195, 15.72059886, 15.34590548,\n",
      "       15.10749451, 15.02745183, 15.4697308 , 15.6335875 , 16.40327467,\n",
      "       14.55744838, 15.81968975, 15.83838188, 14.55744838, 14.79120201,\n",
      "       15.70485051, 15.36094335, 15.22527752, 15.31513383, 15.06827381,\n",
      "       15.59890195, 15.05822348, 15.36094335, 15.54760866, 15.33063801,\n",
      "       15.76640839, 15.47373883, 15.21669378, 15.79097965, 15.10749451,\n",
      "       15.14523483, 15.03781461, 15.25059532, 15.71012756, 15.43291684,\n",
      "       15.29779691, 15.02745183, 15.31357011, 15.05822348, 15.1726338 ,\n",
      "       15.68885017, 15.24892726, 15.40474597, 14.61885698, 15.41186343,\n",
      "       15.90031283, 15.43152698, 15.98456437, 14.71159899, 15.25059532,\n",
      "       15.25059532, 15.33063801, 15.46704984, 15.65494862, 15.27853468,\n",
      "       15.06827381, 14.89392048, 15.24222707, 15.16358397, 14.89392048,\n",
      "       14.76716882, 15.26712462, 16.0082809 , 14.89392048, 15.14523483,\n",
      "       15.03781461, 15.32909836, 15.06827381, 15.04807111, 15.94374238,\n",
      "       15.50652864, 14.94271063, 15.40474597, 14.43339579, 15.10749451,\n",
      "       15.21669378, 15.32909836, 15.89244909, 14.91512268, 15.63925323,\n",
      "       15.10749451, 15.06827381, 15.70696467]), array([14.94260313, 15.481973  , 15.33728632, 15.17399208, 15.26279638,\n",
      "       15.15344854, 14.99436708, 15.77681756, 15.73220305, 15.54766821,\n",
      "       15.31330186, 14.91538018, 15.57598822, 15.5081456 , 16.01565913,\n",
      "       14.94576995, 15.68472869, 15.62379774, 14.89324341, 15.24380865,\n",
      "       15.44080058, 15.27911838, 15.18926507, 15.59155427, 14.99305311,\n",
      "       15.47306977, 15.2089017 , 15.68726559, 15.66254701, 15.45899562,\n",
      "       15.94823074, 15.83566298, 15.08941124, 15.96524266, 15.16537459,\n",
      "       15.14982583, 14.918813  , 15.30326782, 15.77833288, 15.35590295,\n",
      "       15.3037831 , 15.1267983 , 15.15287909, 14.87148811, 15.12145712,\n",
      "       15.28976553, 15.51960822, 15.34612549, 15.40121767, 15.50422438,\n",
      "       15.70503132, 15.06085264, 15.32538808, 15.0431625 , 15.02464845,\n",
      "       15.33922619, 15.79926644, 15.57082727, 15.71644397, 14.94374879,\n",
      "       15.28355421, 15.2114625 , 15.31012127, 15.2011805 , 14.85901802,\n",
      "       14.89890781, 15.19651891, 15.95182596, 14.93453035, 15.2362104 ,\n",
      "       15.0172802 , 15.42757365, 15.7698676 , 14.92174135, 15.8183739 ,\n",
      "       15.63472566, 15.19476282, 15.68666073, 14.86970709, 15.57782358,\n",
      "       15.44811737, 15.01632446, 16.04145177, 15.13109047, 15.76874921,\n",
      "       14.97942968, 15.09389176, 15.56274333]), array([15.04807111, 15.53827733, 15.18160247, 15.39035723, 16.03905255,\n",
      "       15.25059532, 14.73976986, 15.59890195, 15.72059886, 15.34590548,\n",
      "       15.10749451, 15.02745183, 15.4697308 , 15.6335875 , 16.40327467,\n",
      "       14.55744838, 15.81968975, 15.83838188, 14.55744838, 14.79120201,\n",
      "       15.70485051, 15.36094335, 15.22527752, 15.31513383, 15.06827381,\n",
      "       15.59890195, 15.05822348, 15.36094335, 15.54760866, 15.33063801,\n",
      "       15.76640839, 15.47373883, 15.21669378, 15.79097965, 15.10749451,\n",
      "       15.14523483, 15.03781461, 15.25059532, 15.71012756, 15.43291684,\n",
      "       15.29779691, 15.02745183, 15.31357011, 15.05822348, 15.1726338 ,\n",
      "       15.68885017, 15.24892726, 15.40474597, 14.61885698, 15.41186343,\n",
      "       15.90031283, 15.43152698, 15.98456437, 14.71159899, 15.25059532,\n",
      "       15.25059532, 15.33063801, 15.46704984, 15.65494862, 15.27853468,\n",
      "       15.06827381, 14.89392048, 15.24222707, 15.16358397, 14.89392048,\n",
      "       14.76716882, 15.26712462, 16.0082809 , 14.89392048, 15.14523483,\n",
      "       15.03781461, 15.32909836, 15.06827381, 15.04807111, 15.94374238,\n",
      "       15.50652864, 14.94271063, 15.40474597, 14.43339579, 15.10749451,\n",
      "       15.21669378, 15.32909836, 15.89244909, 14.91512268, 15.63925323,\n",
      "       15.10749451, 15.06827381, 15.70696467]), array([14.94260313, 15.481973  , 15.33728632, 15.17399208, 15.26279638,\n",
      "       15.15344854, 14.99436708, 15.77681756, 15.73220305, 15.54766821,\n",
      "       15.31330186, 14.91538018, 15.57598822, 15.5081456 , 16.01565913,\n",
      "       14.94576995, 15.68472869, 15.62379774, 14.89324341, 15.24380865,\n",
      "       15.44080058, 15.27911838, 15.18926507, 15.59155427, 14.99305311,\n",
      "       15.47306977, 15.2089017 , 15.68726559, 15.66254701, 15.45899562,\n",
      "       15.94823074, 15.83566298, 15.08941124, 15.96524266, 15.16537459,\n",
      "       15.14982583, 14.918813  , 15.30326782, 15.77833288, 15.35590295,\n",
      "       15.3037831 , 15.1267983 , 15.15287909, 14.87148811, 15.12145712,\n",
      "       15.28976553, 15.51960822, 15.34612549, 15.40121767, 15.50422438,\n",
      "       15.70503132, 15.06085264, 15.32538808, 15.0431625 , 15.02464845,\n",
      "       15.33922619, 15.79926644, 15.57082727, 15.71644397, 14.94374879,\n",
      "       15.28355421, 15.2114625 , 15.31012127, 15.2011805 , 14.85901802,\n",
      "       14.89890781, 15.19651891, 15.95182596, 14.93453035, 15.2362104 ,\n",
      "       15.0172802 , 15.42757365, 15.7698676 , 14.92174135, 15.8183739 ,\n",
      "       15.63472566, 15.19476282, 15.68666073, 14.86970709, 15.57782358,\n",
      "       15.44811737, 15.01632446, 16.04145177, 15.13109047, 15.76874921,\n",
      "       14.97942968, 15.09389176, 15.56274333]), array([15.04807111, 15.53827733, 15.18160247, 15.39035723, 16.03905255,\n",
      "       15.25059532, 14.73976986, 15.59890195, 15.72059886, 15.34590548,\n",
      "       15.10749451, 15.02745183, 15.4697308 , 15.6335875 , 16.40327467,\n",
      "       14.55744838, 15.81968975, 15.83838188, 14.55744838, 14.79120201,\n",
      "       15.70485051, 15.36094335, 15.22527752, 15.31513383, 15.06827381,\n",
      "       15.59890195, 15.05822348, 15.36094335, 15.54760866, 15.33063801,\n",
      "       15.76640839, 15.47373883, 15.21669378, 15.79097965, 15.10749451,\n",
      "       15.14523483, 15.03781461, 15.25059532, 15.71012756, 15.43291684,\n",
      "       15.29779691, 15.02745183, 15.31357011, 15.05822348, 15.1726338 ,\n",
      "       15.68885017, 15.24892726, 15.40474597, 14.61885698, 15.41186343,\n",
      "       15.90031283, 15.43152698, 15.98456437, 14.71159899, 15.25059532,\n",
      "       15.25059532, 15.33063801, 15.46704984, 15.65494862, 15.27853468,\n",
      "       15.06827381, 14.89392048, 15.24222707, 15.16358397, 14.89392048,\n",
      "       14.76716882, 15.26712462, 16.0082809 , 14.89392048, 15.14523483,\n",
      "       15.03781461, 15.32909836, 15.06827381, 15.04807111, 15.94374238,\n",
      "       15.50652864, 14.94271063, 15.40474597, 14.43339579, 15.10749451,\n",
      "       15.21669378, 15.32909836, 15.89244909, 14.91512268, 15.63925323,\n",
      "       15.10749451, 15.06827381, 15.70696467]), array([14.94260313, 15.481973  , 15.33728632, 15.17399208, 15.26279638,\n",
      "       15.15344854, 14.99436708, 15.77681756, 15.73220305, 15.54766821,\n",
      "       15.31330186, 14.91538018, 15.57598822, 15.5081456 , 16.01565913,\n",
      "       14.94576995, 15.68472869, 15.62379774, 14.89324341, 15.24380865,\n",
      "       15.44080058, 15.27911838, 15.18926507, 15.59155427, 14.99305311,\n",
      "       15.47306977, 15.2089017 , 15.68726559, 15.66254701, 15.45899562,\n",
      "       15.94823074, 15.83566298, 15.08941124, 15.96524266, 15.16537459,\n",
      "       15.14982583, 14.918813  , 15.30326782, 15.77833288, 15.35590295,\n",
      "       15.3037831 , 15.1267983 , 15.15287909, 14.87148811, 15.12145712,\n",
      "       15.28976553, 15.51960822, 15.34612549, 15.40121767, 15.50422438,\n",
      "       15.70503132, 15.06085264, 15.32538808, 15.0431625 , 15.02464845,\n",
      "       15.33922619, 15.79926644, 15.57082727, 15.71644397, 14.94374879,\n",
      "       15.28355421, 15.2114625 , 15.31012127, 15.2011805 , 14.85901802,\n",
      "       14.89890781, 15.19651891, 15.95182596, 14.93453035, 15.2362104 ,\n",
      "       15.0172802 , 15.42757365, 15.7698676 , 14.92174135, 15.8183739 ,\n",
      "       15.63472566, 15.19476282, 15.68666073, 14.86970709, 15.57782358,\n",
      "       15.44811737, 15.01632446, 16.04145177, 15.13109047, 15.76874921,\n",
      "       14.97942968, 15.09389176, 15.56274333]), array([15.04807111, 15.53827733, 15.18160247, 15.39035723, 16.03905255,\n",
      "       15.25059532, 14.73976986, 15.59890195, 15.72059886, 15.34590548,\n",
      "       15.10749451, 15.02745183, 15.4697308 , 15.6335875 , 16.40327467,\n",
      "       14.55744838, 15.81968975, 15.83838188, 14.55744838, 14.79120201,\n",
      "       15.70485051, 15.36094335, 15.22527752, 15.31513383, 15.06827381,\n",
      "       15.59890195, 15.05822348, 15.36094335, 15.54760866, 15.33063801,\n",
      "       15.76640839, 15.47373883, 15.21669378, 15.79097965, 15.10749451,\n",
      "       15.14523483, 15.03781461, 15.25059532, 15.71012756, 15.43291684,\n",
      "       15.29779691, 15.02745183, 15.31357011, 15.05822348, 15.1726338 ,\n",
      "       15.68885017, 15.24892726, 15.40474597, 14.61885698, 15.41186343,\n",
      "       15.90031283, 15.43152698, 15.98456437, 14.71159899, 15.25059532,\n",
      "       15.25059532, 15.33063801, 15.46704984, 15.65494862, 15.27853468,\n",
      "       15.06827381, 14.89392048, 15.24222707, 15.16358397, 14.89392048,\n",
      "       14.76716882, 15.26712462, 16.0082809 , 14.89392048, 15.14523483,\n",
      "       15.03781461, 15.32909836, 15.06827381, 15.04807111, 15.94374238,\n",
      "       15.50652864, 14.94271063, 15.40474597, 14.43339579, 15.10749451,\n",
      "       15.21669378, 15.32909836, 15.89244909, 14.91512268, 15.63925323,\n",
      "       15.10749451, 15.06827381, 15.70696467]), array([14.94260313, 15.481973  , 15.33728632, 15.17399208, 15.26279638,\n",
      "       15.15344854, 14.99436708, 15.77681756, 15.73220305, 15.54766821,\n",
      "       15.31330186, 14.91538018, 15.57598822, 15.5081456 , 16.01565913,\n",
      "       14.94576995, 15.68472869, 15.62379774, 14.89324341, 15.24380865,\n",
      "       15.44080058, 15.27911838, 15.18926507, 15.59155427, 14.99305311,\n",
      "       15.47306977, 15.2089017 , 15.68726559, 15.66254701, 15.45899562,\n",
      "       15.94823074, 15.83566298, 15.08941124, 15.96524266, 15.16537459,\n",
      "       15.14982583, 14.918813  , 15.30326782, 15.77833288, 15.35590295,\n",
      "       15.3037831 , 15.1267983 , 15.15287909, 14.87148811, 15.12145712,\n",
      "       15.28976553, 15.51960822, 15.34612549, 15.40121767, 15.50422438,\n",
      "       15.70503132, 15.06085264, 15.32538808, 15.0431625 , 15.02464845,\n",
      "       15.33922619, 15.79926644, 15.57082727, 15.71644397, 14.94374879,\n",
      "       15.28355421, 15.2114625 , 15.31012127, 15.2011805 , 14.85901802,\n",
      "       14.89890781, 15.19651891, 15.95182596, 14.93453035, 15.2362104 ,\n",
      "       15.0172802 , 15.42757365, 15.7698676 , 14.92174135, 15.8183739 ,\n",
      "       15.63472566, 15.19476282, 15.68666073, 14.86970709, 15.57782358,\n",
      "       15.44811737, 15.01632446, 16.04145177, 15.13109047, 15.76874921,\n",
      "       14.97942968, 15.09389176, 15.56274333]), array([15.04807111, 15.53827733, 15.18160247, 15.39035723, 16.03905255,\n",
      "       15.25059532, 14.73976986, 15.59890195, 15.72059886, 15.34590548,\n",
      "       15.10749451, 15.02745183, 15.4697308 , 15.6335875 , 16.40327467,\n",
      "       14.55744838, 15.81968975, 15.83838188, 14.55744838, 14.79120201,\n",
      "       15.70485051, 15.36094335, 15.22527752, 15.31513383, 15.06827381,\n",
      "       15.59890195, 15.05822348, 15.36094335, 15.54760866, 15.33063801,\n",
      "       15.76640839, 15.47373883, 15.21669378, 15.79097965, 15.10749451,\n",
      "       15.14523483, 15.03781461, 15.25059532, 15.71012756, 15.43291684,\n",
      "       15.29779691, 15.02745183, 15.31357011, 15.05822348, 15.1726338 ,\n",
      "       15.68885017, 15.24892726, 15.40474597, 14.61885698, 15.41186343,\n",
      "       15.90031283, 15.43152698, 15.98456437, 14.71159899, 15.25059532,\n",
      "       15.25059532, 15.33063801, 15.46704984, 15.65494862, 15.27853468,\n",
      "       15.06827381, 14.89392048, 15.24222707, 15.16358397, 14.89392048,\n",
      "       14.76716882, 15.26712462, 16.0082809 , 14.89392048, 15.14523483,\n",
      "       15.03781461, 15.32909836, 15.06827381, 15.04807111, 15.94374238,\n",
      "       15.50652864, 14.94271063, 15.40474597, 14.43339579, 15.10749451,\n",
      "       15.21669378, 15.32909836, 15.89244909, 14.91512268, 15.63925323,\n",
      "       15.10749451, 15.06827381, 15.70696467]), array([14.94260313, 15.481973  , 15.33728632, 15.17399208, 15.26279638,\n",
      "       15.15344854, 14.99436708, 15.77681756, 15.73220305, 15.54766821,\n",
      "       15.31330186, 14.91538018, 15.57598822, 15.5081456 , 16.01565913,\n",
      "       14.94576995, 15.68472869, 15.62379774, 14.89324341, 15.24380865,\n",
      "       15.44080058, 15.27911838, 15.18926507, 15.59155427, 14.99305311,\n",
      "       15.47306977, 15.2089017 , 15.68726559, 15.66254701, 15.45899562,\n",
      "       15.94823074, 15.83566298, 15.08941124, 15.96524266, 15.16537459,\n",
      "       15.14982583, 14.918813  , 15.30326782, 15.77833288, 15.35590295,\n",
      "       15.3037831 , 15.1267983 , 15.15287909, 14.87148811, 15.12145712,\n",
      "       15.28976553, 15.51960822, 15.34612549, 15.40121767, 15.50422438,\n",
      "       15.70503132, 15.06085264, 15.32538808, 15.0431625 , 15.02464845,\n",
      "       15.33922619, 15.79926644, 15.57082727, 15.71644397, 14.94374879,\n",
      "       15.28355421, 15.2114625 , 15.31012127, 15.2011805 , 14.85901802,\n",
      "       14.89890781, 15.19651891, 15.95182596, 14.93453035, 15.2362104 ,\n",
      "       15.0172802 , 15.42757365, 15.7698676 , 14.92174135, 15.8183739 ,\n",
      "       15.63472566, 15.19476282, 15.68666073, 14.86970709, 15.57782358,\n",
      "       15.44811737, 15.01632446, 16.04145177, 15.13109047, 15.76874921,\n",
      "       14.97942968, 15.09389176, 15.56274333]), array([15.04807111, 15.53827733, 15.18160247, 15.39035723, 16.03905255,\n",
      "       15.25059532, 14.73976986, 15.59890195, 15.72059886, 15.34590548,\n",
      "       15.10749451, 15.02745183, 15.4697308 , 15.6335875 , 16.40327467,\n",
      "       14.55744838, 15.81968975, 15.83838188, 14.55744838, 14.79120201,\n",
      "       15.70485051, 15.36094335, 15.22527752, 15.31513383, 15.06827381,\n",
      "       15.59890195, 15.05822348, 15.36094335, 15.54760866, 15.33063801,\n",
      "       15.76640839, 15.47373883, 15.21669378, 15.79097965, 15.10749451,\n",
      "       15.14523483, 15.03781461, 15.25059532, 15.71012756, 15.43291684,\n",
      "       15.29779691, 15.02745183, 15.31357011, 15.05822348, 15.1726338 ,\n",
      "       15.68885017, 15.24892726, 15.40474597, 14.61885698, 15.41186343,\n",
      "       15.90031283, 15.43152698, 15.98456437, 14.71159899, 15.25059532,\n",
      "       15.25059532, 15.33063801, 15.46704984, 15.65494862, 15.27853468,\n",
      "       15.06827381, 14.89392048, 15.24222707, 15.16358397, 14.89392048,\n",
      "       14.76716882, 15.26712462, 16.0082809 , 14.89392048, 15.14523483,\n",
      "       15.03781461, 15.32909836, 15.06827381, 15.04807111, 15.94374238,\n",
      "       15.50652864, 14.94271063, 15.40474597, 14.43339579, 15.10749451,\n",
      "       15.21669378, 15.32909836, 15.89244909, 14.91512268, 15.63925323,\n",
      "       15.10749451, 15.06827381, 15.70696467]), array([14.94260313, 15.481973  , 15.33728632, 15.17399208, 15.26279638,\n",
      "       15.15344854, 14.99436708, 15.77681756, 15.73220305, 15.54766821,\n",
      "       15.31330186, 14.91538018, 15.57598822, 15.5081456 , 16.01565913,\n",
      "       14.94576995, 15.68472869, 15.62379774, 14.89324341, 15.24380865,\n",
      "       15.44080058, 15.27911838, 15.18926507, 15.59155427, 14.99305311,\n",
      "       15.47306977, 15.2089017 , 15.68726559, 15.66254701, 15.45899562,\n",
      "       15.94823074, 15.83566298, 15.08941124, 15.96524266, 15.16537459,\n",
      "       15.14982583, 14.918813  , 15.30326782, 15.77833288, 15.35590295,\n",
      "       15.3037831 , 15.1267983 , 15.15287909, 14.87148811, 15.12145712,\n",
      "       15.28976553, 15.51960822, 15.34612549, 15.40121767, 15.50422438,\n",
      "       15.70503132, 15.06085264, 15.32538808, 15.0431625 , 15.02464845,\n",
      "       15.33922619, 15.79926644, 15.57082727, 15.71644397, 14.94374879,\n",
      "       15.28355421, 15.2114625 , 15.31012127, 15.2011805 , 14.85901802,\n",
      "       14.89890781, 15.19651891, 15.95182596, 14.93453035, 15.2362104 ,\n",
      "       15.0172802 , 15.42757365, 15.7698676 , 14.92174135, 15.8183739 ,\n",
      "       15.63472566, 15.19476282, 15.68666073, 14.86970709, 15.57782358,\n",
      "       15.44811737, 15.01632446, 16.04145177, 15.13109047, 15.76874921,\n",
      "       14.97942968, 15.09389176, 15.56274333]), array([15.04807111, 15.53827733, 15.18160247, 15.39035723, 16.03905255,\n",
      "       15.25059532, 14.73976986, 15.59890195, 15.72059886, 15.34590548,\n",
      "       15.10749451, 15.02745183, 15.4697308 , 15.6335875 , 16.40327467,\n",
      "       14.55744838, 15.81968975, 15.83838188, 14.55744838, 14.79120201,\n",
      "       15.70485051, 15.36094335, 15.22527752, 15.31513383, 15.06827381,\n",
      "       15.59890195, 15.05822348, 15.36094335, 15.54760866, 15.33063801,\n",
      "       15.76640839, 15.47373883, 15.21669378, 15.79097965, 15.10749451,\n",
      "       15.14523483, 15.03781461, 15.25059532, 15.71012756, 15.43291684,\n",
      "       15.29779691, 15.02745183, 15.31357011, 15.05822348, 15.1726338 ,\n",
      "       15.68885017, 15.24892726, 15.40474597, 14.61885698, 15.41186343,\n",
      "       15.90031283, 15.43152698, 15.98456437, 14.71159899, 15.25059532,\n",
      "       15.25059532, 15.33063801, 15.46704984, 15.65494862, 15.27853468,\n",
      "       15.06827381, 14.89392048, 15.24222707, 15.16358397, 14.89392048,\n",
      "       14.76716882, 15.26712462, 16.0082809 , 14.89392048, 15.14523483,\n",
      "       15.03781461, 15.32909836, 15.06827381, 15.04807111, 15.94374238,\n",
      "       15.50652864, 14.94271063, 15.40474597, 14.43339579, 15.10749451,\n",
      "       15.21669378, 15.32909836, 15.89244909, 14.91512268, 15.63925323,\n",
      "       15.10749451, 15.06827381, 15.70696467]), array([14.94260313, 15.481973  , 15.33728632, 15.17399208, 15.26279638,\n",
      "       15.15344854, 14.99436708, 15.77681756, 15.73220305, 15.54766821,\n",
      "       15.31330186, 14.91538018, 15.57598822, 15.5081456 , 16.01565913,\n",
      "       14.94576995, 15.68472869, 15.62379774, 14.89324341, 15.24380865,\n",
      "       15.44080058, 15.27911838, 15.18926507, 15.59155427, 14.99305311,\n",
      "       15.47306977, 15.2089017 , 15.68726559, 15.66254701, 15.45899562,\n",
      "       15.94823074, 15.83566298, 15.08941124, 15.96524266, 15.16537459,\n",
      "       15.14982583, 14.918813  , 15.30326782, 15.77833288, 15.35590295,\n",
      "       15.3037831 , 15.1267983 , 15.15287909, 14.87148811, 15.12145712,\n",
      "       15.28976553, 15.51960822, 15.34612549, 15.40121767, 15.50422438,\n",
      "       15.70503132, 15.06085264, 15.32538808, 15.0431625 , 15.02464845,\n",
      "       15.33922619, 15.79926644, 15.57082727, 15.71644397, 14.94374879,\n",
      "       15.28355421, 15.2114625 , 15.31012127, 15.2011805 , 14.85901802,\n",
      "       14.89890781, 15.19651891, 15.95182596, 14.93453035, 15.2362104 ,\n",
      "       15.0172802 , 15.42757365, 15.7698676 , 14.92174135, 15.8183739 ,\n",
      "       15.63472566, 15.19476282, 15.68666073, 14.86970709, 15.57782358,\n",
      "       15.44811737, 15.01632446, 16.04145177, 15.13109047, 15.76874921,\n",
      "       14.97942968, 15.09389176, 15.56274333]), array([15.04807111, 15.53827733, 15.18160247, 15.39035723, 16.03905255,\n",
      "       15.25059532, 14.73976986, 15.59890195, 15.72059886, 15.34590548,\n",
      "       15.10749451, 15.02745183, 15.4697308 , 15.6335875 , 16.40327467,\n",
      "       14.55744838, 15.81968975, 15.83838188, 14.55744838, 14.79120201,\n",
      "       15.70485051, 15.36094335, 15.22527752, 15.31513383, 15.06827381,\n",
      "       15.59890195, 15.05822348, 15.36094335, 15.54760866, 15.33063801,\n",
      "       15.76640839, 15.47373883, 15.21669378, 15.79097965, 15.10749451,\n",
      "       15.14523483, 15.03781461, 15.25059532, 15.71012756, 15.43291684,\n",
      "       15.29779691, 15.02745183, 15.31357011, 15.05822348, 15.1726338 ,\n",
      "       15.68885017, 15.24892726, 15.40474597, 14.61885698, 15.41186343,\n",
      "       15.90031283, 15.43152698, 15.98456437, 14.71159899, 15.25059532,\n",
      "       15.25059532, 15.33063801, 15.46704984, 15.65494862, 15.27853468,\n",
      "       15.06827381, 14.89392048, 15.24222707, 15.16358397, 14.89392048,\n",
      "       14.76716882, 15.26712462, 16.0082809 , 14.89392048, 15.14523483,\n",
      "       15.03781461, 15.32909836, 15.06827381, 15.04807111, 15.94374238,\n",
      "       15.50652864, 14.94271063, 15.40474597, 14.43339579, 15.10749451,\n",
      "       15.21669378, 15.32909836, 15.89244909, 14.91512268, 15.63925323,\n",
      "       15.10749451, 15.06827381, 15.70696467]), array([14.94260313, 15.481973  , 15.33728632, 15.17399208, 15.26279638,\n",
      "       15.15344854, 14.99436708, 15.77681756, 15.73220305, 15.54766821,\n",
      "       15.31330186, 14.91538018, 15.57598822, 15.5081456 , 16.01565913,\n",
      "       14.94576995, 15.68472869, 15.62379774, 14.89324341, 15.24380865,\n",
      "       15.44080058, 15.27911838, 15.18926507, 15.59155427, 14.99305311,\n",
      "       15.47306977, 15.2089017 , 15.68726559, 15.66254701, 15.45899562,\n",
      "       15.94823074, 15.83566298, 15.08941124, 15.96524266, 15.16537459,\n",
      "       15.14982583, 14.918813  , 15.30326782, 15.77833288, 15.35590295,\n",
      "       15.3037831 , 15.1267983 , 15.15287909, 14.87148811, 15.12145712,\n",
      "       15.28976553, 15.51960822, 15.34612549, 15.40121767, 15.50422438,\n",
      "       15.70503132, 15.06085264, 15.32538808, 15.0431625 , 15.02464845,\n",
      "       15.33922619, 15.79926644, 15.57082727, 15.71644397, 14.94374879,\n",
      "       15.28355421, 15.2114625 , 15.31012127, 15.2011805 , 14.85901802,\n",
      "       14.89890781, 15.19651891, 15.95182596, 14.93453035, 15.2362104 ,\n",
      "       15.0172802 , 15.42757365, 15.7698676 , 14.92174135, 15.8183739 ,\n",
      "       15.63472566, 15.19476282, 15.68666073, 14.86970709, 15.57782358,\n",
      "       15.44811737, 15.01632446, 16.04145177, 15.13109047, 15.76874921,\n",
      "       14.97942968, 15.09389176, 15.56274333]), array([15.04807111, 15.53827733, 15.18160247, 15.39035723, 16.03905255,\n",
      "       15.25059532, 14.73976986, 15.59890195, 15.72059886, 15.34590548,\n",
      "       15.10749451, 15.02745183, 15.4697308 , 15.6335875 , 16.40327467,\n",
      "       14.55744838, 15.81968975, 15.83838188, 14.55744838, 14.79120201,\n",
      "       15.70485051, 15.36094335, 15.22527752, 15.31513383, 15.06827381,\n",
      "       15.59890195, 15.05822348, 15.36094335, 15.54760866, 15.33063801,\n",
      "       15.76640839, 15.47373883, 15.21669378, 15.79097965, 15.10749451,\n",
      "       15.14523483, 15.03781461, 15.25059532, 15.71012756, 15.43291684,\n",
      "       15.29779691, 15.02745183, 15.31357011, 15.05822348, 15.1726338 ,\n",
      "       15.68885017, 15.24892726, 15.40474597, 14.61885698, 15.41186343,\n",
      "       15.90031283, 15.43152698, 15.98456437, 14.71159899, 15.25059532,\n",
      "       15.25059532, 15.33063801, 15.46704984, 15.65494862, 15.27853468,\n",
      "       15.06827381, 14.89392048, 15.24222707, 15.16358397, 14.89392048,\n",
      "       14.76716882, 15.26712462, 16.0082809 , 14.89392048, 15.14523483,\n",
      "       15.03781461, 15.32909836, 15.06827381, 15.04807111, 15.94374238,\n",
      "       15.50652864, 14.94271063, 15.40474597, 14.43339579, 15.10749451,\n",
      "       15.21669378, 15.32909836, 15.89244909, 14.91512268, 15.63925323,\n",
      "       15.10749451, 15.06827381, 15.70696467]), array([14.94260313, 15.481973  , 15.33728632, 15.17399208, 15.26279638,\n",
      "       15.15344854, 14.99436708, 15.77681756, 15.73220305, 15.54766821,\n",
      "       15.31330186, 14.91538018, 15.57598822, 15.5081456 , 16.01565913,\n",
      "       14.94576995, 15.68472869, 15.62379774, 14.89324341, 15.24380865,\n",
      "       15.44080058, 15.27911838, 15.18926507, 15.59155427, 14.99305311,\n",
      "       15.47306977, 15.2089017 , 15.68726559, 15.66254701, 15.45899562,\n",
      "       15.94823074, 15.83566298, 15.08941124, 15.96524266, 15.16537459,\n",
      "       15.14982583, 14.918813  , 15.30326782, 15.77833288, 15.35590295,\n",
      "       15.3037831 , 15.1267983 , 15.15287909, 14.87148811, 15.12145712,\n",
      "       15.28976553, 15.51960822, 15.34612549, 15.40121767, 15.50422438,\n",
      "       15.70503132, 15.06085264, 15.32538808, 15.0431625 , 15.02464845,\n",
      "       15.33922619, 15.79926644, 15.57082727, 15.71644397, 14.94374879,\n",
      "       15.28355421, 15.2114625 , 15.31012127, 15.2011805 , 14.85901802,\n",
      "       14.89890781, 15.19651891, 15.95182596, 14.93453035, 15.2362104 ,\n",
      "       15.0172802 , 15.42757365, 15.7698676 , 14.92174135, 15.8183739 ,\n",
      "       15.63472566, 15.19476282, 15.68666073, 14.86970709, 15.57782358,\n",
      "       15.44811737, 15.01632446, 16.04145177, 15.13109047, 15.76874921,\n",
      "       14.97942968, 15.09389176, 15.56274333]), array([15.04807111, 15.53827733, 15.18160247, 15.39035723, 16.03905255,\n",
      "       15.25059532, 14.73976986, 15.59890195, 15.72059886, 15.34590548,\n",
      "       15.10749451, 15.02745183, 15.4697308 , 15.6335875 , 16.40327467,\n",
      "       14.55744838, 15.81968975, 15.83838188, 14.55744838, 14.79120201,\n",
      "       15.70485051, 15.36094335, 15.22527752, 15.31513383, 15.06827381,\n",
      "       15.59890195, 15.05822348, 15.36094335, 15.54760866, 15.33063801,\n",
      "       15.76640839, 15.47373883, 15.21669378, 15.79097965, 15.10749451,\n",
      "       15.14523483, 15.03781461, 15.25059532, 15.71012756, 15.43291684,\n",
      "       15.29779691, 15.02745183, 15.31357011, 15.05822348, 15.1726338 ,\n",
      "       15.68885017, 15.24892726, 15.40474597, 14.61885698, 15.41186343,\n",
      "       15.90031283, 15.43152698, 15.98456437, 14.71159899, 15.25059532,\n",
      "       15.25059532, 15.33063801, 15.46704984, 15.65494862, 15.27853468,\n",
      "       15.06827381, 14.89392048, 15.24222707, 15.16358397, 14.89392048,\n",
      "       14.76716882, 15.26712462, 16.0082809 , 14.89392048, 15.14523483,\n",
      "       15.03781461, 15.32909836, 15.06827381, 15.04807111, 15.94374238,\n",
      "       15.50652864, 14.94271063, 15.40474597, 14.43339579, 15.10749451,\n",
      "       15.21669378, 15.32909836, 15.89244909, 14.91512268, 15.63925323,\n",
      "       15.10749451, 15.06827381, 15.70696467]), array([14.94260313, 15.481973  , 15.33728632, 15.17399208, 15.26279638,\n",
      "       15.15344854, 14.99436708, 15.77681756, 15.73220305, 15.54766821,\n",
      "       15.31330186, 14.91538018, 15.57598822, 15.5081456 , 16.01565913,\n",
      "       14.94576995, 15.68472869, 15.62379774, 14.89324341, 15.24380865,\n",
      "       15.44080058, 15.27911838, 15.18926507, 15.59155427, 14.99305311,\n",
      "       15.47306977, 15.2089017 , 15.68726559, 15.66254701, 15.45899562,\n",
      "       15.94823074, 15.83566298, 15.08941124, 15.96524266, 15.16537459,\n",
      "       15.14982583, 14.918813  , 15.30326782, 15.77833288, 15.35590295,\n",
      "       15.3037831 , 15.1267983 , 15.15287909, 14.87148811, 15.12145712,\n",
      "       15.28976553, 15.51960822, 15.34612549, 15.40121767, 15.50422438,\n",
      "       15.70503132, 15.06085264, 15.32538808, 15.0431625 , 15.02464845,\n",
      "       15.33922619, 15.79926644, 15.57082727, 15.71644397, 14.94374879,\n",
      "       15.28355421, 15.2114625 , 15.31012127, 15.2011805 , 14.85901802,\n",
      "       14.89890781, 15.19651891, 15.95182596, 14.93453035, 15.2362104 ,\n",
      "       15.0172802 , 15.42757365, 15.7698676 , 14.92174135, 15.8183739 ,\n",
      "       15.63472566, 15.19476282, 15.68666073, 14.86970709, 15.57782358,\n",
      "       15.44811737, 15.01632446, 16.04145177, 15.13109047, 15.76874921,\n",
      "       14.97942968, 15.09389176, 15.56274333]), array([15.04807111, 15.53827733, 15.18160247, 15.39035723, 16.03905255,\n",
      "       15.25059532, 14.73976986, 15.59890195, 15.72059886, 15.34590548,\n",
      "       15.10749451, 15.02745183, 15.4697308 , 15.6335875 , 16.40327467,\n",
      "       14.55744838, 15.81968975, 15.83838188, 14.55744838, 14.79120201,\n",
      "       15.70485051, 15.36094335, 15.22527752, 15.31513383, 15.06827381,\n",
      "       15.59890195, 15.05822348, 15.36094335, 15.54760866, 15.33063801,\n",
      "       15.76640839, 15.47373883, 15.21669378, 15.79097965, 15.10749451,\n",
      "       15.14523483, 15.03781461, 15.25059532, 15.71012756, 15.43291684,\n",
      "       15.29779691, 15.02745183, 15.31357011, 15.05822348, 15.1726338 ,\n",
      "       15.68885017, 15.24892726, 15.40474597, 14.61885698, 15.41186343,\n",
      "       15.90031283, 15.43152698, 15.98456437, 14.71159899, 15.25059532,\n",
      "       15.25059532, 15.33063801, 15.46704984, 15.65494862, 15.27853468,\n",
      "       15.06827381, 14.89392048, 15.24222707, 15.16358397, 14.89392048,\n",
      "       14.76716882, 15.26712462, 16.0082809 , 14.89392048, 15.14523483,\n",
      "       15.03781461, 15.32909836, 15.06827381, 15.04807111, 15.94374238,\n",
      "       15.50652864, 14.94271063, 15.40474597, 14.43339579, 15.10749451,\n",
      "       15.21669378, 15.32909836, 15.89244909, 14.91512268, 15.63925323,\n",
      "       15.10749451, 15.06827381, 15.70696467]), array([14.94260313, 15.481973  , 15.33728632, 15.17399208, 15.26279638,\n",
      "       15.15344854, 14.99436708, 15.77681756, 15.73220305, 15.54766821,\n",
      "       15.31330186, 14.91538018, 15.57598822, 15.5081456 , 16.01565913,\n",
      "       14.94576995, 15.68472869, 15.62379774, 14.89324341, 15.24380865,\n",
      "       15.44080058, 15.27911838, 15.18926507, 15.59155427, 14.99305311,\n",
      "       15.47306977, 15.2089017 , 15.68726559, 15.66254701, 15.45899562,\n",
      "       15.94823074, 15.83566298, 15.08941124, 15.96524266, 15.16537459,\n",
      "       15.14982583, 14.918813  , 15.30326782, 15.77833288, 15.35590295,\n",
      "       15.3037831 , 15.1267983 , 15.15287909, 14.87148811, 15.12145712,\n",
      "       15.28976553, 15.51960822, 15.34612549, 15.40121767, 15.50422438,\n",
      "       15.70503132, 15.06085264, 15.32538808, 15.0431625 , 15.02464845,\n",
      "       15.33922619, 15.79926644, 15.57082727, 15.71644397, 14.94374879,\n",
      "       15.28355421, 15.2114625 , 15.31012127, 15.2011805 , 14.85901802,\n",
      "       14.89890781, 15.19651891, 15.95182596, 14.93453035, 15.2362104 ,\n",
      "       15.0172802 , 15.42757365, 15.7698676 , 14.92174135, 15.8183739 ,\n",
      "       15.63472566, 15.19476282, 15.68666073, 14.86970709, 15.57782358,\n",
      "       15.44811737, 15.01632446, 16.04145177, 15.13109047, 15.76874921,\n",
      "       14.97942968, 15.09389176, 15.56274333]), array([15.04807111, 15.53827733, 15.18160247, 15.39035723, 16.03905255,\n",
      "       15.25059532, 14.73976986, 15.59890195, 15.72059886, 15.34590548,\n",
      "       15.10749451, 15.02745183, 15.4697308 , 15.6335875 , 16.40327467,\n",
      "       14.55744838, 15.81968975, 15.83838188, 14.55744838, 14.79120201,\n",
      "       15.70485051, 15.36094335, 15.22527752, 15.31513383, 15.06827381,\n",
      "       15.59890195, 15.05822348, 15.36094335, 15.54760866, 15.33063801,\n",
      "       15.76640839, 15.47373883, 15.21669378, 15.79097965, 15.10749451,\n",
      "       15.14523483, 15.03781461, 15.25059532, 15.71012756, 15.43291684,\n",
      "       15.29779691, 15.02745183, 15.31357011, 15.05822348, 15.1726338 ,\n",
      "       15.68885017, 15.24892726, 15.40474597, 14.61885698, 15.41186343,\n",
      "       15.90031283, 15.43152698, 15.98456437, 14.71159899, 15.25059532,\n",
      "       15.25059532, 15.33063801, 15.46704984, 15.65494862, 15.27853468,\n",
      "       15.06827381, 14.89392048, 15.24222707, 15.16358397, 14.89392048,\n",
      "       14.76716882, 15.26712462, 16.0082809 , 14.89392048, 15.14523483,\n",
      "       15.03781461, 15.32909836, 15.06827381, 15.04807111, 15.94374238,\n",
      "       15.50652864, 14.94271063, 15.40474597, 14.43339579, 15.10749451,\n",
      "       15.21669378, 15.32909836, 15.89244909, 14.91512268, 15.63925323,\n",
      "       15.10749451, 15.06827381, 15.70696467]), array([14.94260313, 15.481973  , 15.33728632, 15.17399208, 15.26279638,\n",
      "       15.15344854, 14.99436708, 15.77681756, 15.73220305, 15.54766821,\n",
      "       15.31330186, 14.91538018, 15.57598822, 15.5081456 , 16.01565913,\n",
      "       14.94576995, 15.68472869, 15.62379774, 14.89324341, 15.24380865,\n",
      "       15.44080058, 15.27911838, 15.18926507, 15.59155427, 14.99305311,\n",
      "       15.47306977, 15.2089017 , 15.68726559, 15.66254701, 15.45899562,\n",
      "       15.94823074, 15.83566298, 15.08941124, 15.96524266, 15.16537459,\n",
      "       15.14982583, 14.918813  , 15.30326782, 15.77833288, 15.35590295,\n",
      "       15.3037831 , 15.1267983 , 15.15287909, 14.87148811, 15.12145712,\n",
      "       15.28976553, 15.51960822, 15.34612549, 15.40121767, 15.50422438,\n",
      "       15.70503132, 15.06085264, 15.32538808, 15.0431625 , 15.02464845,\n",
      "       15.33922619, 15.79926644, 15.57082727, 15.71644397, 14.94374879,\n",
      "       15.28355421, 15.2114625 , 15.31012127, 15.2011805 , 14.85901802,\n",
      "       14.89890781, 15.19651891, 15.95182596, 14.93453035, 15.2362104 ,\n",
      "       15.0172802 , 15.42757365, 15.7698676 , 14.92174135, 15.8183739 ,\n",
      "       15.63472566, 15.19476282, 15.68666073, 14.86970709, 15.57782358,\n",
      "       15.44811737, 15.01632446, 16.04145177, 15.13109047, 15.76874921,\n",
      "       14.97942968, 15.09389176, 15.56274333]), array([15.04807111, 15.53827733, 15.18160247, 15.39035723, 16.03905255,\n",
      "       15.25059532, 14.73976986, 15.59890195, 15.72059886, 15.34590548,\n",
      "       15.10749451, 15.02745183, 15.4697308 , 15.6335875 , 16.40327467,\n",
      "       14.55744838, 15.81968975, 15.83838188, 14.55744838, 14.79120201,\n",
      "       15.70485051, 15.36094335, 15.22527752, 15.31513383, 15.06827381,\n",
      "       15.59890195, 15.05822348, 15.36094335, 15.54760866, 15.33063801,\n",
      "       15.76640839, 15.47373883, 15.21669378, 15.79097965, 15.10749451,\n",
      "       15.14523483, 15.03781461, 15.25059532, 15.71012756, 15.43291684,\n",
      "       15.29779691, 15.02745183, 15.31357011, 15.05822348, 15.1726338 ,\n",
      "       15.68885017, 15.24892726, 15.40474597, 14.61885698, 15.41186343,\n",
      "       15.90031283, 15.43152698, 15.98456437, 14.71159899, 15.25059532,\n",
      "       15.25059532, 15.33063801, 15.46704984, 15.65494862, 15.27853468,\n",
      "       15.06827381, 14.89392048, 15.24222707, 15.16358397, 14.89392048,\n",
      "       14.76716882, 15.26712462, 16.0082809 , 14.89392048, 15.14523483,\n",
      "       15.03781461, 15.32909836, 15.06827381, 15.04807111, 15.94374238,\n",
      "       15.50652864, 14.94271063, 15.40474597, 14.43339579, 15.10749451,\n",
      "       15.21669378, 15.32909836, 15.89244909, 14.91512268, 15.63925323,\n",
      "       15.10749451, 15.06827381, 15.70696467]), array([14.94260313, 15.481973  , 15.33728632, 15.17399208, 15.26279638,\n",
      "       15.15344854, 14.99436708, 15.77681756, 15.73220305, 15.54766821,\n",
      "       15.31330186, 14.91538018, 15.57598822, 15.5081456 , 16.01565913,\n",
      "       14.94576995, 15.68472869, 15.62379774, 14.89324341, 15.24380865,\n",
      "       15.44080058, 15.27911838, 15.18926507, 15.59155427, 14.99305311,\n",
      "       15.47306977, 15.2089017 , 15.68726559, 15.66254701, 15.45899562,\n",
      "       15.94823074, 15.83566298, 15.08941124, 15.96524266, 15.16537459,\n",
      "       15.14982583, 14.918813  , 15.30326782, 15.77833288, 15.35590295,\n",
      "       15.3037831 , 15.1267983 , 15.15287909, 14.87148811, 15.12145712,\n",
      "       15.28976553, 15.51960822, 15.34612549, 15.40121767, 15.50422438,\n",
      "       15.70503132, 15.06085264, 15.32538808, 15.0431625 , 15.02464845,\n",
      "       15.33922619, 15.79926644, 15.57082727, 15.71644397, 14.94374879,\n",
      "       15.28355421, 15.2114625 , 15.31012127, 15.2011805 , 14.85901802,\n",
      "       14.89890781, 15.19651891, 15.95182596, 14.93453035, 15.2362104 ,\n",
      "       15.0172802 , 15.42757365, 15.7698676 , 14.92174135, 15.8183739 ,\n",
      "       15.63472566, 15.19476282, 15.68666073, 14.86970709, 15.57782358,\n",
      "       15.44811737, 15.01632446, 16.04145177, 15.13109047, 15.76874921,\n",
      "       14.97942968, 15.09389176, 15.56274333]), array([15.04807111, 15.53827733, 15.18160247, 15.39035723, 16.03905255,\n",
      "       15.25059532, 14.73976986, 15.59890195, 15.72059886, 15.34590548,\n",
      "       15.10749451, 15.02745183, 15.4697308 , 15.6335875 , 16.40327467,\n",
      "       14.55744838, 15.81968975, 15.83838188, 14.55744838, 14.79120201,\n",
      "       15.70485051, 15.36094335, 15.22527752, 15.31513383, 15.06827381,\n",
      "       15.59890195, 15.05822348, 15.36094335, 15.54760866, 15.33063801,\n",
      "       15.76640839, 15.47373883, 15.21669378, 15.79097965, 15.10749451,\n",
      "       15.14523483, 15.03781461, 15.25059532, 15.71012756, 15.43291684,\n",
      "       15.29779691, 15.02745183, 15.31357011, 15.05822348, 15.1726338 ,\n",
      "       15.68885017, 15.24892726, 15.40474597, 14.61885698, 15.41186343,\n",
      "       15.90031283, 15.43152698, 15.98456437, 14.71159899, 15.25059532,\n",
      "       15.25059532, 15.33063801, 15.46704984, 15.65494862, 15.27853468,\n",
      "       15.06827381, 14.89392048, 15.24222707, 15.16358397, 14.89392048,\n",
      "       14.76716882, 15.26712462, 16.0082809 , 14.89392048, 15.14523483,\n",
      "       15.03781461, 15.32909836, 15.06827381, 15.04807111, 15.94374238,\n",
      "       15.50652864, 14.94271063, 15.40474597, 14.43339579, 15.10749451,\n",
      "       15.21669378, 15.32909836, 15.89244909, 14.91512268, 15.63925323,\n",
      "       15.10749451, 15.06827381, 15.70696467]), array([14.94260313, 15.481973  , 15.33728632, 15.17399208, 15.26279638,\n",
      "       15.15344854, 14.99436708, 15.77681756, 15.73220305, 15.54766821,\n",
      "       15.31330186, 14.91538018, 15.57598822, 15.5081456 , 16.01565913,\n",
      "       14.94576995, 15.68472869, 15.62379774, 14.89324341, 15.24380865,\n",
      "       15.44080058, 15.27911838, 15.18926507, 15.59155427, 14.99305311,\n",
      "       15.47306977, 15.2089017 , 15.68726559, 15.66254701, 15.45899562,\n",
      "       15.94823074, 15.83566298, 15.08941124, 15.96524266, 15.16537459,\n",
      "       15.14982583, 14.918813  , 15.30326782, 15.77833288, 15.35590295,\n",
      "       15.3037831 , 15.1267983 , 15.15287909, 14.87148811, 15.12145712,\n",
      "       15.28976553, 15.51960822, 15.34612549, 15.40121767, 15.50422438,\n",
      "       15.70503132, 15.06085264, 15.32538808, 15.0431625 , 15.02464845,\n",
      "       15.33922619, 15.79926644, 15.57082727, 15.71644397, 14.94374879,\n",
      "       15.28355421, 15.2114625 , 15.31012127, 15.2011805 , 14.85901802,\n",
      "       14.89890781, 15.19651891, 15.95182596, 14.93453035, 15.2362104 ,\n",
      "       15.0172802 , 15.42757365, 15.7698676 , 14.92174135, 15.8183739 ,\n",
      "       15.63472566, 15.19476282, 15.68666073, 14.86970709, 15.57782358,\n",
      "       15.44811737, 15.01632446, 16.04145177, 15.13109047, 15.76874921,\n",
      "       14.97942968, 15.09389176, 15.56274333]), array([15.04807111, 15.53827733, 15.18160247, 15.39035723, 16.03905255,\n",
      "       15.25059532, 14.73976986, 15.59890195, 15.72059886, 15.34590548,\n",
      "       15.10749451, 15.02745183, 15.4697308 , 15.6335875 , 16.40327467,\n",
      "       14.55744838, 15.81968975, 15.83838188, 14.55744838, 14.79120201,\n",
      "       15.70485051, 15.36094335, 15.22527752, 15.31513383, 15.06827381,\n",
      "       15.59890195, 15.05822348, 15.36094335, 15.54760866, 15.33063801,\n",
      "       15.76640839, 15.47373883, 15.21669378, 15.79097965, 15.10749451,\n",
      "       15.14523483, 15.03781461, 15.25059532, 15.71012756, 15.43291684,\n",
      "       15.29779691, 15.02745183, 15.31357011, 15.05822348, 15.1726338 ,\n",
      "       15.68885017, 15.24892726, 15.40474597, 14.61885698, 15.41186343,\n",
      "       15.90031283, 15.43152698, 15.98456437, 14.71159899, 15.25059532,\n",
      "       15.25059532, 15.33063801, 15.46704984, 15.65494862, 15.27853468,\n",
      "       15.06827381, 14.89392048, 15.24222707, 15.16358397, 14.89392048,\n",
      "       14.76716882, 15.26712462, 16.0082809 , 14.89392048, 15.14523483,\n",
      "       15.03781461, 15.32909836, 15.06827381, 15.04807111, 15.94374238,\n",
      "       15.50652864, 14.94271063, 15.40474597, 14.43339579, 15.10749451,\n",
      "       15.21669378, 15.32909836, 15.89244909, 14.91512268, 15.63925323,\n",
      "       15.10749451, 15.06827381, 15.70696467]), array([14.94260313, 15.481973  , 15.33728632, 15.17399208, 15.26279638,\n",
      "       15.15344854, 14.99436708, 15.77681756, 15.73220305, 15.54766821,\n",
      "       15.31330186, 14.91538018, 15.57598822, 15.5081456 , 16.01565913,\n",
      "       14.94576995, 15.68472869, 15.62379774, 14.89324341, 15.24380865,\n",
      "       15.44080058, 15.27911838, 15.18926507, 15.59155427, 14.99305311,\n",
      "       15.47306977, 15.2089017 , 15.68726559, 15.66254701, 15.45899562,\n",
      "       15.94823074, 15.83566298, 15.08941124, 15.96524266, 15.16537459,\n",
      "       15.14982583, 14.918813  , 15.30326782, 15.77833288, 15.35590295,\n",
      "       15.3037831 , 15.1267983 , 15.15287909, 14.87148811, 15.12145712,\n",
      "       15.28976553, 15.51960822, 15.34612549, 15.40121767, 15.50422438,\n",
      "       15.70503132, 15.06085264, 15.32538808, 15.0431625 , 15.02464845,\n",
      "       15.33922619, 15.79926644, 15.57082727, 15.71644397, 14.94374879,\n",
      "       15.28355421, 15.2114625 , 15.31012127, 15.2011805 , 14.85901802,\n",
      "       14.89890781, 15.19651891, 15.95182596, 14.93453035, 15.2362104 ,\n",
      "       15.0172802 , 15.42757365, 15.7698676 , 14.92174135, 15.8183739 ,\n",
      "       15.63472566, 15.19476282, 15.68666073, 14.86970709, 15.57782358,\n",
      "       15.44811737, 15.01632446, 16.04145177, 15.13109047, 15.76874921,\n",
      "       14.97942968, 15.09389176, 15.56274333]), array([15.04807111, 15.53827733, 15.18160247, 15.39035723, 16.03905255,\n",
      "       15.25059532, 14.73976986, 15.59890195, 15.72059886, 15.34590548,\n",
      "       15.10749451, 15.02745183, 15.4697308 , 15.6335875 , 16.40327467,\n",
      "       14.55744838, 15.81968975, 15.83838188, 14.55744838, 14.79120201,\n",
      "       15.70485051, 15.36094335, 15.22527752, 15.31513383, 15.06827381,\n",
      "       15.59890195, 15.05822348, 15.36094335, 15.54760866, 15.33063801,\n",
      "       15.76640839, 15.47373883, 15.21669378, 15.79097965, 15.10749451,\n",
      "       15.14523483, 15.03781461, 15.25059532, 15.71012756, 15.43291684,\n",
      "       15.29779691, 15.02745183, 15.31357011, 15.05822348, 15.1726338 ,\n",
      "       15.68885017, 15.24892726, 15.40474597, 14.61885698, 15.41186343,\n",
      "       15.90031283, 15.43152698, 15.98456437, 14.71159899, 15.25059532,\n",
      "       15.25059532, 15.33063801, 15.46704984, 15.65494862, 15.27853468,\n",
      "       15.06827381, 14.89392048, 15.24222707, 15.16358397, 14.89392048,\n",
      "       14.76716882, 15.26712462, 16.0082809 , 14.89392048, 15.14523483,\n",
      "       15.03781461, 15.32909836, 15.06827381, 15.04807111, 15.94374238,\n",
      "       15.50652864, 14.94271063, 15.40474597, 14.43339579, 15.10749451,\n",
      "       15.21669378, 15.32909836, 15.89244909, 14.91512268, 15.63925323,\n",
      "       15.10749451, 15.06827381, 15.70696467]), array([14.94260313, 15.481973  , 15.33728632, 15.17399208, 15.26279638,\n",
      "       15.15344854, 14.99436708, 15.77681756, 15.73220305, 15.54766821,\n",
      "       15.31330186, 14.91538018, 15.57598822, 15.5081456 , 16.01565913,\n",
      "       14.94576995, 15.68472869, 15.62379774, 14.89324341, 15.24380865,\n",
      "       15.44080058, 15.27911838, 15.18926507, 15.59155427, 14.99305311,\n",
      "       15.47306977, 15.2089017 , 15.68726559, 15.66254701, 15.45899562,\n",
      "       15.94823074, 15.83566298, 15.08941124, 15.96524266, 15.16537459,\n",
      "       15.14982583, 14.918813  , 15.30326782, 15.77833288, 15.35590295,\n",
      "       15.3037831 , 15.1267983 , 15.15287909, 14.87148811, 15.12145712,\n",
      "       15.28976553, 15.51960822, 15.34612549, 15.40121767, 15.50422438,\n",
      "       15.70503132, 15.06085264, 15.32538808, 15.0431625 , 15.02464845,\n",
      "       15.33922619, 15.79926644, 15.57082727, 15.71644397, 14.94374879,\n",
      "       15.28355421, 15.2114625 , 15.31012127, 15.2011805 , 14.85901802,\n",
      "       14.89890781, 15.19651891, 15.95182596, 14.93453035, 15.2362104 ,\n",
      "       15.0172802 , 15.42757365, 15.7698676 , 14.92174135, 15.8183739 ,\n",
      "       15.63472566, 15.19476282, 15.68666073, 14.86970709, 15.57782358,\n",
      "       15.44811737, 15.01632446, 16.04145177, 15.13109047, 15.76874921,\n",
      "       14.97942968, 15.09389176, 15.56274333]), array([15.04807111, 15.53827733, 15.18160247, 15.39035723, 16.03905255,\n",
      "       15.25059532, 14.73976986, 15.59890195, 15.72059886, 15.34590548,\n",
      "       15.10749451, 15.02745183, 15.4697308 , 15.6335875 , 16.40327467,\n",
      "       14.55744838, 15.81968975, 15.83838188, 14.55744838, 14.79120201,\n",
      "       15.70485051, 15.36094335, 15.22527752, 15.31513383, 15.06827381,\n",
      "       15.59890195, 15.05822348, 15.36094335, 15.54760866, 15.33063801,\n",
      "       15.76640839, 15.47373883, 15.21669378, 15.79097965, 15.10749451,\n",
      "       15.14523483, 15.03781461, 15.25059532, 15.71012756, 15.43291684,\n",
      "       15.29779691, 15.02745183, 15.31357011, 15.05822348, 15.1726338 ,\n",
      "       15.68885017, 15.24892726, 15.40474597, 14.61885698, 15.41186343,\n",
      "       15.90031283, 15.43152698, 15.98456437, 14.71159899, 15.25059532,\n",
      "       15.25059532, 15.33063801, 15.46704984, 15.65494862, 15.27853468,\n",
      "       15.06827381, 14.89392048, 15.24222707, 15.16358397, 14.89392048,\n",
      "       14.76716882, 15.26712462, 16.0082809 , 14.89392048, 15.14523483,\n",
      "       15.03781461, 15.32909836, 15.06827381, 15.04807111, 15.94374238,\n",
      "       15.50652864, 14.94271063, 15.40474597, 14.43339579, 15.10749451,\n",
      "       15.21669378, 15.32909836, 15.89244909, 14.91512268, 15.63925323,\n",
      "       15.10749451, 15.06827381, 15.70696467]), array([14.94260313, 15.481973  , 15.33728632, 15.17399208, 15.26279638,\n",
      "       15.15344854, 14.99436708, 15.77681756, 15.73220305, 15.54766821,\n",
      "       15.31330186, 14.91538018, 15.57598822, 15.5081456 , 16.01565913,\n",
      "       14.94576995, 15.68472869, 15.62379774, 14.89324341, 15.24380865,\n",
      "       15.44080058, 15.27911838, 15.18926507, 15.59155427, 14.99305311,\n",
      "       15.47306977, 15.2089017 , 15.68726559, 15.66254701, 15.45899562,\n",
      "       15.94823074, 15.83566298, 15.08941124, 15.96524266, 15.16537459,\n",
      "       15.14982583, 14.918813  , 15.30326782, 15.77833288, 15.35590295,\n",
      "       15.3037831 , 15.1267983 , 15.15287909, 14.87148811, 15.12145712,\n",
      "       15.28976553, 15.51960822, 15.34612549, 15.40121767, 15.50422438,\n",
      "       15.70503132, 15.06085264, 15.32538808, 15.0431625 , 15.02464845,\n",
      "       15.33922619, 15.79926644, 15.57082727, 15.71644397, 14.94374879,\n",
      "       15.28355421, 15.2114625 , 15.31012127, 15.2011805 , 14.85901802,\n",
      "       14.89890781, 15.19651891, 15.95182596, 14.93453035, 15.2362104 ,\n",
      "       15.0172802 , 15.42757365, 15.7698676 , 14.92174135, 15.8183739 ,\n",
      "       15.63472566, 15.19476282, 15.68666073, 14.86970709, 15.57782358,\n",
      "       15.44811737, 15.01632446, 16.04145177, 15.13109047, 15.76874921,\n",
      "       14.97942968, 15.09389176, 15.56274333]))\n"
     ]
    }
   ],
   "source": [
    "print(f'Mean Accuracy for the Model: {rsquared_acc *100}')"
   ]
  },
  {
   "cell_type": "code",
   "execution_count": 181,
   "id": "cbbdb534",
   "metadata": {},
   "outputs": [
    {
     "name": "stdout",
     "output_type": "stream",
     "text": [
      "62.05031875279558\n"
     ]
    }
   ],
   "source": [
    "y_train_pred = model.predict(X_train_bl)\n",
    "\n",
    "r2 = r2_score(y_train, y_train_pred) \n",
    "\n",
    "print(f'{r2*100}')"
   ]
  },
  {
   "cell_type": "code",
   "execution_count": 176,
   "id": "3154117f",
   "metadata": {},
   "outputs": [
    {
     "data": {
      "text/plain": [
       "Index(['area', 'bedrooms', 'bathrooms', 'stories', 'mainroad', 'guestroom',\n",
       "       'basement', 'hotwaterheating', 'airconditioning', 'parking', 'prefarea',\n",
       "       'furnishingstatus', 'price_log'],\n",
       "      dtype='object')"
      ]
     },
     "execution_count": 176,
     "metadata": {},
     "output_type": "execute_result"
    }
   ],
   "source": [
    "df_train.columns"
   ]
  },
  {
   "cell_type": "code",
   "execution_count": 177,
   "id": "04d270b7",
   "metadata": {},
   "outputs": [],
   "source": [
    "Most_correlated_features=['area','bedrooms','stories','airconditioning','parking','prefarea','furnishingstatus']\n",
    "other_features=['bathrooms','mainroad','guestroom','basement','hotwaterheating']\n",
    "\n",
    "df_train_fe = df_train[other_features + Most_correlated_features]\n",
    "\n",
    "## convert our dfframe to a list of dict\n",
    "train_dict_fe = df_train_fe.to_dict(orient='records')"
   ]
  },
  {
   "cell_type": "code",
   "execution_count": 183,
   "id": "c782cbc9",
   "metadata": {},
   "outputs": [
    {
     "data": {
      "text/html": [
       "<style>#sk-container-id-2 {color: black;}#sk-container-id-2 pre{padding: 0;}#sk-container-id-2 div.sk-toggleable {background-color: white;}#sk-container-id-2 label.sk-toggleable__label {cursor: pointer;display: block;width: 100%;margin-bottom: 0;padding: 0.3em;box-sizing: border-box;text-align: center;}#sk-container-id-2 label.sk-toggleable__label-arrow:before {content: \"▸\";float: left;margin-right: 0.25em;color: #696969;}#sk-container-id-2 label.sk-toggleable__label-arrow:hover:before {color: black;}#sk-container-id-2 div.sk-estimator:hover label.sk-toggleable__label-arrow:before {color: black;}#sk-container-id-2 div.sk-toggleable__content {max-height: 0;max-width: 0;overflow: hidden;text-align: left;background-color: #f0f8ff;}#sk-container-id-2 div.sk-toggleable__content pre {margin: 0.2em;color: black;border-radius: 0.25em;background-color: #f0f8ff;}#sk-container-id-2 input.sk-toggleable__control:checked~div.sk-toggleable__content {max-height: 200px;max-width: 100%;overflow: auto;}#sk-container-id-2 input.sk-toggleable__control:checked~label.sk-toggleable__label-arrow:before {content: \"▾\";}#sk-container-id-2 div.sk-estimator input.sk-toggleable__control:checked~label.sk-toggleable__label {background-color: #d4ebff;}#sk-container-id-2 div.sk-label input.sk-toggleable__control:checked~label.sk-toggleable__label {background-color: #d4ebff;}#sk-container-id-2 input.sk-hidden--visually {border: 0;clip: rect(1px 1px 1px 1px);clip: rect(1px, 1px, 1px, 1px);height: 1px;margin: -1px;overflow: hidden;padding: 0;position: absolute;width: 1px;}#sk-container-id-2 div.sk-estimator {font-family: monospace;background-color: #f0f8ff;border: 1px dotted black;border-radius: 0.25em;box-sizing: border-box;margin-bottom: 0.5em;}#sk-container-id-2 div.sk-estimator:hover {background-color: #d4ebff;}#sk-container-id-2 div.sk-parallel-item::after {content: \"\";width: 100%;border-bottom: 1px solid gray;flex-grow: 1;}#sk-container-id-2 div.sk-label:hover label.sk-toggleable__label {background-color: #d4ebff;}#sk-container-id-2 div.sk-serial::before {content: \"\";position: absolute;border-left: 1px solid gray;box-sizing: border-box;top: 0;bottom: 0;left: 50%;z-index: 0;}#sk-container-id-2 div.sk-serial {display: flex;flex-direction: column;align-items: center;background-color: white;padding-right: 0.2em;padding-left: 0.2em;position: relative;}#sk-container-id-2 div.sk-item {position: relative;z-index: 1;}#sk-container-id-2 div.sk-parallel {display: flex;align-items: stretch;justify-content: center;background-color: white;position: relative;}#sk-container-id-2 div.sk-item::before, #sk-container-id-2 div.sk-parallel-item::before {content: \"\";position: absolute;border-left: 1px solid gray;box-sizing: border-box;top: 0;bottom: 0;left: 50%;z-index: -1;}#sk-container-id-2 div.sk-parallel-item {display: flex;flex-direction: column;z-index: 1;position: relative;background-color: white;}#sk-container-id-2 div.sk-parallel-item:first-child::after {align-self: flex-end;width: 50%;}#sk-container-id-2 div.sk-parallel-item:last-child::after {align-self: flex-start;width: 50%;}#sk-container-id-2 div.sk-parallel-item:only-child::after {width: 0;}#sk-container-id-2 div.sk-dashed-wrapped {border: 1px dashed gray;margin: 0 0.4em 0.5em 0.4em;box-sizing: border-box;padding-bottom: 0.4em;background-color: white;}#sk-container-id-2 div.sk-label label {font-family: monospace;font-weight: bold;display: inline-block;line-height: 1.2em;}#sk-container-id-2 div.sk-label-container {text-align: center;}#sk-container-id-2 div.sk-container {/* jupyter's `normalize.less` sets `[hidden] { display: none; }` but bootstrap.min.css set `[hidden] { display: none !important; }` so we also need the `!important` here to be able to override the default hidden behavior on the sphinx rendered scikit-learn.org. See: https://github.com/scikit-learn/scikit-learn/issues/21755 */display: inline-block !important;position: relative;}#sk-container-id-2 div.sk-text-repr-fallback {display: none;}</style><div id=\"sk-container-id-2\" class=\"sk-top-container\"><div class=\"sk-text-repr-fallback\"><pre>DictVectorizer()</pre><b>In a Jupyter environment, please rerun this cell to show the HTML representation or trust the notebook. <br />On GitHub, the HTML representation is unable to render, please try loading this page with nbviewer.org.</b></div><div class=\"sk-container\" hidden><div class=\"sk-item\"><div class=\"sk-estimator sk-toggleable\"><input class=\"sk-toggleable__control sk-hidden--visually\" id=\"sk-estimator-id-2\" type=\"checkbox\" checked><label for=\"sk-estimator-id-2\" class=\"sk-toggleable__label sk-toggleable__label-arrow\">DictVectorizer</label><div class=\"sk-toggleable__content\"><pre>DictVectorizer()</pre></div></div></div></div></div>"
      ],
      "text/plain": [
       "DictVectorizer()"
      ]
     },
     "execution_count": 183,
     "metadata": {},
     "output_type": "execute_result"
    }
   ],
   "source": [
    "## create an instance of the dict vectorizer \n",
    "dv = DictVectorizer()\n",
    "\n",
    "dv.fit(train_dict_fe)"
   ]
  },
  {
   "cell_type": "code",
   "execution_count": 136,
   "id": "32a0e321",
   "metadata": {},
   "outputs": [],
   "source": [
    "# Starting with modeling\n",
    "X = data.drop('price_log' , axis = 1 )\n",
    "y = data['price']\n",
    "\n",
    "\n",
    "X_train ,X_test , y_train , y_test = \\\n",
    "train_test_split(X , y , test_size = 0.2 , random_state =110)"
   ]
  },
  {
   "cell_type": "code",
   "execution_count": 137,
   "id": "6aacabf4",
   "metadata": {},
   "outputs": [
    {
     "data": {
      "text/plain": [
       "3.669724770642202"
      ]
     },
     "execution_count": 137,
     "metadata": {},
     "output_type": "execute_result"
    }
   ],
   "source": [
    "#logistic regression\n",
    "logistic_model = LogisticRegression()\n",
    "logistic_model.fit(X_train , y_train)\n",
    "\n",
    "logistic_pred = logistic_model.predict(X_test)\n",
    "logistic_accuracy = accuracy_score(y_test , logistic_pred)*100\n",
    "logistic_accuracy"
   ]
  },
  {
   "cell_type": "code",
   "execution_count": 138,
   "id": "c994dbfa",
   "metadata": {},
   "outputs": [
    {
     "data": {
      "text/plain": [
       "17.431192660550458"
      ]
     },
     "execution_count": 138,
     "metadata": {},
     "output_type": "execute_result"
    }
   ],
   "source": [
    "#random forest\n",
    "random_forest_model = RandomForestClassifier(n_estimators= 120)\n",
    "random_forest_model.fit(X_train, y_train)\n",
    "random_forest_pred = random_forest_model.predict(X_test)\n",
    "random_forest_accuracy = accuracy_score(y_test , random_forest_pred )*100\n",
    "random_forest_accuracy"
   ]
  },
  {
   "cell_type": "code",
   "execution_count": 139,
   "id": "899cff5b",
   "metadata": {},
   "outputs": [
    {
     "data": {
      "text/plain": [
       "64.22018348623854"
      ]
     },
     "execution_count": 139,
     "metadata": {},
     "output_type": "execute_result"
    }
   ],
   "source": [
    "#K- Nearest Neighbors\n",
    "knn_model = KNeighborsClassifier(n_neighbors = 3)\n",
    "knn_model.fit(X_train, y_train)\n",
    "knn_pred = knn_model.predict(X_test)\n",
    "knn_accuracy = accuracy_score(y_test , knn_pred)*100\n",
    "knn_accuracy"
   ]
  },
  {
   "cell_type": "code",
   "execution_count": 140,
   "id": "df36b9a5",
   "metadata": {},
   "outputs": [
    {
     "data": {
      "text/plain": [
       "80.73394495412845"
      ]
     },
     "execution_count": 140,
     "metadata": {},
     "output_type": "execute_result"
    }
   ],
   "source": [
    "#Naive Bayes\n",
    "naive_bayes_gaussian = GaussianNB()\n",
    "naive_bayes_gaussian.fit(X_train, y_train)\n",
    "nbg_pred = naive_bayes_gaussian.predict(X_test)\n",
    "nbg_accuracy = accuracy_score(y_test , nbg_pred)*100\n",
    "nbg_accuracy"
   ]
  },
  {
   "cell_type": "code",
   "execution_count": 141,
   "id": "5701f39b",
   "metadata": {},
   "outputs": [
    {
     "data": {
      "text/plain": [
       "7.339449541284404"
      ]
     },
     "execution_count": 141,
     "metadata": {},
     "output_type": "execute_result"
    }
   ],
   "source": [
    "#support vector machine\n",
    "svc_model = SVC()\n",
    "svc_model.fit(X_train, y_train)\n",
    "svm_pred = svc_model.predict(X_test)\n",
    "svm_accuracy = accuracy_score(y_test , svm_pred)*100\n",
    "svm_accuracy"
   ]
  },
  {
   "cell_type": "code",
   "execution_count": 142,
   "id": "7e2daaa7",
   "metadata": {},
   "outputs": [
    {
     "data": {
      "text/plain": [
       "51.37614678899083"
      ]
     },
     "execution_count": 142,
     "metadata": {},
     "output_type": "execute_result"
    }
   ],
   "source": [
    "#Gradient Boosting Classifier\n",
    "gbc_model = GradientBoostingClassifier()\n",
    "gbc_model.fit(X_train, y_train)\n",
    "gbc_pred = gbc_model.predict(X_test)\n",
    "gbc_accuracy = accuracy_score(y_test , gbc_pred)*100\n",
    "gbc_accuracy "
   ]
  },
  {
   "cell_type": "code",
   "execution_count": 143,
   "id": "9199104e",
   "metadata": {},
   "outputs": [
    {
     "data": {
      "text/html": [
       "<div>\n",
       "<style scoped>\n",
       "    .dataframe tbody tr th:only-of-type {\n",
       "        vertical-align: middle;\n",
       "    }\n",
       "\n",
       "    .dataframe tbody tr th {\n",
       "        vertical-align: top;\n",
       "    }\n",
       "\n",
       "    .dataframe thead th {\n",
       "        text-align: right;\n",
       "    }\n",
       "</style>\n",
       "<table border=\"1\" class=\"dataframe\">\n",
       "  <thead>\n",
       "    <tr style=\"text-align: right;\">\n",
       "      <th></th>\n",
       "      <th>model</th>\n",
       "      <th>accuracy</th>\n",
       "    </tr>\n",
       "  </thead>\n",
       "  <tbody>\n",
       "    <tr>\n",
       "      <th>3</th>\n",
       "      <td>Naive Base</td>\n",
       "      <td>80.733945</td>\n",
       "    </tr>\n",
       "    <tr>\n",
       "      <th>2</th>\n",
       "      <td>K-Nearest Neighbor</td>\n",
       "      <td>64.220183</td>\n",
       "    </tr>\n",
       "    <tr>\n",
       "      <th>5</th>\n",
       "      <td>Gradient Boosting Classifier</td>\n",
       "      <td>51.376147</td>\n",
       "    </tr>\n",
       "    <tr>\n",
       "      <th>1</th>\n",
       "      <td>random forest</td>\n",
       "      <td>17.431193</td>\n",
       "    </tr>\n",
       "    <tr>\n",
       "      <th>4</th>\n",
       "      <td>support vector machine</td>\n",
       "      <td>7.33945</td>\n",
       "    </tr>\n",
       "    <tr>\n",
       "      <th>0</th>\n",
       "      <td>logistic regression</td>\n",
       "      <td>3.669725</td>\n",
       "    </tr>\n",
       "  </tbody>\n",
       "</table>\n",
       "</div>"
      ],
      "text/plain": [
       "                          model   accuracy\n",
       "3                    Naive Base  80.733945\n",
       "2            K-Nearest Neighbor  64.220183\n",
       "5  Gradient Boosting Classifier  51.376147\n",
       "1                 random forest  17.431193\n",
       "4        support vector machine    7.33945\n",
       "0           logistic regression   3.669725"
      ]
     },
     "execution_count": 143,
     "metadata": {},
     "output_type": "execute_result"
    }
   ],
   "source": [
    "#putting models together and arranging their accuracies\n",
    "model_name=['logistic regression','random forest','K-Nearest Neighbor','Naive Base',\n",
    "            'support vector machine','Gradient Boosting Classifier']\n",
    "\n",
    "model_accuracies=[logistic_accuracy,random_forest_accuracy,\n",
    "                  knn_accuracy,nbg_accuracy,svm_accuracy,gbc_accuracy]\n",
    "\n",
    "model_list=[model_name,model_accuracies]\n",
    "model_df=pd.DataFrame(model_list).T#T=transpose\n",
    "cols=['model','accuracy']\n",
    "model_df.columns=cols\n",
    "model_df.sort_values(by='accuracy',ascending=False)"
   ]
  },
  {
   "cell_type": "code",
   "execution_count": 144,
   "id": "7a9f7c58",
   "metadata": {},
   "outputs": [],
   "source": [
    "#saving best model to file using pickle\n",
    "import pickle# you can also use joblib to save the model\n",
    "model_filename = \"housing_project.sav\"\n",
    "\n",
    "housing_project = pickle.dump(logistic_model, open(model_filename,'wb'))\n"
   ]
  },
  {
   "cell_type": "code",
   "execution_count": 145,
   "id": "a92a1e63",
   "metadata": {},
   "outputs": [
    {
     "data": {
      "text/html": [
       "<div>\n",
       "<style scoped>\n",
       "    .dataframe tbody tr th:only-of-type {\n",
       "        vertical-align: middle;\n",
       "    }\n",
       "\n",
       "    .dataframe tbody tr th {\n",
       "        vertical-align: top;\n",
       "    }\n",
       "\n",
       "    .dataframe thead th {\n",
       "        text-align: right;\n",
       "    }\n",
       "</style>\n",
       "<table border=\"1\" class=\"dataframe\">\n",
       "  <thead>\n",
       "    <tr style=\"text-align: right;\">\n",
       "      <th></th>\n",
       "      <th>price</th>\n",
       "      <th>area</th>\n",
       "      <th>bedrooms</th>\n",
       "      <th>bathrooms</th>\n",
       "      <th>stories</th>\n",
       "      <th>mainroad</th>\n",
       "      <th>guestroom</th>\n",
       "      <th>basement</th>\n",
       "      <th>hotwaterheating</th>\n",
       "      <th>airconditioning</th>\n",
       "      <th>parking</th>\n",
       "      <th>prefarea</th>\n",
       "      <th>furnishingstatus</th>\n",
       "    </tr>\n",
       "  </thead>\n",
       "  <tbody>\n",
       "    <tr>\n",
       "      <th>177</th>\n",
       "      <td>5243000</td>\n",
       "      <td>6050</td>\n",
       "      <td>3</td>\n",
       "      <td>1</td>\n",
       "      <td>1</td>\n",
       "      <td>1</td>\n",
       "      <td>0</td>\n",
       "      <td>1</td>\n",
       "      <td>0</td>\n",
       "      <td>0</td>\n",
       "      <td>0</td>\n",
       "      <td>1</td>\n",
       "      <td>2</td>\n",
       "    </tr>\n",
       "    <tr>\n",
       "      <th>92</th>\n",
       "      <td>6405000</td>\n",
       "      <td>4800</td>\n",
       "      <td>3</td>\n",
       "      <td>2</td>\n",
       "      <td>4</td>\n",
       "      <td>1</td>\n",
       "      <td>1</td>\n",
       "      <td>0</td>\n",
       "      <td>0</td>\n",
       "      <td>1</td>\n",
       "      <td>0</td>\n",
       "      <td>0</td>\n",
       "      <td>1</td>\n",
       "    </tr>\n",
       "  </tbody>\n",
       "</table>\n",
       "</div>"
      ],
      "text/plain": [
       "       price  area  bedrooms  bathrooms  stories  mainroad  guestroom  \\\n",
       "177  5243000  6050         3          1        1         1          0   \n",
       "92   6405000  4800         3          2        4         1          1   \n",
       "\n",
       "     basement  hotwaterheating  airconditioning  parking  prefarea  \\\n",
       "177         1                0                0        0         1   \n",
       "92          0                0                1        0         0   \n",
       "\n",
       "     furnishingstatus  \n",
       "177                 2  \n",
       "92                  1  "
      ]
     },
     "execution_count": 145,
     "metadata": {},
     "output_type": "execute_result"
    }
   ],
   "source": [
    "X_train.head(2)"
   ]
  },
  {
   "cell_type": "code",
   "execution_count": 146,
   "id": "cbec21a1",
   "metadata": {},
   "outputs": [
    {
     "data": {
      "text/plain": [
       "Index(['price', 'area', 'bedrooms', 'bathrooms', 'stories', 'mainroad',\n",
       "       'guestroom', 'basement', 'hotwaterheating', 'airconditioning',\n",
       "       'parking', 'prefarea', 'furnishingstatus'],\n",
       "      dtype='object')"
      ]
     },
     "execution_count": 146,
     "metadata": {},
     "output_type": "execute_result"
    }
   ],
   "source": [
    "X_train.columns"
   ]
  },
  {
   "cell_type": "code",
   "execution_count": 147,
   "id": "8378e91f",
   "metadata": {},
   "outputs": [
    {
     "data": {
      "text/html": [
       "<div>\n",
       "<style scoped>\n",
       "    .dataframe tbody tr th:only-of-type {\n",
       "        vertical-align: middle;\n",
       "    }\n",
       "\n",
       "    .dataframe tbody tr th {\n",
       "        vertical-align: top;\n",
       "    }\n",
       "\n",
       "    .dataframe thead th {\n",
       "        text-align: right;\n",
       "    }\n",
       "</style>\n",
       "<table border=\"1\" class=\"dataframe\">\n",
       "  <thead>\n",
       "    <tr style=\"text-align: right;\">\n",
       "      <th></th>\n",
       "      <th>price</th>\n",
       "      <th>area</th>\n",
       "      <th>bedrooms</th>\n",
       "      <th>bathrooms</th>\n",
       "      <th>stories</th>\n",
       "      <th>mainroad</th>\n",
       "      <th>guestroom</th>\n",
       "      <th>basement</th>\n",
       "      <th>hotwaterheating</th>\n",
       "      <th>airconditioning</th>\n",
       "      <th>parking</th>\n",
       "      <th>prefarea</th>\n",
       "      <th>furnishingstatus</th>\n",
       "    </tr>\n",
       "  </thead>\n",
       "  <tbody>\n",
       "    <tr>\n",
       "      <th>177</th>\n",
       "      <td>5243000</td>\n",
       "      <td>6050</td>\n",
       "      <td>3</td>\n",
       "      <td>1</td>\n",
       "      <td>1</td>\n",
       "      <td>1</td>\n",
       "      <td>0</td>\n",
       "      <td>1</td>\n",
       "      <td>0</td>\n",
       "      <td>0</td>\n",
       "      <td>0</td>\n",
       "      <td>1</td>\n",
       "      <td>2</td>\n",
       "    </tr>\n",
       "    <tr>\n",
       "      <th>92</th>\n",
       "      <td>6405000</td>\n",
       "      <td>4800</td>\n",
       "      <td>3</td>\n",
       "      <td>2</td>\n",
       "      <td>4</td>\n",
       "      <td>1</td>\n",
       "      <td>1</td>\n",
       "      <td>0</td>\n",
       "      <td>0</td>\n",
       "      <td>1</td>\n",
       "      <td>0</td>\n",
       "      <td>0</td>\n",
       "      <td>1</td>\n",
       "    </tr>\n",
       "    <tr>\n",
       "      <th>354</th>\n",
       "      <td>3780000</td>\n",
       "      <td>8400</td>\n",
       "      <td>2</td>\n",
       "      <td>1</td>\n",
       "      <td>1</td>\n",
       "      <td>1</td>\n",
       "      <td>0</td>\n",
       "      <td>0</td>\n",
       "      <td>0</td>\n",
       "      <td>0</td>\n",
       "      <td>1</td>\n",
       "      <td>0</td>\n",
       "      <td>1</td>\n",
       "    </tr>\n",
       "    <tr>\n",
       "      <th>164</th>\n",
       "      <td>5390000</td>\n",
       "      <td>6710</td>\n",
       "      <td>3</td>\n",
       "      <td>2</td>\n",
       "      <td>2</td>\n",
       "      <td>1</td>\n",
       "      <td>1</td>\n",
       "      <td>1</td>\n",
       "      <td>0</td>\n",
       "      <td>0</td>\n",
       "      <td>1</td>\n",
       "      <td>1</td>\n",
       "      <td>1</td>\n",
       "    </tr>\n",
       "    <tr>\n",
       "      <th>11</th>\n",
       "      <td>9681000</td>\n",
       "      <td>6000</td>\n",
       "      <td>4</td>\n",
       "      <td>3</td>\n",
       "      <td>2</td>\n",
       "      <td>1</td>\n",
       "      <td>1</td>\n",
       "      <td>1</td>\n",
       "      <td>1</td>\n",
       "      <td>0</td>\n",
       "      <td>2</td>\n",
       "      <td>0</td>\n",
       "      <td>2</td>\n",
       "    </tr>\n",
       "    <tr>\n",
       "      <th>140</th>\n",
       "      <td>5740000</td>\n",
       "      <td>5800</td>\n",
       "      <td>3</td>\n",
       "      <td>2</td>\n",
       "      <td>4</td>\n",
       "      <td>1</td>\n",
       "      <td>0</td>\n",
       "      <td>0</td>\n",
       "      <td>0</td>\n",
       "      <td>1</td>\n",
       "      <td>0</td>\n",
       "      <td>0</td>\n",
       "      <td>0</td>\n",
       "    </tr>\n",
       "    <tr>\n",
       "      <th>191</th>\n",
       "      <td>5040000</td>\n",
       "      <td>10700</td>\n",
       "      <td>3</td>\n",
       "      <td>1</td>\n",
       "      <td>2</td>\n",
       "      <td>1</td>\n",
       "      <td>1</td>\n",
       "      <td>1</td>\n",
       "      <td>0</td>\n",
       "      <td>0</td>\n",
       "      <td>0</td>\n",
       "      <td>0</td>\n",
       "      <td>2</td>\n",
       "    </tr>\n",
       "    <tr>\n",
       "      <th>274</th>\n",
       "      <td>4340000</td>\n",
       "      <td>6450</td>\n",
       "      <td>4</td>\n",
       "      <td>1</td>\n",
       "      <td>2</td>\n",
       "      <td>1</td>\n",
       "      <td>0</td>\n",
       "      <td>0</td>\n",
       "      <td>0</td>\n",
       "      <td>0</td>\n",
       "      <td>0</td>\n",
       "      <td>0</td>\n",
       "      <td>2</td>\n",
       "    </tr>\n",
       "    <tr>\n",
       "      <th>78</th>\n",
       "      <td>6650000</td>\n",
       "      <td>5700</td>\n",
       "      <td>3</td>\n",
       "      <td>1</td>\n",
       "      <td>1</td>\n",
       "      <td>1</td>\n",
       "      <td>1</td>\n",
       "      <td>1</td>\n",
       "      <td>0</td>\n",
       "      <td>1</td>\n",
       "      <td>2</td>\n",
       "      <td>1</td>\n",
       "      <td>1</td>\n",
       "    </tr>\n",
       "    <tr>\n",
       "      <th>284</th>\n",
       "      <td>4270000</td>\n",
       "      <td>7770</td>\n",
       "      <td>2</td>\n",
       "      <td>1</td>\n",
       "      <td>1</td>\n",
       "      <td>1</td>\n",
       "      <td>0</td>\n",
       "      <td>0</td>\n",
       "      <td>0</td>\n",
       "      <td>0</td>\n",
       "      <td>1</td>\n",
       "      <td>0</td>\n",
       "      <td>1</td>\n",
       "    </tr>\n",
       "    <tr>\n",
       "      <th>210</th>\n",
       "      <td>4900000</td>\n",
       "      <td>4646</td>\n",
       "      <td>3</td>\n",
       "      <td>1</td>\n",
       "      <td>2</td>\n",
       "      <td>1</td>\n",
       "      <td>1</td>\n",
       "      <td>1</td>\n",
       "      <td>0</td>\n",
       "      <td>0</td>\n",
       "      <td>2</td>\n",
       "      <td>0</td>\n",
       "      <td>2</td>\n",
       "    </tr>\n",
       "    <tr>\n",
       "      <th>134</th>\n",
       "      <td>5803000</td>\n",
       "      <td>7000</td>\n",
       "      <td>3</td>\n",
       "      <td>1</td>\n",
       "      <td>1</td>\n",
       "      <td>1</td>\n",
       "      <td>0</td>\n",
       "      <td>1</td>\n",
       "      <td>0</td>\n",
       "      <td>0</td>\n",
       "      <td>2</td>\n",
       "      <td>1</td>\n",
       "      <td>2</td>\n",
       "    </tr>\n",
       "    <tr>\n",
       "      <th>344</th>\n",
       "      <td>3850000</td>\n",
       "      <td>3850</td>\n",
       "      <td>2</td>\n",
       "      <td>1</td>\n",
       "      <td>1</td>\n",
       "      <td>1</td>\n",
       "      <td>0</td>\n",
       "      <td>0</td>\n",
       "      <td>0</td>\n",
       "      <td>0</td>\n",
       "      <td>0</td>\n",
       "      <td>0</td>\n",
       "      <td>2</td>\n",
       "    </tr>\n",
       "    <tr>\n",
       "      <th>153</th>\n",
       "      <td>5530000</td>\n",
       "      <td>3300</td>\n",
       "      <td>3</td>\n",
       "      <td>3</td>\n",
       "      <td>2</td>\n",
       "      <td>1</td>\n",
       "      <td>0</td>\n",
       "      <td>1</td>\n",
       "      <td>0</td>\n",
       "      <td>0</td>\n",
       "      <td>0</td>\n",
       "      <td>0</td>\n",
       "      <td>2</td>\n",
       "    </tr>\n",
       "    <tr>\n",
       "      <th>262</th>\n",
       "      <td>4445000</td>\n",
       "      <td>3750</td>\n",
       "      <td>2</td>\n",
       "      <td>1</td>\n",
       "      <td>1</td>\n",
       "      <td>1</td>\n",
       "      <td>1</td>\n",
       "      <td>1</td>\n",
       "      <td>0</td>\n",
       "      <td>0</td>\n",
       "      <td>0</td>\n",
       "      <td>0</td>\n",
       "      <td>2</td>\n",
       "    </tr>\n",
       "    <tr>\n",
       "      <th>116</th>\n",
       "      <td>6020000</td>\n",
       "      <td>6900</td>\n",
       "      <td>3</td>\n",
       "      <td>2</td>\n",
       "      <td>1</td>\n",
       "      <td>1</td>\n",
       "      <td>1</td>\n",
       "      <td>1</td>\n",
       "      <td>0</td>\n",
       "      <td>0</td>\n",
       "      <td>0</td>\n",
       "      <td>1</td>\n",
       "      <td>0</td>\n",
       "    </tr>\n",
       "    <tr>\n",
       "      <th>23</th>\n",
       "      <td>8645000</td>\n",
       "      <td>4560</td>\n",
       "      <td>3</td>\n",
       "      <td>2</td>\n",
       "      <td>2</td>\n",
       "      <td>1</td>\n",
       "      <td>1</td>\n",
       "      <td>1</td>\n",
       "      <td>0</td>\n",
       "      <td>1</td>\n",
       "      <td>1</td>\n",
       "      <td>0</td>\n",
       "      <td>1</td>\n",
       "    </tr>\n",
       "    <tr>\n",
       "      <th>121</th>\n",
       "      <td>5950000</td>\n",
       "      <td>7231</td>\n",
       "      <td>3</td>\n",
       "      <td>1</td>\n",
       "      <td>2</td>\n",
       "      <td>1</td>\n",
       "      <td>1</td>\n",
       "      <td>1</td>\n",
       "      <td>0</td>\n",
       "      <td>1</td>\n",
       "      <td>0</td>\n",
       "      <td>1</td>\n",
       "      <td>2</td>\n",
       "    </tr>\n",
       "    <tr>\n",
       "      <th>58</th>\n",
       "      <td>7210000</td>\n",
       "      <td>7680</td>\n",
       "      <td>4</td>\n",
       "      <td>2</td>\n",
       "      <td>4</td>\n",
       "      <td>1</td>\n",
       "      <td>1</td>\n",
       "      <td>0</td>\n",
       "      <td>0</td>\n",
       "      <td>1</td>\n",
       "      <td>1</td>\n",
       "      <td>0</td>\n",
       "      <td>2</td>\n",
       "    </tr>\n",
       "    <tr>\n",
       "      <th>533</th>\n",
       "      <td>2100000</td>\n",
       "      <td>2400</td>\n",
       "      <td>3</td>\n",
       "      <td>1</td>\n",
       "      <td>2</td>\n",
       "      <td>1</td>\n",
       "      <td>0</td>\n",
       "      <td>0</td>\n",
       "      <td>0</td>\n",
       "      <td>0</td>\n",
       "      <td>0</td>\n",
       "      <td>0</td>\n",
       "      <td>0</td>\n",
       "    </tr>\n",
       "  </tbody>\n",
       "</table>\n",
       "</div>"
      ],
      "text/plain": [
       "       price   area  bedrooms  bathrooms  stories  mainroad  guestroom  \\\n",
       "177  5243000   6050         3          1        1         1          0   \n",
       "92   6405000   4800         3          2        4         1          1   \n",
       "354  3780000   8400         2          1        1         1          0   \n",
       "164  5390000   6710         3          2        2         1          1   \n",
       "11   9681000   6000         4          3        2         1          1   \n",
       "140  5740000   5800         3          2        4         1          0   \n",
       "191  5040000  10700         3          1        2         1          1   \n",
       "274  4340000   6450         4          1        2         1          0   \n",
       "78   6650000   5700         3          1        1         1          1   \n",
       "284  4270000   7770         2          1        1         1          0   \n",
       "210  4900000   4646         3          1        2         1          1   \n",
       "134  5803000   7000         3          1        1         1          0   \n",
       "344  3850000   3850         2          1        1         1          0   \n",
       "153  5530000   3300         3          3        2         1          0   \n",
       "262  4445000   3750         2          1        1         1          1   \n",
       "116  6020000   6900         3          2        1         1          1   \n",
       "23   8645000   4560         3          2        2         1          1   \n",
       "121  5950000   7231         3          1        2         1          1   \n",
       "58   7210000   7680         4          2        4         1          1   \n",
       "533  2100000   2400         3          1        2         1          0   \n",
       "\n",
       "     basement  hotwaterheating  airconditioning  parking  prefarea  \\\n",
       "177         1                0                0        0         1   \n",
       "92          0                0                1        0         0   \n",
       "354         0                0                0        1         0   \n",
       "164         1                0                0        1         1   \n",
       "11          1                1                0        2         0   \n",
       "140         0                0                1        0         0   \n",
       "191         1                0                0        0         0   \n",
       "274         0                0                0        0         0   \n",
       "78          1                0                1        2         1   \n",
       "284         0                0                0        1         0   \n",
       "210         1                0                0        2         0   \n",
       "134         1                0                0        2         1   \n",
       "344         0                0                0        0         0   \n",
       "153         1                0                0        0         0   \n",
       "262         1                0                0        0         0   \n",
       "116         1                0                0        0         1   \n",
       "23          1                0                1        1         0   \n",
       "121         1                0                1        0         1   \n",
       "58          0                0                1        1         0   \n",
       "533         0                0                0        0         0   \n",
       "\n",
       "     furnishingstatus  \n",
       "177                 2  \n",
       "92                  1  \n",
       "354                 1  \n",
       "164                 1  \n",
       "11                  2  \n",
       "140                 0  \n",
       "191                 2  \n",
       "274                 2  \n",
       "78                  1  \n",
       "284                 1  \n",
       "210                 2  \n",
       "134                 2  \n",
       "344                 2  \n",
       "153                 2  \n",
       "262                 2  \n",
       "116                 0  \n",
       "23                  1  \n",
       "121                 2  \n",
       "58                  2  \n",
       "533                 0  "
      ]
     },
     "execution_count": 147,
     "metadata": {},
     "output_type": "execute_result"
    }
   ],
   "source": [
    "X_train.head(20)"
   ]
  },
  {
   "cell_type": "code",
   "execution_count": 150,
   "id": "b4649e15",
   "metadata": {},
   "outputs": [
    {
     "data": {
      "text/plain": [
       "7350000"
      ]
     },
     "execution_count": 150,
     "metadata": {},
     "output_type": "execute_result"
    }
   ],
   "source": [
    "#loading saved model for prediction\n",
    "model_filename = \"housing_project.sav\"\n",
    "\n",
    "housing_project = pickle.load(open(model_filename, 'rb'))\n",
    "values=[13300000,7420,4,2,3,1,0,0,0,1,2,1,1]\n",
    "df=pd.DataFrame([values])\n",
    "df.columns=X_train.columns\n",
    "#df\n",
    "result = housing_project.predict(df)\n",
    "\n",
    "result[0]"
   ]
  },
  {
   "cell_type": "code",
   "execution_count": null,
   "id": "f86a5cf8",
   "metadata": {},
   "outputs": [],
   "source": [
    "# -*- coding: utf-8 -*-\n"
   ]
  },
  {
   "cell_type": "code",
   "execution_count": null,
   "id": "02da9539",
   "metadata": {},
   "outputs": [],
   "source": [
    "X_train.columns"
   ]
  },
  {
   "cell_type": "code",
   "execution_count": null,
   "id": "85266f89",
   "metadata": {},
   "outputs": [],
   "source": [
    "#import pyreadstat\n",
    "\n",
    "# Load the .sav file\n",
    "#df, meta = pyreadstat.read_sav('loan_prediction_model.sav')\n",
    "\n",
    "# Display the data\n",
    "print(df)\n"
   ]
  },
  {
   "cell_type": "code",
   "execution_count": null,
   "id": "1d0a0679",
   "metadata": {},
   "outputs": [],
   "source": [
    "import streamlit as st\n",
    "import pandas as pd\n",
    "\n",
    "# Load the .sav file\n",
    "df = pd.read_spss('loan_prediction_model.sav')\n",
    "\n",
    "# Display the data\n",
    "st.write(df)\n"
   ]
  }
 ],
 "metadata": {
  "kernelspec": {
   "display_name": "Python 3 (ipykernel)",
   "language": "python",
   "name": "python3"
  },
  "language_info": {
   "codemirror_mode": {
    "name": "ipython",
    "version": 3
   },
   "file_extension": ".py",
   "mimetype": "text/x-python",
   "name": "python",
   "nbconvert_exporter": "python",
   "pygments_lexer": "ipython3",
   "version": "3.11.5"
  }
 },
 "nbformat": 4,
 "nbformat_minor": 5
}
